{
 "cells": [
  {
   "cell_type": "markdown",
   "metadata": {
    "pycharm": {
     "name": "#%% md\n"
    }
   },
   "source": [
    "# Movies Recommender 🍿 - Building a Recommendation System\n",
    "A project proposal by **Adi Benziony (ID 313364549)**\n",
    "\n",
    "## Introduction and Motivation\n",
    "The film industry is a giant business, and every year thousands of new movies are made. In 2019 alone 4,693 new movies were released ([source](https://www.the-numbers.com/movies/production-countries#tab=year)).  \n",
    "With all those new movies released each year it can be confusing to choose which movies to see, and that's where a personalized recommendation system can come in handy.\n",
    "\n",
    "The growth in digital data volume that's at the disposal of big companies allowed a new era of personalized recommendation systems to arise.  \n",
    "Every company serving consumers content wants to find a way to keep the consumer engaged and entertained, one of the ways this can be achived is by making it easier for the user to find content he will like.  \n",
    "Companies like Spotify, Netflix, Twitter, Facebook and even dating apps such as Tinder all have recommendation systems to keep users on the platform.\n",
    "\n",
    "![Netflix recommendations](https://github.com/adi-benz/movies-rating-analysis/raw/main/resources/recommendations-banner.png)\n",
    "\n",
    "In this notebook we will use [The Movies Dataset](https://www.kaggle.com/datasets/rounakbanik/the-movies-dataset) posted on Kaggle to build **a recommendation system for movies based on a user's ratings**."
   ]
  },
  {
   "cell_type": "markdown",
   "metadata": {
    "pycharm": {
     "name": "#%% md\n"
    }
   },
   "source": [
    "## Dataset\n",
    "This project is inspired by the dataset [The Movies Dataset](https://www.kaggle.com/datasets/rounakbanik/the-movies-dataset) posted on Kaggle, featuring movies information like title, genres, release date and more along with users' movies ratings.  \n",
    "The dataset is a combination of [_MovieLens_](https://movielens.org/) and [_TMDB_](https://www.themoviedb.org/).  \n",
    "MovieLens is a research site run by _GroupLens Research_ at the University of Minnesota and contains users' movies ratings, and _TMDB_ is a website containing data on millions of movies.\n",
    "\n",
    "Our dataset cotains:\n",
    "* **45,000 movies** in various languages (but mostly English) with properties like budget, revenue, genres, language, release date, duration, and ratings.\n",
    "* **26 million ratings by 260,000 users**"
   ]
  },
  {
   "cell_type": "markdown",
   "metadata": {
    "pycharm": {
     "name": "#%% md\n"
    }
   },
   "source": [
    "## Dataset Loading & Cleanup\n",
    "We will start by loading `movies-dataset/movies_metadata.csv`.  \n",
    "Note, the original CSV uploaded to Kaggle had some lines with unescaped newlines in their movie description fields, the CSV in the project's Git repository is a fixed version of the CSV from Kaggle.\n",
    "\n",
    "Let's load the dataset and start inspecting it:"
   ]
  },
  {
   "cell_type": "code",
   "execution_count": 1,
   "metadata": {
    "pycharm": {
     "name": "#%%\n"
    }
   },
   "outputs": [],
   "source": [
    "import numpy as np\n",
    "import pandas as pd\n",
    "import matplotlib.pyplot as plt\n",
    "import seaborn as sns"
   ]
  },
  {
   "cell_type": "code",
   "execution_count": 2,
   "metadata": {
    "pycharm": {
     "name": "#%%\n"
    }
   },
   "outputs": [
    {
     "name": "stdout",
     "output_type": "stream",
     "text": [
      "<class 'pandas.core.frame.DataFrame'>\n",
      "RangeIndex: 45463 entries, 0 to 45462\n",
      "Data columns (total 24 columns):\n",
      " #   Column                 Non-Null Count  Dtype  \n",
      "---  ------                 --------------  -----  \n",
      " 0   adult                  45463 non-null  bool   \n",
      " 1   belongs_to_collection  4491 non-null   object \n",
      " 2   budget                 45463 non-null  int64  \n",
      " 3   genres                 45463 non-null  object \n",
      " 4   homepage               7779 non-null   object \n",
      " 5   id                     45463 non-null  int64  \n",
      " 6   imdb_id                45446 non-null  object \n",
      " 7   original_language      45452 non-null  object \n",
      " 8   original_title         45463 non-null  object \n",
      " 9   overview               44509 non-null  object \n",
      " 10  popularity             45463 non-null  float64\n",
      " 11  poster_path            45080 non-null  object \n",
      " 12  production_companies   45463 non-null  object \n",
      " 13  production_countries   45463 non-null  object \n",
      " 14  release_date           45379 non-null  object \n",
      " 15  revenue                45463 non-null  int64  \n",
      " 16  runtime                45206 non-null  float64\n",
      " 17  spoken_languages       45463 non-null  object \n",
      " 18  status                 45382 non-null  object \n",
      " 19  tagline                20413 non-null  object \n",
      " 20  title                  45463 non-null  object \n",
      " 21  video                  45463 non-null  bool   \n",
      " 22  vote_average           45463 non-null  float64\n",
      " 23  vote_count             45463 non-null  int64  \n",
      "dtypes: bool(2), float64(3), int64(4), object(15)\n",
      "memory usage: 7.7+ MB\n"
     ]
    }
   ],
   "source": [
    "movies_metadata = pd.read_csv('movies-dataset/movies_metadata.csv')\n",
    "movies_metadata.info()"
   ]
  },
  {
   "cell_type": "markdown",
   "metadata": {
    "pycharm": {
     "name": "#%% md\n"
    }
   },
   "source": [
    "We can see that the `release_date` field is not of type `datetime`, so let's change that:"
   ]
  },
  {
   "cell_type": "code",
   "execution_count": 3,
   "metadata": {
    "pycharm": {
     "name": "#%%\n"
    }
   },
   "outputs": [],
   "source": [
    "movies_metadata = pd.read_csv('movies-dataset/movies_metadata.csv', parse_dates=['release_date'])"
   ]
  },
  {
   "cell_type": "markdown",
   "metadata": {
    "pycharm": {
     "name": "#%% md\n"
    }
   },
   "source": [
    "Let's also load the `credits.csv` and `keywords.csv` files"
   ]
  },
  {
   "cell_type": "code",
   "execution_count": 4,
   "metadata": {
    "pycharm": {
     "name": "#%%\n"
    }
   },
   "outputs": [],
   "source": [
    "credits = pd.read_csv('movies-dataset/credits.csv')"
   ]
  },
  {
   "cell_type": "code",
   "execution_count": 5,
   "metadata": {
    "pycharm": {
     "name": "#%%\n"
    }
   },
   "outputs": [
    {
     "name": "stdout",
     "output_type": "stream",
     "text": [
      "Removed 987 duplicated rows from `keywords`\n"
     ]
    }
   ],
   "source": [
    "keywords = pd.read_csv('movies-dataset/keywords.csv')\n",
    "keywords_dups_count = keywords[keywords.duplicated()].shape[0]\n",
    "keywords = keywords[~keywords.duplicated()]\n",
    "\n",
    "print(f'Removed {keywords_dups_count} duplicated rows from `keywords`')"
   ]
  },
  {
   "cell_type": "markdown",
   "metadata": {
    "pycharm": {
     "name": "#%% md\n"
    }
   },
   "source": [
    "# Data Exploration"
   ]
  },
  {
   "cell_type": "markdown",
   "metadata": {
    "pycharm": {
     "name": "#%% md\n"
    }
   },
   "source": [
    "Now for some exploration, let's look at some rows of our datasets:"
   ]
  },
  {
   "cell_type": "code",
   "execution_count": 6,
   "metadata": {
    "pycharm": {
     "name": "#%%\n"
    }
   },
   "outputs": [
    {
     "data": {
      "text/html": [
       "<div>\n",
       "<style scoped>\n",
       "    .dataframe tbody tr th:only-of-type {\n",
       "        vertical-align: middle;\n",
       "    }\n",
       "\n",
       "    .dataframe tbody tr th {\n",
       "        vertical-align: top;\n",
       "    }\n",
       "\n",
       "    .dataframe thead th {\n",
       "        text-align: right;\n",
       "    }\n",
       "</style>\n",
       "<table border=\"1\" class=\"dataframe\">\n",
       "  <thead>\n",
       "    <tr style=\"text-align: right;\">\n",
       "      <th></th>\n",
       "      <th>adult</th>\n",
       "      <th>belongs_to_collection</th>\n",
       "      <th>budget</th>\n",
       "      <th>genres</th>\n",
       "      <th>homepage</th>\n",
       "      <th>id</th>\n",
       "      <th>imdb_id</th>\n",
       "      <th>original_language</th>\n",
       "      <th>original_title</th>\n",
       "      <th>overview</th>\n",
       "      <th>...</th>\n",
       "      <th>release_date</th>\n",
       "      <th>revenue</th>\n",
       "      <th>runtime</th>\n",
       "      <th>spoken_languages</th>\n",
       "      <th>status</th>\n",
       "      <th>tagline</th>\n",
       "      <th>title</th>\n",
       "      <th>video</th>\n",
       "      <th>vote_average</th>\n",
       "      <th>vote_count</th>\n",
       "    </tr>\n",
       "  </thead>\n",
       "  <tbody>\n",
       "    <tr>\n",
       "      <th>0</th>\n",
       "      <td>False</td>\n",
       "      <td>{'id': 10194, 'name': 'Toy Story Collection', ...</td>\n",
       "      <td>30000000</td>\n",
       "      <td>[{'id': 16, 'name': 'Animation'}, {'id': 35, '...</td>\n",
       "      <td>http://toystory.disney.com/toy-story</td>\n",
       "      <td>862</td>\n",
       "      <td>tt0114709</td>\n",
       "      <td>en</td>\n",
       "      <td>Toy Story</td>\n",
       "      <td>Led by Woody, Andy's toys live happily in his ...</td>\n",
       "      <td>...</td>\n",
       "      <td>1995-10-30</td>\n",
       "      <td>373554033</td>\n",
       "      <td>81.0</td>\n",
       "      <td>[{'iso_639_1': 'en', 'name': 'English'}]</td>\n",
       "      <td>Released</td>\n",
       "      <td>NaN</td>\n",
       "      <td>Toy Story</td>\n",
       "      <td>False</td>\n",
       "      <td>7.7</td>\n",
       "      <td>5415</td>\n",
       "    </tr>\n",
       "    <tr>\n",
       "      <th>1</th>\n",
       "      <td>False</td>\n",
       "      <td>NaN</td>\n",
       "      <td>65000000</td>\n",
       "      <td>[{'id': 12, 'name': 'Adventure'}, {'id': 14, '...</td>\n",
       "      <td>NaN</td>\n",
       "      <td>8844</td>\n",
       "      <td>tt0113497</td>\n",
       "      <td>en</td>\n",
       "      <td>Jumanji</td>\n",
       "      <td>When siblings Judy and Peter discover an encha...</td>\n",
       "      <td>...</td>\n",
       "      <td>1995-12-15</td>\n",
       "      <td>262797249</td>\n",
       "      <td>104.0</td>\n",
       "      <td>[{'iso_639_1': 'en', 'name': 'English'}, {'iso...</td>\n",
       "      <td>Released</td>\n",
       "      <td>Roll the dice and unleash the excitement!</td>\n",
       "      <td>Jumanji</td>\n",
       "      <td>False</td>\n",
       "      <td>6.9</td>\n",
       "      <td>2413</td>\n",
       "    </tr>\n",
       "    <tr>\n",
       "      <th>2</th>\n",
       "      <td>False</td>\n",
       "      <td>{'id': 119050, 'name': 'Grumpy Old Men Collect...</td>\n",
       "      <td>0</td>\n",
       "      <td>[{'id': 10749, 'name': 'Romance'}, {'id': 35, ...</td>\n",
       "      <td>NaN</td>\n",
       "      <td>15602</td>\n",
       "      <td>tt0113228</td>\n",
       "      <td>en</td>\n",
       "      <td>Grumpier Old Men</td>\n",
       "      <td>A family wedding reignites the ancient feud be...</td>\n",
       "      <td>...</td>\n",
       "      <td>1995-12-22</td>\n",
       "      <td>0</td>\n",
       "      <td>101.0</td>\n",
       "      <td>[{'iso_639_1': 'en', 'name': 'English'}]</td>\n",
       "      <td>Released</td>\n",
       "      <td>Still Yelling. Still Fighting. Still Ready for...</td>\n",
       "      <td>Grumpier Old Men</td>\n",
       "      <td>False</td>\n",
       "      <td>6.5</td>\n",
       "      <td>92</td>\n",
       "    </tr>\n",
       "    <tr>\n",
       "      <th>3</th>\n",
       "      <td>False</td>\n",
       "      <td>NaN</td>\n",
       "      <td>16000000</td>\n",
       "      <td>[{'id': 35, 'name': 'Comedy'}, {'id': 18, 'nam...</td>\n",
       "      <td>NaN</td>\n",
       "      <td>31357</td>\n",
       "      <td>tt0114885</td>\n",
       "      <td>en</td>\n",
       "      <td>Waiting to Exhale</td>\n",
       "      <td>Cheated on, mistreated and stepped on, the wom...</td>\n",
       "      <td>...</td>\n",
       "      <td>1995-12-22</td>\n",
       "      <td>81452156</td>\n",
       "      <td>127.0</td>\n",
       "      <td>[{'iso_639_1': 'en', 'name': 'English'}]</td>\n",
       "      <td>Released</td>\n",
       "      <td>Friends are the people who let you be yourself...</td>\n",
       "      <td>Waiting to Exhale</td>\n",
       "      <td>False</td>\n",
       "      <td>6.1</td>\n",
       "      <td>34</td>\n",
       "    </tr>\n",
       "    <tr>\n",
       "      <th>4</th>\n",
       "      <td>False</td>\n",
       "      <td>{'id': 96871, 'name': 'Father of the Bride Col...</td>\n",
       "      <td>0</td>\n",
       "      <td>[{'id': 35, 'name': 'Comedy'}]</td>\n",
       "      <td>NaN</td>\n",
       "      <td>11862</td>\n",
       "      <td>tt0113041</td>\n",
       "      <td>en</td>\n",
       "      <td>Father of the Bride Part II</td>\n",
       "      <td>Just when George Banks has recovered from his ...</td>\n",
       "      <td>...</td>\n",
       "      <td>1995-02-10</td>\n",
       "      <td>76578911</td>\n",
       "      <td>106.0</td>\n",
       "      <td>[{'iso_639_1': 'en', 'name': 'English'}]</td>\n",
       "      <td>Released</td>\n",
       "      <td>Just When His World Is Back To Normal... He's ...</td>\n",
       "      <td>Father of the Bride Part II</td>\n",
       "      <td>False</td>\n",
       "      <td>5.7</td>\n",
       "      <td>173</td>\n",
       "    </tr>\n",
       "  </tbody>\n",
       "</table>\n",
       "<p>5 rows × 24 columns</p>\n",
       "</div>"
      ],
      "text/plain": [
       "   adult                              belongs_to_collection    budget  \\\n",
       "0  False  {'id': 10194, 'name': 'Toy Story Collection', ...  30000000   \n",
       "1  False                                                NaN  65000000   \n",
       "2  False  {'id': 119050, 'name': 'Grumpy Old Men Collect...         0   \n",
       "3  False                                                NaN  16000000   \n",
       "4  False  {'id': 96871, 'name': 'Father of the Bride Col...         0   \n",
       "\n",
       "                                              genres  \\\n",
       "0  [{'id': 16, 'name': 'Animation'}, {'id': 35, '...   \n",
       "1  [{'id': 12, 'name': 'Adventure'}, {'id': 14, '...   \n",
       "2  [{'id': 10749, 'name': 'Romance'}, {'id': 35, ...   \n",
       "3  [{'id': 35, 'name': 'Comedy'}, {'id': 18, 'nam...   \n",
       "4                     [{'id': 35, 'name': 'Comedy'}]   \n",
       "\n",
       "                               homepage     id    imdb_id original_language  \\\n",
       "0  http://toystory.disney.com/toy-story    862  tt0114709                en   \n",
       "1                                   NaN   8844  tt0113497                en   \n",
       "2                                   NaN  15602  tt0113228                en   \n",
       "3                                   NaN  31357  tt0114885                en   \n",
       "4                                   NaN  11862  tt0113041                en   \n",
       "\n",
       "                original_title  \\\n",
       "0                    Toy Story   \n",
       "1                      Jumanji   \n",
       "2             Grumpier Old Men   \n",
       "3            Waiting to Exhale   \n",
       "4  Father of the Bride Part II   \n",
       "\n",
       "                                            overview  ...  release_date  \\\n",
       "0  Led by Woody, Andy's toys live happily in his ...  ...    1995-10-30   \n",
       "1  When siblings Judy and Peter discover an encha...  ...    1995-12-15   \n",
       "2  A family wedding reignites the ancient feud be...  ...    1995-12-22   \n",
       "3  Cheated on, mistreated and stepped on, the wom...  ...    1995-12-22   \n",
       "4  Just when George Banks has recovered from his ...  ...    1995-02-10   \n",
       "\n",
       "     revenue runtime                                   spoken_languages  \\\n",
       "0  373554033    81.0           [{'iso_639_1': 'en', 'name': 'English'}]   \n",
       "1  262797249   104.0  [{'iso_639_1': 'en', 'name': 'English'}, {'iso...   \n",
       "2          0   101.0           [{'iso_639_1': 'en', 'name': 'English'}]   \n",
       "3   81452156   127.0           [{'iso_639_1': 'en', 'name': 'English'}]   \n",
       "4   76578911   106.0           [{'iso_639_1': 'en', 'name': 'English'}]   \n",
       "\n",
       "     status                                            tagline  \\\n",
       "0  Released                                                NaN   \n",
       "1  Released          Roll the dice and unleash the excitement!   \n",
       "2  Released  Still Yelling. Still Fighting. Still Ready for...   \n",
       "3  Released  Friends are the people who let you be yourself...   \n",
       "4  Released  Just When His World Is Back To Normal... He's ...   \n",
       "\n",
       "                         title  video vote_average vote_count  \n",
       "0                    Toy Story  False          7.7       5415  \n",
       "1                      Jumanji  False          6.9       2413  \n",
       "2             Grumpier Old Men  False          6.5         92  \n",
       "3            Waiting to Exhale  False          6.1         34  \n",
       "4  Father of the Bride Part II  False          5.7        173  \n",
       "\n",
       "[5 rows x 24 columns]"
      ]
     },
     "execution_count": 6,
     "metadata": {},
     "output_type": "execute_result"
    }
   ],
   "source": [
    "movies_metadata.head()"
   ]
  },
  {
   "cell_type": "code",
   "execution_count": 7,
   "metadata": {
    "pycharm": {
     "name": "#%%\n"
    }
   },
   "outputs": [
    {
     "data": {
      "text/html": [
       "<div>\n",
       "<style scoped>\n",
       "    .dataframe tbody tr th:only-of-type {\n",
       "        vertical-align: middle;\n",
       "    }\n",
       "\n",
       "    .dataframe tbody tr th {\n",
       "        vertical-align: top;\n",
       "    }\n",
       "\n",
       "    .dataframe thead th {\n",
       "        text-align: right;\n",
       "    }\n",
       "</style>\n",
       "<table border=\"1\" class=\"dataframe\">\n",
       "  <thead>\n",
       "    <tr style=\"text-align: right;\">\n",
       "      <th></th>\n",
       "      <th>cast</th>\n",
       "      <th>crew</th>\n",
       "      <th>id</th>\n",
       "    </tr>\n",
       "  </thead>\n",
       "  <tbody>\n",
       "    <tr>\n",
       "      <th>0</th>\n",
       "      <td>[{'cast_id': 14, 'character': 'Woody (voice)',...</td>\n",
       "      <td>[{'credit_id': '52fe4284c3a36847f8024f49', 'de...</td>\n",
       "      <td>862</td>\n",
       "    </tr>\n",
       "    <tr>\n",
       "      <th>1</th>\n",
       "      <td>[{'cast_id': 1, 'character': 'Alan Parrish', '...</td>\n",
       "      <td>[{'credit_id': '52fe44bfc3a36847f80a7cd1', 'de...</td>\n",
       "      <td>8844</td>\n",
       "    </tr>\n",
       "    <tr>\n",
       "      <th>2</th>\n",
       "      <td>[{'cast_id': 2, 'character': 'Max Goldman', 'c...</td>\n",
       "      <td>[{'credit_id': '52fe466a9251416c75077a89', 'de...</td>\n",
       "      <td>15602</td>\n",
       "    </tr>\n",
       "    <tr>\n",
       "      <th>3</th>\n",
       "      <td>[{'cast_id': 1, 'character': \"Savannah 'Vannah...</td>\n",
       "      <td>[{'credit_id': '52fe44779251416c91011acb', 'de...</td>\n",
       "      <td>31357</td>\n",
       "    </tr>\n",
       "    <tr>\n",
       "      <th>4</th>\n",
       "      <td>[{'cast_id': 1, 'character': 'George Banks', '...</td>\n",
       "      <td>[{'credit_id': '52fe44959251416c75039ed7', 'de...</td>\n",
       "      <td>11862</td>\n",
       "    </tr>\n",
       "  </tbody>\n",
       "</table>\n",
       "</div>"
      ],
      "text/plain": [
       "                                                cast  \\\n",
       "0  [{'cast_id': 14, 'character': 'Woody (voice)',...   \n",
       "1  [{'cast_id': 1, 'character': 'Alan Parrish', '...   \n",
       "2  [{'cast_id': 2, 'character': 'Max Goldman', 'c...   \n",
       "3  [{'cast_id': 1, 'character': \"Savannah 'Vannah...   \n",
       "4  [{'cast_id': 1, 'character': 'George Banks', '...   \n",
       "\n",
       "                                                crew     id  \n",
       "0  [{'credit_id': '52fe4284c3a36847f8024f49', 'de...    862  \n",
       "1  [{'credit_id': '52fe44bfc3a36847f80a7cd1', 'de...   8844  \n",
       "2  [{'credit_id': '52fe466a9251416c75077a89', 'de...  15602  \n",
       "3  [{'credit_id': '52fe44779251416c91011acb', 'de...  31357  \n",
       "4  [{'credit_id': '52fe44959251416c75039ed7', 'de...  11862  "
      ]
     },
     "execution_count": 7,
     "metadata": {},
     "output_type": "execute_result"
    }
   ],
   "source": [
    "credits.head()"
   ]
  },
  {
   "cell_type": "markdown",
   "metadata": {},
   "source": [
    "The credits dataset is made up of `cast` and `crew`, this is their structure:"
   ]
  },
  {
   "cell_type": "code",
   "execution_count": 8,
   "metadata": {},
   "outputs": [
    {
     "data": {
      "text/html": [
       "<div>\n",
       "<style scoped>\n",
       "    .dataframe tbody tr th:only-of-type {\n",
       "        vertical-align: middle;\n",
       "    }\n",
       "\n",
       "    .dataframe tbody tr th {\n",
       "        vertical-align: top;\n",
       "    }\n",
       "\n",
       "    .dataframe thead th {\n",
       "        text-align: right;\n",
       "    }\n",
       "</style>\n",
       "<table border=\"1\" class=\"dataframe\">\n",
       "  <thead>\n",
       "    <tr style=\"text-align: right;\">\n",
       "      <th></th>\n",
       "      <th>credit_id</th>\n",
       "      <th>department</th>\n",
       "      <th>gender</th>\n",
       "      <th>id</th>\n",
       "      <th>job</th>\n",
       "      <th>name</th>\n",
       "      <th>profile_path</th>\n",
       "    </tr>\n",
       "  </thead>\n",
       "  <tbody>\n",
       "    <tr>\n",
       "      <th>0</th>\n",
       "      <td>52fe4284c3a36847f8024f49</td>\n",
       "      <td>Directing</td>\n",
       "      <td>2</td>\n",
       "      <td>7879</td>\n",
       "      <td>Director</td>\n",
       "      <td>John Lasseter</td>\n",
       "      <td>/7EdqiNbr4FRjIhKHyPPdFfEEEFG.jpg</td>\n",
       "    </tr>\n",
       "    <tr>\n",
       "      <th>1</th>\n",
       "      <td>52fe4284c3a36847f8024f4f</td>\n",
       "      <td>Writing</td>\n",
       "      <td>2</td>\n",
       "      <td>12891</td>\n",
       "      <td>Screenplay</td>\n",
       "      <td>Joss Whedon</td>\n",
       "      <td>/dTiVsuaTVTeGmvkhcyJvKp2A5kr.jpg</td>\n",
       "    </tr>\n",
       "    <tr>\n",
       "      <th>2</th>\n",
       "      <td>52fe4284c3a36847f8024f55</td>\n",
       "      <td>Writing</td>\n",
       "      <td>2</td>\n",
       "      <td>7</td>\n",
       "      <td>Screenplay</td>\n",
       "      <td>Andrew Stanton</td>\n",
       "      <td>/pvQWsu0qc8JFQhMVJkTHuexUAa1.jpg</td>\n",
       "    </tr>\n",
       "    <tr>\n",
       "      <th>3</th>\n",
       "      <td>52fe4284c3a36847f8024f5b</td>\n",
       "      <td>Writing</td>\n",
       "      <td>2</td>\n",
       "      <td>12892</td>\n",
       "      <td>Screenplay</td>\n",
       "      <td>Joel Cohen</td>\n",
       "      <td>/dAubAiZcvKFbboWlj7oXOkZnTSu.jpg</td>\n",
       "    </tr>\n",
       "    <tr>\n",
       "      <th>4</th>\n",
       "      <td>52fe4284c3a36847f8024f61</td>\n",
       "      <td>Writing</td>\n",
       "      <td>0</td>\n",
       "      <td>12893</td>\n",
       "      <td>Screenplay</td>\n",
       "      <td>Alec Sokolow</td>\n",
       "      <td>/v79vlRYi94BZUQnkkyznbGUZLjT.jpg</td>\n",
       "    </tr>\n",
       "    <tr>\n",
       "      <th>...</th>\n",
       "      <td>...</td>\n",
       "      <td>...</td>\n",
       "      <td>...</td>\n",
       "      <td>...</td>\n",
       "      <td>...</td>\n",
       "      <td>...</td>\n",
       "      <td>...</td>\n",
       "    </tr>\n",
       "    <tr>\n",
       "      <th>101</th>\n",
       "      <td>589216c19251412dc2009cb9</td>\n",
       "      <td>Sound</td>\n",
       "      <td>1</td>\n",
       "      <td>1748724</td>\n",
       "      <td>Assistant Sound Editor</td>\n",
       "      <td>Susan Sanford</td>\n",
       "      <td>None</td>\n",
       "    </tr>\n",
       "    <tr>\n",
       "      <th>102</th>\n",
       "      <td>589216ccc3a3680973009274</td>\n",
       "      <td>Sound</td>\n",
       "      <td>0</td>\n",
       "      <td>1748725</td>\n",
       "      <td>Assistant Sound Editor</td>\n",
       "      <td>Susan Popovic</td>\n",
       "      <td>None</td>\n",
       "    </tr>\n",
       "    <tr>\n",
       "      <th>103</th>\n",
       "      <td>589216d79251412dc8009aa0</td>\n",
       "      <td>Sound</td>\n",
       "      <td>0</td>\n",
       "      <td>8067</td>\n",
       "      <td>Assistant Sound Editor</td>\n",
       "      <td>Dan Engstrom</td>\n",
       "      <td>None</td>\n",
       "    </tr>\n",
       "    <tr>\n",
       "      <th>104</th>\n",
       "      <td>589216e49251412dcd009a4f</td>\n",
       "      <td>Production</td>\n",
       "      <td>1</td>\n",
       "      <td>7902</td>\n",
       "      <td>Casting Consultant</td>\n",
       "      <td>Ruth Lambert</td>\n",
       "      <td>None</td>\n",
       "    </tr>\n",
       "    <tr>\n",
       "      <th>105</th>\n",
       "      <td>589216f39251412dc2009cf3</td>\n",
       "      <td>Production</td>\n",
       "      <td>0</td>\n",
       "      <td>84493</td>\n",
       "      <td>ADR Voice Casting</td>\n",
       "      <td>Mickie McGowan</td>\n",
       "      <td>/k7TjJBfINsg8vLQxJwos6XObAD6.jpg</td>\n",
       "    </tr>\n",
       "  </tbody>\n",
       "</table>\n",
       "<p>106 rows × 7 columns</p>\n",
       "</div>"
      ],
      "text/plain": [
       "                    credit_id  department  gender       id  \\\n",
       "0    52fe4284c3a36847f8024f49   Directing       2     7879   \n",
       "1    52fe4284c3a36847f8024f4f     Writing       2    12891   \n",
       "2    52fe4284c3a36847f8024f55     Writing       2        7   \n",
       "3    52fe4284c3a36847f8024f5b     Writing       2    12892   \n",
       "4    52fe4284c3a36847f8024f61     Writing       0    12893   \n",
       "..                        ...         ...     ...      ...   \n",
       "101  589216c19251412dc2009cb9       Sound       1  1748724   \n",
       "102  589216ccc3a3680973009274       Sound       0  1748725   \n",
       "103  589216d79251412dc8009aa0       Sound       0     8067   \n",
       "104  589216e49251412dcd009a4f  Production       1     7902   \n",
       "105  589216f39251412dc2009cf3  Production       0    84493   \n",
       "\n",
       "                        job            name                      profile_path  \n",
       "0                  Director   John Lasseter  /7EdqiNbr4FRjIhKHyPPdFfEEEFG.jpg  \n",
       "1                Screenplay     Joss Whedon  /dTiVsuaTVTeGmvkhcyJvKp2A5kr.jpg  \n",
       "2                Screenplay  Andrew Stanton  /pvQWsu0qc8JFQhMVJkTHuexUAa1.jpg  \n",
       "3                Screenplay      Joel Cohen  /dAubAiZcvKFbboWlj7oXOkZnTSu.jpg  \n",
       "4                Screenplay    Alec Sokolow  /v79vlRYi94BZUQnkkyznbGUZLjT.jpg  \n",
       "..                      ...             ...                               ...  \n",
       "101  Assistant Sound Editor   Susan Sanford                              None  \n",
       "102  Assistant Sound Editor   Susan Popovic                              None  \n",
       "103  Assistant Sound Editor    Dan Engstrom                              None  \n",
       "104      Casting Consultant    Ruth Lambert                              None  \n",
       "105       ADR Voice Casting  Mickie McGowan  /k7TjJBfINsg8vLQxJwos6XObAD6.jpg  \n",
       "\n",
       "[106 rows x 7 columns]"
      ]
     },
     "execution_count": 8,
     "metadata": {},
     "output_type": "execute_result"
    }
   ],
   "source": [
    "toy_story_crew_df = pd.DataFrame(data=eval(credits['crew'][0]))\n",
    "toy_story_crew_df"
   ]
  },
  {
   "cell_type": "code",
   "execution_count": 9,
   "metadata": {},
   "outputs": [
    {
     "data": {
      "text/html": [
       "<div>\n",
       "<style scoped>\n",
       "    .dataframe tbody tr th:only-of-type {\n",
       "        vertical-align: middle;\n",
       "    }\n",
       "\n",
       "    .dataframe tbody tr th {\n",
       "        vertical-align: top;\n",
       "    }\n",
       "\n",
       "    .dataframe thead th {\n",
       "        text-align: right;\n",
       "    }\n",
       "</style>\n",
       "<table border=\"1\" class=\"dataframe\">\n",
       "  <thead>\n",
       "    <tr style=\"text-align: right;\">\n",
       "      <th></th>\n",
       "      <th>job</th>\n",
       "    </tr>\n",
       "  </thead>\n",
       "  <tbody>\n",
       "    <tr>\n",
       "      <th>Sound Effects Editor</th>\n",
       "      <td>1</td>\n",
       "    </tr>\n",
       "    <tr>\n",
       "      <th>Editorial Coordinator</th>\n",
       "      <td>1</td>\n",
       "    </tr>\n",
       "    <tr>\n",
       "      <th>Casting Consultant</th>\n",
       "      <td>1</td>\n",
       "    </tr>\n",
       "    <tr>\n",
       "      <th>Editorial Manager</th>\n",
       "      <td>1</td>\n",
       "    </tr>\n",
       "    <tr>\n",
       "      <th>Director</th>\n",
       "      <td>1</td>\n",
       "    </tr>\n",
       "    <tr>\n",
       "      <th>Songs</th>\n",
       "      <td>1</td>\n",
       "    </tr>\n",
       "    <tr>\n",
       "      <th>Visual Effects Supervisor</th>\n",
       "      <td>1</td>\n",
       "    </tr>\n",
       "    <tr>\n",
       "      <th>Executive Music Producer</th>\n",
       "      <td>1</td>\n",
       "    </tr>\n",
       "    <tr>\n",
       "      <th>Production Supervisor</th>\n",
       "      <td>1</td>\n",
       "    </tr>\n",
       "    <tr>\n",
       "      <th>Sound Design Assistant</th>\n",
       "      <td>1</td>\n",
       "    </tr>\n",
       "    <tr>\n",
       "      <th>Sound Designer</th>\n",
       "      <td>1</td>\n",
       "    </tr>\n",
       "    <tr>\n",
       "      <th>Supervising Technical Director</th>\n",
       "      <td>1</td>\n",
       "    </tr>\n",
       "    <tr>\n",
       "      <th>Title Designer</th>\n",
       "      <td>1</td>\n",
       "    </tr>\n",
       "    <tr>\n",
       "      <th>Music Editor</th>\n",
       "      <td>1</td>\n",
       "    </tr>\n",
       "    <tr>\n",
       "      <th>Music</th>\n",
       "      <td>1</td>\n",
       "    </tr>\n",
       "    <tr>\n",
       "      <th>Post Production Supervisor</th>\n",
       "      <td>1</td>\n",
       "    </tr>\n",
       "    <tr>\n",
       "      <th>Color Timer</th>\n",
       "      <td>1</td>\n",
       "    </tr>\n",
       "    <tr>\n",
       "      <th>ADR Editor</th>\n",
       "      <td>1</td>\n",
       "    </tr>\n",
       "    <tr>\n",
       "      <th>Foley Editor</th>\n",
       "      <td>1</td>\n",
       "    </tr>\n",
       "    <tr>\n",
       "      <th>Supervising Animator</th>\n",
       "      <td>1</td>\n",
       "    </tr>\n",
       "    <tr>\n",
       "      <th>Unit Publicist</th>\n",
       "      <td>1</td>\n",
       "    </tr>\n",
       "    <tr>\n",
       "      <th>ADR Voice Casting</th>\n",
       "      <td>1</td>\n",
       "    </tr>\n",
       "    <tr>\n",
       "      <th>Supervising Sound Editor</th>\n",
       "      <td>1</td>\n",
       "    </tr>\n",
       "    <tr>\n",
       "      <th>Art Direction</th>\n",
       "      <td>1</td>\n",
       "    </tr>\n",
       "    <tr>\n",
       "      <th>Sculptor</th>\n",
       "      <td>2</td>\n",
       "    </tr>\n",
       "    <tr>\n",
       "      <th>Production Coordinator</th>\n",
       "      <td>2</td>\n",
       "    </tr>\n",
       "    <tr>\n",
       "      <th>Layout</th>\n",
       "      <td>2</td>\n",
       "    </tr>\n",
       "    <tr>\n",
       "      <th>Sound Re-Recording Mixer</th>\n",
       "      <td>2</td>\n",
       "    </tr>\n",
       "    <tr>\n",
       "      <th>Animation Director</th>\n",
       "      <td>2</td>\n",
       "    </tr>\n",
       "    <tr>\n",
       "      <th>Negative Cutter</th>\n",
       "      <td>2</td>\n",
       "    </tr>\n",
       "    <tr>\n",
       "      <th>CG Painter</th>\n",
       "      <td>2</td>\n",
       "    </tr>\n",
       "    <tr>\n",
       "      <th>Orchestrator</th>\n",
       "      <td>2</td>\n",
       "    </tr>\n",
       "    <tr>\n",
       "      <th>Editor</th>\n",
       "      <td>2</td>\n",
       "    </tr>\n",
       "    <tr>\n",
       "      <th>Executive Producer</th>\n",
       "      <td>2</td>\n",
       "    </tr>\n",
       "    <tr>\n",
       "      <th>Producer</th>\n",
       "      <td>2</td>\n",
       "    </tr>\n",
       "    <tr>\n",
       "      <th>Lighting Supervisor</th>\n",
       "      <td>2</td>\n",
       "    </tr>\n",
       "    <tr>\n",
       "      <th>Set Dresser</th>\n",
       "      <td>3</td>\n",
       "    </tr>\n",
       "    <tr>\n",
       "      <th>Original Story</th>\n",
       "      <td>4</td>\n",
       "    </tr>\n",
       "    <tr>\n",
       "      <th>Assistant Sound Editor</th>\n",
       "      <td>4</td>\n",
       "    </tr>\n",
       "    <tr>\n",
       "      <th>Screenplay</th>\n",
       "      <td>4</td>\n",
       "    </tr>\n",
       "    <tr>\n",
       "      <th>Assistant Editor</th>\n",
       "      <td>4</td>\n",
       "    </tr>\n",
       "    <tr>\n",
       "      <th>Visual Effects</th>\n",
       "      <td>5</td>\n",
       "    </tr>\n",
       "    <tr>\n",
       "      <th>Character Designer</th>\n",
       "      <td>8</td>\n",
       "    </tr>\n",
       "    <tr>\n",
       "      <th>Animation</th>\n",
       "      <td>26</td>\n",
       "    </tr>\n",
       "  </tbody>\n",
       "</table>\n",
       "</div>"
      ],
      "text/plain": [
       "                                job\n",
       "Sound Effects Editor              1\n",
       "Editorial Coordinator             1\n",
       "Casting Consultant                1\n",
       "Editorial Manager                 1\n",
       "Director                          1\n",
       "Songs                             1\n",
       "Visual Effects Supervisor         1\n",
       "Executive Music Producer          1\n",
       "Production Supervisor             1\n",
       "Sound Design Assistant            1\n",
       "Sound Designer                    1\n",
       "Supervising Technical Director    1\n",
       "Title Designer                    1\n",
       "Music Editor                      1\n",
       "Music                             1\n",
       "Post Production Supervisor        1\n",
       "Color Timer                       1\n",
       "ADR Editor                        1\n",
       "Foley Editor                      1\n",
       "Supervising Animator              1\n",
       "Unit Publicist                    1\n",
       "ADR Voice Casting                 1\n",
       "Supervising Sound Editor          1\n",
       "Art Direction                     1\n",
       "Sculptor                          2\n",
       "Production Coordinator            2\n",
       "Layout                            2\n",
       "Sound Re-Recording Mixer          2\n",
       "Animation Director                2\n",
       "Negative Cutter                   2\n",
       "CG Painter                        2\n",
       "Orchestrator                      2\n",
       "Editor                            2\n",
       "Executive Producer                2\n",
       "Producer                          2\n",
       "Lighting Supervisor               2\n",
       "Set Dresser                       3\n",
       "Original Story                    4\n",
       "Assistant Sound Editor            4\n",
       "Screenplay                        4\n",
       "Assistant Editor                  4\n",
       "Visual Effects                    5\n",
       "Character Designer                8\n",
       "Animation                        26"
      ]
     },
     "execution_count": 9,
     "metadata": {},
     "output_type": "execute_result"
    }
   ],
   "source": [
    "toy_story_crew_df[\"job\"].value_counts().sort_values().to_frame()"
   ]
  },
  {
   "cell_type": "code",
   "execution_count": 10,
   "metadata": {},
   "outputs": [
    {
     "data": {
      "text/html": [
       "<div>\n",
       "<style scoped>\n",
       "    .dataframe tbody tr th:only-of-type {\n",
       "        vertical-align: middle;\n",
       "    }\n",
       "\n",
       "    .dataframe tbody tr th {\n",
       "        vertical-align: top;\n",
       "    }\n",
       "\n",
       "    .dataframe thead th {\n",
       "        text-align: right;\n",
       "    }\n",
       "</style>\n",
       "<table border=\"1\" class=\"dataframe\">\n",
       "  <thead>\n",
       "    <tr style=\"text-align: right;\">\n",
       "      <th></th>\n",
       "      <th>cast_id</th>\n",
       "      <th>character</th>\n",
       "      <th>credit_id</th>\n",
       "      <th>gender</th>\n",
       "      <th>id</th>\n",
       "      <th>name</th>\n",
       "      <th>order</th>\n",
       "      <th>profile_path</th>\n",
       "    </tr>\n",
       "  </thead>\n",
       "  <tbody>\n",
       "    <tr>\n",
       "      <th>0</th>\n",
       "      <td>14</td>\n",
       "      <td>Woody (voice)</td>\n",
       "      <td>52fe4284c3a36847f8024f95</td>\n",
       "      <td>2</td>\n",
       "      <td>31</td>\n",
       "      <td>Tom Hanks</td>\n",
       "      <td>0</td>\n",
       "      <td>/pQFoyx7rp09CJTAb932F2g8Nlho.jpg</td>\n",
       "    </tr>\n",
       "    <tr>\n",
       "      <th>1</th>\n",
       "      <td>15</td>\n",
       "      <td>Buzz Lightyear (voice)</td>\n",
       "      <td>52fe4284c3a36847f8024f99</td>\n",
       "      <td>2</td>\n",
       "      <td>12898</td>\n",
       "      <td>Tim Allen</td>\n",
       "      <td>1</td>\n",
       "      <td>/uX2xVf6pMmPepxnvFWyBtjexzgY.jpg</td>\n",
       "    </tr>\n",
       "    <tr>\n",
       "      <th>2</th>\n",
       "      <td>16</td>\n",
       "      <td>Mr. Potato Head (voice)</td>\n",
       "      <td>52fe4284c3a36847f8024f9d</td>\n",
       "      <td>2</td>\n",
       "      <td>7167</td>\n",
       "      <td>Don Rickles</td>\n",
       "      <td>2</td>\n",
       "      <td>/h5BcaDMPRVLHLDzbQavec4xfSdt.jpg</td>\n",
       "    </tr>\n",
       "    <tr>\n",
       "      <th>3</th>\n",
       "      <td>17</td>\n",
       "      <td>Slinky Dog (voice)</td>\n",
       "      <td>52fe4284c3a36847f8024fa1</td>\n",
       "      <td>2</td>\n",
       "      <td>12899</td>\n",
       "      <td>Jim Varney</td>\n",
       "      <td>3</td>\n",
       "      <td>/eIo2jVVXYgjDtaHoF19Ll9vtW7h.jpg</td>\n",
       "    </tr>\n",
       "    <tr>\n",
       "      <th>4</th>\n",
       "      <td>18</td>\n",
       "      <td>Rex (voice)</td>\n",
       "      <td>52fe4284c3a36847f8024fa5</td>\n",
       "      <td>2</td>\n",
       "      <td>12900</td>\n",
       "      <td>Wallace Shawn</td>\n",
       "      <td>4</td>\n",
       "      <td>/oGE6JqPP2xH4tNORKNqxbNPYi7u.jpg</td>\n",
       "    </tr>\n",
       "    <tr>\n",
       "      <th>5</th>\n",
       "      <td>19</td>\n",
       "      <td>Hamm (voice)</td>\n",
       "      <td>52fe4284c3a36847f8024fa9</td>\n",
       "      <td>2</td>\n",
       "      <td>7907</td>\n",
       "      <td>John Ratzenberger</td>\n",
       "      <td>5</td>\n",
       "      <td>/yGechiKWL6TJDfVE2KPSJYqdMsY.jpg</td>\n",
       "    </tr>\n",
       "    <tr>\n",
       "      <th>6</th>\n",
       "      <td>20</td>\n",
       "      <td>Bo Peep (voice)</td>\n",
       "      <td>52fe4284c3a36847f8024fad</td>\n",
       "      <td>1</td>\n",
       "      <td>8873</td>\n",
       "      <td>Annie Potts</td>\n",
       "      <td>6</td>\n",
       "      <td>/eryXT84RL41jHSJcMy4kS3u9y6w.jpg</td>\n",
       "    </tr>\n",
       "    <tr>\n",
       "      <th>7</th>\n",
       "      <td>26</td>\n",
       "      <td>Andy (voice)</td>\n",
       "      <td>52fe4284c3a36847f8024fc1</td>\n",
       "      <td>0</td>\n",
       "      <td>1116442</td>\n",
       "      <td>John Morris</td>\n",
       "      <td>7</td>\n",
       "      <td>/vYGyvK4LzeaUCoNSHtsuqJUY15M.jpg</td>\n",
       "    </tr>\n",
       "    <tr>\n",
       "      <th>8</th>\n",
       "      <td>22</td>\n",
       "      <td>Sid (voice)</td>\n",
       "      <td>52fe4284c3a36847f8024fb1</td>\n",
       "      <td>2</td>\n",
       "      <td>12901</td>\n",
       "      <td>Erik von Detten</td>\n",
       "      <td>8</td>\n",
       "      <td>/twnF1ZaJ1FUNUuo6xLXwcxjayBE.jpg</td>\n",
       "    </tr>\n",
       "    <tr>\n",
       "      <th>9</th>\n",
       "      <td>23</td>\n",
       "      <td>Mrs. Davis (voice)</td>\n",
       "      <td>52fe4284c3a36847f8024fb5</td>\n",
       "      <td>1</td>\n",
       "      <td>12133</td>\n",
       "      <td>Laurie Metcalf</td>\n",
       "      <td>9</td>\n",
       "      <td>/unMMIT60eoBM2sN2nyR7EZ2BvvD.jpg</td>\n",
       "    </tr>\n",
       "    <tr>\n",
       "      <th>10</th>\n",
       "      <td>24</td>\n",
       "      <td>Sergeant (voice)</td>\n",
       "      <td>52fe4284c3a36847f8024fb9</td>\n",
       "      <td>2</td>\n",
       "      <td>8655</td>\n",
       "      <td>R. Lee Ermey</td>\n",
       "      <td>10</td>\n",
       "      <td>/r8GBqFBjypLUP9VVqDqfZ7wYbSs.jpg</td>\n",
       "    </tr>\n",
       "    <tr>\n",
       "      <th>11</th>\n",
       "      <td>25</td>\n",
       "      <td>Hannah (voice)</td>\n",
       "      <td>52fe4284c3a36847f8024fbd</td>\n",
       "      <td>1</td>\n",
       "      <td>12903</td>\n",
       "      <td>Sarah Freeman</td>\n",
       "      <td>11</td>\n",
       "      <td>None</td>\n",
       "    </tr>\n",
       "    <tr>\n",
       "      <th>12</th>\n",
       "      <td>27</td>\n",
       "      <td>TV Announcer (voice)</td>\n",
       "      <td>52fe4284c3a36847f8024fc5</td>\n",
       "      <td>2</td>\n",
       "      <td>37221</td>\n",
       "      <td>Penn Jillette</td>\n",
       "      <td>12</td>\n",
       "      <td>/zmAaXUdx12NRsssgHbk1T31j2x9.jpg</td>\n",
       "    </tr>\n",
       "  </tbody>\n",
       "</table>\n",
       "</div>"
      ],
      "text/plain": [
       "    cast_id                character                 credit_id  gender  \\\n",
       "0        14            Woody (voice)  52fe4284c3a36847f8024f95       2   \n",
       "1        15   Buzz Lightyear (voice)  52fe4284c3a36847f8024f99       2   \n",
       "2        16  Mr. Potato Head (voice)  52fe4284c3a36847f8024f9d       2   \n",
       "3        17       Slinky Dog (voice)  52fe4284c3a36847f8024fa1       2   \n",
       "4        18              Rex (voice)  52fe4284c3a36847f8024fa5       2   \n",
       "5        19             Hamm (voice)  52fe4284c3a36847f8024fa9       2   \n",
       "6        20          Bo Peep (voice)  52fe4284c3a36847f8024fad       1   \n",
       "7        26             Andy (voice)  52fe4284c3a36847f8024fc1       0   \n",
       "8        22              Sid (voice)  52fe4284c3a36847f8024fb1       2   \n",
       "9        23       Mrs. Davis (voice)  52fe4284c3a36847f8024fb5       1   \n",
       "10       24         Sergeant (voice)  52fe4284c3a36847f8024fb9       2   \n",
       "11       25           Hannah (voice)  52fe4284c3a36847f8024fbd       1   \n",
       "12       27     TV Announcer (voice)  52fe4284c3a36847f8024fc5       2   \n",
       "\n",
       "         id               name  order                      profile_path  \n",
       "0        31          Tom Hanks      0  /pQFoyx7rp09CJTAb932F2g8Nlho.jpg  \n",
       "1     12898          Tim Allen      1  /uX2xVf6pMmPepxnvFWyBtjexzgY.jpg  \n",
       "2      7167        Don Rickles      2  /h5BcaDMPRVLHLDzbQavec4xfSdt.jpg  \n",
       "3     12899         Jim Varney      3  /eIo2jVVXYgjDtaHoF19Ll9vtW7h.jpg  \n",
       "4     12900      Wallace Shawn      4  /oGE6JqPP2xH4tNORKNqxbNPYi7u.jpg  \n",
       "5      7907  John Ratzenberger      5  /yGechiKWL6TJDfVE2KPSJYqdMsY.jpg  \n",
       "6      8873        Annie Potts      6  /eryXT84RL41jHSJcMy4kS3u9y6w.jpg  \n",
       "7   1116442        John Morris      7  /vYGyvK4LzeaUCoNSHtsuqJUY15M.jpg  \n",
       "8     12901    Erik von Detten      8  /twnF1ZaJ1FUNUuo6xLXwcxjayBE.jpg  \n",
       "9     12133     Laurie Metcalf      9  /unMMIT60eoBM2sN2nyR7EZ2BvvD.jpg  \n",
       "10     8655       R. Lee Ermey     10  /r8GBqFBjypLUP9VVqDqfZ7wYbSs.jpg  \n",
       "11    12903      Sarah Freeman     11                              None  \n",
       "12    37221      Penn Jillette     12  /zmAaXUdx12NRsssgHbk1T31j2x9.jpg  "
      ]
     },
     "execution_count": 10,
     "metadata": {},
     "output_type": "execute_result"
    }
   ],
   "source": [
    "pd.DataFrame(data=eval(credits['cast'][0]))"
   ]
  },
  {
   "cell_type": "code",
   "execution_count": 11,
   "metadata": {
    "pycharm": {
     "name": "#%%\n"
    }
   },
   "outputs": [
    {
     "data": {
      "text/html": [
       "<div>\n",
       "<style scoped>\n",
       "    .dataframe tbody tr th:only-of-type {\n",
       "        vertical-align: middle;\n",
       "    }\n",
       "\n",
       "    .dataframe tbody tr th {\n",
       "        vertical-align: top;\n",
       "    }\n",
       "\n",
       "    .dataframe thead th {\n",
       "        text-align: right;\n",
       "    }\n",
       "</style>\n",
       "<table border=\"1\" class=\"dataframe\">\n",
       "  <thead>\n",
       "    <tr style=\"text-align: right;\">\n",
       "      <th></th>\n",
       "      <th>id</th>\n",
       "      <th>keywords</th>\n",
       "    </tr>\n",
       "  </thead>\n",
       "  <tbody>\n",
       "    <tr>\n",
       "      <th>0</th>\n",
       "      <td>862</td>\n",
       "      <td>[{'id': 931, 'name': 'jealousy'}, {'id': 4290,...</td>\n",
       "    </tr>\n",
       "    <tr>\n",
       "      <th>1</th>\n",
       "      <td>8844</td>\n",
       "      <td>[{'id': 10090, 'name': 'board game'}, {'id': 1...</td>\n",
       "    </tr>\n",
       "    <tr>\n",
       "      <th>2</th>\n",
       "      <td>15602</td>\n",
       "      <td>[{'id': 1495, 'name': 'fishing'}, {'id': 12392...</td>\n",
       "    </tr>\n",
       "    <tr>\n",
       "      <th>3</th>\n",
       "      <td>31357</td>\n",
       "      <td>[{'id': 818, 'name': 'based on novel'}, {'id':...</td>\n",
       "    </tr>\n",
       "    <tr>\n",
       "      <th>4</th>\n",
       "      <td>11862</td>\n",
       "      <td>[{'id': 1009, 'name': 'baby'}, {'id': 1599, 'n...</td>\n",
       "    </tr>\n",
       "  </tbody>\n",
       "</table>\n",
       "</div>"
      ],
      "text/plain": [
       "      id                                           keywords\n",
       "0    862  [{'id': 931, 'name': 'jealousy'}, {'id': 4290,...\n",
       "1   8844  [{'id': 10090, 'name': 'board game'}, {'id': 1...\n",
       "2  15602  [{'id': 1495, 'name': 'fishing'}, {'id': 12392...\n",
       "3  31357  [{'id': 818, 'name': 'based on novel'}, {'id':...\n",
       "4  11862  [{'id': 1009, 'name': 'baby'}, {'id': 1599, 'n..."
      ]
     },
     "execution_count": 11,
     "metadata": {},
     "output_type": "execute_result"
    }
   ],
   "source": [
    "keywords.head()"
   ]
  },
  {
   "cell_type": "markdown",
   "metadata": {
    "pycharm": {
     "name": "#%% md\n"
    }
   },
   "source": [
    "We can merge the 3 datasets into one, this will make it easier as we progress"
   ]
  },
  {
   "cell_type": "code",
   "execution_count": 12,
   "metadata": {
    "pycharm": {
     "name": "#%%\n"
    }
   },
   "outputs": [],
   "source": [
    "movies = movies_metadata.merge(credits, on='id').merge(keywords, on='id')"
   ]
  },
  {
   "cell_type": "markdown",
   "metadata": {
    "pycharm": {
     "name": "#%% md\n"
    }
   },
   "source": [
    "We need to know who our recommendation system will cater to, this will depend on how much our dataset is skwed.  \n",
    "So let's look at some basic statistics of language, budget, revenu, release dates, duration, votes count and genres."
   ]
  },
  {
   "cell_type": "code",
   "execution_count": 13,
   "metadata": {
    "pycharm": {
     "name": "#%%\n"
    }
   },
   "outputs": [
    {
     "data": {
      "image/png": "[encoded data removed]",
      "text/plain": [
       "<Figure size 576x576 with 1 Axes>"
      ]
     },
     "metadata": {},
     "output_type": "display_data"
    }
   ],
   "source": [
    "lng_counts = movies['original_language'].value_counts()\n",
    "\n",
    "top_lng = lng_counts.index.tolist()[:10]\n",
    "labels = top_lng + [\"\"]*(lng_counts.index.size - 10)\n",
    "plt.figure(figsize=(8, 8))\n",
    "plt.pie(lng_counts, labels=labels)\n",
    "\n",
    "plt.show()"
   ]
  },
  {
   "cell_type": "markdown",
   "metadata": {
    "pycharm": {
     "name": "#%% md\n"
    }
   },
   "source": [
    "English is the most dominent language in our dataset, while there's also French, Italian, Japanease, German, Spanish, Russian and more.\n",
    "\n",
    "Let's look at statistics about the release dates and the duration:  "
   ]
  },
  {
   "cell_type": "code",
   "execution_count": 14,
   "metadata": {
    "pycharm": {
     "name": "#%%\n"
    }
   },
   "outputs": [
    {
     "data": {
      "image/png": "[encoded data removed]",
      "text/plain": [
       "<Figure size 432x288 with 1 Axes>"
      ]
     },
     "metadata": {
      "needs_background": "light"
     },
     "output_type": "display_data"
    }
   ],
   "source": [
    "movies['release_date'].hist()\n",
    "plt.show()"
   ]
  },
  {
   "cell_type": "markdown",
   "metadata": {
    "pycharm": {
     "name": "#%% md\n"
    }
   },
   "source": [
    "We can see that our dataset is comprised mainly from movies made in recent years, this doesn't necessarily mean that our data is skwed, maybe there really were more movies made in recent years than before."
   ]
  },
  {
   "cell_type": "code",
   "execution_count": 15,
   "metadata": {
    "pycharm": {
     "name": "#%%\n"
    }
   },
   "outputs": [
    {
     "data": {
      "text/plain": [
       "(50, 7)"
      ]
     },
     "execution_count": 15,
     "metadata": {},
     "output_type": "execute_result"
    }
   ],
   "source": [
    "movies[movies[\"runtime\"] > 400][[\"title\", \"runtime\", \"overview\", \"keywords\", \"genres\", \"original_language\", \"imdb_id\"]].shape"
   ]
  },
  {
   "cell_type": "code",
   "execution_count": 16,
   "metadata": {
    "pycharm": {
     "name": "#%%\n"
    }
   },
   "outputs": [
    {
     "data": {
      "image/png": "[encoded data removed]",
      "text/plain": [
       "<Figure size 1296x360 with 1 Axes>"
      ]
     },
     "metadata": {
      "needs_background": "light"
     },
     "output_type": "display_data"
    }
   ],
   "source": [
    "plt.figure(figsize=(18,5))\n",
    "plt.xlabel(\"Runtime duration (minutes)\")\n",
    "plt.ylabel(\"Movies distribution\")\n",
    "\n",
    "# To make the plot more readable we'll remove movies with runtime of over 400 minutes (there's only 25 of them)\n",
    "sns.kdeplot(data=movies[movies[\"runtime\"] > 400], x=\"runtime\")\n",
    "\n",
    "plt.show()"
   ]
  },
  {
   "cell_type": "markdown",
   "metadata": {
    "pycharm": {
     "name": "#%% md\n"
    }
   },
   "source": [
    "The average duration is a little more than an hour and a half, and most movies are between an hour and 2 hours.\n",
    "\n",
    "Next, let's take a look at the different genres.  \n",
    "In order to do that we will need to make the genres data usable. Currently the genres of each movie is stored as follows:"
   ]
  },
  {
   "cell_type": "code",
   "execution_count": 17,
   "metadata": {
    "pycharm": {
     "name": "#%%\n"
    }
   },
   "outputs": [
    {
     "data": {
      "text/html": [
       "<div>\n",
       "<style scoped>\n",
       "    .dataframe tbody tr th:only-of-type {\n",
       "        vertical-align: middle;\n",
       "    }\n",
       "\n",
       "    .dataframe tbody tr th {\n",
       "        vertical-align: top;\n",
       "    }\n",
       "\n",
       "    .dataframe thead th {\n",
       "        text-align: right;\n",
       "    }\n",
       "</style>\n",
       "<table border=\"1\" class=\"dataframe\">\n",
       "  <thead>\n",
       "    <tr style=\"text-align: right;\">\n",
       "      <th></th>\n",
       "      <th>title</th>\n",
       "      <th>genres</th>\n",
       "    </tr>\n",
       "  </thead>\n",
       "  <tbody>\n",
       "    <tr>\n",
       "      <th>0</th>\n",
       "      <td>Toy Story</td>\n",
       "      <td>[{'id': 16, 'name': 'Animation'}, {'id': 35, '...</td>\n",
       "    </tr>\n",
       "  </tbody>\n",
       "</table>\n",
       "</div>"
      ],
      "text/plain": [
       "       title                                             genres\n",
       "0  Toy Story  [{'id': 16, 'name': 'Animation'}, {'id': 35, '..."
      ]
     },
     "execution_count": 17,
     "metadata": {},
     "output_type": "execute_result"
    }
   ],
   "source": [
    "movies[movies['title'] == 'Toy Story'][['title', 'genres']]"
   ]
  },
  {
   "cell_type": "markdown",
   "metadata": {
    "pycharm": {
     "name": "#%% md\n"
    }
   },
   "source": [
    "We'll convert the `genres` field to a simple list of values, and we'll do the same for `keywords`.\n",
    "\n",
    "For `crew` we will only save the director and for `cast` we will take the top 5 actors - which will be useful when building recommendations models."
   ]
  },
  {
   "cell_type": "code",
   "execution_count": 18,
   "metadata": {
    "pycharm": {
     "name": "#%%\n"
    }
   },
   "outputs": [],
   "source": [
    "movies[\"genres\"] = movies[\"genres\"].apply(lambda value: [x[\"name\"] for x in eval(value)])\n",
    "movies[\"keywords\"] = movies[\"keywords\"].apply(lambda value: [x[\"name\"] for x in eval(value)])"
   ]
  },
  {
   "cell_type": "code",
   "execution_count": 19,
   "metadata": {},
   "outputs": [],
   "source": [
    "def get_top_5_actors_names(cast):\n",
    "    top_actors = eval(cast)[:5]\n",
    "    return [actor[\"name\"] for actor in top_actors]\n",
    "\n",
    "movies[\"top_actors\"] = movies[\"cast\"].apply(lambda cast: get_top_5_actors_names(cast))\n",
    "movies.drop(columns=[\"cast\"], inplace=True)"
   ]
  },
  {
   "cell_type": "code",
   "execution_count": 20,
   "metadata": {},
   "outputs": [],
   "source": [
    "def get_director_name(crew):\n",
    "    for crew_member in eval(crew):\n",
    "        if crew_member[\"job\"] == \"Director\":\n",
    "            return crew_member[\"name\"]\n",
    "movies[\"director\"] = movies[\"crew\"].apply(lambda crew: get_director_name(crew))\n",
    "movies.drop(columns=[\"crew\"], inplace=True)"
   ]
  },
  {
   "cell_type": "markdown",
   "metadata": {
    "pycharm": {
     "name": "#%% md\n"
    }
   },
   "source": [
    "To make it simpler to plot different aspects of movies' geners, we'll create a new `DataFrame` that will have a duplicate of each movie per its genre:"
   ]
  },
  {
   "cell_type": "code",
   "execution_count": 21,
   "metadata": {
    "pycharm": {
     "name": "#%%\n"
    }
   },
   "outputs": [],
   "source": [
    "movies_genres = movies.explode('genres').rename(columns={'genres': 'genre'})"
   ]
  },
  {
   "cell_type": "markdown",
   "metadata": {
    "pycharm": {
     "name": "#%% md\n"
    }
   },
   "source": [
    "For example, for the movie \"Toy Story\" the `movies_genres` `DataFrame` will store the genres as follows:"
   ]
  },
  {
   "cell_type": "code",
   "execution_count": 22,
   "metadata": {
    "pycharm": {
     "name": "#%%\n"
    }
   },
   "outputs": [
    {
     "data": {
      "text/html": [
       "<div>\n",
       "<style scoped>\n",
       "    .dataframe tbody tr th:only-of-type {\n",
       "        vertical-align: middle;\n",
       "    }\n",
       "\n",
       "    .dataframe tbody tr th {\n",
       "        vertical-align: top;\n",
       "    }\n",
       "\n",
       "    .dataframe thead th {\n",
       "        text-align: right;\n",
       "    }\n",
       "</style>\n",
       "<table border=\"1\" class=\"dataframe\">\n",
       "  <thead>\n",
       "    <tr style=\"text-align: right;\">\n",
       "      <th></th>\n",
       "      <th>title</th>\n",
       "      <th>genre</th>\n",
       "    </tr>\n",
       "  </thead>\n",
       "  <tbody>\n",
       "    <tr>\n",
       "      <th>0</th>\n",
       "      <td>Toy Story</td>\n",
       "      <td>Animation</td>\n",
       "    </tr>\n",
       "    <tr>\n",
       "      <th>0</th>\n",
       "      <td>Toy Story</td>\n",
       "      <td>Comedy</td>\n",
       "    </tr>\n",
       "    <tr>\n",
       "      <th>0</th>\n",
       "      <td>Toy Story</td>\n",
       "      <td>Family</td>\n",
       "    </tr>\n",
       "  </tbody>\n",
       "</table>\n",
       "</div>"
      ],
      "text/plain": [
       "       title      genre\n",
       "0  Toy Story  Animation\n",
       "0  Toy Story     Comedy\n",
       "0  Toy Story     Family"
      ]
     },
     "execution_count": 22,
     "metadata": {},
     "output_type": "execute_result"
    }
   ],
   "source": [
    "movies_genres[movies_genres['title'] == 'Toy Story'][['title', 'genre']]"
   ]
  },
  {
   "cell_type": "markdown",
   "metadata": {
    "pycharm": {
     "name": "#%% md\n"
    }
   },
   "source": [
    "We have the following genres:"
   ]
  },
  {
   "cell_type": "code",
   "execution_count": 23,
   "metadata": {
    "pycharm": {
     "name": "#%%\n"
    }
   },
   "outputs": [
    {
     "data": {
      "text/html": [
       "<div>\n",
       "<style scoped>\n",
       "    .dataframe tbody tr th:only-of-type {\n",
       "        vertical-align: middle;\n",
       "    }\n",
       "\n",
       "    .dataframe tbody tr th {\n",
       "        vertical-align: top;\n",
       "    }\n",
       "\n",
       "    .dataframe thead th {\n",
       "        text-align: right;\n",
       "    }\n",
       "</style>\n",
       "<table border=\"1\" class=\"dataframe\">\n",
       "  <thead>\n",
       "    <tr style=\"text-align: right;\">\n",
       "      <th></th>\n",
       "      <th>genre</th>\n",
       "      <th>count</th>\n",
       "    </tr>\n",
       "  </thead>\n",
       "  <tbody>\n",
       "    <tr>\n",
       "      <th>0</th>\n",
       "      <td>Drama</td>\n",
       "      <td>20312</td>\n",
       "    </tr>\n",
       "    <tr>\n",
       "      <th>1</th>\n",
       "      <td>Comedy</td>\n",
       "      <td>13196</td>\n",
       "    </tr>\n",
       "    <tr>\n",
       "      <th>2</th>\n",
       "      <td>Thriller</td>\n",
       "      <td>7640</td>\n",
       "    </tr>\n",
       "    <tr>\n",
       "      <th>3</th>\n",
       "      <td>Romance</td>\n",
       "      <td>6746</td>\n",
       "    </tr>\n",
       "    <tr>\n",
       "      <th>4</th>\n",
       "      <td>Action</td>\n",
       "      <td>6607</td>\n",
       "    </tr>\n",
       "    <tr>\n",
       "      <th>5</th>\n",
       "      <td>Horror</td>\n",
       "      <td>4679</td>\n",
       "    </tr>\n",
       "    <tr>\n",
       "      <th>6</th>\n",
       "      <td>Crime</td>\n",
       "      <td>4314</td>\n",
       "    </tr>\n",
       "    <tr>\n",
       "      <th>7</th>\n",
       "      <td>Documentary</td>\n",
       "      <td>3937</td>\n",
       "    </tr>\n",
       "    <tr>\n",
       "      <th>8</th>\n",
       "      <td>Adventure</td>\n",
       "      <td>3508</td>\n",
       "    </tr>\n",
       "    <tr>\n",
       "      <th>9</th>\n",
       "      <td>Science Fiction</td>\n",
       "      <td>3061</td>\n",
       "    </tr>\n",
       "    <tr>\n",
       "      <th>10</th>\n",
       "      <td>Family</td>\n",
       "      <td>2776</td>\n",
       "    </tr>\n",
       "    <tr>\n",
       "      <th>11</th>\n",
       "      <td>Mystery</td>\n",
       "      <td>2477</td>\n",
       "    </tr>\n",
       "    <tr>\n",
       "      <th>12</th>\n",
       "      <td>Fantasy</td>\n",
       "      <td>2322</td>\n",
       "    </tr>\n",
       "    <tr>\n",
       "      <th>13</th>\n",
       "      <td>Animation</td>\n",
       "      <td>1945</td>\n",
       "    </tr>\n",
       "    <tr>\n",
       "      <th>14</th>\n",
       "      <td>Foreign</td>\n",
       "      <td>1628</td>\n",
       "    </tr>\n",
       "    <tr>\n",
       "      <th>15</th>\n",
       "      <td>Music</td>\n",
       "      <td>1600</td>\n",
       "    </tr>\n",
       "    <tr>\n",
       "      <th>16</th>\n",
       "      <td>History</td>\n",
       "      <td>1398</td>\n",
       "    </tr>\n",
       "    <tr>\n",
       "      <th>17</th>\n",
       "      <td>War</td>\n",
       "      <td>1325</td>\n",
       "    </tr>\n",
       "    <tr>\n",
       "      <th>18</th>\n",
       "      <td>Western</td>\n",
       "      <td>1042</td>\n",
       "    </tr>\n",
       "    <tr>\n",
       "      <th>19</th>\n",
       "      <td>TV Movie</td>\n",
       "      <td>769</td>\n",
       "    </tr>\n",
       "  </tbody>\n",
       "</table>\n",
       "</div>"
      ],
      "text/plain": [
       "              genre  count\n",
       "0             Drama  20312\n",
       "1            Comedy  13196\n",
       "2          Thriller   7640\n",
       "3           Romance   6746\n",
       "4            Action   6607\n",
       "5            Horror   4679\n",
       "6             Crime   4314\n",
       "7       Documentary   3937\n",
       "8         Adventure   3508\n",
       "9   Science Fiction   3061\n",
       "10           Family   2776\n",
       "11          Mystery   2477\n",
       "12          Fantasy   2322\n",
       "13        Animation   1945\n",
       "14          Foreign   1628\n",
       "15            Music   1600\n",
       "16          History   1398\n",
       "17              War   1325\n",
       "18          Western   1042\n",
       "19         TV Movie    769"
      ]
     },
     "execution_count": 23,
     "metadata": {},
     "output_type": "execute_result"
    }
   ],
   "source": [
    "genres = movies_genres.groupby(\"genre\").size()\\\n",
    "                    .reset_index().rename(columns={0: 'count'})\\\n",
    "                    .sort_values('count', ascending=False).reset_index(drop=True)\n",
    "\n",
    "genres"
   ]
  },
  {
   "cell_type": "code",
   "execution_count": 24,
   "metadata": {
    "pycharm": {
     "name": "#%%\n"
    }
   },
   "outputs": [
    {
     "data": {
      "image/png": "[encoded data removed]",
      "text/plain": [
       "<Figure size 504x504 with 1 Axes>"
      ]
     },
     "metadata": {},
     "output_type": "display_data"
    }
   ],
   "source": [
    "top_genres = genres[\"genre\"].tolist()[:15]\n",
    "\n",
    "genres_count = movies_genres['genre'].value_counts()\n",
    "labels = top_genres + [\"\"]*(genres_count.index.size - 15)\n",
    "plt.figure(figsize=(7, 7))\n",
    "a = plt.pie(genres_count, labels=labels)"
   ]
  },
  {
   "cell_type": "markdown",
   "metadata": {
    "pycharm": {
     "name": "#%% md\n"
    }
   },
   "source": [
    "It's clear that most movies produced are categorized as \"Drama\", \"Comedy\", \"Thriller\", \"Romance\", or \"Action\".\n",
    "\n",
    "It will be interesting to see how different movie properties change based on genre. We'll keep it in mind going forward in this notebook.\n",
    "\n",
    "Next, let's take a look at movies' votes"
   ]
  },
  {
   "cell_type": "code",
   "execution_count": 25,
   "metadata": {
    "pycharm": {
     "name": "#%%\n"
    }
   },
   "outputs": [
    {
     "data": {
      "image/png": "[encoded data removed]",
      "text/plain": [
       "<Figure size 1080x432 with 1 Axes>"
      ]
     },
     "metadata": {
      "needs_background": "light"
     },
     "output_type": "display_data"
    }
   ],
   "source": [
    "plt.figure(figsize=(15, 6))\n",
    "movies['vote_count'].hist(bins=50)\n",
    "plt.xlabel(\"Vote count\")\n",
    "plt.ylabel(\"Number of movies\")\n",
    "plt.show()"
   ]
  },
  {
   "cell_type": "code",
   "execution_count": 26,
   "metadata": {
    "pycharm": {
     "name": "#%%\n"
    }
   },
   "outputs": [
    {
     "data": {
      "image/png": "[encoded data removed]",
      "text/plain": [
       "<Figure size 1080x432 with 1 Axes>"
      ]
     },
     "metadata": {
      "needs_background": "light"
     },
     "output_type": "display_data"
    },
    {
     "name": "stdout",
     "output_type": "stream",
     "text": [
      "The average movie score is 5.6\n"
     ]
    }
   ],
   "source": [
    "plt.figure(figsize=(15, 6))\n",
    "movies['vote_average'].hist()\n",
    "plt.xlabel(\"Vote count\")\n",
    "plt.ylabel(\"Number of movies\")\n",
    "plt.show()\n",
    "\n",
    "print(f'The average movie score is {movies[\"vote_average\"].mean():.1f}')"
   ]
  },
  {
   "cell_type": "markdown",
   "metadata": {
    "pycharm": {
     "name": "#%% md\n"
    }
   },
   "source": [
    "We can deduce most movies have less than 500 ratings, and the average rating of a movie is 5.8"
   ]
  },
  {
   "cell_type": "markdown",
   "metadata": {
    "pycharm": {
     "name": "#%% md\n"
    }
   },
   "source": [
    "Next we will focus on the users ratings dataset from `movies-dataset/ratings.csv`"
   ]
  },
  {
   "cell_type": "code",
   "execution_count": 27,
   "metadata": {
    "pycharm": {
     "name": "#%%\n"
    }
   },
   "outputs": [
    {
     "data": {
      "text/html": [
       "<div>\n",
       "<style scoped>\n",
       "    .dataframe tbody tr th:only-of-type {\n",
       "        vertical-align: middle;\n",
       "    }\n",
       "\n",
       "    .dataframe tbody tr th {\n",
       "        vertical-align: top;\n",
       "    }\n",
       "\n",
       "    .dataframe thead th {\n",
       "        text-align: right;\n",
       "    }\n",
       "</style>\n",
       "<table border=\"1\" class=\"dataframe\">\n",
       "  <thead>\n",
       "    <tr style=\"text-align: right;\">\n",
       "      <th></th>\n",
       "      <th>userId</th>\n",
       "      <th>movieId</th>\n",
       "      <th>rating</th>\n",
       "    </tr>\n",
       "  </thead>\n",
       "  <tbody>\n",
       "    <tr>\n",
       "      <th>0</th>\n",
       "      <td>1</td>\n",
       "      <td>110</td>\n",
       "      <td>1.0</td>\n",
       "    </tr>\n",
       "    <tr>\n",
       "      <th>1</th>\n",
       "      <td>1</td>\n",
       "      <td>147</td>\n",
       "      <td>4.5</td>\n",
       "    </tr>\n",
       "    <tr>\n",
       "      <th>2</th>\n",
       "      <td>1</td>\n",
       "      <td>858</td>\n",
       "      <td>5.0</td>\n",
       "    </tr>\n",
       "    <tr>\n",
       "      <th>3</th>\n",
       "      <td>1</td>\n",
       "      <td>1221</td>\n",
       "      <td>5.0</td>\n",
       "    </tr>\n",
       "    <tr>\n",
       "      <th>4</th>\n",
       "      <td>1</td>\n",
       "      <td>1246</td>\n",
       "      <td>5.0</td>\n",
       "    </tr>\n",
       "  </tbody>\n",
       "</table>\n",
       "</div>"
      ],
      "text/plain": [
       "   userId  movieId  rating\n",
       "0       1      110     1.0\n",
       "1       1      147     4.5\n",
       "2       1      858     5.0\n",
       "3       1     1221     5.0\n",
       "4       1     1246     5.0"
      ]
     },
     "execution_count": 27,
     "metadata": {},
     "output_type": "execute_result"
    }
   ],
   "source": [
    "ratings = pd.read_csv('movies-dataset/ratings.csv').drop(columns=['timestamp'])\n",
    "ratings.head()"
   ]
  },
  {
   "cell_type": "code",
   "execution_count": 28,
   "metadata": {
    "pycharm": {
     "name": "#%%\n"
    }
   },
   "outputs": [
    {
     "data": {
      "text/plain": [
       "(26024289, 3)"
      ]
     },
     "execution_count": 28,
     "metadata": {},
     "output_type": "execute_result"
    }
   ],
   "source": [
    "ratings.shape"
   ]
  },
  {
   "cell_type": "code",
   "execution_count": 29,
   "metadata": {
    "pycharm": {
     "name": "#%%\n"
    }
   },
   "outputs": [
    {
     "data": {
      "text/plain": [
       "count    270896.000000\n",
       "mean         96.067454\n",
       "std         205.719606\n",
       "min           1.000000\n",
       "25%          15.000000\n",
       "50%          30.000000\n",
       "75%          93.000000\n",
       "max       18276.000000\n",
       "dtype: float64"
      ]
     },
     "execution_count": 29,
     "metadata": {},
     "output_type": "execute_result"
    }
   ],
   "source": [
    "ratings.value_counts('userId').describe()"
   ]
  },
  {
   "cell_type": "markdown",
   "metadata": {
    "pycharm": {
     "name": "#%% md\n"
    }
   },
   "source": [
    "We have 26,024,289 ratings from 270,896 users with an average number of movies rated by a user to be 96."
   ]
  },
  {
   "cell_type": "code",
   "execution_count": 30,
   "metadata": {
    "pycharm": {
     "name": "#%%\n"
    }
   },
   "outputs": [
    {
     "data": {
      "image/png": "[encoded data removed]",
      "text/plain": [
       "<Figure size 576x288 with 1 Axes>"
      ]
     },
     "metadata": {},
     "output_type": "display_data"
    }
   ],
   "source": [
    "sns.set_style(\"darkgrid\")\n",
    "sns.displot(ratings, x=\"rating\", bins=10, height=4, aspect=2)\n",
    "plt.show()"
   ]
  },
  {
   "cell_type": "markdown",
   "metadata": {
    "pycharm": {
     "name": "#%% md\n"
    }
   },
   "source": [
    "Let's look at the most rated movies (by count) and the top rated movies (by score)"
   ]
  },
  {
   "cell_type": "code",
   "execution_count": 31,
   "metadata": {
    "pycharm": {
     "name": "#%%\n"
    }
   },
   "outputs": [],
   "source": [
    "most_rated_movies = ratings.groupby('movieId').size()\\\n",
    "    .reset_index().rename(columns={0: 'count'})\\\n",
    "    .sort_values('count', ascending=False).reset_index(drop=True)\n",
    "top_rated_movies = ratings.groupby('movieId').mean()\\\n",
    "    .drop(columns='userId').reset_index()\\\n",
    "    .sort_values('rating', ascending=False)\\\n",
    "    .reset_index(drop=True)\n",
    "# m=movies.merge(links, left_on='id', right_on='tmdbId')\n",
    "\n",
    "# movies = movies_metadata.merge(credits, on='id').merge(keywords, on='id')\n"
   ]
  },
  {
   "cell_type": "markdown",
   "metadata": {
    "pycharm": {
     "name": "#%% md\n"
    }
   },
   "source": [
    "Trying to merge the `movies` DataFrame with the `most_rated_movies` DataFrame shows a problem:"
   ]
  },
  {
   "cell_type": "code",
   "execution_count": 32,
   "metadata": {
    "pycharm": {
     "name": "#%%\n"
    }
   },
   "outputs": [
    {
     "data": {
      "text/html": [
       "<div>\n",
       "<style scoped>\n",
       "    .dataframe tbody tr th:only-of-type {\n",
       "        vertical-align: middle;\n",
       "    }\n",
       "\n",
       "    .dataframe tbody tr th {\n",
       "        vertical-align: top;\n",
       "    }\n",
       "\n",
       "    .dataframe thead th {\n",
       "        text-align: right;\n",
       "    }\n",
       "</style>\n",
       "<table border=\"1\" class=\"dataframe\">\n",
       "  <thead>\n",
       "    <tr style=\"text-align: right;\">\n",
       "      <th></th>\n",
       "      <th>movieId</th>\n",
       "      <th>title</th>\n",
       "    </tr>\n",
       "  </thead>\n",
       "  <tbody>\n",
       "    <tr>\n",
       "      <th>0</th>\n",
       "      <td>318</td>\n",
       "      <td>The Million Dollar Hotel</td>\n",
       "    </tr>\n",
       "    <tr>\n",
       "      <th>1</th>\n",
       "      <td>296</td>\n",
       "      <td>Terminator 3: Rise of the Machines</td>\n",
       "    </tr>\n",
       "    <tr>\n",
       "      <th>2</th>\n",
       "      <td>593</td>\n",
       "      <td>Solaris</td>\n",
       "    </tr>\n",
       "    <tr>\n",
       "      <th>3</th>\n",
       "      <td>260</td>\n",
       "      <td>The 39 Steps</td>\n",
       "    </tr>\n",
       "    <tr>\n",
       "      <th>4</th>\n",
       "      <td>480</td>\n",
       "      <td>Monsoon Wedding</td>\n",
       "    </tr>\n",
       "    <tr>\n",
       "      <th>5</th>\n",
       "      <td>527</td>\n",
       "      <td>Once Were Warriors</td>\n",
       "    </tr>\n",
       "    <tr>\n",
       "      <th>6</th>\n",
       "      <td>110</td>\n",
       "      <td>Three Colors: Red</td>\n",
       "    </tr>\n",
       "  </tbody>\n",
       "</table>\n",
       "</div>"
      ],
      "text/plain": [
       "   movieId                               title\n",
       "0      318            The Million Dollar Hotel\n",
       "1      296  Terminator 3: Rise of the Machines\n",
       "2      593                             Solaris\n",
       "3      260                        The 39 Steps\n",
       "4      480                     Monsoon Wedding\n",
       "5      527                  Once Were Warriors\n",
       "6      110                   Three Colors: Red"
      ]
     },
     "execution_count": 32,
     "metadata": {},
     "output_type": "execute_result"
    }
   ],
   "source": [
    "most_rated_movies.head(10).merge(movies, left_on='movieId', right_on='id')[[\"movieId\", \"title\"]]"
   ]
  },
  {
   "cell_type": "markdown",
   "metadata": {
    "pycharm": {
     "name": "#%% md\n"
    }
   },
   "source": [
    "I don't recognize those movies, and seeing as those should be the movies with the most ratings this is unlikely.\n",
    "\n",
    "Reading from the Kaggle project's description, I understand that the `id` column in `movies` DataFrame is probably the TMDB ID (the ID from the _The Movies Data Base_) where most info was scraped from and the `movieId` column in `ratings` is an ID from _MovieLens_ database, so let's fix that and make the `ratings` DataFrame have an `id` column like `movies`.\n",
    "\n",
    "To do that we'll need another CSV that contains all the connections between the different IDs, the `links.csv` file"
   ]
  },
  {
   "cell_type": "code",
   "execution_count": 33,
   "metadata": {
    "pycharm": {
     "name": "#%%\n"
    }
   },
   "outputs": [],
   "source": [
    "links = pd.read_csv('movies-dataset/links.csv').dropna().astype({\"tmdbId\": int})"
   ]
  },
  {
   "cell_type": "code",
   "execution_count": 34,
   "metadata": {
    "pycharm": {
     "name": "#%%\n"
    }
   },
   "outputs": [
    {
     "data": {
      "text/html": [
       "<div>\n",
       "<style scoped>\n",
       "    .dataframe tbody tr th:only-of-type {\n",
       "        vertical-align: middle;\n",
       "    }\n",
       "\n",
       "    .dataframe tbody tr th {\n",
       "        vertical-align: top;\n",
       "    }\n",
       "\n",
       "    .dataframe thead th {\n",
       "        text-align: right;\n",
       "    }\n",
       "</style>\n",
       "<table border=\"1\" class=\"dataframe\">\n",
       "  <thead>\n",
       "    <tr style=\"text-align: right;\">\n",
       "      <th></th>\n",
       "      <th>movieId</th>\n",
       "      <th>imdbId</th>\n",
       "      <th>tmdbId</th>\n",
       "    </tr>\n",
       "  </thead>\n",
       "  <tbody>\n",
       "    <tr>\n",
       "      <th>0</th>\n",
       "      <td>1</td>\n",
       "      <td>114709</td>\n",
       "      <td>862</td>\n",
       "    </tr>\n",
       "    <tr>\n",
       "      <th>1</th>\n",
       "      <td>2</td>\n",
       "      <td>113497</td>\n",
       "      <td>8844</td>\n",
       "    </tr>\n",
       "    <tr>\n",
       "      <th>2</th>\n",
       "      <td>3</td>\n",
       "      <td>113228</td>\n",
       "      <td>15602</td>\n",
       "    </tr>\n",
       "    <tr>\n",
       "      <th>3</th>\n",
       "      <td>4</td>\n",
       "      <td>114885</td>\n",
       "      <td>31357</td>\n",
       "    </tr>\n",
       "    <tr>\n",
       "      <th>4</th>\n",
       "      <td>5</td>\n",
       "      <td>113041</td>\n",
       "      <td>11862</td>\n",
       "    </tr>\n",
       "  </tbody>\n",
       "</table>\n",
       "</div>"
      ],
      "text/plain": [
       "   movieId  imdbId  tmdbId\n",
       "0        1  114709     862\n",
       "1        2  113497    8844\n",
       "2        3  113228   15602\n",
       "3        4  114885   31357\n",
       "4        5  113041   11862"
      ]
     },
     "execution_count": 34,
     "metadata": {},
     "output_type": "execute_result"
    }
   ],
   "source": [
    "links.head()"
   ]
  },
  {
   "cell_type": "code",
   "execution_count": 35,
   "metadata": {
    "pycharm": {
     "name": "#%%\n"
    }
   },
   "outputs": [],
   "source": [
    "ratings = ratings.merge(links, on='movieId')[[\"userId\", \"tmdbId\", \"rating\"]].rename(columns={\"tmdbId\": \"movieId\"})"
   ]
  },
  {
   "cell_type": "markdown",
   "metadata": {
    "pycharm": {
     "name": "#%% md\n"
    }
   },
   "source": [
    "Now, let's try to see the most rated movies' title"
   ]
  },
  {
   "cell_type": "code",
   "execution_count": 36,
   "metadata": {
    "pycharm": {
     "name": "#%%\n"
    }
   },
   "outputs": [],
   "source": [
    "most_rated_movies = ratings.groupby('movieId').size()\\\n",
    "    .reset_index().rename(columns={0: 'count'})\\\n",
    "    .sort_values('count', ascending=False).reset_index(drop=True)\n",
    "top_rated_movies = ratings.groupby('movieId').mean()\\\n",
    "    .drop(columns='userId').reset_index()\\\n",
    "    .sort_values('rating', ascending=False)\\\n",
    "    .reset_index(drop=True)"
   ]
  },
  {
   "cell_type": "code",
   "execution_count": 37,
   "metadata": {
    "pycharm": {
     "name": "#%%\n"
    }
   },
   "outputs": [
    {
     "data": {
      "text/html": [
       "<div>\n",
       "<style scoped>\n",
       "    .dataframe tbody tr th:only-of-type {\n",
       "        vertical-align: middle;\n",
       "    }\n",
       "\n",
       "    .dataframe tbody tr th {\n",
       "        vertical-align: top;\n",
       "    }\n",
       "\n",
       "    .dataframe thead th {\n",
       "        text-align: right;\n",
       "    }\n",
       "</style>\n",
       "<table border=\"1\" class=\"dataframe\">\n",
       "  <thead>\n",
       "    <tr style=\"text-align: right;\">\n",
       "      <th></th>\n",
       "      <th>id</th>\n",
       "      <th>title</th>\n",
       "      <th>count</th>\n",
       "    </tr>\n",
       "  </thead>\n",
       "  <tbody>\n",
       "    <tr>\n",
       "      <th>0</th>\n",
       "      <td>13</td>\n",
       "      <td>Forrest Gump</td>\n",
       "      <td>91921</td>\n",
       "    </tr>\n",
       "    <tr>\n",
       "      <th>1</th>\n",
       "      <td>278</td>\n",
       "      <td>The Shawshank Redemption</td>\n",
       "      <td>91082</td>\n",
       "    </tr>\n",
       "    <tr>\n",
       "      <th>2</th>\n",
       "      <td>680</td>\n",
       "      <td>Pulp Fiction</td>\n",
       "      <td>87901</td>\n",
       "    </tr>\n",
       "    <tr>\n",
       "      <th>3</th>\n",
       "      <td>274</td>\n",
       "      <td>The Silence of the Lambs</td>\n",
       "      <td>84078</td>\n",
       "    </tr>\n",
       "    <tr>\n",
       "      <th>4</th>\n",
       "      <td>603</td>\n",
       "      <td>The Matrix</td>\n",
       "      <td>77960</td>\n",
       "    </tr>\n",
       "    <tr>\n",
       "      <th>5</th>\n",
       "      <td>11</td>\n",
       "      <td>Star Wars</td>\n",
       "      <td>77045</td>\n",
       "    </tr>\n",
       "    <tr>\n",
       "      <th>6</th>\n",
       "      <td>329</td>\n",
       "      <td>Jurassic Park</td>\n",
       "      <td>74355</td>\n",
       "    </tr>\n",
       "    <tr>\n",
       "      <th>7</th>\n",
       "      <td>424</td>\n",
       "      <td>Schindler's List</td>\n",
       "      <td>67662</td>\n",
       "    </tr>\n",
       "    <tr>\n",
       "      <th>8</th>\n",
       "      <td>197</td>\n",
       "      <td>Braveheart</td>\n",
       "      <td>66512</td>\n",
       "    </tr>\n",
       "    <tr>\n",
       "      <th>9</th>\n",
       "      <td>862</td>\n",
       "      <td>Toy Story</td>\n",
       "      <td>66008</td>\n",
       "    </tr>\n",
       "  </tbody>\n",
       "</table>\n",
       "</div>"
      ],
      "text/plain": [
       "    id                     title  count\n",
       "0   13              Forrest Gump  91921\n",
       "1  278  The Shawshank Redemption  91082\n",
       "2  680              Pulp Fiction  87901\n",
       "3  274  The Silence of the Lambs  84078\n",
       "4  603                The Matrix  77960\n",
       "5   11                 Star Wars  77045\n",
       "6  329             Jurassic Park  74355\n",
       "7  424          Schindler's List  67662\n",
       "8  197                Braveheart  66512\n",
       "9  862                 Toy Story  66008"
      ]
     },
     "execution_count": 37,
     "metadata": {},
     "output_type": "execute_result"
    }
   ],
   "source": [
    "most_rated_movies.head(10).merge(movies, left_on='movieId', right_on='id')[[\"id\", \"title\", \"count\"]]"
   ]
  },
  {
   "cell_type": "code",
   "execution_count": 38,
   "metadata": {
    "pycharm": {
     "name": "#%%\n"
    }
   },
   "outputs": [
    {
     "data": {
      "text/html": [
       "<div>\n",
       "<style scoped>\n",
       "    .dataframe tbody tr th:only-of-type {\n",
       "        vertical-align: middle;\n",
       "    }\n",
       "\n",
       "    .dataframe tbody tr th {\n",
       "        vertical-align: top;\n",
       "    }\n",
       "\n",
       "    .dataframe thead th {\n",
       "        text-align: right;\n",
       "    }\n",
       "</style>\n",
       "<table border=\"1\" class=\"dataframe\">\n",
       "  <thead>\n",
       "    <tr style=\"text-align: right;\">\n",
       "      <th></th>\n",
       "      <th>id</th>\n",
       "      <th>title</th>\n",
       "      <th>rating</th>\n",
       "    </tr>\n",
       "  </thead>\n",
       "  <tbody>\n",
       "    <tr>\n",
       "      <th>0</th>\n",
       "      <td>258113</td>\n",
       "      <td>Assepoester: Een Modern Sprookje</td>\n",
       "      <td>5.0</td>\n",
       "    </tr>\n",
       "    <tr>\n",
       "      <th>1</th>\n",
       "      <td>54583</td>\n",
       "      <td>Hollywood North</td>\n",
       "      <td>5.0</td>\n",
       "    </tr>\n",
       "    <tr>\n",
       "      <th>2</th>\n",
       "      <td>262831</td>\n",
       "      <td>Banana Paradise</td>\n",
       "      <td>5.0</td>\n",
       "    </tr>\n",
       "    <tr>\n",
       "      <th>3</th>\n",
       "      <td>262522</td>\n",
       "      <td>Poison</td>\n",
       "      <td>5.0</td>\n",
       "    </tr>\n",
       "    <tr>\n",
       "      <th>4</th>\n",
       "      <td>159550</td>\n",
       "      <td>The Last Brickmaker in America</td>\n",
       "      <td>5.0</td>\n",
       "    </tr>\n",
       "    <tr>\n",
       "      <th>5</th>\n",
       "      <td>69161</td>\n",
       "      <td>Heroes Shed No Tears</td>\n",
       "      <td>5.0</td>\n",
       "    </tr>\n",
       "    <tr>\n",
       "      <th>6</th>\n",
       "      <td>46121</td>\n",
       "      <td>The Capture of the Green River Killer</td>\n",
       "      <td>5.0</td>\n",
       "    </tr>\n",
       "    <tr>\n",
       "      <th>7</th>\n",
       "      <td>159763</td>\n",
       "      <td>A Nanny's Revenge</td>\n",
       "      <td>5.0</td>\n",
       "    </tr>\n",
       "    <tr>\n",
       "      <th>8</th>\n",
       "      <td>159898</td>\n",
       "      <td>The Boxing Cats (Prof. Welton's)</td>\n",
       "      <td>5.0</td>\n",
       "    </tr>\n",
       "    <tr>\n",
       "      <th>9</th>\n",
       "      <td>159910</td>\n",
       "      <td>Hadj Cheriff</td>\n",
       "      <td>5.0</td>\n",
       "    </tr>\n",
       "  </tbody>\n",
       "</table>\n",
       "</div>"
      ],
      "text/plain": [
       "       id                                  title  rating\n",
       "0  258113       Assepoester: Een Modern Sprookje     5.0\n",
       "1   54583                        Hollywood North     5.0\n",
       "2  262831                        Banana Paradise     5.0\n",
       "3  262522                                 Poison     5.0\n",
       "4  159550         The Last Brickmaker in America     5.0\n",
       "5   69161                   Heroes Shed No Tears     5.0\n",
       "6   46121  The Capture of the Green River Killer     5.0\n",
       "7  159763                      A Nanny's Revenge     5.0\n",
       "8  159898       The Boxing Cats (Prof. Welton's)     5.0\n",
       "9  159910                           Hadj Cheriff     5.0"
      ]
     },
     "execution_count": 38,
     "metadata": {},
     "output_type": "execute_result"
    }
   ],
   "source": [
    "top_rated_movies.head(10).merge(movies, left_on='movieId', right_on='id')[[\"id\", \"title\", \"rating\"]]"
   ]
  },
  {
   "cell_type": "markdown",
   "metadata": {
    "pycharm": {
     "name": "#%% md\n"
    }
   },
   "source": [
    "This list of movies makes more sense!"
   ]
  },
  {
   "cell_type": "code",
   "execution_count": 39,
   "metadata": {},
   "outputs": [],
   "source": [
    "# TODO: Take more EDA ideas from https://www.kaggle.com/code/rounakbanik/the-story-of-film/notebook"
   ]
  },
  {
   "cell_type": "markdown",
   "metadata": {
    "pycharm": {
     "name": "#%% md\n"
    }
   },
   "source": [
    "## Description Words\n",
    "\n",
    "For each movie we the `keywords` and the `overview` columns that contain actual text that can help us understand the movie better than just very general labels like `genres`."
   ]
  },
  {
   "cell_type": "code",
   "execution_count": 40,
   "metadata": {
    "pycharm": {
     "name": "#%%\n"
    }
   },
   "outputs": [],
   "source": [
    "keywords_count_by_movie = movies[\"keywords\"].apply(lambda keywords: len(keywords)).sort_values().to_frame()"
   ]
  },
  {
   "cell_type": "code",
   "execution_count": 41,
   "metadata": {
    "pycharm": {
     "name": "#%%\n"
    }
   },
   "outputs": [
    {
     "data": {
      "image/png": "[encoded data removed]",
      "text/plain": [
       "<Figure size 1440x360 with 2 Axes>"
      ]
     },
     "metadata": {},
     "output_type": "display_data"
    }
   ],
   "source": [
    "plt.figure(figsize=(20, 5))\n",
    "\n",
    "ax1 = plt.subplot(121)\n",
    "sns.histplot(data=keywords_count_by_movie, x=\"keywords\", binwidth=2, ax=ax1)\n",
    "ax1.title.set_text(\"Keywords Count\")\n",
    "ax1.set_ylabel(\"# of movies\")\n",
    "\n",
    "ax2 = plt.subplot(122)\n",
    "keywords_bins_cut = pd.cut(keywords_count_by_movie[\"keywords\"], bins=[-1, 0, 5, 10, 20, 200], labels=[\"0\", \"1-5\", \"6-10\", \"11-20\", \"10+\"])\n",
    "keywords_bins = keywords_bins_cut.to_frame().groupby('keywords').size()\n",
    "keywords_bins.plot.pie(autopct=\"%1.1f%%\", ax=ax2)\n",
    "ax2.title.set_text(\"Keywords Count\")\n",
    "ax2.set_ylabel('# of movies')\n",
    "\n",
    "plt.show()"
   ]
  },
  {
   "cell_type": "markdown",
   "metadata": {
    "pycharm": {
     "name": "#%% md\n"
    }
   },
   "source": [
    "So for most movies we don't have any keywords at all, and for those that do have almost all have less than 10 keywords describing them.\n",
    "\n",
    "Most common keywords:"
   ]
  },
  {
   "cell_type": "code",
   "execution_count": 42,
   "metadata": {
    "pycharm": {
     "name": "#%%\n"
    }
   },
   "outputs": [
    {
     "data": {
      "image/png": "[encoded data removed]",
      "text/plain": [
       "<Figure size 864x432 with 1 Axes>"
      ]
     },
     "metadata": {},
     "output_type": "display_data"
    }
   ],
   "source": [
    "from wordcloud import WordCloud\n",
    "\n",
    "keywords_freq = movies[\"keywords\"].explode().dropna().value_counts()\n",
    "\n",
    "wc = WordCloud(background_color=\"white\", max_words=100, width=800, height=400)\n",
    "wc.generate_from_frequencies(keywords_freq.to_dict())\n",
    "\n",
    "plt.figure(figsize=(12, 6))\n",
    "plt.imshow(wc, interpolation=\"bilinear\")\n",
    "plt.axis(\"off\")\n",
    "\n",
    "plt.show()"
   ]
  },
  {
   "cell_type": "code",
   "execution_count": 43,
   "metadata": {
    "pycharm": {
     "name": "#%%\n"
    }
   },
   "outputs": [
    {
     "data": {
      "image/png": "[encoded data removed]",
      "text/plain": [
       "<Figure size 864x432 with 1 Axes>"
      ]
     },
     "metadata": {},
     "output_type": "display_data"
    }
   ],
   "source": [
    "most_freq_keywords = keywords_freq.to_frame(\"freq\").sort_values(by=\"freq\", ascending=False).head(16)\n",
    "\n",
    "plt.figure(figsize=(12, 6))\n",
    "sns.barplot(data=most_freq_keywords, x=\"freq\", y=most_freq_keywords.index, orient=\"h\")\n",
    "plt.show()"
   ]
  },
  {
   "cell_type": "code",
   "execution_count": 44,
   "metadata": {
    "pycharm": {
     "name": "#%%\n"
    }
   },
   "outputs": [
    {
     "data": {
      "image/png": "[encoded data removed]",
      "text/plain": [
       "<Figure size 1440x360 with 1 Axes>"
      ]
     },
     "metadata": {},
     "output_type": "display_data"
    }
   ],
   "source": [
    "overview_word_count = movies[\"overview\"].fillna(\"\")\\\n",
    "    .apply(lambda overview: 0 if len(overview) == 0 else len(overview.split(\" \")))\\\n",
    "    .to_frame()\\\n",
    "    .rename(columns={'overview': 'word_count'})\n",
    "overview_word_count\n",
    "plt.figure(figsize=(20, 5))\n",
    "\n",
    "sns.histplot(data=overview_word_count, x=\"word_count\", binwidth=2)\n",
    "plt.title(\"Overview Word Count\")\n",
    "plt.ylabel(\"# of movies\")\n",
    "plt.xlabel(\"Word count\")\n",
    "\n",
    "plt.show()"
   ]
  },
  {
   "cell_type": "markdown",
   "metadata": {
    "pycharm": {
     "name": "#%% md\n"
    }
   },
   "source": [
    "## Finding Correlations"
   ]
  },
  {
   "cell_type": "markdown",
   "metadata": {
    "pycharm": {
     "name": "#%% md\n"
    }
   },
   "source": [
    "It can be interesting to try and find correlation between some parameters to the movie's vote average.  \n",
    "\n",
    "Let's start by investigating the genre"
   ]
  },
  {
   "cell_type": "code",
   "execution_count": 45,
   "metadata": {
    "pycharm": {
     "name": "#%%\n"
    }
   },
   "outputs": [
    {
     "data": {
      "image/png": "[encoded data removed]",
      "text/plain": [
       "<Figure size 1080x576 with 1 Axes>"
      ]
     },
     "metadata": {},
     "output_type": "display_data"
    }
   ],
   "source": [
    "movies_in_top_genres = movies_genres[movies_genres['genre'].isin(top_genres[:10])]\n",
    "plt.figure(figsize=(15,8))\n",
    "sns.violinplot(x=\"genre\", y=\"vote_average\", data=movies_in_top_genres, order=top_genres[:10])\n",
    "plt.show()"
   ]
  },
  {
   "cell_type": "markdown",
   "metadata": {
    "pycharm": {
     "name": "#%% md\n"
    }
   },
   "source": [
    "We can see that the average rating and its variance is consistent within the top 10 genres, with \"Documentary\" and \"Science Fiction\" being the only exception, they are more contreversial in comparsing to the rest of the genres."
   ]
  },
  {
   "cell_type": "markdown",
   "metadata": {
    "pycharm": {
     "name": "#%% md\n"
    }
   },
   "source": [
    "# Building a Recommendation System\n",
    "\n",
    "## Recommendation Systems Types\n",
    "\n",
    "A recommendation system is a type of information filtering system that seeks to predict the \"rating\" or \"preference\" a user would give to an item.  \n",
    "There are 2 common types of recommendations systems _content based_ and _collaborative based_.\n",
    "\n",
    "A __content based__ recommendations system uses the description of items and the user's past to recommend items the user might like. Those kind of systems rely on a well tagged dataset of items and the user's preferences\n",
    "\n",
    "A __collaborative based__ recommendations system doesn't use data on the items at all, rather relying on finding similar interests between different users.  \n",
    "This is based on the assumption that people who agreed in the past will agree in the future, and that they will like simimlar kinds of items as they liked in the past.The importance of analyzing users' preferences is key, with data collection being collected explicitly (likes, dislikes, ratings) and implicitly (viewing times).\n",
    "\n",
    "Most recommendations systems feature a hybrid approch of those two methods.\n",
    "\n",
    "I want to look at the problem from a number of different point of views, so I'll try to create multiple recommendation systems that each function in a different way, and in the end combine all of them."
   ]
  },
  {
   "cell_type": "markdown",
   "metadata": {
    "pycharm": {
     "name": "#%% md\n"
    }
   },
   "source": [
    "## First Try - A Content Based Recommendation System\n",
    "\n",
    "For a content based recommendation system, we need to find similarities between movies based on properties that **we** think are key properties.\n",
    "\n",
    "We will focus on:\n",
    "* Genres\n",
    "* Original language\n",
    "* Keywords\n",
    "* Overview\n",
    "* Crew\n",
    "    * Director\n",
    "* Cast\n",
    "    * Top 5 actors\n",
    "\n",
    "The properties __genres, original language, keywords, crew and cast__ are unique identifiers, our theory is that movies that contain the same such properties will be a good fit for our users.  \n",
    "But the __overview__ property is different in that it's a text based description of the movie, so there won't be two movies with the same __overview__, so for the __overview__ propery will take a different approach than the other properties."
   ]
  },
  {
   "cell_type": "markdown",
   "metadata": {},
   "source": [
    "### Genres, Original language, Keywords, Director and Top Actors"
   ]
  },
  {
   "cell_type": "markdown",
   "metadata": {
    "pycharm": {
     "name": "#%% md\n"
    }
   },
   "source": [
    "Let's take a look at these properties, and remove movies that's missing any of these properties:"
   ]
  },
  {
   "cell_type": "code",
   "execution_count": 46,
   "metadata": {
    "pycharm": {
     "name": "#%%\n"
    }
   },
   "outputs": [
    {
     "data": {
      "text/html": [
       "<div>\n",
       "<style scoped>\n",
       "    .dataframe tbody tr th:only-of-type {\n",
       "        vertical-align: middle;\n",
       "    }\n",
       "\n",
       "    .dataframe tbody tr th {\n",
       "        vertical-align: top;\n",
       "    }\n",
       "\n",
       "    .dataframe thead th {\n",
       "        text-align: right;\n",
       "    }\n",
       "</style>\n",
       "<table border=\"1\" class=\"dataframe\">\n",
       "  <thead>\n",
       "    <tr style=\"text-align: right;\">\n",
       "      <th></th>\n",
       "      <th>title</th>\n",
       "      <th>original_language</th>\n",
       "      <th>genres</th>\n",
       "      <th>director</th>\n",
       "      <th>top_actors</th>\n",
       "      <th>keywords</th>\n",
       "    </tr>\n",
       "  </thead>\n",
       "  <tbody>\n",
       "    <tr>\n",
       "      <th>0</th>\n",
       "      <td>Toy Story</td>\n",
       "      <td>en</td>\n",
       "      <td>[Animation, Comedy, Family]</td>\n",
       "      <td>John Lasseter</td>\n",
       "      <td>[Tom Hanks, Tim Allen, Don Rickles, Jim Varney...</td>\n",
       "      <td>[jealousy, toy, boy, friendship, friends, riva...</td>\n",
       "    </tr>\n",
       "    <tr>\n",
       "      <th>1</th>\n",
       "      <td>Jumanji</td>\n",
       "      <td>en</td>\n",
       "      <td>[Adventure, Fantasy, Family]</td>\n",
       "      <td>Joe Johnston</td>\n",
       "      <td>[Robin Williams, Jonathan Hyde, Kirsten Dunst,...</td>\n",
       "      <td>[board game, disappearance, based on children'...</td>\n",
       "    </tr>\n",
       "    <tr>\n",
       "      <th>2</th>\n",
       "      <td>Grumpier Old Men</td>\n",
       "      <td>en</td>\n",
       "      <td>[Romance, Comedy]</td>\n",
       "      <td>Howard Deutch</td>\n",
       "      <td>[Walter Matthau, Jack Lemmon, Ann-Margret, Sop...</td>\n",
       "      <td>[fishing, best friend, duringcreditsstinger, o...</td>\n",
       "    </tr>\n",
       "    <tr>\n",
       "      <th>3</th>\n",
       "      <td>Waiting to Exhale</td>\n",
       "      <td>en</td>\n",
       "      <td>[Comedy, Drama, Romance]</td>\n",
       "      <td>Forest Whitaker</td>\n",
       "      <td>[Whitney Houston, Angela Bassett, Loretta Devi...</td>\n",
       "      <td>[based on novel, interracial relationship, sin...</td>\n",
       "    </tr>\n",
       "    <tr>\n",
       "      <th>4</th>\n",
       "      <td>Father of the Bride Part II</td>\n",
       "      <td>en</td>\n",
       "      <td>[Comedy]</td>\n",
       "      <td>Charles Shyer</td>\n",
       "      <td>[Steve Martin, Diane Keaton, Martin Short, Kim...</td>\n",
       "      <td>[baby, midlife crisis, confidence, aging, daug...</td>\n",
       "    </tr>\n",
       "  </tbody>\n",
       "</table>\n",
       "</div>"
      ],
      "text/plain": [
       "                         title original_language  \\\n",
       "0                    Toy Story                en   \n",
       "1                      Jumanji                en   \n",
       "2             Grumpier Old Men                en   \n",
       "3            Waiting to Exhale                en   \n",
       "4  Father of the Bride Part II                en   \n",
       "\n",
       "                         genres         director  \\\n",
       "0   [Animation, Comedy, Family]    John Lasseter   \n",
       "1  [Adventure, Fantasy, Family]     Joe Johnston   \n",
       "2             [Romance, Comedy]    Howard Deutch   \n",
       "3      [Comedy, Drama, Romance]  Forest Whitaker   \n",
       "4                      [Comedy]    Charles Shyer   \n",
       "\n",
       "                                          top_actors  \\\n",
       "0  [Tom Hanks, Tim Allen, Don Rickles, Jim Varney...   \n",
       "1  [Robin Williams, Jonathan Hyde, Kirsten Dunst,...   \n",
       "2  [Walter Matthau, Jack Lemmon, Ann-Margret, Sop...   \n",
       "3  [Whitney Houston, Angela Bassett, Loretta Devi...   \n",
       "4  [Steve Martin, Diane Keaton, Martin Short, Kim...   \n",
       "\n",
       "                                            keywords  \n",
       "0  [jealousy, toy, boy, friendship, friends, riva...  \n",
       "1  [board game, disappearance, based on children'...  \n",
       "2  [fishing, best friend, duringcreditsstinger, o...  \n",
       "3  [based on novel, interracial relationship, sin...  \n",
       "4  [baby, midlife crisis, confidence, aging, daug...  "
      ]
     },
     "execution_count": 46,
     "metadata": {},
     "output_type": "execute_result"
    }
   ],
   "source": [
    "properties_columns = [\"original_language\", \"genres\", \"director\", \"top_actors\", \"keywords\"]\n",
    "movies[[\"title\", *properties_columns]].head()"
   ]
  },
  {
   "cell_type": "code",
   "execution_count": 47,
   "metadata": {
    "pycharm": {
     "name": "#%%\n"
    }
   },
   "outputs": [
    {
     "name": "stdout",
     "output_type": "stream",
     "text": [
      "We can recommend 19574 movies\n"
     ]
    }
   ],
   "source": [
    "filtered_movies = movies[movies.apply(lambda row: len(row['keywords']) >= 3 and len(row['top_actors']) >= 1, axis=1)]\\\n",
    "    .dropna(subset=[\"director\"])\\\n",
    "    .fillna({\"original_language\": \"\"})\n",
    "\n",
    "print(f'We can recommend {filtered_movies.shape[0]} movies')"
   ]
  },
  {
   "cell_type": "markdown",
   "metadata": {},
   "source": [
    "We will use the **Bag of Words** technique to vectorize each movie, which means we need to represent each movie using one sentence.\n",
    "\n",
    "Columns `keywords` and `top_actors` that cotains lists of strings might have strings with multiple words, for example, the `top_actors` column might contain `[\"Tom Hanks\", \"George Kelly\", \"Tom Holloway\"]`, so the final string representing the movie will be `\".. Tom Hanks George Kelly Tom Holloway ..\"`, and so we won't be able to differentiate between Tom Hanks and Tom Holloway, to fix this we'll remove spaces between words in the same string."
   ]
  },
  {
   "cell_type": "code",
   "execution_count": 48,
   "metadata": {
    "pycharm": {
     "name": "#%%\n"
    }
   },
   "outputs": [],
   "source": [
    "def build_plain_properties_corpus(movies_df):\n",
    "    corpus = []\n",
    "\n",
    "    for _, m in movies_df.iterrows():\n",
    "        movie_prop = \"\"\n",
    "        for property_column in properties_columns:\n",
    "            value = m[property_column]\n",
    "            if isinstance(value, list):\n",
    "                # We'll remove all inner spaces to differentiate between i.e. \"Tom Holloway\" and \"Tom Hanks\"\n",
    "                no_spaces_value = [item.replace(' ', '') for item in value]\n",
    "                movie_prop += \" \".join(no_spaces_value)\n",
    "            else:\n",
    "                movie_prop += value.replace(' ', '')\n",
    "            movie_prop += \" \"\n",
    "        corpus.append(movie_prop)\n",
    "\n",
    "    return corpus"
   ]
  },
  {
   "cell_type": "markdown",
   "metadata": {
    "pycharm": {
     "name": "#%% md\n"
    }
   },
   "source": [
    "For example, for the movie \"Forrest Gump\":"
   ]
  },
  {
   "cell_type": "code",
   "execution_count": 49,
   "metadata": {
    "pycharm": {
     "name": "#%%\n"
    }
   },
   "outputs": [
    {
     "data": {
      "text/html": [
       "<div>\n",
       "<style scoped>\n",
       "    .dataframe tbody tr th:only-of-type {\n",
       "        vertical-align: middle;\n",
       "    }\n",
       "\n",
       "    .dataframe tbody tr th {\n",
       "        vertical-align: top;\n",
       "    }\n",
       "\n",
       "    .dataframe thead th {\n",
       "        text-align: right;\n",
       "    }\n",
       "</style>\n",
       "<table border=\"1\" class=\"dataframe\">\n",
       "  <thead>\n",
       "    <tr style=\"text-align: right;\">\n",
       "      <th></th>\n",
       "      <th>title</th>\n",
       "      <th>original_language</th>\n",
       "      <th>genres</th>\n",
       "      <th>director</th>\n",
       "      <th>top_actors</th>\n",
       "      <th>keywords</th>\n",
       "    </tr>\n",
       "  </thead>\n",
       "  <tbody>\n",
       "    <tr>\n",
       "      <th>351</th>\n",
       "      <td>Forrest Gump</td>\n",
       "      <td>en</td>\n",
       "      <td>[Comedy, Drama, Romance]</td>\n",
       "      <td>Robert Zemeckis</td>\n",
       "      <td>[Tom Hanks, Robin Wright, Gary Sinise, Mykelti...</td>\n",
       "      <td>[vietnam veteran, hippie, mentally disabled, r...</td>\n",
       "    </tr>\n",
       "  </tbody>\n",
       "</table>\n",
       "</div>"
      ],
      "text/plain": [
       "            title original_language                    genres  \\\n",
       "351  Forrest Gump                en  [Comedy, Drama, Romance]   \n",
       "\n",
       "            director                                         top_actors  \\\n",
       "351  Robert Zemeckis  [Tom Hanks, Robin Wright, Gary Sinise, Mykelti...   \n",
       "\n",
       "                                              keywords  \n",
       "351  [vietnam veteran, hippie, mentally disabled, r...  "
      ]
     },
     "execution_count": 49,
     "metadata": {},
     "output_type": "execute_result"
    }
   ],
   "source": [
    "movies[movies['title'] == 'Forrest Gump'][[\"title\", *properties_columns]]"
   ]
  },
  {
   "cell_type": "markdown",
   "metadata": {
    "pycharm": {
     "name": "#%% md\n"
    }
   },
   "source": [
    "We'll create the following string that represents it:\n",
    "\n",
    "```\n",
    "en Comedy Drama Romance RobertZemeckis TomHanks RobinWright GarySinise MykeltiWilliamson SallyField vietnamveteran hippie mentallydisabled running basedonnovel vietnam vietnamwar friendship love familyrelationships bully mothersonrelationship military hugging shrimping woundedsoldier flashback parkbench amputee\n",
    "```"
   ]
  },
  {
   "cell_type": "markdown",
   "metadata": {
    "pycharm": {
     "name": "#%% md\n"
    }
   },
   "source": [
    "**Vectorization Method**\n",
    "\n",
    "The strings we're dealing with don't have the characteristics of actual documents, they don't have semantic meaning and they don't contain stop words like \"the\", \"and\" and so on, these strings are just text representation of the movies' properties, and as such choosing a simple method of feature extraction such as `HashingVectorizer` is fitting."
   ]
  },
  {
   "cell_type": "code",
   "execution_count": 50,
   "metadata": {},
   "outputs": [],
   "source": [
    "from sklearn.feature_extraction.text import HashingVectorizer\n",
    "from sklearn.metrics.pairwise import linear_kernel\n",
    "\n",
    "class PlainPropertiesRecommender:\n",
    "    def __init__(self, movies_df):\n",
    "        self.movies_df = movies_df\n",
    "        self._corpus = build_plain_properties_corpus(self.movies_df)\n",
    "        transformer = HashingVectorizer(stop_words=\"english\", ngram_range=(1, 2))\n",
    "        self._tfidf_matrix = transformer.fit_transform(self._corpus)\n",
    "\n",
    "    def recommend(self, movie_title: str, top_n: int = 5):\n",
    "        # We have to reindex the movies DataFrame because later we use indexing into the matrix\n",
    "        reindexed_movies = self.movies_df.reset_index(drop=True)\n",
    "\n",
    "        ind = reindexed_movies[reindexed_movies[\"title\"] == movie_title].index.item()\n",
    "\n",
    "        # Instead of building a matrix of similarities between all movies, we just compare\n",
    "        # the movie we're interested in with all the movies - this way we don't need too much memory\n",
    "        sim = linear_kernel(np.asarray(self._tfidf_matrix[ind].todense()), self._tfidf_matrix)\n",
    "\n",
    "        m_sim = sim[0]\n",
    "        reindexed_movies[\"score\"] = m_sim\n",
    "\n",
    "        top_sims = m_sim.argsort()[-1 - top_n:-1]\n",
    "        top_sims = np.flip(top_sims)\n",
    "\n",
    "        return reindexed_movies.iloc[top_sims]\n",
    "\n",
    "plain_props_recommender = PlainPropertiesRecommender(filtered_movies)"
   ]
  },
  {
   "cell_type": "markdown",
   "metadata": {
    "pycharm": {
     "name": "#%% md\n"
    }
   },
   "source": [
    "Now let's see some results!"
   ]
  },
  {
   "cell_type": "code",
   "execution_count": 51,
   "metadata": {
    "pycharm": {
     "name": "#%%\n"
    }
   },
   "outputs": [
    {
     "data": {
      "text/html": [
       "<div>\n",
       "<style scoped>\n",
       "    .dataframe tbody tr th:only-of-type {\n",
       "        vertical-align: middle;\n",
       "    }\n",
       "\n",
       "    .dataframe tbody tr th {\n",
       "        vertical-align: top;\n",
       "    }\n",
       "\n",
       "    .dataframe thead th {\n",
       "        text-align: right;\n",
       "    }\n",
       "</style>\n",
       "<table border=\"1\" class=\"dataframe\">\n",
       "  <thead>\n",
       "    <tr style=\"text-align: right;\">\n",
       "      <th></th>\n",
       "      <th>id</th>\n",
       "      <th>title</th>\n",
       "      <th>original_language</th>\n",
       "      <th>genres</th>\n",
       "      <th>director</th>\n",
       "      <th>top_actors</th>\n",
       "      <th>keywords</th>\n",
       "    </tr>\n",
       "  </thead>\n",
       "  <tbody>\n",
       "    <tr>\n",
       "      <th>14638</th>\n",
       "      <td>273248</td>\n",
       "      <td>The Hateful Eight</td>\n",
       "      <td>en</td>\n",
       "      <td>[Crime, Drama, Mystery, Western]</td>\n",
       "      <td>Quentin Tarantino</td>\n",
       "      <td>[Samuel L. Jackson, Kurt Russell, Jennifer Jas...</td>\n",
       "      <td>[bounty hunter, wyoming, mountain, narration, ...</td>\n",
       "    </tr>\n",
       "    <tr>\n",
       "      <th>10093</th>\n",
       "      <td>37080</td>\n",
       "      <td>Mother and Child</td>\n",
       "      <td>en</td>\n",
       "      <td>[Drama, Romance]</td>\n",
       "      <td>Rodrigo García</td>\n",
       "      <td>[Naomi Watts, Samuel L. Jackson, Annette Benin...</td>\n",
       "      <td>[adoptive mother, nymphomaniac, mother daughte...</td>\n",
       "    </tr>\n",
       "    <tr>\n",
       "      <th>9957</th>\n",
       "      <td>42941</td>\n",
       "      <td>30 Days of Night: Dark Days</td>\n",
       "      <td>en</td>\n",
       "      <td>[Horror, Thriller]</td>\n",
       "      <td>Ben Ketai</td>\n",
       "      <td>[Kiele Sanchez, Mia Kirshner, Diora Baird, Rhy...</td>\n",
       "      <td>[hero, vampire, supernatural, revenge, rivalry...</td>\n",
       "    </tr>\n",
       "    <tr>\n",
       "      <th>7725</th>\n",
       "      <td>7874</td>\n",
       "      <td>Black Snake Moan</td>\n",
       "      <td>en</td>\n",
       "      <td>[Drama]</td>\n",
       "      <td>Craig Brewer</td>\n",
       "      <td>[Samuel L. Jackson, Christina Ricci, Justin Ti...</td>\n",
       "      <td>[southern usa, blues, military service, indepe...</td>\n",
       "    </tr>\n",
       "    <tr>\n",
       "      <th>18002</th>\n",
       "      <td>283366</td>\n",
       "      <td>Miss Peregrine's Home for Peculiar Children</td>\n",
       "      <td>en</td>\n",
       "      <td>[Drama, Fantasy, Adventure]</td>\n",
       "      <td>Tim Burton</td>\n",
       "      <td>[Eva Green, Asa Butterfield, Samuel L. Jackson...</td>\n",
       "      <td>[time travel, orphan, superpower]</td>\n",
       "    </tr>\n",
       "  </tbody>\n",
       "</table>\n",
       "</div>"
      ],
      "text/plain": [
       "           id                                        title original_language  \\\n",
       "14638  273248                            The Hateful Eight                en   \n",
       "10093   37080                             Mother and Child                en   \n",
       "9957    42941                  30 Days of Night: Dark Days                en   \n",
       "7725     7874                             Black Snake Moan                en   \n",
       "18002  283366  Miss Peregrine's Home for Peculiar Children                en   \n",
       "\n",
       "                                 genres           director  \\\n",
       "14638  [Crime, Drama, Mystery, Western]  Quentin Tarantino   \n",
       "10093                  [Drama, Romance]     Rodrigo García   \n",
       "9957                 [Horror, Thriller]          Ben Ketai   \n",
       "7725                            [Drama]       Craig Brewer   \n",
       "18002       [Drama, Fantasy, Adventure]         Tim Burton   \n",
       "\n",
       "                                              top_actors  \\\n",
       "14638  [Samuel L. Jackson, Kurt Russell, Jennifer Jas...   \n",
       "10093  [Naomi Watts, Samuel L. Jackson, Annette Benin...   \n",
       "9957   [Kiele Sanchez, Mia Kirshner, Diora Baird, Rhy...   \n",
       "7725   [Samuel L. Jackson, Christina Ricci, Justin Ti...   \n",
       "18002  [Eva Green, Asa Butterfield, Samuel L. Jackson...   \n",
       "\n",
       "                                                keywords  \n",
       "14638  [bounty hunter, wyoming, mountain, narration, ...  \n",
       "10093  [adoptive mother, nymphomaniac, mother daughte...  \n",
       "9957   [hero, vampire, supernatural, revenge, rivalry...  \n",
       "7725   [southern usa, blues, military service, indepe...  \n",
       "18002                  [time travel, orphan, superpower]  "
      ]
     },
     "metadata": {},
     "output_type": "display_data"
    },
    {
     "data": {
      "text/html": [
       "<div>\n",
       "<style scoped>\n",
       "    .dataframe tbody tr th:only-of-type {\n",
       "        vertical-align: middle;\n",
       "    }\n",
       "\n",
       "    .dataframe tbody tr th {\n",
       "        vertical-align: top;\n",
       "    }\n",
       "\n",
       "    .dataframe thead th {\n",
       "        text-align: right;\n",
       "    }\n",
       "</style>\n",
       "<table border=\"1\" class=\"dataframe\">\n",
       "  <thead>\n",
       "    <tr style=\"text-align: right;\">\n",
       "      <th></th>\n",
       "      <th>id</th>\n",
       "      <th>title</th>\n",
       "      <th>original_language</th>\n",
       "      <th>genres</th>\n",
       "      <th>director</th>\n",
       "      <th>top_actors</th>\n",
       "      <th>keywords</th>\n",
       "    </tr>\n",
       "  </thead>\n",
       "  <tbody>\n",
       "    <tr>\n",
       "      <th>10760</th>\n",
       "      <td>24428</td>\n",
       "      <td>The Avengers</td>\n",
       "      <td>en</td>\n",
       "      <td>[Science Fiction, Action, Adventure]</td>\n",
       "      <td>Joss Whedon</td>\n",
       "      <td>[Robert Downey Jr., Chris Evans, Mark Ruffalo,...</td>\n",
       "      <td>[new york, shield, marvel comic, superhero, ba...</td>\n",
       "    </tr>\n",
       "    <tr>\n",
       "      <th>14148</th>\n",
       "      <td>271110</td>\n",
       "      <td>Captain America: Civil War</td>\n",
       "      <td>en</td>\n",
       "      <td>[Adventure, Action, Science Fiction]</td>\n",
       "      <td>Anthony Russo</td>\n",
       "      <td>[Chris Evans, Robert Downey Jr., Scarlett Joha...</td>\n",
       "      <td>[civil war, war, marvel comic, sequel, superhe...</td>\n",
       "    </tr>\n",
       "    <tr>\n",
       "      <th>12798</th>\n",
       "      <td>100402</td>\n",
       "      <td>Captain America: The Winter Soldier</td>\n",
       "      <td>en</td>\n",
       "      <td>[Action, Adventure, Science Fiction]</td>\n",
       "      <td>Anthony Russo</td>\n",
       "      <td>[Chris Evans, Samuel L. Jackson, Scarlett Joha...</td>\n",
       "      <td>[washington d.c., future, shield, marvel comic...</td>\n",
       "    </tr>\n",
       "    <tr>\n",
       "      <th>14146</th>\n",
       "      <td>284053</td>\n",
       "      <td>Thor: Ragnarok</td>\n",
       "      <td>en</td>\n",
       "      <td>[Action, Adventure, Fantasy, Science Fiction]</td>\n",
       "      <td>Taika Waititi</td>\n",
       "      <td>[Chris Hemsworth, Tom Hiddleston, Cate Blanche...</td>\n",
       "      <td>[marvel comic, sequel, superhero, based on com...</td>\n",
       "    </tr>\n",
       "    <tr>\n",
       "      <th>14143</th>\n",
       "      <td>102899</td>\n",
       "      <td>Ant-Man</td>\n",
       "      <td>en</td>\n",
       "      <td>[Science Fiction, Action, Adventure]</td>\n",
       "      <td>Peyton Reed</td>\n",
       "      <td>[Paul Rudd, Michael Douglas, Evangeline Lilly,...</td>\n",
       "      <td>[marvel comic, superhero, based on comic, afte...</td>\n",
       "    </tr>\n",
       "  </tbody>\n",
       "</table>\n",
       "</div>"
      ],
      "text/plain": [
       "           id                                title original_language  \\\n",
       "10760   24428                         The Avengers                en   \n",
       "14148  271110           Captain America: Civil War                en   \n",
       "12798  100402  Captain America: The Winter Soldier                en   \n",
       "14146  284053                       Thor: Ragnarok                en   \n",
       "14143  102899                              Ant-Man                en   \n",
       "\n",
       "                                              genres       director  \\\n",
       "10760           [Science Fiction, Action, Adventure]    Joss Whedon   \n",
       "14148           [Adventure, Action, Science Fiction]  Anthony Russo   \n",
       "12798           [Action, Adventure, Science Fiction]  Anthony Russo   \n",
       "14146  [Action, Adventure, Fantasy, Science Fiction]  Taika Waititi   \n",
       "14143           [Science Fiction, Action, Adventure]    Peyton Reed   \n",
       "\n",
       "                                              top_actors  \\\n",
       "10760  [Robert Downey Jr., Chris Evans, Mark Ruffalo,...   \n",
       "14148  [Chris Evans, Robert Downey Jr., Scarlett Joha...   \n",
       "12798  [Chris Evans, Samuel L. Jackson, Scarlett Joha...   \n",
       "14146  [Chris Hemsworth, Tom Hiddleston, Cate Blanche...   \n",
       "14143  [Paul Rudd, Michael Douglas, Evangeline Lilly,...   \n",
       "\n",
       "                                                keywords  \n",
       "10760  [new york, shield, marvel comic, superhero, ba...  \n",
       "14148  [civil war, war, marvel comic, sequel, superhe...  \n",
       "12798  [washington d.c., future, shield, marvel comic...  \n",
       "14146  [marvel comic, sequel, superhero, based on com...  \n",
       "14143  [marvel comic, superhero, based on comic, afte...  "
      ]
     },
     "metadata": {},
     "output_type": "display_data"
    },
    {
     "data": {
      "text/html": [
       "<div>\n",
       "<style scoped>\n",
       "    .dataframe tbody tr th:only-of-type {\n",
       "        vertical-align: middle;\n",
       "    }\n",
       "\n",
       "    .dataframe tbody tr th {\n",
       "        vertical-align: top;\n",
       "    }\n",
       "\n",
       "    .dataframe thead th {\n",
       "        text-align: right;\n",
       "    }\n",
       "</style>\n",
       "<table border=\"1\" class=\"dataframe\">\n",
       "  <thead>\n",
       "    <tr style=\"text-align: right;\">\n",
       "      <th></th>\n",
       "      <th>id</th>\n",
       "      <th>title</th>\n",
       "      <th>original_language</th>\n",
       "      <th>genres</th>\n",
       "      <th>director</th>\n",
       "      <th>top_actors</th>\n",
       "      <th>keywords</th>\n",
       "    </tr>\n",
       "  </thead>\n",
       "  <tbody>\n",
       "    <tr>\n",
       "      <th>5601</th>\n",
       "      <td>4176</td>\n",
       "      <td>Murder on the Orient Express</td>\n",
       "      <td>en</td>\n",
       "      <td>[Drama, Thriller, Mystery]</td>\n",
       "      <td>Sidney Lumet</td>\n",
       "      <td>[Albert Finney, Lauren Bacall, Martin Balsam, ...</td>\n",
       "      <td>[detective, repayment, orient express, investi...</td>\n",
       "    </tr>\n",
       "    <tr>\n",
       "      <th>9984</th>\n",
       "      <td>1782</td>\n",
       "      <td>Afterwards</td>\n",
       "      <td>en</td>\n",
       "      <td>[Drama, Thriller, Mystery]</td>\n",
       "      <td>Gilles Bourdos</td>\n",
       "      <td>[John Malkovich, Romain Duris, Evangeline Lill...</td>\n",
       "      <td>[prophecy, lawyer, doctor]</td>\n",
       "    </tr>\n",
       "    <tr>\n",
       "      <th>5651</th>\n",
       "      <td>9391</td>\n",
       "      <td>Enduring Love</td>\n",
       "      <td>en</td>\n",
       "      <td>[Drama, Thriller, Mystery]</td>\n",
       "      <td>Roger Michell</td>\n",
       "      <td>[Daniel Craig, Rhys Ifans, Samantha Morton, Bi...</td>\n",
       "      <td>[picnic, hot air balloon, rescue]</td>\n",
       "    </tr>\n",
       "    <tr>\n",
       "      <th>10848</th>\n",
       "      <td>69668</td>\n",
       "      <td>Dream House</td>\n",
       "      <td>en</td>\n",
       "      <td>[Drama, Thriller, Mystery]</td>\n",
       "      <td>Jim Sheridan</td>\n",
       "      <td>[Daniel Craig, Naomi Watts, Rachel Weisz, Mart...</td>\n",
       "      <td>[house fire, extension ladder, last day on job]</td>\n",
       "    </tr>\n",
       "    <tr>\n",
       "      <th>8952</th>\n",
       "      <td>49767</td>\n",
       "      <td>Fade to Black</td>\n",
       "      <td>en</td>\n",
       "      <td>[Drama, Thriller, Mystery]</td>\n",
       "      <td>Oliver Parker</td>\n",
       "      <td>[Danny Huston, Diego Luna, Paz Vega, Christoph...</td>\n",
       "      <td>[film making, historical figure, orson welles]</td>\n",
       "    </tr>\n",
       "  </tbody>\n",
       "</table>\n",
       "</div>"
      ],
      "text/plain": [
       "          id                         title original_language  \\\n",
       "5601    4176  Murder on the Orient Express                en   \n",
       "9984    1782                    Afterwards                en   \n",
       "5651    9391                 Enduring Love                en   \n",
       "10848  69668                   Dream House                en   \n",
       "8952   49767                 Fade to Black                en   \n",
       "\n",
       "                           genres        director  \\\n",
       "5601   [Drama, Thriller, Mystery]    Sidney Lumet   \n",
       "9984   [Drama, Thriller, Mystery]  Gilles Bourdos   \n",
       "5651   [Drama, Thriller, Mystery]   Roger Michell   \n",
       "10848  [Drama, Thriller, Mystery]    Jim Sheridan   \n",
       "8952   [Drama, Thriller, Mystery]   Oliver Parker   \n",
       "\n",
       "                                              top_actors  \\\n",
       "5601   [Albert Finney, Lauren Bacall, Martin Balsam, ...   \n",
       "9984   [John Malkovich, Romain Duris, Evangeline Lill...   \n",
       "5651   [Daniel Craig, Rhys Ifans, Samantha Morton, Bi...   \n",
       "10848  [Daniel Craig, Naomi Watts, Rachel Weisz, Mart...   \n",
       "8952   [Danny Huston, Diego Luna, Paz Vega, Christoph...   \n",
       "\n",
       "                                                keywords  \n",
       "5601   [detective, repayment, orient express, investi...  \n",
       "9984                          [prophecy, lawyer, doctor]  \n",
       "5651                   [picnic, hot air balloon, rescue]  \n",
       "10848    [house fire, extension ladder, last day on job]  \n",
       "8952      [film making, historical figure, orson welles]  "
      ]
     },
     "metadata": {},
     "output_type": "display_data"
    }
   ],
   "source": [
    "display(plain_props_recommender.recommend('Django Unchained')[[\"id\", \"title\", *properties_columns]])\n",
    "display(plain_props_recommender.recommend('Avengers: Age of Ultron')[[\"id\", \"title\", *properties_columns]])\n",
    "display(plain_props_recommender.recommend('Shutter Island')[[\"id\", \"title\", *properties_columns]])"
   ]
  },
  {
   "cell_type": "markdown",
   "metadata": {},
   "source": [
    "### Movies' Overview\n",
    "\n",
    "The __overview__ column contains a short description of the movie plot, and can help us better identify similarities between movies.  \n",
    "\n",
    "We can't extract features from the __overview__ column the same as we did with the __genres, original language, keywords, crew and cast__ columns, it requires a different approach.  \n",
    "The problem is that it's a real text, meaning that similar overviews might contain **different words**, but have a **similar meaning**. We will try a number of techniques of finding similar overviews.\n",
    "\n",
    "The first technique is TF-IDF."
   ]
  },
  {
   "cell_type": "markdown",
   "metadata": {},
   "source": [
    "#### TF-IDF\n",
    "\n",
    "Stands for **term-frequency inverse document-frequency**.  \n",
    "In this vectorization technique, we treat the __overview__ as a Bag of Words, but instead of just counting the the number of appearences of each word in each document (document here is an __overview__), we also take into account the number of documents the word appears in.  \n",
    "In general:\n",
    "* The more a word appears in a document -> the more important it is\n",
    "* The more documents a word appears in -> the less important it is\n",
    "\n",
    "For example, for the __overview__ of the movie __Jaws__:\n",
    "> An insatiable great white shark terrorizes the townspeople of Amity Island, The police chief, an oceanographer and a grizzled shark hunter seek to destroy the bloodthirsty beast.\n",
    "\n",
    "The word \"shark\" is less common than \"police\" in movies' overviews, so it has higher importance."
   ]
  },
  {
   "cell_type": "code",
   "execution_count": 52,
   "metadata": {
    "pycharm": {
     "name": "#%%\n"
    }
   },
   "outputs": [],
   "source": [
    "from sklearn.feature_extraction.text import TfidfVectorizer\n",
    "from sklearn.metrics.pairwise import linear_kernel\n",
    "\n",
    "class TfidfRecommender:\n",
    "    def __init__(self, movies_df):\n",
    "        self.movies_df = movies_df\n",
    "        self._corpus = self._build_corpus()\n",
    "        self._transformer = transformer = TfidfVectorizer(stop_words=\"english\")\n",
    "        self._tfidf_matrix = transformer.fit_transform(self._corpus)\n",
    "\n",
    "    def _build_corpus(self):\n",
    "        return self.movies_df['overview'].fillna(\"\").tolist()\n",
    "\n",
    "    def recommend(self, movie_title: str, top_n: int = 5):\n",
    "        # We have to reindex the movies DataFrame because later we use indexing into the matrix\n",
    "        reindexed_movies = self.movies_df.reset_index(drop=True)\n",
    "\n",
    "        ind = reindexed_movies[reindexed_movies[\"title\"] == movie_title].index.item()\n",
    "\n",
    "        # Instead of building a matrix of similarities between all movies, we just compare\n",
    "        # the movie we're interested in with all the movies - this way we don't need too much memory\n",
    "        sim = linear_kernel(np.asarray(self._tfidf_matrix[ind].todense()), self._tfidf_matrix)\n",
    "\n",
    "        m_sim = sim[0]\n",
    "        reindexed_movies[\"score\"] = m_sim\n",
    "\n",
    "        top_sims = m_sim.argsort()[-1 - top_n:-1]\n",
    "        top_sims = np.flip(top_sims)\n",
    "\n",
    "        return reindexed_movies.iloc[top_sims]\n",
    "\n",
    "    def compare(self, movie1, movie2):\n",
    "        # We have to reindex the movies DataFrame because later we use indexing into the matrix\n",
    "        reindexed_movies = self.movies_df.reset_index(drop=True)\n",
    "\n",
    "        ind1 = reindexed_movies[reindexed_movies[\"title\"] == movie1].index.item()\n",
    "        ind2 = reindexed_movies[reindexed_movies[\"title\"] == movie2].index.item()\n",
    "\n",
    "        sim = linear_kernel(np.asarray(self._tfidf_matrix[ind1].todense()), np.asarray(self._tfidf_matrix[ind2].todense()))\n",
    "\n",
    "        return sim[0][0]\n",
    "\n",
    "\n",
    "tfidf_recommender = TfidfRecommender(movies)"
   ]
  },
  {
   "cell_type": "code",
   "execution_count": 53,
   "metadata": {},
   "outputs": [
    {
     "data": {
      "text/html": [
       "<div>\n",
       "<style scoped>\n",
       "    .dataframe tbody tr th:only-of-type {\n",
       "        vertical-align: middle;\n",
       "    }\n",
       "\n",
       "    .dataframe tbody tr th {\n",
       "        vertical-align: top;\n",
       "    }\n",
       "\n",
       "    .dataframe thead th {\n",
       "        text-align: right;\n",
       "    }\n",
       "</style>\n",
       "<table border=\"1\" class=\"dataframe\">\n",
       "  <thead>\n",
       "    <tr style=\"text-align: right;\">\n",
       "      <th></th>\n",
       "      <th>title</th>\n",
       "      <th>overview</th>\n",
       "      <th>genres</th>\n",
       "      <th>keywords</th>\n",
       "    </tr>\n",
       "  </thead>\n",
       "  <tbody>\n",
       "    <tr>\n",
       "      <th>17890</th>\n",
       "      <td>The Avengers</td>\n",
       "      <td>When an unexpected enemy emerges and threatens global safety and security, Nick Fury, director of the international peacekeeping agency known as S.H.I.E.L.D., finds himself in need of a team to pull the world back from the brink of disaster. Spanning the globe, a daring recruitment effort begins!</td>\n",
       "      <td>[Science Fiction, Action, Adventure]</td>\n",
       "      <td>[new york, shield, marvel comic, superhero, based on comic, alien invasion, superhero team, aftercreditsstinger, duringcreditsstinger, marvel cinematic universe]</td>\n",
       "    </tr>\n",
       "    <tr>\n",
       "      <th>26652</th>\n",
       "      <td>Captain America: Civil War</td>\n",
       "      <td>Following the events of Age of Ultron, the collective governments of the world pass an act designed to regulate all superhuman activity. This polarizes opinion amongst the Avengers, causing two factions to side with Iron Man or Captain America, which causes an epic battle between former allies.</td>\n",
       "      <td>[Adventure, Action, Science Fiction]</td>\n",
       "      <td>[civil war, war, marvel comic, sequel, superhero, based on comic, imax, aftercreditsstinger, duringcreditsstinger, marvel cinematic universe, 3d]</td>\n",
       "    </tr>\n",
       "    <tr>\n",
       "      <th>15218</th>\n",
       "      <td>Iron Man 2</td>\n",
       "      <td>With the world now aware of his dual life as the armored superhero Iron Man, billionaire inventor Tony Stark faces pressure from the government, the press and the public to share his technology with the military. Unwilling to let go of his invention, Stark, with Pepper Potts and James 'Rhodey' Rhodes at his side, must forge new alliances – and confront powerful enemies.</td>\n",
       "      <td>[Adventure, Action, Science Fiction]</td>\n",
       "      <td>[malibu, marvel comic, superhero, based on comic, revenge, aftercreditsstinger, marvel cinematic universe]</td>\n",
       "    </tr>\n",
       "    <tr>\n",
       "      <th>30609</th>\n",
       "      <td>A Deadly Adoption</td>\n",
       "      <td>Things go awry when an author and his wife welcome a pregnant woman into their home, with plans to adopt her baby.</td>\n",
       "      <td>[Drama, Thriller]</td>\n",
       "      <td>[baby, adoption, violence, tv movie, woman director]</td>\n",
       "    </tr>\n",
       "    <tr>\n",
       "      <th>27186</th>\n",
       "      <td>The Day Mars Invaded Earth</td>\n",
       "      <td>Martians replace scientist &amp;amp; his family to pave way for invasion.</td>\n",
       "      <td>[Science Fiction]</td>\n",
       "      <td>[family relationships, martian, outer space, scientist, alien invasion]</td>\n",
       "    </tr>\n",
       "  </tbody>\n",
       "</table>\n",
       "</div>"
      ],
      "text/plain": [
       "                            title  \\\n",
       "17890  The Avengers                 \n",
       "26652  Captain America: Civil War   \n",
       "15218  Iron Man 2                   \n",
       "30609  A Deadly Adoption            \n",
       "27186  The Day Mars Invaded Earth   \n",
       "\n",
       "                                                                                                                                                                                                                                                                                                                                                                                   overview  \\\n",
       "17890  When an unexpected enemy emerges and threatens global safety and security, Nick Fury, director of the international peacekeeping agency known as S.H.I.E.L.D., finds himself in need of a team to pull the world back from the brink of disaster. Spanning the globe, a daring recruitment effort begins!                                                                              \n",
       "26652  Following the events of Age of Ultron, the collective governments of the world pass an act designed to regulate all superhuman activity. This polarizes opinion amongst the Avengers, causing two factions to side with Iron Man or Captain America, which causes an epic battle between former allies.                                                                                \n",
       "15218  With the world now aware of his dual life as the armored superhero Iron Man, billionaire inventor Tony Stark faces pressure from the government, the press and the public to share his technology with the military. Unwilling to let go of his invention, Stark, with Pepper Potts and James 'Rhodey' Rhodes at his side, must forge new alliances – and confront powerful enemies.   \n",
       "30609  Things go awry when an author and his wife welcome a pregnant woman into their home, with plans to adopt her baby.                                                                                                                                                                                                                                                                     \n",
       "27186  Martians replace scientist &amp; his family to pave way for invasion.                                                                                                                                                                                                                                                                                                                  \n",
       "\n",
       "                                     genres  \\\n",
       "17890  [Science Fiction, Action, Adventure]   \n",
       "26652  [Adventure, Action, Science Fiction]   \n",
       "15218  [Adventure, Action, Science Fiction]   \n",
       "30609  [Drama, Thriller]                      \n",
       "27186  [Science Fiction]                      \n",
       "\n",
       "                                                                                                                                                                keywords  \n",
       "17890  [new york, shield, marvel comic, superhero, based on comic, alien invasion, superhero team, aftercreditsstinger, duringcreditsstinger, marvel cinematic universe]  \n",
       "26652  [civil war, war, marvel comic, sequel, superhero, based on comic, imax, aftercreditsstinger, duringcreditsstinger, marvel cinematic universe, 3d]                  \n",
       "15218  [malibu, marvel comic, superhero, based on comic, revenge, aftercreditsstinger, marvel cinematic universe]                                                         \n",
       "30609  [baby, adoption, violence, tv movie, woman director]                                                                                                               \n",
       "27186  [family relationships, martian, outer space, scientist, alien invasion]                                                                                            "
      ]
     },
     "metadata": {},
     "output_type": "display_data"
    },
    {
     "data": {
      "text/html": [
       "<div>\n",
       "<style scoped>\n",
       "    .dataframe tbody tr th:only-of-type {\n",
       "        vertical-align: middle;\n",
       "    }\n",
       "\n",
       "    .dataframe tbody tr th {\n",
       "        vertical-align: top;\n",
       "    }\n",
       "\n",
       "    .dataframe thead th {\n",
       "        text-align: right;\n",
       "    }\n",
       "</style>\n",
       "<table border=\"1\" class=\"dataframe\">\n",
       "  <thead>\n",
       "    <tr style=\"text-align: right;\">\n",
       "      <th></th>\n",
       "      <th>title</th>\n",
       "      <th>overview</th>\n",
       "      <th>genres</th>\n",
       "      <th>keywords</th>\n",
       "    </tr>\n",
       "  </thead>\n",
       "  <tbody>\n",
       "    <tr>\n",
       "      <th>13770</th>\n",
       "      <td>The Monster</td>\n",
       "      <td>A general store clerk and aspiring detective investigates a mysterious disappearance that took place quite close to an empty insane asylum.</td>\n",
       "      <td>[Comedy, Horror, Science Fiction]</td>\n",
       "      <td>[silent film]</td>\n",
       "    </tr>\n",
       "    <tr>\n",
       "      <th>26452</th>\n",
       "      <td>Stir of Echoes: The Homecoming</td>\n",
       "      <td>A soldier returns home from the Iraq war only to be haunted by visions of the dead.</td>\n",
       "      <td>[Horror, Thriller]</td>\n",
       "      <td>[]</td>\n",
       "    </tr>\n",
       "    <tr>\n",
       "      <th>17500</th>\n",
       "      <td>Education for Death</td>\n",
       "      <td>A propaganda film during World War II about a boy who grows up to become a Nazi soldier.</td>\n",
       "      <td>[Animation]</td>\n",
       "      <td>[world war ii, wartime, war propaganda, disney short, short]</td>\n",
       "    </tr>\n",
       "    <tr>\n",
       "      <th>20103</th>\n",
       "      <td>Asylum Blackout</td>\n",
       "      <td>A group of cooks at an asylum for the criminally insane get locked in with the inmates during a massive thunderstorm</td>\n",
       "      <td>[Horror, Thriller]</td>\n",
       "      <td>[]</td>\n",
       "    </tr>\n",
       "    <tr>\n",
       "      <th>21582</th>\n",
       "      <td>Act of Love</td>\n",
       "      <td>An American soldier romances a beautiful Parisian during the final days of World War II.</td>\n",
       "      <td>[Drama, War, Romance]</td>\n",
       "      <td>[suicide, melodrama, prostitution]</td>\n",
       "    </tr>\n",
       "  </tbody>\n",
       "</table>\n",
       "</div>"
      ],
      "text/plain": [
       "                                title  \\\n",
       "13770  The Monster                      \n",
       "26452  Stir of Echoes: The Homecoming   \n",
       "17500  Education for Death              \n",
       "20103  Asylum Blackout                  \n",
       "21582  Act of Love                      \n",
       "\n",
       "                                                                                                                                          overview  \\\n",
       "13770  A general store clerk and aspiring detective investigates a mysterious disappearance that took place quite close to an empty insane asylum.   \n",
       "26452  A soldier returns home from the Iraq war only to be haunted by visions of the dead.                                                           \n",
       "17500  A propaganda film during World War II about a boy who grows up to become a Nazi soldier.                                                      \n",
       "20103  A group of cooks at an asylum for the criminally insane get locked in with the inmates during a massive thunderstorm                          \n",
       "21582  An American soldier romances a beautiful Parisian during the final days of World War II.                                                      \n",
       "\n",
       "                                  genres  \\\n",
       "13770  [Comedy, Horror, Science Fiction]   \n",
       "26452  [Horror, Thriller]                  \n",
       "17500  [Animation]                         \n",
       "20103  [Horror, Thriller]                  \n",
       "21582  [Drama, War, Romance]               \n",
       "\n",
       "                                                           keywords  \n",
       "13770  [silent film]                                                 \n",
       "26452  []                                                            \n",
       "17500  [world war ii, wartime, war propaganda, disney short, short]  \n",
       "20103  []                                                            \n",
       "21582  [suicide, melodrama, prostitution]                            "
      ]
     },
     "metadata": {},
     "output_type": "display_data"
    },
    {
     "data": {
      "text/html": [
       "<div>\n",
       "<style scoped>\n",
       "    .dataframe tbody tr th:only-of-type {\n",
       "        vertical-align: middle;\n",
       "    }\n",
       "\n",
       "    .dataframe tbody tr th {\n",
       "        vertical-align: top;\n",
       "    }\n",
       "\n",
       "    .dataframe thead th {\n",
       "        text-align: right;\n",
       "    }\n",
       "</style>\n",
       "<table border=\"1\" class=\"dataframe\">\n",
       "  <thead>\n",
       "    <tr style=\"text-align: right;\">\n",
       "      <th></th>\n",
       "      <th>title</th>\n",
       "      <th>overview</th>\n",
       "      <th>genres</th>\n",
       "      <th>keywords</th>\n",
       "    </tr>\n",
       "  </thead>\n",
       "  <tbody>\n",
       "    <tr>\n",
       "      <th>18539</th>\n",
       "      <td>One for the Money</td>\n",
       "      <td>An unemployed lingerie buyer convinces her bail bondsman cousin to give her a shot as a bounty hunter. Her first assignment is to track down a former cop on the run for murder – the same man who broke her heart years before. With the help of some friends and the best bounty hunter in the business, she slowly learns what it takes to be a true bounty hunter.</td>\n",
       "      <td>[Action, Comedy, Crime]</td>\n",
       "      <td>[bounty hunter, based on novel, romance, framed, bail jumper, woman director]</td>\n",
       "    </tr>\n",
       "    <tr>\n",
       "      <th>37259</th>\n",
       "      <td>Band of Angels</td>\n",
       "      <td>Living in Kentucky prior to the Civil War, Amantha Starr is a privileged young woman. Her widower father, a wealthy plantation owner, dotes on her and he sends her to the best schools. When he dies suddenly however, Amantha's world is turned upside down. She learns that her father had been living on borrowed money and that her mother was actually a slave and her father's mistress. The plantation is to be sold to pay off her father's debts and as the daughter of slave, Amatha is also to be sold as property. She is bought by a Louisiana plantation owner, Hamish Bond and over time she grows to love him until she learns he was a slave-trader. She tries again to become part of white society but realizes that her future lies elsewhere.</td>\n",
       "      <td>[Adventure, Romance, Drama, History]</td>\n",
       "      <td>[plantation, slave, southern belle]</td>\n",
       "    </tr>\n",
       "    <tr>\n",
       "      <th>28417</th>\n",
       "      <td>Bare Knuckles</td>\n",
       "      <td>A bounty hunter in Los Angeles sets out to track down and stop a masked serial killer who murders women by using kung-fu moves.</td>\n",
       "      <td>[Adventure, Action, Thriller]</td>\n",
       "      <td>[]</td>\n",
       "    </tr>\n",
       "    <tr>\n",
       "      <th>32655</th>\n",
       "      <td>Moving Target</td>\n",
       "      <td>A bounty hunter with a pregnant wife who is urging him to get a regular job gets framed for murder and trapped in a war between Russian gangsters.</td>\n",
       "      <td>[]</td>\n",
       "      <td>[]</td>\n",
       "    </tr>\n",
       "    <tr>\n",
       "      <th>7962</th>\n",
       "      <td>The Tin Star</td>\n",
       "      <td>An experienced bounty hunter helps a young sheriff learn the meaning of his badge.</td>\n",
       "      <td>[Action, Drama, Western, Romance]</td>\n",
       "      <td>[mixed race child, seamstress, hanging posse, two guns belt]</td>\n",
       "    </tr>\n",
       "  </tbody>\n",
       "</table>\n",
       "</div>"
      ],
      "text/plain": [
       "                   title  \\\n",
       "18539  One for the Money   \n",
       "37259  Band of Angels      \n",
       "28417  Bare Knuckles       \n",
       "32655  Moving Target       \n",
       "7962   The Tin Star        \n",
       "\n",
       "                                                                                                                                                                                                                                                                                                                                                                                                                                                                                                                                                                                                                                                                                                                                                                  overview  \\\n",
       "18539  An unemployed lingerie buyer convinces her bail bondsman cousin to give her a shot as a bounty hunter. Her first assignment is to track down a former cop on the run for murder – the same man who broke her heart years before. With the help of some friends and the best bounty hunter in the business, she slowly learns what it takes to be a true bounty hunter.                                                                                                                                                                                                                                                                                                                                                                                                \n",
       "37259  Living in Kentucky prior to the Civil War, Amantha Starr is a privileged young woman. Her widower father, a wealthy plantation owner, dotes on her and he sends her to the best schools. When he dies suddenly however, Amantha's world is turned upside down. She learns that her father had been living on borrowed money and that her mother was actually a slave and her father's mistress. The plantation is to be sold to pay off her father's debts and as the daughter of slave, Amatha is also to be sold as property. She is bought by a Louisiana plantation owner, Hamish Bond and over time she grows to love him until she learns he was a slave-trader. She tries again to become part of white society but realizes that her future lies elsewhere.   \n",
       "28417  A bounty hunter in Los Angeles sets out to track down and stop a masked serial killer who murders women by using kung-fu moves.                                                                                                                                                                                                                                                                                                                                                                                                                                                                                                                                                                                                                                       \n",
       "32655  A bounty hunter with a pregnant wife who is urging him to get a regular job gets framed for murder and trapped in a war between Russian gangsters.                                                                                                                                                                                                                                                                                                                                                                                                                                                                                                                                                                                                                    \n",
       "7962   An experienced bounty hunter helps a young sheriff learn the meaning of his badge.                                                                                                                                                                                                                                                                                                                                                                                                                                                                                                                                                                                                                                                                                    \n",
       "\n",
       "                                     genres  \\\n",
       "18539  [Action, Comedy, Crime]                \n",
       "37259  [Adventure, Romance, Drama, History]   \n",
       "28417  [Adventure, Action, Thriller]          \n",
       "32655  []                                     \n",
       "7962   [Action, Drama, Western, Romance]      \n",
       "\n",
       "                                                                            keywords  \n",
       "18539  [bounty hunter, based on novel, romance, framed, bail jumper, woman director]  \n",
       "37259  [plantation, slave, southern belle]                                            \n",
       "28417  []                                                                             \n",
       "32655  []                                                                             \n",
       "7962   [mixed race child, seamstress, hanging posse, two guns belt]                   "
      ]
     },
     "metadata": {},
     "output_type": "display_data"
    }
   ],
   "source": [
    "with pd.option_context('display.max_colwidth', -1):\n",
    "    display(tfidf_recommender.recommend('Avengers: Age of Ultron', top_n=5)[[\"title\", \"overview\", \"genres\", \"keywords\"]])\n",
    "    display(tfidf_recommender.recommend('Shutter Island', top_n=5)[[\"title\", \"overview\", \"genres\", \"keywords\"]])\n",
    "    display(tfidf_recommender.recommend('Django Unchained', top_n=5)[[\"title\", \"overview\", \"genres\", \"keywords\"]])"
   ]
  },
  {
   "cell_type": "markdown",
   "metadata": {},
   "source": [
    "**Analyzing the Results**\n",
    "\n",
    "Let's dig deeper into the results we got for \"Django Unchained\", this is its overview:\n",
    "> With the help of a German bounty hunter, a freed slave sets out to rescue his wife from a brutal Mississippi plantation owner.\n",
    "\n",
    "The overviews of the movies \"One for the Money\", \"Bare Knuckles\", \"Moving Target\" and \"The Tin Star\" are similar to the overview of Django Unchained's in the words __bounty, hunter__, this is good, but are we missing other movies that are also similar to \"Django Unchained\"?  \n",
    "\n",
    "To demonstrate the problem, let's consider \"12 Years a Slave\"'s overview:\n",
    "> In the pre-Civil War United States, Solomon Northup, a free black man from upstate New York, is abducted and sold into slavery. Facing cruelty as well as unexpected kindnesses Solomon struggles not only to stay alive, but to retain his dignity. In the twelfth year of his unforgettable odyssey, Solomon’s chance meeting with a Canadian abolitionist will forever alter his life.\n",
    "\n",
    "In this overview we see quite a few words that relate to \"Django Unchained\"'s overview - __black man, slavery__, these words do not appear in \"Django Unchained\"'s overview, but are semantically strongly related.\n",
    "\n",
    "Let's compare \"Django Unchained\" with \"12 Years a Slave\" and TF-IDF's top recommendation - \"One for the Money\":"
   ]
  },
  {
   "cell_type": "code",
   "execution_count": 54,
   "metadata": {},
   "outputs": [
    {
     "data": {
      "text/html": [
       "<div>\n",
       "<style scoped>\n",
       "    .dataframe tbody tr th:only-of-type {\n",
       "        vertical-align: middle;\n",
       "    }\n",
       "\n",
       "    .dataframe tbody tr th {\n",
       "        vertical-align: top;\n",
       "    }\n",
       "\n",
       "    .dataframe thead th {\n",
       "        text-align: right;\n",
       "    }\n",
       "</style>\n",
       "<table border=\"1\" class=\"dataframe\">\n",
       "  <thead>\n",
       "    <tr style=\"text-align: right;\">\n",
       "      <th></th>\n",
       "      <th>title</th>\n",
       "      <th>overview</th>\n",
       "      <th>genres</th>\n",
       "    </tr>\n",
       "  </thead>\n",
       "  <tbody>\n",
       "    <tr>\n",
       "      <th>18539</th>\n",
       "      <td>One for the Money</td>\n",
       "      <td>An unemployed lingerie buyer convinces her bail bondsman cousin to give her a shot as a bounty hunter. Her first assignment is to track down a former cop on the run for murder – the same man who broke her heart years before. With the help of some friends and the best bounty hunter in the business, she slowly learns what it takes to be a true bounty hunter.</td>\n",
       "      <td>[Action, Comedy, Crime]</td>\n",
       "    </tr>\n",
       "    <tr>\n",
       "      <th>20128</th>\n",
       "      <td>Django Unchained</td>\n",
       "      <td>With the help of a German bounty hunter, a freed slave sets out to rescue his wife from a brutal Mississippi plantation owner.</td>\n",
       "      <td>[Drama, Western]</td>\n",
       "    </tr>\n",
       "    <tr>\n",
       "      <th>21950</th>\n",
       "      <td>12 Years a Slave</td>\n",
       "      <td>In the pre-Civil War United States, Solomon Northup, a free black man from upstate New York, is abducted and sold into slavery. Facing cruelty as well as unexpected kindnesses Solomon struggles not only to stay alive, but to retain his dignity. In the twelfth year of his unforgettable odyssey, Solomon’s chance meeting with a Canadian abolitionist will forever alter his life.</td>\n",
       "      <td>[Drama, History]</td>\n",
       "    </tr>\n",
       "  </tbody>\n",
       "</table>\n",
       "</div>"
      ],
      "text/plain": [
       "                   title  \\\n",
       "18539  One for the Money   \n",
       "20128  Django Unchained    \n",
       "21950  12 Years a Slave    \n",
       "\n",
       "                                                                                                                                                                                                                                                                                                                                                                                        overview  \\\n",
       "18539  An unemployed lingerie buyer convinces her bail bondsman cousin to give her a shot as a bounty hunter. Her first assignment is to track down a former cop on the run for murder – the same man who broke her heart years before. With the help of some friends and the best bounty hunter in the business, she slowly learns what it takes to be a true bounty hunter.                      \n",
       "20128  With the help of a German bounty hunter, a freed slave sets out to rescue his wife from a brutal Mississippi plantation owner.                                                                                                                                                                                                                                                              \n",
       "21950  In the pre-Civil War United States, Solomon Northup, a free black man from upstate New York, is abducted and sold into slavery. Facing cruelty as well as unexpected kindnesses Solomon struggles not only to stay alive, but to retain his dignity. In the twelfth year of his unforgettable odyssey, Solomon’s chance meeting with a Canadian abolitionist will forever alter his life.   \n",
       "\n",
       "                        genres  \n",
       "18539  [Action, Comedy, Crime]  \n",
       "20128  [Drama, Western]         \n",
       "21950  [Drama, History]         "
      ]
     },
     "metadata": {},
     "output_type": "display_data"
    },
    {
     "name": "stdout",
     "output_type": "stream",
     "text": [
      "There's 6 words in common between Django Unchained and 12 Years a Slave: {'of', 'his', 'from', 'the', 'with', 'to'}\n",
      "There's 7 words in common between Django Unchained and One for the Money: {'help', 'of', 'hunter', 'the', 'with', 'to', 'bounty'}\n",
      "\n",
      "TF-IDF Recommender Similarity Score:\n",
      "Django Unchained <> 12 Years a Slave 0.0\n",
      "Django Unchained <> One for the Money 0.305188247165715\n"
     ]
    }
   ],
   "source": [
    "import gensim\n",
    "\n",
    "with pd.option_context('display.max_colwidth', -1):\n",
    "    display(movies[movies[\"title\"].isin([\"Django Unchained\", \"12 Years a Slave\", \"One for the Money\"])][[\"title\", \"overview\", \"genres\"]])\n",
    "\n",
    "movies_comparison = movies[movies[\"title\"].isin([\"Django Unchained\", \"12 Years a Slave\", \"One for the Money\"])][[\"title\", \"overview\"]]\n",
    "movies_words = {\n",
    "    row['title']: set(gensim.utils.simple_preprocess(row['overview'])) for _, row in movies_comparison.iterrows()\n",
    "}\n",
    "f_i_inter = movies_words['Django Unchained'].intersection(movies_words['12 Years a Slave'])\n",
    "f_m_inter = movies_words['Django Unchained'].intersection(movies_words['One for the Money'])\n",
    "\n",
    "print(f\"There's {len(f_i_inter)} words in common between Django Unchained and 12 Years a Slave: {f_i_inter}\")\n",
    "print(f\"There's {len(f_m_inter)} words in common between Django Unchained and One for the Money: {f_m_inter}\")\n",
    "\n",
    "print()\n",
    "print(\"TF-IDF Recommender Similarity Score:\")\n",
    "print(f'Django Unchained <> 12 Years a Slave {tfidf_recommender.compare(\"Django Unchained\", \"12 Years a Slave\")}')\n",
    "print(f'Django Unchained <> One for the Money {tfidf_recommender.compare(\"Django Unchained\", \"One for the Money\")}')"
   ]
  },
  {
   "cell_type": "markdown",
   "metadata": {},
   "source": [
    "Here we can see the root of the problem - \"One for the Money\" has more words in common with \"Django Unchained\" compared to \"12 Years a Slave\" and its similarity score is much higher, with \"12 Years a Slave\" and \"Django Unchained\" having a similarity score of 0!  \n",
    "Our model doesn't take into account semantically close words like __black man and slavery__ and __slavery__."
   ]
  },
  {
   "cell_type": "markdown",
   "metadata": {
    "pycharm": {
     "name": "#%% md\n"
    }
   },
   "source": [
    "#### Doc2Vec\n",
    "\n",
    "TF-IDF is a good technique, but it's naive, it only compares words by equality and doesn't know anymore than that. We want a model that can compare words not just in a binary way, for example to know that \"slave\" and \"slavery\" or \"slave\" and \"black\" are close in meaning, even if they aren't exactly the same word.\n",
    "\n",
    "In 2013 a technique named Word2Vec [was published](https://arxiv.org/pdf/1301.3781.pdf), allowing to create a model that can find synonymous words and indicate **semantic similarity** between words.  \n",
    "The model converts words into vectors such that the consine similarity between those vectors indicate that semantic similarity, we can use that property to compare words in a more meaningful way.\n",
    "\n",
    "We are interested in an algorithm named Doc2Vec [published in 2014](https://cs.stanford.edu/~quocle/paragraph_vector.pdf) which should work better for documents over simple Word2Vec techniques.  \n",
    "We will be using the [Gensim](https://radimrehurek.com/gensim/index.html) library to train a model for our specific corpus of documents."
   ]
  },
  {
   "cell_type": "code",
   "execution_count": 55,
   "metadata": {
    "pycharm": {
     "name": "#%%\n"
    }
   },
   "outputs": [],
   "source": [
    "import logging\n",
    "logging.basicConfig(format='%(asctime)s : %(levelname)s : %(message)s', level=logging.INFO)"
   ]
  },
  {
   "cell_type": "code",
   "execution_count": 56,
   "metadata": {
    "pycharm": {
     "name": "#%%\n"
    }
   },
   "outputs": [
    {
     "name": "stderr",
     "output_type": "stream",
     "text": [
      "2022-07-19 09:22:07,503 : INFO : loading Doc2Vec object from .cache/overviews.model\n",
      "2022-07-19 09:22:07,529 : INFO : loading dv recursively from .cache/overviews.model.dv.* with mmap=None\n",
      "2022-07-19 09:22:07,529 : INFO : loading wv recursively from .cache/overviews.model.wv.* with mmap=None\n",
      "2022-07-19 09:22:07,530 : INFO : setting ignored attribute cum_table to None\n",
      "2022-07-19 09:22:07,688 : INFO : Doc2Vec lifecycle event {'fname': '.cache/overviews.model', 'datetime': '2022-07-19T09:22:07.688468', 'gensim': '4.1.2', 'python': '3.9.12 (main, Apr  5 2022, 01:53:17) \\n[Clang 12.0.0 ]', 'platform': 'macOS-10.16-x86_64-i386-64bit', 'event': 'loaded'}\n"
     ]
    }
   ],
   "source": [
    "import os\n",
    "import gensim\n",
    "\n",
    "class Doc2VecRecommender:\n",
    "    def __init__(self, movies_df):\n",
    "        self.movies_df = movies_df\n",
    "        self._corpus = list(self._build_corpus())\n",
    "        self._model = self._train_model()\n",
    "\n",
    "    def _build_corpus(self):\n",
    "        # The corpus is just the tokenized overviews\n",
    "        for index, row in self.movies_df[~self.movies_df[\"overview\"].isna()].iterrows():\n",
    "            tokens = gensim.parsing.preprocessing.preprocess_string(row['overview'])\n",
    "            yield gensim.models.doc2vec.TaggedDocument(tokens, [str(index)])\n",
    "\n",
    "    def _train_model(self):\n",
    "        if os.path.exists(\".cache/overviews.model\"):\n",
    "            return gensim.models.doc2vec.Doc2Vec.load(\".cache/overviews.model\")\n",
    "        \n",
    "        model = gensim.models.doc2vec.Doc2Vec(vector_size=100, window=6, min_count=4, epochs=40, workers=4, dbow_words=1)\n",
    "        model.build_vocab(self._corpus)\n",
    "        model.train(self._corpus, total_examples=model.corpus_count, epochs=model.epochs)\n",
    "        os.makedirs(\".cache\", exist_ok=True)\n",
    "        model.save(\".cache/overviews.model\")\n",
    "        return model\n",
    "\n",
    "    def recommend(self, movie_title: str, top_n: int = 5):\n",
    "        overview = self.movies_df[self.movies_df['title'] == movie_title].iloc[0]['overview']\n",
    "        overview_toks = gensim.parsing.preprocessing.preprocess_string(overview)\n",
    "\n",
    "        overview_vec = self._model.infer_vector(overview_toks)\n",
    "        similarities = self._model.dv.most_similar([overview_vec], topn=top_n)\n",
    "        indices = [int(tag) for tag, _ in similarities]\n",
    "        scores = [similarity_score for _, similarity_score in similarities]\n",
    "\n",
    "        results = self.movies_df.loc[indices]\n",
    "        results[\"score\"] = scores\n",
    "        return results\n",
    "\n",
    "    def compare(self, movie1, movie2):\n",
    "        overview1 = self.movies_df[self.movies_df['title'] == movie1].iloc[0]['overview']\n",
    "        overview2 = self.movies_df[self.movies_df['title'] == movie2].iloc[0]['overview']\n",
    "\n",
    "        overview1_toks = gensim.utils.simple_preprocess(overview1)\n",
    "        overview2_toks = gensim.utils.simple_preprocess(overview2)\n",
    "\n",
    "        overview1_vec = d2v_recommender._model.infer_vector(overview1_toks)\n",
    "        overview2_vec = d2v_recommender._model.infer_vector(overview2_toks)\n",
    "\n",
    "        return self._model.dv.cosine_similarities(overview1_vec, [overview2_vec]).item()\n",
    "\n",
    "d2v_recommender = Doc2VecRecommender(movies)"
   ]
  },
  {
   "cell_type": "code",
   "execution_count": 57,
   "metadata": {},
   "outputs": [
    {
     "data": {
      "text/html": [
       "<div>\n",
       "<style scoped>\n",
       "    .dataframe tbody tr th:only-of-type {\n",
       "        vertical-align: middle;\n",
       "    }\n",
       "\n",
       "    .dataframe tbody tr th {\n",
       "        vertical-align: top;\n",
       "    }\n",
       "\n",
       "    .dataframe thead th {\n",
       "        text-align: right;\n",
       "    }\n",
       "</style>\n",
       "<table border=\"1\" class=\"dataframe\">\n",
       "  <thead>\n",
       "    <tr style=\"text-align: right;\">\n",
       "      <th></th>\n",
       "      <th>id</th>\n",
       "      <th>title</th>\n",
       "      <th>overview</th>\n",
       "      <th>score</th>\n",
       "    </tr>\n",
       "  </thead>\n",
       "  <tbody>\n",
       "    <tr>\n",
       "      <th>20128</th>\n",
       "      <td>68718</td>\n",
       "      <td>Django Unchained</td>\n",
       "      <td>With the help of a German bounty hunter, a freed slave sets out to rescue his wife from a brutal Mississippi plantation owner.</td>\n",
       "      <td>0.931856</td>\n",
       "    </tr>\n",
       "    <tr>\n",
       "      <th>4523</th>\n",
       "      <td>20006</td>\n",
       "      <td>Pink Cadillac</td>\n",
       "      <td>Clint Eastwood plays a bounty hunter who helps out the wife of a bail-jumper after her child is kidnapped by neo-Nazi types.</td>\n",
       "      <td>0.675412</td>\n",
       "    </tr>\n",
       "    <tr>\n",
       "      <th>29110</th>\n",
       "      <td>91628</td>\n",
       "      <td>Three Quarter Moon</td>\n",
       "      <td>Hartmut Mackowiak, a German taxi driver, tries to help 6 year old Turkish girl to find her mother.</td>\n",
       "      <td>0.651500</td>\n",
       "    </tr>\n",
       "    <tr>\n",
       "      <th>45057</th>\n",
       "      <td>3178</td>\n",
       "      <td>Beat</td>\n",
       "      <td>The story of writer William Seward Burroughs and his wife.</td>\n",
       "      <td>0.612526</td>\n",
       "    </tr>\n",
       "    <tr>\n",
       "      <th>34379</th>\n",
       "      <td>159365</td>\n",
       "      <td>Benaam</td>\n",
       "      <td>After helping a stabbing victim to the hospital, a man begins to receive anonymous threats. The only way to save his wife and child is to unravel the mystery of the killer's identity.</td>\n",
       "      <td>0.609116</td>\n",
       "    </tr>\n",
       "    <tr>\n",
       "      <th>42483</th>\n",
       "      <td>373514</td>\n",
       "      <td>Night Chase</td>\n",
       "      <td>A man fleeing the scene of his wife's shooting forms an unexpected relationship with the tough cab driver he hires to drive him to the Mexican border.</td>\n",
       "      <td>0.592261</td>\n",
       "    </tr>\n",
       "    <tr>\n",
       "      <th>9191</th>\n",
       "      <td>55257</td>\n",
       "      <td>Juha</td>\n",
       "      <td>A farmer's wife is seduced into running away from her stolid older husband by a city slicker, who enslaves her in a brothel.</td>\n",
       "      <td>0.589852</td>\n",
       "    </tr>\n",
       "    <tr>\n",
       "      <th>27030</th>\n",
       "      <td>37484</td>\n",
       "      <td>I Love Trouble</td>\n",
       "      <td>A wealthy man hires a detective to investigate his wife's mysterious past.</td>\n",
       "      <td>0.588826</td>\n",
       "    </tr>\n",
       "    <tr>\n",
       "      <th>38369</th>\n",
       "      <td>123182</td>\n",
       "      <td>Coastlines</td>\n",
       "      <td>An ex-con returns to his Florida hometown after three years and becomes involved with the wife of his best friend, the local sheriff.</td>\n",
       "      <td>0.587749</td>\n",
       "    </tr>\n",
       "    <tr>\n",
       "      <th>26800</th>\n",
       "      <td>183247</td>\n",
       "      <td>The Inspector</td>\n",
       "      <td>At the end of WW2, a compassionate Dutch policeman helps smuggle a Jewish woman into British Palestine.</td>\n",
       "      <td>0.587385</td>\n",
       "    </tr>\n",
       "  </tbody>\n",
       "</table>\n",
       "</div>"
      ],
      "text/plain": [
       "           id               title  \\\n",
       "20128  68718   Django Unchained     \n",
       "4523   20006   Pink Cadillac        \n",
       "29110  91628   Three Quarter Moon   \n",
       "45057  3178    Beat                 \n",
       "34379  159365  Benaam               \n",
       "42483  373514  Night Chase          \n",
       "9191   55257   Juha                 \n",
       "27030  37484   I Love Trouble       \n",
       "38369  123182  Coastlines           \n",
       "26800  183247  The Inspector        \n",
       "\n",
       "                                                                                                                                                                                      overview  \\\n",
       "20128  With the help of a German bounty hunter, a freed slave sets out to rescue his wife from a brutal Mississippi plantation owner.                                                            \n",
       "4523   Clint Eastwood plays a bounty hunter who helps out the wife of a bail-jumper after her child is kidnapped by neo-Nazi types.                                                              \n",
       "29110  Hartmut Mackowiak, a German taxi driver, tries to help 6 year old Turkish girl to find her mother.                                                                                        \n",
       "45057  The story of writer William Seward Burroughs and his wife.                                                                                                                                \n",
       "34379  After helping a stabbing victim to the hospital, a man begins to receive anonymous threats. The only way to save his wife and child is to unravel the mystery of the killer's identity.   \n",
       "42483  A man fleeing the scene of his wife's shooting forms an unexpected relationship with the tough cab driver he hires to drive him to the Mexican border.                                    \n",
       "9191   A farmer's wife is seduced into running away from her stolid older husband by a city slicker, who enslaves her in a brothel.                                                              \n",
       "27030  A wealthy man hires a detective to investigate his wife's mysterious past.                                                                                                                \n",
       "38369  An ex-con returns to his Florida hometown after three years and becomes involved with the wife of his best friend, the local sheriff.                                                     \n",
       "26800  At the end of WW2, a compassionate Dutch policeman helps smuggle a Jewish woman into British Palestine.                                                                                   \n",
       "\n",
       "          score  \n",
       "20128  0.931856  \n",
       "4523   0.675412  \n",
       "29110  0.651500  \n",
       "45057  0.612526  \n",
       "34379  0.609116  \n",
       "42483  0.592261  \n",
       "9191   0.589852  \n",
       "27030  0.588826  \n",
       "38369  0.587749  \n",
       "26800  0.587385  "
      ]
     },
     "metadata": {},
     "output_type": "display_data"
    }
   ],
   "source": [
    "with pd.option_context('display.max_colwidth', -1):\n",
    "    display(d2v_recommender.recommend('Django Unchained', 10)[[\"id\", \"title\", \"overview\", \"score\"]])"
   ]
  },
  {
   "cell_type": "markdown",
   "metadata": {},
   "source": [
    "**Analyzing the Results**\n",
    "\n",
    "Let's look at common topics between \"Django Unchained\" and the recommended movies:\n",
    "* \"Pink Cadillac\" - common topics are __bounty hunting, helping wives and Germans (mentioned as \"Nazis\" in \"Pink Cadillac\")__\n",
    "* \"Three Quarter Moon\" - common topics are __German people, help__\n",
    "* \"Beat\" - common topics are __wife__\n",
    "* \"Benaam\" - common topics are __wife__\n",
    "* \"Night Chase\" - common topics are __wife, slave__\n",
    "\n",
    "The results aren't very good, and I think there's still much to be desired.\n",
    "\n",
    "Let's look at our previous example - \"Django Unchained\", \"12 Years a Slave\" and \"One for the Money\":"
   ]
  },
  {
   "cell_type": "code",
   "execution_count": 58,
   "metadata": {},
   "outputs": [
    {
     "name": "stdout",
     "output_type": "stream",
     "text": [
      "Django Unchained <> 12 Years a Slave - 0.17589826881885529\n",
      "Django Unchained <> One for the Money - 0.34603333473205566\n"
     ]
    }
   ],
   "source": [
    "print(f'Django Unchained <> 12 Years a Slave - {d2v_recommender.compare(\"Django Unchained\", \"12 Years a Slave\")}')\n",
    "print(f'Django Unchained <> One for the Money - {d2v_recommender.compare(\"Django Unchained\", \"One for the Money\")}')"
   ]
  },
  {
   "cell_type": "markdown",
   "metadata": {},
   "source": [
    "Here we can see that our model ranks \"12 Years a Slave\" closer to \"Django Unchained\" than our TF-IDF recommender, this is good progress."
   ]
  },
  {
   "cell_type": "markdown",
   "metadata": {
    "pycharm": {
     "name": "#%% md\n"
    }
   },
   "source": [
    "#### Word2Vec\n",
    "\n",
    "A potential problem in our previous model Doc2Vec might be the lack of training data. We only trained it on our corpus of movie overviews, and this might not be enough for the model to learn semantic similarity of many words.  \n",
    "Next we will use a pre-trained model published by Google and trained on Google News dataset of about 100 billion words. The dataset contains 300-dimensional vectors of 3 million words."
   ]
  },
  {
   "cell_type": "code",
   "execution_count": 59,
   "metadata": {
    "pycharm": {
     "name": "#%%\n"
    }
   },
   "outputs": [
    {
     "name": "stderr",
     "output_type": "stream",
     "text": [
      "2022-07-19 09:22:08,710 : INFO : loading projection weights from /Users/adi/gensim-data/word2vec-google-news-300/word2vec-google-news-300.gz\n",
      "2022-07-19 09:22:47,749 : INFO : KeyedVectors lifecycle event {'msg': 'loaded (3000000, 300) matrix of type float32 from /Users/adi/gensim-data/word2vec-google-news-300/word2vec-google-news-300.gz', 'binary': True, 'encoding': 'utf8', 'datetime': '2022-07-19T09:22:47.749748', 'gensim': '4.1.2', 'python': '3.9.12 (main, Apr  5 2022, 01:53:17) \\n[Clang 12.0.0 ]', 'platform': 'macOS-10.16-x86_64-i386-64bit', 'event': 'load_word2vec_format'}\n"
     ]
    }
   ],
   "source": [
    "import gensim\n",
    "import gensim.downloader as api\n",
    "from gensim.models.keyedvectors import KeyedVectors\n",
    "\n",
    "google_news_wv: KeyedVectors = api.load('word2vec-google-news-300')"
   ]
  },
  {
   "cell_type": "code",
   "execution_count": 60,
   "metadata": {},
   "outputs": [
    {
     "data": {
      "text/plain": [
       "['Psychedelic_Studies_MAPS',\n",
       " 'Citation_Handicap',\n",
       " 'Widescreen_LCD_Monitor',\n",
       " 'medicine_dropper',\n",
       " 'Vung_Ro',\n",
       " 'Jim_Gabarra',\n",
       " 'ASIAN_ADRS',\n",
       " '7lb_8oz',\n",
       " 'Shiv_Sena_Supremo_Bal',\n",
       " 'MDRSP']"
      ]
     },
     "execution_count": 60,
     "metadata": {},
     "output_type": "execute_result"
    }
   ],
   "source": [
    "import random\n",
    "\n",
    "random.choices(google_news_wv.index_to_key, k=10)"
   ]
  },
  {
   "cell_type": "markdown",
   "metadata": {},
   "source": [
    "Unlike Doc2Vec which we trained on documents, the pre-trained Google News model contains a vector per word, and isn't familiar with our movies corpus, a naive approach to solve this problem was suggested by [Mike Tamir](https://www.youtube.com/watch?v=7gTjYwiaJiU), to average the word vectors. For example all words in the book \"A Tale of Two Cities\" should add up to \"class-struggle\".\n",
    "\n",
    "Because all those vectors that represent words live in a space where the distance between them correspond to semantic distance, we can manipulate those vectors by averaging them, and the resulting vector represent the general \"direction\" of the document, and each word in the document contributed to that direction.\n",
    "\n",
    "![Word vectors average](resources/naivedoc2vec.png)"
   ]
  },
  {
   "cell_type": "code",
   "execution_count": 61,
   "metadata": {
    "pycharm": {
     "name": "#%%\n"
    }
   },
   "outputs": [],
   "source": [
    "from nltk.corpus import stopwords\n",
    "\n",
    "def tokenize_movie_overview(overview: str):\n",
    "    return [word for word in gensim.utils.tokenize(overview) if word not in stopwords.words('english')]\n",
    "\n",
    "def get_text_mean_vector(overview: str):\n",
    "    tokens = tokenize_movie_overview(overview)\n",
    "    \n",
    "    word_vectors = np.empty((0, 300), np.float32)\n",
    "    for token in tokens:\n",
    "        try:\n",
    "            word_vectors = np.append(word_vectors, np.array([google_news_wv[token]]), axis=0)\n",
    "        except KeyError:\n",
    "            # We don't have this word in the google-news model\n",
    "            pass\n",
    "\n",
    "    # If we weren't able to vectorize any words - return NaN\n",
    "    if word_vectors.shape[0] == 0:\n",
    "        return np.nan\n",
    "        \n",
    "    return np.mean(word_vectors, axis=0)"
   ]
  },
  {
   "cell_type": "code",
   "execution_count": 62,
   "metadata": {},
   "outputs": [
    {
     "name": "stdout",
     "output_type": "stream",
     "text": [
      "With the help of a German bounty hunter, a freed slave sets out to rescue his wife from a brutal Mississippi plantation owner.\n",
      "\n",
      "Most similar words to Django Unchained's overview\n",
      "1. desicritic_editor_slave - 0.6243675351142883\n",
      "2. slave - 0.5932321548461914\n",
      "3. Deposed_Mauritanian_president - 0.5579289793968201\n",
      "\n",
      "The average vector and [slave] similarity score: 0.5932321548461914\n",
      "The average vector and [black] similarity score: 0.31050509214401245\n",
      "The average vector and [banana] similarity score: 0.2602415084838867\n",
      "The average vector and [car] similarity score: 0.23750826716423035\n"
     ]
    }
   ],
   "source": [
    "from sklearn.metrics.pairwise import cosine_similarity\n",
    "\n",
    "overview = movies[movies[\"title\"] == \"Django Unchained\"].iloc[0][\"overview\"]\n",
    "print(overview)\n",
    "\n",
    "print()\n",
    "mean_vector = get_text_mean_vector(overview)\n",
    "print(\"Most similar words to Django Unchained's overview\")\n",
    "for index, (key, score) in enumerate(google_news_wv.similar_by_vector(mean_vector, 3)):\n",
    "    print(f\"{index + 1}. {key} - {score}\")\n",
    "\n",
    "print()\n",
    "for word in ['slave', 'black', 'banana', 'car']:\n",
    "    other_word_vec = google_news_wv[word]\n",
    "    print(f\"The average vector and [{word}] similarity score: {cosine_similarity([mean_vector], [other_word_vec])[0][0]}\")"
   ]
  },
  {
   "cell_type": "markdown",
   "metadata": {},
   "source": [
    "\"Django Unchained\"'s overview is closer semantically to the word \"slave\" than it is to \"banana\".\n",
    "\n",
    "We can now turn this concept into a recommender"
   ]
  },
  {
   "cell_type": "code",
   "execution_count": 63,
   "metadata": {},
   "outputs": [],
   "source": [
    "cache = None"
   ]
  },
  {
   "cell_type": "code",
   "execution_count": 64,
   "metadata": {},
   "outputs": [],
   "source": [
    "import os\n",
    "import gensim\n",
    "\n",
    "class Word2VecRecommender:\n",
    "    def __init__(self, movies_df):\n",
    "        self.movies_df = movies_df.copy()\n",
    "        self._generate_w2v()\n",
    "        self._model = google_news_wv\n",
    "\n",
    "    def _generate_w2v(self):\n",
    "        global cache\n",
    "        if cache is None:\n",
    "            cache = self.movies_df[\"overview\"].apply(lambda overview: get_text_mean_vector(overview) if isinstance(overview, str) else np.nan)\n",
    "        \n",
    "        self.movies_df['w2v'] = cache\n",
    "\n",
    "    def recommend(self, movie_title: str, top_n: int = 5):\n",
    "        target_w2v = self.movies_df[self.movies_df['title'] == movie_title].iloc[0]['w2v']\n",
    "        others_w2v = self.movies_df[~self.movies_df[\"w2v\"].isna()]\n",
    "\n",
    "        similarities = cosine_similarity([target_w2v], others_w2v['w2v'].to_list())[0]\n",
    "        others_w2v[\"score\"] = similarities\n",
    "        return others_w2v.iloc[similarities.argsort()[-top_n - 1:][::-1]]\n",
    "\n",
    "    def compare(self, movie1, movie2):\n",
    "        movie1_w2v = self.movies_df[self.movies_df['title'] == movie1].iloc[0]['w2v']\n",
    "        movie2_w2v = self.movies_df[self.movies_df['title'] == movie2].iloc[0]['w2v']\n",
    "\n",
    "        return self._model.cosine_similarities(movie1_w2v, [movie2_w2v]).item()\n",
    "\n",
    "w2v_recommender = Word2VecRecommender(movies)"
   ]
  },
  {
   "cell_type": "code",
   "execution_count": 65,
   "metadata": {},
   "outputs": [
    {
     "name": "stderr",
     "output_type": "stream",
     "text": [
      "/var/folders/tl/9n338bsj4217gjszrx8gmpg80000gn/T/ipykernel_75105/1997904561.py:22: SettingWithCopyWarning: \n",
      "A value is trying to be set on a copy of a slice from a DataFrame.\n",
      "Try using .loc[row_indexer,col_indexer] = value instead\n",
      "\n",
      "See the caveats in the documentation: https://pandas.pydata.org/pandas-docs/stable/user_guide/indexing.html#returning-a-view-versus-a-copy\n",
      "  others_w2v[\"score\"] = similarities\n"
     ]
    },
    {
     "data": {
      "text/html": [
       "<div>\n",
       "<style scoped>\n",
       "    .dataframe tbody tr th:only-of-type {\n",
       "        vertical-align: middle;\n",
       "    }\n",
       "\n",
       "    .dataframe tbody tr th {\n",
       "        vertical-align: top;\n",
       "    }\n",
       "\n",
       "    .dataframe thead th {\n",
       "        text-align: right;\n",
       "    }\n",
       "</style>\n",
       "<table border=\"1\" class=\"dataframe\">\n",
       "  <thead>\n",
       "    <tr style=\"text-align: right;\">\n",
       "      <th></th>\n",
       "      <th>title</th>\n",
       "      <th>overview</th>\n",
       "    </tr>\n",
       "  </thead>\n",
       "  <tbody>\n",
       "    <tr>\n",
       "      <th>20128</th>\n",
       "      <td>Django Unchained</td>\n",
       "      <td>With the help of a German bounty hunter, a freed slave sets out to rescue his wife from a brutal Mississippi plantation owner.</td>\n",
       "    </tr>\n",
       "    <tr>\n",
       "      <th>37259</th>\n",
       "      <td>Band of Angels</td>\n",
       "      <td>Living in Kentucky prior to the Civil War, Amantha Starr is a privileged young woman. Her widower father, a wealthy plantation owner, dotes on her and he sends her to the best schools. When he dies suddenly however, Amantha's world is turned upside down. She learns that her father had been living on borrowed money and that her mother was actually a slave and her father's mistress. The plantation is to be sold to pay off her father's debts and as the daughter of slave, Amatha is also to be sold as property. She is bought by a Louisiana plantation owner, Hamish Bond and over time she grows to love him until she learns he was a slave-trader. She tries again to become part of white society but realizes that her future lies elsewhere.</td>\n",
       "    </tr>\n",
       "    <tr>\n",
       "      <th>18539</th>\n",
       "      <td>One for the Money</td>\n",
       "      <td>An unemployed lingerie buyer convinces her bail bondsman cousin to give her a shot as a bounty hunter. Her first assignment is to track down a former cop on the run for murder – the same man who broke her heart years before. With the help of some friends and the best bounty hunter in the business, she slowly learns what it takes to be a true bounty hunter.</td>\n",
       "    </tr>\n",
       "    <tr>\n",
       "      <th>38274</th>\n",
       "      <td>Free State of Jones</td>\n",
       "      <td>In 1863, Mississippi farmer Newt Knight serves as a medic for the Confederate Army. Opposed to slavery, Knight would rather help the wounded than fight the Union. After his nephew dies in battle, Newt returns home to Jones County to safeguard his family but is soon branded an outlaw deserter. Forced to flee, he finds refuge with a group of runaway slaves hiding out in the swamps. Forging an alliance with the slaves and other farmers, Knight leads a rebellion that would forever change history.</td>\n",
       "    </tr>\n",
       "    <tr>\n",
       "      <th>30382</th>\n",
       "      <td>Freedom</td>\n",
       "      <td>Two men separated by 100 years are united in their search for freedom. In 1856 a slave, Samuel Woodward and his family, escape from the Monroe Plantation near Richmond, Virginia. A secret network of ordinary people known as the Underground Railroad guide the family on their journey north to Canada. They are relentlessly pursued by the notorious slave hunter Plimpton. Hunted like a dog and haunted by the unthinkable suffering he and his forbears have endured, Samuel is forced to decide between revenge or freedom. 100 years earlier in 1748, John Newton the Captain of a slave trader sails from Africa with a cargo of slaves, bound for America. On board is Samuel's great grandfather whose survival is tied to the fate of Captain Newton. The voyage changes Newton's life forever and he creates a legacy that will inspire Samuel and the lives of millions for generations to come.</td>\n",
       "    </tr>\n",
       "    <tr>\n",
       "      <th>4335</th>\n",
       "      <td>Adanggaman</td>\n",
       "      <td>In West Africa during the late 17th century, King Adanggaman leads a war against his neighboring tribes, ordering his soldiers to torch enemy villages, kill the elderly and capture the healthy tribesmen to sell to the European slave traders. When his village falls prey to one of Adanggaman's attacks, Ossei manages to escape, but his family is murdered except for his captured mother. Chasing after the soldiers in an effort to free her, Ossei is befriended by a fierce warrior named Naka.</td>\n",
       "    </tr>\n",
       "  </tbody>\n",
       "</table>\n",
       "</div>"
      ],
      "text/plain": [
       "                     title  \\\n",
       "20128  Django Unchained      \n",
       "37259  Band of Angels        \n",
       "18539  One for the Money     \n",
       "38274  Free State of Jones   \n",
       "30382  Freedom               \n",
       "4335   Adanggaman            \n",
       "\n",
       "                                                                                                                                                                                                                                                                                                                                                                                                                                                                                                                                                                                                                                                                                                                                                                                                                                                                                                                overview  \n",
       "20128  With the help of a German bounty hunter, a freed slave sets out to rescue his wife from a brutal Mississippi plantation owner.                                                                                                                                                                                                                                                                                                                                                                                                                                                                                                                                                                                                                                                                                                                                                                                     \n",
       "37259  Living in Kentucky prior to the Civil War, Amantha Starr is a privileged young woman. Her widower father, a wealthy plantation owner, dotes on her and he sends her to the best schools. When he dies suddenly however, Amantha's world is turned upside down. She learns that her father had been living on borrowed money and that her mother was actually a slave and her father's mistress. The plantation is to be sold to pay off her father's debts and as the daughter of slave, Amatha is also to be sold as property. She is bought by a Louisiana plantation owner, Hamish Bond and over time she grows to love him until she learns he was a slave-trader. She tries again to become part of white society but realizes that her future lies elsewhere.                                                                                                                                                \n",
       "18539  An unemployed lingerie buyer convinces her bail bondsman cousin to give her a shot as a bounty hunter. Her first assignment is to track down a former cop on the run for murder – the same man who broke her heart years before. With the help of some friends and the best bounty hunter in the business, she slowly learns what it takes to be a true bounty hunter.                                                                                                                                                                                                                                                                                                                                                                                                                                                                                                                                             \n",
       "38274  In 1863, Mississippi farmer Newt Knight serves as a medic for the Confederate Army. Opposed to slavery, Knight would rather help the wounded than fight the Union. After his nephew dies in battle, Newt returns home to Jones County to safeguard his family but is soon branded an outlaw deserter. Forced to flee, he finds refuge with a group of runaway slaves hiding out in the swamps. Forging an alliance with the slaves and other farmers, Knight leads a rebellion that would forever change history.                                                                                                                                                                                                                                                                                                                                                                                                  \n",
       "30382  Two men separated by 100 years are united in their search for freedom. In 1856 a slave, Samuel Woodward and his family, escape from the Monroe Plantation near Richmond, Virginia. A secret network of ordinary people known as the Underground Railroad guide the family on their journey north to Canada. They are relentlessly pursued by the notorious slave hunter Plimpton. Hunted like a dog and haunted by the unthinkable suffering he and his forbears have endured, Samuel is forced to decide between revenge or freedom. 100 years earlier in 1748, John Newton the Captain of a slave trader sails from Africa with a cargo of slaves, bound for America. On board is Samuel's great grandfather whose survival is tied to the fate of Captain Newton. The voyage changes Newton's life forever and he creates a legacy that will inspire Samuel and the lives of millions for generations to come.  \n",
       "4335   In West Africa during the late 17th century, King Adanggaman leads a war against his neighboring tribes, ordering his soldiers to torch enemy villages, kill the elderly and capture the healthy tribesmen to sell to the European slave traders. When his village falls prey to one of Adanggaman's attacks, Ossei manages to escape, but his family is murdered except for his captured mother. Chasing after the soldiers in an effort to free her, Ossei is befriended by a fierce warrior named Naka.                                                                                                                                                                                                                                                                                                                                                                                                         "
      ]
     },
     "metadata": {},
     "output_type": "display_data"
    }
   ],
   "source": [
    "with pd.option_context('display.max_colwidth', -1):\n",
    "    display(w2v_recommender.recommend('Django Unchained')[[\"title\", \"overview\"]])"
   ]
  },
  {
   "cell_type": "markdown",
   "metadata": {},
   "source": [
    "**Analyzing the Results**\n",
    "\n",
    "The movies \"Free State of Jones\" and \"Freedom\" have __slaves, war and family__ topics in common with \"Django Unchained\", while \"The Muthers\" have __helping and plantations__.  \n",
    "\n",
    "What about our previous example of comparing between \"Django Unchained\", \"12 Years a Slave\" and \"One for the Money\"?"
   ]
  },
  {
   "cell_type": "code",
   "execution_count": 66,
   "metadata": {},
   "outputs": [
    {
     "name": "stdout",
     "output_type": "stream",
     "text": [
      "Django Unchained <> 12 Years a Slave - 0.6098563075065613\n",
      "Django Unchained <> One for the Money - 0.7272599935531616\n"
     ]
    }
   ],
   "source": [
    "print(f'Django Unchained <> 12 Years a Slave - {w2v_recommender.compare(\"Django Unchained\", \"12 Years a Slave\")}')\n",
    "print(f'Django Unchained <> One for the Money - {w2v_recommender.compare(\"Django Unchained\", \"One for the Money\")}')"
   ]
  },
  {
   "cell_type": "markdown",
   "metadata": {},
   "source": [
    "This time, we see that the pre-trained Google News Word2Vec model managed to get \"12 Years a Slave\" even closer to \"Django Unchained\" than our TF-IDF or Doc2Vec recommenders, which indicated it's an improvement regarding semantic comparisons.\n",
    "\n",
    "Previously we explained that we can average a document into a single vector which can be represented by the closest word, let's try to visualize this in the case of our movies recommendations and see if we can cluster movies by \"summary words\".\n",
    "\n",
    "First, we'll choose the top movies by vote count and add a column for the Word2Vec _overview_ mean vector"
   ]
  },
  {
   "cell_type": "code",
   "execution_count": 115,
   "metadata": {},
   "outputs": [],
   "source": [
    "movies_to_plot = movies.sort_values(by='vote_count', ascending=False).head(50)\n",
    "movies_to_plot[\"w2v\"] = movies_to_plot['overview'].apply(get_text_mean_vector)"
   ]
  },
  {
   "cell_type": "markdown",
   "metadata": {},
   "source": [
    "Next we'll cluster our movies according to their Word2Vec mean vector"
   ]
  },
  {
   "cell_type": "code",
   "execution_count": 116,
   "metadata": {},
   "outputs": [],
   "source": [
    "from sklearn.cluster import KMeans\n",
    "\n",
    "kmeans = KMeans(n_clusters=10)\n",
    "centers_labels = kmeans.fit_predict(movies_to_plot[\"w2v\"].to_list())\n",
    "\n",
    "centers = kmeans.cluster_centers_"
   ]
  },
  {
   "cell_type": "markdown",
   "metadata": {},
   "source": [
    "And build our dictionary of possible summary words our of all the words in the movies' overviews:"
   ]
  },
  {
   "cell_type": "code",
   "execution_count": 117,
   "metadata": {},
   "outputs": [],
   "source": [
    "all_keywords = set()\n",
    "for overview in movies_to_plot[\"overview\"]:\n",
    "    tokens = tokenize_movie_overview(overview)\n",
    "    all_keywords.update(tokens)\n",
    "\n",
    "all_keywords = list(all_keywords)\n",
    "\n",
    "all_keywords_with_vecs = {\n",
    "    keyword: google_news_wv[keyword] for keyword in all_keywords if keyword in google_news_wv\n",
    "}"
   ]
  },
  {
   "cell_type": "code",
   "execution_count": 118,
   "metadata": {},
   "outputs": [],
   "source": [
    "center_words = []\n",
    "\n",
    "for center in centers:\n",
    "    sims = cosine_similarity([center], list(all_keywords_with_vecs.values()))[0]\n",
    "    center_words.append(list(all_keywords_with_vecs.keys())[sims.argsort()[-1]])\n",
    "\n",
    "movies_to_plot[\"summary_word\"] = [center_words[label] for label in centers_labels]"
   ]
  },
  {
   "cell_type": "code",
   "execution_count": 119,
   "metadata": {},
   "outputs": [],
   "source": [
    "import plotly.io as pio\n",
    "\n",
    "# This is so NBViewer will render our plotly figures correctly.\n",
    "pio.renderers.default = \"notebook_connected\""
   ]
  },
  {
   "cell_type": "code",
   "execution_count": 120,
   "metadata": {},
   "outputs": [
    {
     "data": {
      "text/html": [
       "        <script type=\"text/javascript\">\n",
       "        window.PlotlyConfig = {MathJaxConfig: 'local'};\n",
       "        if (window.MathJax) {MathJax.Hub.Config({SVG: {font: \"STIX-Web\"}});}\n",
       "        if (typeof require !== 'undefined') {\n",
       "        require.undef(\"plotly\");\n",
       "        requirejs.config({\n",
       "            paths: {\n",
       "                'plotly': ['https://cdn.plot.ly/plotly-2.9.0.min']\n",
       "            }\n",
       "        });\n",
       "        require(['plotly'], function(Plotly) {\n",
       "            window._Plotly = Plotly;\n",
       "        });\n",
       "        }\n",
       "        </script>\n",
       "        "
      ]
     },
     "metadata": {},
     "output_type": "display_data"
    },
    {
     "data": {
      "text/html": [
       "<div>                            <div id=\"c54acfe6-5cdc-4d02-918b-2ffbe677cb2b\" class=\"plotly-graph-div\" style=\"height:525px; width:1000px;\"></div>            <script type=\"text/javascript\">                require([\"plotly\"], function(Plotly) {                    window.PLOTLYENV=window.PLOTLYENV || {};                                    if (document.getElementById(\"c54acfe6-5cdc-4d02-918b-2ffbe677cb2b\")) {                    Plotly.newPlot(                        \"c54acfe6-5cdc-4d02-918b-2ffbe677cb2b\",                        [{\"customdata\":[[[\"Action\",\"Thriller\",\"Science Fiction\",\"Mystery\",\"Adventure\"]],[[\"Science Fiction\",\"Action\",\"Adventure\"]],[[\"Drama\"]],[[\"Science Fiction\",\"Adventure\",\"Fantasy\"]],[[\"Action\",\"Adventure\",\"Science Fiction\",\"Thriller\"]],[[\"Action\",\"Adventure\",\"Science Fiction\"]],[[\"Adventure\",\"Fantasy\",\"Action\"]],[[\"Thriller\",\"Crime\"]],[[\"Comedy\",\"Drama\",\"Romance\"]],[[\"Drama\",\"Romance\",\"Thriller\"]],[[\"Adventure\",\"Fantasy\",\"Action\"]],[[\"Animation\",\"Comedy\",\"Family\",\"Adventure\"]],[[\"Drama\",\"Comedy\",\"Animation\",\"Family\"]],[[\"Action\",\"Adventure\",\"Fantasy\"]],[[\"Adventure\",\"Action\",\"Science Fiction\"]],[[\"Animation\",\"Family\"]],[[\"Comedy\"]]],\"hovertemplate\":\"<b>%{hovertext}</b><br><br>summary_word=really<br>w2v_x=%{x}<br>w2v_y=%{y}<br>genres=%{customdata[0]}<extra></extra>\",\"hovertext\":[\"Inception\",\"The Avengers\",\"Fight Club\",\"The Hunger Games\",\"Mad Max: Fury Road\",\"Iron Man 3\",\"The Lord of the Rings: The Fellowship of the Ring\",\"Pulp Fiction\",\"Forrest Gump\",\"Titanic\",\"Pirates of the Caribbean: The Curse of the Black Pearl\",\"Up\",\"Inside Out\",\"The Amazing Spider-Man\",\"The Hunger Games: Catching Fire\",\"Despicable Me\",\"The Hangover\"],\"legendgroup\":\"really\",\"marker\":{\"color\":\"#636efa\",\"symbol\":\"circle\"},\"mode\":\"markers\",\"name\":\"really\",\"orientation\":\"v\",\"showlegend\":true,\"x\":[-0.23714836801275002,-0.20680820994153673,-0.1639337805717607,-0.12971472829348593,-0.12266652992454939,-0.10322766378734653,0.25299836199404807,-0.0810669403668156,-0.24410941457110263,-0.14267579721040705,0.023252944288659122,-0.1591910034992948,-0.2257653641277255,-0.06931236640936879,-0.06515618836303759,-0.018211933447580802,-0.15271731793923443],\"xaxis\":\"x\",\"y\":[0.06278629498982755,0.13110912078779263,-0.055449250902248184,-0.02980918999553814,-0.13385019850709018,0.010380090870247573,-0.15879737685076964,-0.11309745696411447,-0.13683603507476608,-0.21509255031424546,-0.15200034369019824,-0.2480458715846536,-0.11459306781010364,-0.13674932932751005,-0.04706285275565275,-0.1246751331226998,-0.3429161562066533],\"yaxis\":\"y\",\"type\":\"scatter\"},{\"customdata\":[[[\"Drama\",\"Action\",\"Crime\",\"Thriller\"]],[[\"Action\",\"Crime\",\"Drama\",\"Thriller\"]],[[\"Action\",\"Science Fiction\"]],[[\"Action\",\"Science Fiction\",\"Adventure\"]],[[\"Action\",\"Adventure\",\"Science Fiction\",\"Fantasy\"]],[[\"Action\",\"Adventure\",\"Thriller\"]],[[\"Action\",\"Crime\",\"Drama\"]],[[\"Action\",\"Adventure\",\"Science Fiction\"]],[[\"Adventure\",\"Action\",\"Science Fiction\"]],[[\"Crime\",\"Drama\",\"Comedy\"]],[[\"Drama\",\"Action\",\"Thriller\",\"War\"]],[[\"Drama\",\"Thriller\",\"Mystery\"]],[[\"Western\",\"Drama\",\"Adventure\",\"Thriller\"]]],\"hovertemplate\":\"<b>%{hovertext}</b><br><br>summary_word=evil<br>w2v_x=%{x}<br>w2v_y=%{y}<br>genres=%{customdata[0]}<extra></extra>\",\"hovertext\":[\"The Dark Knight\",\"The Dark Knight Rises\",\"The Matrix\",\"Iron Man\",\"Star Wars: The Force Awakens\",\"Skyfall\",\"Batman Begins\",\"Captain America: The First Avenger\",\"Star Wars\",\"The Wolf of Wall Street\",\"Inglourious Basterds\",\"Shutter Island\",\"The Revenant\"],\"legendgroup\":\"evil\",\"marker\":{\"color\":\"#EF553B\",\"symbol\":\"circle\"},\"mode\":\"markers\",\"name\":\"evil\",\"orientation\":\"v\",\"showlegend\":true,\"x\":[-0.06961360861346015,-0.00995103570722204,0.015926448638181698,0.08234798471980406,0.21226026500108197,-0.18549125205718894,-0.1367680666337683,0.029281186212321772,0.18497445136808802,-0.2960204526246118,-0.05975495578269802,-0.10127028503484102,0.002597230694508275],\"xaxis\":\"x\",\"y\":[0.2254573903168378,0.1970482347239616,0.1606365970811343,0.218482464279564,0.27795379982935225,0.1207483093333246,0.1673624844849749,0.19892675106655502,0.08584013591281983,0.3311132789151025,0.17120399310188622,0.09778596063064264,-0.26151216353811874],\"yaxis\":\"y\",\"type\":\"scatter\"},{\"customdata\":[[[\"Action\",\"Adventure\",\"Fantasy\",\"Science Fiction\"]],[[\"Drama\",\"Adventure\",\"Science Fiction\"]],[[\"Animation\",\"Family\"]]],\"hovertemplate\":\"<b>%{hovertext}</b><br><br>summary_word=alien<br>w2v_x=%{x}<br>w2v_y=%{y}<br>genres=%{customdata[0]}<extra></extra>\",\"hovertext\":[\"Avatar\",\"The Martian\",\"WALL\\u00b7E\"],\"legendgroup\":\"alien\",\"marker\":{\"color\":\"#00cc96\",\"symbol\":\"circle\"},\"mode\":\"markers\",\"name\":\"alien\",\"orientation\":\"v\",\"showlegend\":true,\"x\":[0.0781901379638312,-0.06527104804327918,-0.06948098197458098],\"xaxis\":\"x\",\"y\":[0.010097889424325044,-0.1876896414815236,-0.1331286408985181],\"yaxis\":\"y\",\"type\":\"scatter\"},{\"customdata\":[[[\"Action\",\"Adventure\",\"Comedy\"]],[[\"Adventure\",\"Action\",\"Science Fiction\"]],[[\"Action\",\"Adventure\",\"Fantasy\"]],[[\"Adventure\",\"Action\",\"Science Fiction\"]],[[\"Action\",\"Adventure\",\"Science Fiction\"]],[[\"Adventure\",\"Fantasy\",\"Action\"]]],\"hovertemplate\":\"<b>%{hovertext}</b><br><br>summary_word=superhero<br>w2v_x=%{x}<br>w2v_y=%{y}<br>genres=%{customdata[0]}<extra></extra>\",\"hovertext\":[\"Deadpool\",\"Captain America: Civil War\",\"Batman v Superman: Dawn of Justice\",\"Iron Man 2\",\"Avengers: Age of Ultron\",\"Thor\"],\"legendgroup\":\"superhero\",\"marker\":{\"color\":\"#ab63fa\",\"symbol\":\"circle\"},\"mode\":\"markers\",\"name\":\"superhero\",\"orientation\":\"v\",\"showlegend\":true,\"x\":[0.03293231350324306,-0.006566995875454773,0.0029290220801572535,-0.05638957144081001,0.0033368637190215223,0.3441346167751333],\"xaxis\":\"x\",\"y\":[0.12483647310402543,0.2674829957704825,0.12992244458617375,0.16406340654081647,0.03851063169188186,0.10115374002529769],\"yaxis\":\"y\",\"type\":\"scatter\"},{\"customdata\":[[[\"Adventure\",\"Drama\",\"Science Fiction\"]]],\"hovertemplate\":\"<b>%{hovertext}</b><br><br>summary_word=interstellar<br>w2v_x=%{x}<br>w2v_y=%{y}<br>genres=%{customdata[0]}<extra></extra>\",\"hovertext\":[\"Interstellar\"],\"legendgroup\":\"interstellar\",\"marker\":{\"color\":\"#FFA15A\",\"symbol\":\"circle\"},\"mode\":\"markers\",\"name\":\"interstellar\",\"orientation\":\"v\",\"showlegend\":true,\"x\":[0.2407155089777105],\"xaxis\":\"x\",\"y\":[-0.06606463812553383],\"yaxis\":\"y\",\"type\":\"scatter\"},{\"customdata\":[[[\"Drama\",\"Western\"]],[[\"Drama\",\"Crime\"]],[[\"Action\",\"Adventure\",\"Crime\",\"Fantasy\",\"Science Fiction\"]]],\"hovertemplate\":\"<b>%{hovertext}</b><br><br>summary_word=prison<br>w2v_x=%{x}<br>w2v_y=%{y}<br>genres=%{customdata[0]}<extra></extra>\",\"hovertext\":[\"Django Unchained\",\"The Shawshank Redemption\",\"Suicide Squad\"],\"legendgroup\":\"prison\",\"marker\":{\"color\":\"#19d3f3\",\"symbol\":\"circle\"},\"mode\":\"markers\",\"name\":\"prison\",\"orientation\":\"v\",\"showlegend\":true,\"x\":[-0.11499245954370275,-0.20325599105471195,-0.12809612560898068],\"xaxis\":\"x\",\"y\":[-0.20624172518886869,-0.025120425742200567,0.4122221161852318],\"yaxis\":\"y\",\"type\":\"scatter\"},{\"customdata\":[[[\"Action\",\"Science Fiction\",\"Adventure\"]]],\"hovertemplate\":\"<b>%{hovertext}</b><br><br>summary_word=abducted<br>w2v_x=%{x}<br>w2v_y=%{y}<br>genres=%{customdata[0]}<extra></extra>\",\"hovertext\":[\"Guardians of the Galaxy\"],\"legendgroup\":\"abducted\",\"marker\":{\"color\":\"#FF6692\",\"symbol\":\"circle\"},\"mode\":\"markers\",\"name\":\"abducted\",\"orientation\":\"v\",\"showlegend\":true,\"x\":[-0.045571535220562766],\"xaxis\":\"x\",\"y\":[-0.1466028684232041],\"yaxis\":\"y\",\"type\":\"scatter\"},{\"customdata\":[[[\"Action\",\"Adventure\",\"Science Fiction\",\"Thriller\"]]],\"hovertemplate\":\"<b>%{hovertext}</b><br><br>summary_word=Jurassic<br>w2v_x=%{x}<br>w2v_y=%{y}<br>genres=%{customdata[0]}<extra></extra>\",\"hovertext\":[\"Jurassic World\"],\"legendgroup\":\"Jurassic\",\"marker\":{\"color\":\"#B6E880\",\"symbol\":\"circle\"},\"mode\":\"markers\",\"name\":\"Jurassic\",\"orientation\":\"v\",\"showlegend\":true,\"x\":[-0.0607188452929398],\"xaxis\":\"x\",\"y\":[-0.21135960795112468],\"yaxis\":\"y\",\"type\":\"scatter\"},{\"customdata\":[[[\"Adventure\",\"Fantasy\",\"Action\"]],[[\"Adventure\",\"Fantasy\",\"Action\"]],[[\"Adventure\",\"Fantasy\",\"Action\"]]],\"hovertemplate\":\"<b>%{hovertext}</b><br><br>summary_word=Frodo<br>w2v_x=%{x}<br>w2v_y=%{y}<br>genres=%{customdata[0]}<extra></extra>\",\"hovertext\":[\"The Hobbit: An Unexpected Journey\",\"The Lord of the Rings: The Return of the King\",\"The Lord of the Rings: The Two Towers\"],\"legendgroup\":\"Frodo\",\"marker\":{\"color\":\"#FF97FF\",\"symbol\":\"circle\"},\"mode\":\"markers\",\"name\":\"Frodo\",\"orientation\":\"v\",\"showlegend\":true,\"x\":[0.7239330343809425,0.6590551733584952,0.7603894108067306],\"xaxis\":\"x\",\"y\":[-0.2229410168100926,0.019220420828897997,0.08510158403443299],\"yaxis\":\"y\",\"type\":\"scatter\"},{\"customdata\":[[[\"Adventure\",\"Fantasy\",\"Family\"]],[[\"Action\",\"Adventure\",\"Fantasy\",\"Science Fiction\"]]],\"hovertemplate\":\"<b>%{hovertext}</b><br><br>summary_word=learns<br>w2v_x=%{x}<br>w2v_y=%{y}<br>genres=%{customdata[0]}<extra></extra>\",\"hovertext\":[\"Harry Potter and the Philosopher's Stone\",\"Man of Steel\"],\"legendgroup\":\"learns\",\"marker\":{\"color\":\"#FECB52\",\"symbol\":\"circle\"},\"mode\":\"markers\",\"name\":\"learns\",\"orientation\":\"v\",\"showlegend\":true,\"x\":[0.06654732453096361,0.015116537961886643],\"xaxis\":\"x\",\"y\":[-0.17618215951946,-0.16362890773070132],\"yaxis\":\"y\",\"type\":\"scatter\"}],                        {\"template\":{\"data\":{\"bar\":[{\"error_x\":{\"color\":\"#2a3f5f\"},\"error_y\":{\"color\":\"#2a3f5f\"},\"marker\":{\"line\":{\"color\":\"#E5ECF6\",\"width\":0.5},\"pattern\":{\"fillmode\":\"overlay\",\"size\":10,\"solidity\":0.2}},\"type\":\"bar\"}],\"barpolar\":[{\"marker\":{\"line\":{\"color\":\"#E5ECF6\",\"width\":0.5},\"pattern\":{\"fillmode\":\"overlay\",\"size\":10,\"solidity\":0.2}},\"type\":\"barpolar\"}],\"carpet\":[{\"aaxis\":{\"endlinecolor\":\"#2a3f5f\",\"gridcolor\":\"white\",\"linecolor\":\"white\",\"minorgridcolor\":\"white\",\"startlinecolor\":\"#2a3f5f\"},\"baxis\":{\"endlinecolor\":\"#2a3f5f\",\"gridcolor\":\"white\",\"linecolor\":\"white\",\"minorgridcolor\":\"white\",\"startlinecolor\":\"#2a3f5f\"},\"type\":\"carpet\"}],\"choropleth\":[{\"colorbar\":{\"outlinewidth\":0,\"ticks\":\"\"},\"type\":\"choropleth\"}],\"contour\":[{\"colorbar\":{\"outlinewidth\":0,\"ticks\":\"\"},\"colorscale\":[[0.0,\"#0d0887\"],[0.1111111111111111,\"#46039f\"],[0.2222222222222222,\"#7201a8\"],[0.3333333333333333,\"#9c179e\"],[0.4444444444444444,\"#bd3786\"],[0.5555555555555556,\"#d8576b\"],[0.6666666666666666,\"#ed7953\"],[0.7777777777777778,\"#fb9f3a\"],[0.8888888888888888,\"#fdca26\"],[1.0,\"#f0f921\"]],\"type\":\"contour\"}],\"contourcarpet\":[{\"colorbar\":{\"outlinewidth\":0,\"ticks\":\"\"},\"type\":\"contourcarpet\"}],\"heatmap\":[{\"colorbar\":{\"outlinewidth\":0,\"ticks\":\"\"},\"colorscale\":[[0.0,\"#0d0887\"],[0.1111111111111111,\"#46039f\"],[0.2222222222222222,\"#7201a8\"],[0.3333333333333333,\"#9c179e\"],[0.4444444444444444,\"#bd3786\"],[0.5555555555555556,\"#d8576b\"],[0.6666666666666666,\"#ed7953\"],[0.7777777777777778,\"#fb9f3a\"],[0.8888888888888888,\"#fdca26\"],[1.0,\"#f0f921\"]],\"type\":\"heatmap\"}],\"heatmapgl\":[{\"colorbar\":{\"outlinewidth\":0,\"ticks\":\"\"},\"colorscale\":[[0.0,\"#0d0887\"],[0.1111111111111111,\"#46039f\"],[0.2222222222222222,\"#7201a8\"],[0.3333333333333333,\"#9c179e\"],[0.4444444444444444,\"#bd3786\"],[0.5555555555555556,\"#d8576b\"],[0.6666666666666666,\"#ed7953\"],[0.7777777777777778,\"#fb9f3a\"],[0.8888888888888888,\"#fdca26\"],[1.0,\"#f0f921\"]],\"type\":\"heatmapgl\"}],\"histogram\":[{\"marker\":{\"pattern\":{\"fillmode\":\"overlay\",\"size\":10,\"solidity\":0.2}},\"type\":\"histogram\"}],\"histogram2d\":[{\"colorbar\":{\"outlinewidth\":0,\"ticks\":\"\"},\"colorscale\":[[0.0,\"#0d0887\"],[0.1111111111111111,\"#46039f\"],[0.2222222222222222,\"#7201a8\"],[0.3333333333333333,\"#9c179e\"],[0.4444444444444444,\"#bd3786\"],[0.5555555555555556,\"#d8576b\"],[0.6666666666666666,\"#ed7953\"],[0.7777777777777778,\"#fb9f3a\"],[0.8888888888888888,\"#fdca26\"],[1.0,\"#f0f921\"]],\"type\":\"histogram2d\"}],\"histogram2dcontour\":[{\"colorbar\":{\"outlinewidth\":0,\"ticks\":\"\"},\"colorscale\":[[0.0,\"#0d0887\"],[0.1111111111111111,\"#46039f\"],[0.2222222222222222,\"#7201a8\"],[0.3333333333333333,\"#9c179e\"],[0.4444444444444444,\"#bd3786\"],[0.5555555555555556,\"#d8576b\"],[0.6666666666666666,\"#ed7953\"],[0.7777777777777778,\"#fb9f3a\"],[0.8888888888888888,\"#fdca26\"],[1.0,\"#f0f921\"]],\"type\":\"histogram2dcontour\"}],\"mesh3d\":[{\"colorbar\":{\"outlinewidth\":0,\"ticks\":\"\"},\"type\":\"mesh3d\"}],\"parcoords\":[{\"line\":{\"colorbar\":{\"outlinewidth\":0,\"ticks\":\"\"}},\"type\":\"parcoords\"}],\"pie\":[{\"automargin\":true,\"type\":\"pie\"}],\"scatter\":[{\"marker\":{\"colorbar\":{\"outlinewidth\":0,\"ticks\":\"\"}},\"type\":\"scatter\"}],\"scatter3d\":[{\"line\":{\"colorbar\":{\"outlinewidth\":0,\"ticks\":\"\"}},\"marker\":{\"colorbar\":{\"outlinewidth\":0,\"ticks\":\"\"}},\"type\":\"scatter3d\"}],\"scattercarpet\":[{\"marker\":{\"colorbar\":{\"outlinewidth\":0,\"ticks\":\"\"}},\"type\":\"scattercarpet\"}],\"scattergeo\":[{\"marker\":{\"colorbar\":{\"outlinewidth\":0,\"ticks\":\"\"}},\"type\":\"scattergeo\"}],\"scattergl\":[{\"marker\":{\"colorbar\":{\"outlinewidth\":0,\"ticks\":\"\"}},\"type\":\"scattergl\"}],\"scattermapbox\":[{\"marker\":{\"colorbar\":{\"outlinewidth\":0,\"ticks\":\"\"}},\"type\":\"scattermapbox\"}],\"scatterpolar\":[{\"marker\":{\"colorbar\":{\"outlinewidth\":0,\"ticks\":\"\"}},\"type\":\"scatterpolar\"}],\"scatterpolargl\":[{\"marker\":{\"colorbar\":{\"outlinewidth\":0,\"ticks\":\"\"}},\"type\":\"scatterpolargl\"}],\"scatterternary\":[{\"marker\":{\"colorbar\":{\"outlinewidth\":0,\"ticks\":\"\"}},\"type\":\"scatterternary\"}],\"surface\":[{\"colorbar\":{\"outlinewidth\":0,\"ticks\":\"\"},\"colorscale\":[[0.0,\"#0d0887\"],[0.1111111111111111,\"#46039f\"],[0.2222222222222222,\"#7201a8\"],[0.3333333333333333,\"#9c179e\"],[0.4444444444444444,\"#bd3786\"],[0.5555555555555556,\"#d8576b\"],[0.6666666666666666,\"#ed7953\"],[0.7777777777777778,\"#fb9f3a\"],[0.8888888888888888,\"#fdca26\"],[1.0,\"#f0f921\"]],\"type\":\"surface\"}],\"table\":[{\"cells\":{\"fill\":{\"color\":\"#EBF0F8\"},\"line\":{\"color\":\"white\"}},\"header\":{\"fill\":{\"color\":\"#C8D4E3\"},\"line\":{\"color\":\"white\"}},\"type\":\"table\"}]},\"layout\":{\"annotationdefaults\":{\"arrowcolor\":\"#2a3f5f\",\"arrowhead\":0,\"arrowwidth\":1},\"autotypenumbers\":\"strict\",\"coloraxis\":{\"colorbar\":{\"outlinewidth\":0,\"ticks\":\"\"}},\"colorscale\":{\"diverging\":[[0,\"#8e0152\"],[0.1,\"#c51b7d\"],[0.2,\"#de77ae\"],[0.3,\"#f1b6da\"],[0.4,\"#fde0ef\"],[0.5,\"#f7f7f7\"],[0.6,\"#e6f5d0\"],[0.7,\"#b8e186\"],[0.8,\"#7fbc41\"],[0.9,\"#4d9221\"],[1,\"#276419\"]],\"sequential\":[[0.0,\"#0d0887\"],[0.1111111111111111,\"#46039f\"],[0.2222222222222222,\"#7201a8\"],[0.3333333333333333,\"#9c179e\"],[0.4444444444444444,\"#bd3786\"],[0.5555555555555556,\"#d8576b\"],[0.6666666666666666,\"#ed7953\"],[0.7777777777777778,\"#fb9f3a\"],[0.8888888888888888,\"#fdca26\"],[1.0,\"#f0f921\"]],\"sequentialminus\":[[0.0,\"#0d0887\"],[0.1111111111111111,\"#46039f\"],[0.2222222222222222,\"#7201a8\"],[0.3333333333333333,\"#9c179e\"],[0.4444444444444444,\"#bd3786\"],[0.5555555555555556,\"#d8576b\"],[0.6666666666666666,\"#ed7953\"],[0.7777777777777778,\"#fb9f3a\"],[0.8888888888888888,\"#fdca26\"],[1.0,\"#f0f921\"]]},\"colorway\":[\"#636efa\",\"#EF553B\",\"#00cc96\",\"#ab63fa\",\"#FFA15A\",\"#19d3f3\",\"#FF6692\",\"#B6E880\",\"#FF97FF\",\"#FECB52\"],\"font\":{\"color\":\"#2a3f5f\"},\"geo\":{\"bgcolor\":\"white\",\"lakecolor\":\"white\",\"landcolor\":\"#E5ECF6\",\"showlakes\":true,\"showland\":true,\"subunitcolor\":\"white\"},\"hoverlabel\":{\"align\":\"left\"},\"hovermode\":\"closest\",\"mapbox\":{\"style\":\"light\"},\"paper_bgcolor\":\"white\",\"plot_bgcolor\":\"#E5ECF6\",\"polar\":{\"angularaxis\":{\"gridcolor\":\"white\",\"linecolor\":\"white\",\"ticks\":\"\"},\"bgcolor\":\"#E5ECF6\",\"radialaxis\":{\"gridcolor\":\"white\",\"linecolor\":\"white\",\"ticks\":\"\"}},\"scene\":{\"xaxis\":{\"backgroundcolor\":\"#E5ECF6\",\"gridcolor\":\"white\",\"gridwidth\":2,\"linecolor\":\"white\",\"showbackground\":true,\"ticks\":\"\",\"zerolinecolor\":\"white\"},\"yaxis\":{\"backgroundcolor\":\"#E5ECF6\",\"gridcolor\":\"white\",\"gridwidth\":2,\"linecolor\":\"white\",\"showbackground\":true,\"ticks\":\"\",\"zerolinecolor\":\"white\"},\"zaxis\":{\"backgroundcolor\":\"#E5ECF6\",\"gridcolor\":\"white\",\"gridwidth\":2,\"linecolor\":\"white\",\"showbackground\":true,\"ticks\":\"\",\"zerolinecolor\":\"white\"}},\"shapedefaults\":{\"line\":{\"color\":\"#2a3f5f\"}},\"ternary\":{\"aaxis\":{\"gridcolor\":\"white\",\"linecolor\":\"white\",\"ticks\":\"\"},\"baxis\":{\"gridcolor\":\"white\",\"linecolor\":\"white\",\"ticks\":\"\"},\"bgcolor\":\"#E5ECF6\",\"caxis\":{\"gridcolor\":\"white\",\"linecolor\":\"white\",\"ticks\":\"\"}},\"title\":{\"x\":0.05},\"xaxis\":{\"automargin\":true,\"gridcolor\":\"white\",\"linecolor\":\"white\",\"ticks\":\"\",\"title\":{\"standoff\":15},\"zerolinecolor\":\"white\",\"zerolinewidth\":2},\"yaxis\":{\"automargin\":true,\"gridcolor\":\"white\",\"linecolor\":\"white\",\"ticks\":\"\",\"title\":{\"standoff\":15},\"zerolinecolor\":\"white\",\"zerolinewidth\":2}}},\"xaxis\":{\"anchor\":\"y\",\"domain\":[0.0,1.0],\"title\":{\"text\":\"w2v_x\"}},\"yaxis\":{\"anchor\":\"x\",\"domain\":[0.0,1.0],\"title\":{\"text\":\"w2v_y\"}},\"legend\":{\"title\":{\"text\":\"summary_word\"},\"tracegroupgap\":0},\"margin\":{\"t\":60},\"width\":1000},                        {\"responsive\": true}                    ).then(function(){\n",
       "                            \n",
       "var gd = document.getElementById('c54acfe6-5cdc-4d02-918b-2ffbe677cb2b');\n",
       "var x = new MutationObserver(function (mutations, observer) {{\n",
       "        var display = window.getComputedStyle(gd).display;\n",
       "        if (!display || display === 'none') {{\n",
       "            console.log([gd, 'removed!']);\n",
       "            Plotly.purge(gd);\n",
       "            observer.disconnect();\n",
       "        }}\n",
       "}});\n",
       "\n",
       "// Listen for the removal of the full notebook cells\n",
       "var notebookContainer = gd.closest('#notebook-container');\n",
       "if (notebookContainer) {{\n",
       "    x.observe(notebookContainer, {childList: true});\n",
       "}}\n",
       "\n",
       "// Listen for the clearing of the current output cell\n",
       "var outputEl = gd.closest('.output');\n",
       "if (outputEl) {{\n",
       "    x.observe(outputEl, {childList: true});\n",
       "}}\n",
       "\n",
       "                        })                };                });            </script>        </div>"
      ]
     },
     "metadata": {},
     "output_type": "display_data"
    }
   ],
   "source": [
    "from sklearn.decomposition import PCA\n",
    "import plotly.express as px\n",
    "\n",
    "pca = PCA(2)\n",
    "\n",
    "m_2d_vec = pca.fit_transform(movies_to_plot[\"w2v\"].to_list())\n",
    "movies_to_plot[\"w2v_x\"] = m_2d_vec[:,0]\n",
    "movies_to_plot[\"w2v_y\"] = m_2d_vec[:,1]\n",
    "\n",
    "fig = px.scatter(movies_to_plot, x=\"w2v_x\", y=\"w2v_y\", color=\"summary_word\", hover_name=\"title\", hover_data=[\"genres\"], width=1000)\n",
    "fig.show()"
   ]
  },
  {
   "cell_type": "code",
   "execution_count": 121,
   "metadata": {},
   "outputs": [
    {
     "data": {
      "text/html": [
       "<div>\n",
       "<style scoped>\n",
       "    .dataframe tbody tr th:only-of-type {\n",
       "        vertical-align: middle;\n",
       "    }\n",
       "\n",
       "    .dataframe tbody tr th {\n",
       "        vertical-align: top;\n",
       "    }\n",
       "\n",
       "    .dataframe thead th {\n",
       "        text-align: right;\n",
       "    }\n",
       "</style>\n",
       "<table border=\"1\" class=\"dataframe\">\n",
       "  <thead>\n",
       "    <tr style=\"text-align: right;\">\n",
       "      <th></th>\n",
       "      <th>summary_word</th>\n",
       "      <th>title</th>\n",
       "    </tr>\n",
       "  </thead>\n",
       "  <tbody>\n",
       "    <tr>\n",
       "      <th>0</th>\n",
       "      <td>Frodo</td>\n",
       "      <td>The Hobbit: An Unexpected Journey, The Lord of the Rings: The Return of the King, The Lord of the Rings: The Two Towers</td>\n",
       "    </tr>\n",
       "    <tr>\n",
       "      <th>1</th>\n",
       "      <td>Jurassic</td>\n",
       "      <td>Jurassic World</td>\n",
       "    </tr>\n",
       "    <tr>\n",
       "      <th>2</th>\n",
       "      <td>abducted</td>\n",
       "      <td>Guardians of the Galaxy</td>\n",
       "    </tr>\n",
       "    <tr>\n",
       "      <th>3</th>\n",
       "      <td>alien</td>\n",
       "      <td>Avatar, The Martian, WALL·E</td>\n",
       "    </tr>\n",
       "    <tr>\n",
       "      <th>4</th>\n",
       "      <td>evil</td>\n",
       "      <td>The Dark Knight, The Dark Knight Rises, The Matrix, Iron Man, Star Wars: The Force Awakens, Skyfall, Batman Begins, Captain America: The First Avenger, Star Wars, The Wolf of Wall Street, Inglourious Basterds, Shutter Island, The Revenant</td>\n",
       "    </tr>\n",
       "    <tr>\n",
       "      <th>5</th>\n",
       "      <td>interstellar</td>\n",
       "      <td>Interstellar</td>\n",
       "    </tr>\n",
       "    <tr>\n",
       "      <th>6</th>\n",
       "      <td>learns</td>\n",
       "      <td>Harry Potter and the Philosopher's Stone, Man of Steel</td>\n",
       "    </tr>\n",
       "    <tr>\n",
       "      <th>7</th>\n",
       "      <td>prison</td>\n",
       "      <td>Django Unchained, The Shawshank Redemption, Suicide Squad</td>\n",
       "    </tr>\n",
       "    <tr>\n",
       "      <th>8</th>\n",
       "      <td>really</td>\n",
       "      <td>Inception, The Avengers, Fight Club, The Hunger Games, Mad Max: Fury Road, Iron Man 3, The Lord of the Rings: The Fellowship of the Ring, Pulp Fiction, Forrest Gump, Titanic, Pirates of the Caribbean: The Curse of the Black Pearl, Up, Inside Out, The Amazing Spider-Man, The Hunger Games: Catching Fire, Despicable Me, The Hangover</td>\n",
       "    </tr>\n",
       "    <tr>\n",
       "      <th>9</th>\n",
       "      <td>superhero</td>\n",
       "      <td>Deadpool, Captain America: Civil War, Batman v Superman: Dawn of Justice, Iron Man 2, Avengers: Age of Ultron, Thor</td>\n",
       "    </tr>\n",
       "  </tbody>\n",
       "</table>\n",
       "</div>"
      ],
      "text/plain": [
       "   summary_word  \\\n",
       "0  Frodo          \n",
       "1  Jurassic       \n",
       "2  abducted       \n",
       "3  alien          \n",
       "4  evil           \n",
       "5  interstellar   \n",
       "6  learns         \n",
       "7  prison         \n",
       "8  really         \n",
       "9  superhero      \n",
       "\n",
       "                                                                                                                                                                                                                                                                                                                                         title  \n",
       "0  The Hobbit: An Unexpected Journey, The Lord of the Rings: The Return of the King, The Lord of the Rings: The Two Towers                                                                                                                                                                                                                      \n",
       "1  Jurassic World                                                                                                                                                                                                                                                                                                                               \n",
       "2  Guardians of the Galaxy                                                                                                                                                                                                                                                                                                                      \n",
       "3  Avatar, The Martian, WALL·E                                                                                                                                                                                                                                                                                                                  \n",
       "4  The Dark Knight, The Dark Knight Rises, The Matrix, Iron Man, Star Wars: The Force Awakens, Skyfall, Batman Begins, Captain America: The First Avenger, Star Wars, The Wolf of Wall Street, Inglourious Basterds, Shutter Island, The Revenant                                                                                               \n",
       "5  Interstellar                                                                                                                                                                                                                                                                                                                                 \n",
       "6  Harry Potter and the Philosopher's Stone, Man of Steel                                                                                                                                                                                                                                                                                       \n",
       "7  Django Unchained, The Shawshank Redemption, Suicide Squad                                                                                                                                                                                                                                                                                    \n",
       "8  Inception, The Avengers, Fight Club, The Hunger Games, Mad Max: Fury Road, Iron Man 3, The Lord of the Rings: The Fellowship of the Ring, Pulp Fiction, Forrest Gump, Titanic, Pirates of the Caribbean: The Curse of the Black Pearl, Up, Inside Out, The Amazing Spider-Man, The Hunger Games: Catching Fire, Despicable Me, The Hangover  \n",
       "9  Deadpool, Captain America: Civil War, Batman v Superman: Dawn of Justice, Iron Man 2, Avengers: Age of Ultron, Thor                                                                                                                                                                                                                          "
      ]
     },
     "metadata": {},
     "output_type": "display_data"
    }
   ],
   "source": [
    "with pd.option_context('display.max_colwidth', -1):\n",
    "    display(movies_to_plot[[\"title\", \"summary_word\"]].groupby(\"summary_word\")[\"title\"].apply(lambda x: ', '.join(x)).reset_index())"
   ]
  },
  {
   "cell_type": "markdown",
   "metadata": {},
   "source": [
    "The results are very interesting! The summary words are quite good and the clustering makes sense! Lord of the Rings movies, alien movies, and so on.\n",
    "\n",
    "Word2Vec is a very impressive model!"
   ]
  },
  {
   "cell_type": "markdown",
   "metadata": {},
   "source": [
    "### Combining the Models\n",
    "\n",
    "We have 1 model for the columns __genre, original language, keywords, director and top actors__ - based on the `HashingVectorizer` and 3 models for the __overview__ column - based on `TF-IDF`, `Doc2Vec` and a pre-trained `Word2Vec` on Google News.\n",
    "\n",
    "We'll combine the `PlainPropertiesRecommender` and the `Word2VecRecommender` by averaging the similarity scores of the results."
   ]
  },
  {
   "cell_type": "code",
   "execution_count": 67,
   "metadata": {},
   "outputs": [],
   "source": [
    "import os\n",
    "import gensim\n",
    "\n",
    "class ContentBasedRecommender:\n",
    "    def __init__(self, recommender_1, weight_1, recommender_2, weight_2):\n",
    "        self.recommender_1 = recommender_1\n",
    "        self.weight_1 = weight_1\n",
    "        self.recommender_2 = recommender_2\n",
    "        self.weight_2 = weight_2\n",
    "\n",
    "    def recommend(self, movie_title: str, top_n: int = 5):\n",
    "        recommendations1 = self.recommender_1.recommend(movie_title, movies.shape[0])\n",
    "        recommendations1['score'] = recommendations1['score'] * self.weight_1\n",
    "        recommendations2 = self.recommender_2.recommend(movie_title, movies.shape[0])\n",
    "        recommendations2['score'] = recommendations2['score'] * self.weight_2\n",
    "\n",
    "        combined = recommendations1.merge(recommendations2[[\"id\", \"score\"]], on='id')\n",
    "\n",
    "        combined['mean_score'] = (combined['score_x'].to_numpy() + combined['score_y'].to_numpy()) / 2\n",
    "\n",
    "        return combined.sort_values(by='mean_score', ascending=False).head(top_n)"
   ]
  },
  {
   "cell_type": "code",
   "execution_count": 68,
   "metadata": {},
   "outputs": [
    {
     "name": "stderr",
     "output_type": "stream",
     "text": [
      "/var/folders/tl/9n338bsj4217gjszrx8gmpg80000gn/T/ipykernel_75105/1997904561.py:22: SettingWithCopyWarning: \n",
      "A value is trying to be set on a copy of a slice from a DataFrame.\n",
      "Try using .loc[row_indexer,col_indexer] = value instead\n",
      "\n",
      "See the caveats in the documentation: https://pandas.pydata.org/pandas-docs/stable/user_guide/indexing.html#returning-a-view-versus-a-copy\n",
      "  others_w2v[\"score\"] = similarities\n"
     ]
    },
    {
     "data": {
      "text/html": [
       "<div>\n",
       "<style scoped>\n",
       "    .dataframe tbody tr th:only-of-type {\n",
       "        vertical-align: middle;\n",
       "    }\n",
       "\n",
       "    .dataframe tbody tr th {\n",
       "        vertical-align: top;\n",
       "    }\n",
       "\n",
       "    .dataframe thead th {\n",
       "        text-align: right;\n",
       "    }\n",
       "</style>\n",
       "<table border=\"1\" class=\"dataframe\">\n",
       "  <thead>\n",
       "    <tr style=\"text-align: right;\">\n",
       "      <th></th>\n",
       "      <th>title</th>\n",
       "      <th>overview</th>\n",
       "      <th>score_x</th>\n",
       "      <th>score_y</th>\n",
       "      <th>mean_score</th>\n",
       "    </tr>\n",
       "  </thead>\n",
       "  <tbody>\n",
       "    <tr>\n",
       "      <th>7</th>\n",
       "      <td>Hannie Caulder</td>\n",
       "      <td>Hannie enlists the aid of bounty hunter Tom Price to teach her how to be a gunfighter so she can hunt down the 3 men who killed her husband and raped her.</td>\n",
       "      <td>0.100401</td>\n",
       "      <td>0.207007</td>\n",
       "      <td>0.153704</td>\n",
       "    </tr>\n",
       "    <tr>\n",
       "      <th>0</th>\n",
       "      <td>The Hateful Eight</td>\n",
       "      <td>Bounty hunters seek shelter from a raging blizzard and get caught up in a plot of betrayal and deception.</td>\n",
       "      <td>0.129165</td>\n",
       "      <td>0.166284</td>\n",
       "      <td>0.147724</td>\n",
       "    </tr>\n",
       "    <tr>\n",
       "      <th>9</th>\n",
       "      <td>Kite</td>\n",
       "      <td>Based on the groundbreaking, cult classic anime, KITE tells the story of Sawa, a young woman living in a corrupt society where crime and gangs terrorize the streets. When Sawa's mother and policeman father are found victims of a grisly double homicide, she begins a ruthless pursuit for the man who murdered them. With the help of her father's ex-partner, Karl Aker, and a mysterious friend from her past, she becomes a merciless teen assassin, blasting her way through the dark world of human trafficking only to uncover a devastating truth</td>\n",
       "      <td>0.099859</td>\n",
       "      <td>0.179401</td>\n",
       "      <td>0.139630</td>\n",
       "    </tr>\n",
       "    <tr>\n",
       "      <th>184</th>\n",
       "      <td>The Muthers</td>\n",
       "      <td>A band of female pirates go undercover at a prison camp on a coffee plantation to rescue their leader's sister.</td>\n",
       "      <td>0.068994</td>\n",
       "      <td>0.209818</td>\n",
       "      <td>0.139406</td>\n",
       "    </tr>\n",
       "    <tr>\n",
       "      <th>40</th>\n",
       "      <td>Ride with the Devil</td>\n",
       "      <td>Ride with the Devil follows four people who are fighting for truth and justice amidst the turmoil of the American Civil War. Director Ang Lee takes us to a no man's land on the Missouri/Kansas border where a staunch loyalist, an immigrant's son, a freed slave, and a young widow form an unlikely friendship as they learn how to survive in an uncertain time. In a place without rules and redefine the meaning of bravery and honor.</td>\n",
       "      <td>0.083215</td>\n",
       "      <td>0.194907</td>\n",
       "      <td>0.139061</td>\n",
       "    </tr>\n",
       "    <tr>\n",
       "      <th>6</th>\n",
       "      <td>The Outlaw Josey Wales</td>\n",
       "      <td>After avenging his family's brutal murder, Wales is pursued by a pack of soldiers. He prefers to travel alone, but ragtag outcasts are drawn to him - and Wales can't bring himself to leave them unprotected.</td>\n",
       "      <td>0.103141</td>\n",
       "      <td>0.172448</td>\n",
       "      <td>0.137795</td>\n",
       "    </tr>\n",
       "    <tr>\n",
       "      <th>26</th>\n",
       "      <td>Return to Lonesome Dove</td>\n",
       "      <td>'Captain' Call has just buried Gus at Lonesome Dove and plans to head back to his ranch in Montana. Looking at a herd of wild Mustangs, he decides to drive them north with the help of Isom and Gideon Walker. Gideon hires Agostina Vega and Mexican Cowboys to run the Mustangs. Call leaves the drive for Nebraska and runs into Cherokee Jack and a group of Indians, which almost costs him his life. In Montana, Newt and Jasper get into a shoot out in the local bar and wind up in jail. The odds of them surviving the lynch mob are slim until Dunnegan has them freed. However, Newt and Jasper will have to work for Dunnegan to keep their freedom. Newt has mixed emotions about working for Dunnegan who helps him in any way, because he also has respect for Call - who may or may not be his true father. Dunnegan has big plans for his cattle and the future. Those plans do not include those who do not throw in with him and the Hat Creek Cattle Company is not interested in Dunnegan.</td>\n",
       "      <td>0.089626</td>\n",
       "      <td>0.185428</td>\n",
       "      <td>0.137527</td>\n",
       "    </tr>\n",
       "    <tr>\n",
       "      <th>535</th>\n",
       "      <td>Freedom</td>\n",
       "      <td>Two men separated by 100 years are united in their search for freedom. In 1856 a slave, Samuel Woodward and his family, escape from the Monroe Plantation near Richmond, Virginia. A secret network of ordinary people known as the Underground Railroad guide the family on their journey north to Canada. They are relentlessly pursued by the notorious slave hunter Plimpton. Hunted like a dog and haunted by the unthinkable suffering he and his forbears have endured, Samuel is forced to decide between revenge or freedom. 100 years earlier in 1748, John Newton the Captain of a slave trader sails from Africa with a cargo of slaves, bound for America. On board is Samuel's great grandfather whose survival is tied to the fate of Captain Newton. The voyage changes Newton's life forever and he creates a legacy that will inspire Samuel and the lives of millions for generations to come.</td>\n",
       "      <td>0.058674</td>\n",
       "      <td>0.215860</td>\n",
       "      <td>0.137267</td>\n",
       "    </tr>\n",
       "    <tr>\n",
       "      <th>28</th>\n",
       "      <td>Tom Horn</td>\n",
       "      <td>A renowned former army scout is hired by ranchers to hunt down rustlers but finds himself on trial for the murder of a boy when he carries out his job too well. Tom Horn finds that the simple skills he knows are of no help in dealing with the ambitions of ranchers and corrupt officials as progress marches over him and the old west.</td>\n",
       "      <td>0.088406</td>\n",
       "      <td>0.185621</td>\n",
       "      <td>0.137014</td>\n",
       "    </tr>\n",
       "    <tr>\n",
       "      <th>117</th>\n",
       "      <td>Sparrows</td>\n",
       "      <td>Evil Mr.Grimes keeps a rag-tag bunch orphans on his farm deep in a swamp in the US South. He forces them to work in his garden and treats them like slaves. They are watched over by the eldest, Molly. A gang in league with Mr. Grimes kidnaps Doris, the beautiful little daughter of a rich man, and hides her out on Grimes' farm, awaiting ransom. When the police close in, and Mr. Grimes threatens to throw Doris into the bottomless mire, Molly must lead her little flock out through the alligator-infested swamp.</td>\n",
       "      <td>0.071701</td>\n",
       "      <td>0.201616</td>\n",
       "      <td>0.136658</td>\n",
       "    </tr>\n",
       "  </tbody>\n",
       "</table>\n",
       "</div>"
      ],
      "text/plain": [
       "                       title  \\\n",
       "7    Hannie Caulder            \n",
       "0    The Hateful Eight         \n",
       "9    Kite                      \n",
       "184  The Muthers               \n",
       "40   Ride with the Devil       \n",
       "6    The Outlaw Josey Wales    \n",
       "26   Return to Lonesome Dove   \n",
       "535  Freedom                   \n",
       "28   Tom Horn                  \n",
       "117  Sparrows                  \n",
       "\n",
       "                                                                                                                                                                                                                                                                                                                                                                                                                                                                                                                                                                                                                                                                                                                                                                                                                                                                                                                                                                                                              overview  \\\n",
       "7    Hannie enlists the aid of bounty hunter Tom Price to teach her how to be a gunfighter so she can hunt down the 3 men who killed her husband and raped her.                                                                                                                                                                                                                                                                                                                                                                                                                                                                                                                                                                                                                                                                                                                                                                                                                                                          \n",
       "0    Bounty hunters seek shelter from a raging blizzard and get caught up in a plot of betrayal and deception.                                                                                                                                                                                                                                                                                                                                                                                                                                                                                                                                                                                                                                                                                                                                                                                                                                                                                                           \n",
       "9    Based on the groundbreaking, cult classic anime, KITE tells the story of Sawa, a young woman living in a corrupt society where crime and gangs terrorize the streets. When Sawa's mother and policeman father are found victims of a grisly double homicide, she begins a ruthless pursuit for the man who murdered them. With the help of her father's ex-partner, Karl Aker, and a mysterious friend from her past, she becomes a merciless teen assassin, blasting her way through the dark world of human trafficking only to uncover a devastating truth                                                                                                                                                                                                                                                                                                                                                                                                                                                       \n",
       "184  A band of female pirates go undercover at a prison camp on a coffee plantation to rescue their leader's sister.                                                                                                                                                                                                                                                                                                                                                                                                                                                                                                                                                                                                                                                                                                                                                                                                                                                                                                     \n",
       "40   Ride with the Devil follows four people who are fighting for truth and justice amidst the turmoil of the American Civil War. Director Ang Lee takes us to a no man's land on the Missouri/Kansas border where a staunch loyalist, an immigrant's son, a freed slave, and a young widow form an unlikely friendship as they learn how to survive in an uncertain time. In a place without rules and redefine the meaning of bravery and honor.                                                                                                                                                                                                                                                                                                                                                                                                                                                                                                                                                                       \n",
       "6    After avenging his family's brutal murder, Wales is pursued by a pack of soldiers. He prefers to travel alone, but ragtag outcasts are drawn to him - and Wales can't bring himself to leave them unprotected.                                                                                                                                                                                                                                                                                                                                                                                                                                                                                                                                                                                                                                                                                                                                                                                                      \n",
       "26   'Captain' Call has just buried Gus at Lonesome Dove and plans to head back to his ranch in Montana. Looking at a herd of wild Mustangs, he decides to drive them north with the help of Isom and Gideon Walker. Gideon hires Agostina Vega and Mexican Cowboys to run the Mustangs. Call leaves the drive for Nebraska and runs into Cherokee Jack and a group of Indians, which almost costs him his life. In Montana, Newt and Jasper get into a shoot out in the local bar and wind up in jail. The odds of them surviving the lynch mob are slim until Dunnegan has them freed. However, Newt and Jasper will have to work for Dunnegan to keep their freedom. Newt has mixed emotions about working for Dunnegan who helps him in any way, because he also has respect for Call - who may or may not be his true father. Dunnegan has big plans for his cattle and the future. Those plans do not include those who do not throw in with him and the Hat Creek Cattle Company is not interested in Dunnegan.   \n",
       "535  Two men separated by 100 years are united in their search for freedom. In 1856 a slave, Samuel Woodward and his family, escape from the Monroe Plantation near Richmond, Virginia. A secret network of ordinary people known as the Underground Railroad guide the family on their journey north to Canada. They are relentlessly pursued by the notorious slave hunter Plimpton. Hunted like a dog and haunted by the unthinkable suffering he and his forbears have endured, Samuel is forced to decide between revenge or freedom. 100 years earlier in 1748, John Newton the Captain of a slave trader sails from Africa with a cargo of slaves, bound for America. On board is Samuel's great grandfather whose survival is tied to the fate of Captain Newton. The voyage changes Newton's life forever and he creates a legacy that will inspire Samuel and the lives of millions for generations to come.                                                                                                   \n",
       "28   A renowned former army scout is hired by ranchers to hunt down rustlers but finds himself on trial for the murder of a boy when he carries out his job too well. Tom Horn finds that the simple skills he knows are of no help in dealing with the ambitions of ranchers and corrupt officials as progress marches over him and the old west.                                                                                                                                                                                                                                                                                                                                                                                                                                                                                                                                                                                                                                                                       \n",
       "117  Evil Mr.Grimes keeps a rag-tag bunch orphans on his farm deep in a swamp in the US South. He forces them to work in his garden and treats them like slaves. They are watched over by the eldest, Molly. A gang in league with Mr. Grimes kidnaps Doris, the beautiful little daughter of a rich man, and hides her out on Grimes' farm, awaiting ransom. When the police close in, and Mr. Grimes threatens to throw Doris into the bottomless mire, Molly must lead her little flock out through the alligator-infested swamp.                                                                                                                                                                                                                                                                                                                                                                                                                                                                                     \n",
       "\n",
       "      score_x   score_y  mean_score  \n",
       "7    0.100401  0.207007  0.153704    \n",
       "0    0.129165  0.166284  0.147724    \n",
       "9    0.099859  0.179401  0.139630    \n",
       "184  0.068994  0.209818  0.139406    \n",
       "40   0.083215  0.194907  0.139061    \n",
       "6    0.103141  0.172448  0.137795    \n",
       "26   0.089626  0.185428  0.137527    \n",
       "535  0.058674  0.215860  0.137267    \n",
       "28   0.088406  0.185621  0.137014    \n",
       "117  0.071701  0.201616  0.136658    "
      ]
     },
     "metadata": {},
     "output_type": "display_data"
    }
   ],
   "source": [
    "content_recommender = ContentBasedRecommender(plain_props_recommender, 0.7, w2v_recommender, 0.3)\n",
    "with pd.option_context('display.max_colwidth', -1):\n",
    "    display(content_recommender.recommend('Django Unchained', 10)[['title', 'overview', 'score_x', 'score_y', 'mean_score']])"
   ]
  },
  {
   "cell_type": "markdown",
   "metadata": {},
   "source": [
    "## Second Try - A Collaborative Based Recommendation System\n",
    "\n",
    "This time we will completely ignore the movies' properties and focus solely on finding similarities between different users.  \n",
    "This technique is known as **collaborative filtering**, and the idea behind it is to find recommendations for movies through similarity between users who rated them, as an example, let's say that we have 5 users and 5 movies:\n",
    "\n",
    "![1](https://github.com/adi-benz/movies-rating-analysis/raw/main/resources/cf-1.png)\n",
    "\n",
    "and for each (user, movie) we have a rating of thumbs up or thumbs down, and when trying to know if we want to recommend the _blue movie_ to _user 5_\n",
    "\n",
    "![2](https://github.com/adi-benz/movies-rating-analysis/raw/main/resources/cf-2.png)\n",
    "\n",
    "we can look at _user 2_ and _user 3_ which also like movies similar to _user 5_ and also watched the _blue movie_, so we in this case we can see that _user 5_ and _user 3 & 4_ have similar taste and so it's likely that _user 5_ will **not like** the _blue movie_.\n",
    "\n",
    "The important thing is that all this can be done **without any knowledge about the movies themselves**.\n",
    "\n",
    "This technique has some key **advantages** over content based systems:\n",
    "1. The recommendation scope isn't limited - if we have a user that only like racing movies we would only recommend movies with similar plot, meaning movie about racing, but with collaborative filtering we might find that users that usually like racing movies also like war movies, and through the recommendation system expose the user to new content he might like\n",
    "2. It isn't domain specific - we don't have to get familiar with the different properties of movies, we let the similarity between users to do the work\n",
    "\n",
    "And **disadvantages**:\n",
    "1. The requirement for a big dataset of users' interactions\n",
    "2. The variety of the recommendations will be as good as the users'"
   ]
  },
  {
   "cell_type": "markdown",
   "metadata": {},
   "source": [
    "### Singular Value Decomposition (SVD)\n",
    "\n",
    "A well established way of performing collaborative recommendations is by using SVD.  \n",
    "As always we want to represent our movies as vectors so we can manipulate them easily, and while in a content based recommendation system we did that by extract features as we saw fit like genre, overview, director and so on, with collaborative systems we generate features for the movies by using the users' ratings.  \n",
    "These features are called **latent features**, meaning hidden features, these features are auto generated, not selected by a data scientist and are unrelated to the actual movie itself, they are derived from the ratings alone.\n",
    "\n",
    "This technique of using SVD for collaborative recommender systems is so common that there's a library named [surpr!se](http://surpriselib.com/) that is dedicated for this purpose. And that will be what I will use.\n",
    "\n",
    "For the purpose of training our model we will use our `ratings.csv` dataset that contains 26 million ratings from 260,000 users for 45,000 movies."
   ]
  },
  {
   "cell_type": "code",
   "execution_count": 72,
   "metadata": {},
   "outputs": [],
   "source": [
    "from surprise import SVD, Dataset, Reader, accuracy\n",
    "from surprise.model_selection import train_test_split\n",
    "\n",
    "class SvdRecommender:\n",
    "    def __init__(self, movies_df, ratings):\n",
    "        self.movies_df = movies_df.copy()\n",
    "        self.ratings = ratings\n",
    "        self.model = self._train_model()\n",
    "\n",
    "    def _train_model(self):\n",
    "        reader = Reader(rating_scale=(1, 5))\n",
    "\n",
    "        # surprise's dataset receives the DataFrame in the order [user ID, movie ID, rating]\n",
    "        data = Dataset.load_from_df(self.ratings[[\"userId\", \"movieId\", \"rating\"]], reader)\n",
    "\n",
    "        train_set, test_set = train_test_split(data, test_size=0.25)\n",
    "\n",
    "        model = SVD(n_factors=20)\n",
    "        model.fit(train_set)\n",
    "\n",
    "        test_predictions = model.test(test_set)\n",
    "        accuracy.rmse(test_predictions)\n",
    "\n",
    "        return model\n",
    "\n",
    "    def recommend(self, movie_title: str, top_n: int = 5):\n",
    "        target_movie = self.movies_df[self.movies_df[\"title\"] == movie_title].iloc[0]\n",
    "        target_movie_vec = self.model.qi[self.model.trainset.to_inner_iid(target_movie[\"id\"])]\n",
    "\n",
    "        similarities_score = cosine_similarity([target_movie_vec], self.model.qi)[0]\n",
    "\n",
    "        indices = similarities_score.argsort()[-top_n - 1:-1][::-1]\n",
    "        scores = np.sort(similarities_score)[-top_n - 1:-1][::-1]\n",
    "\n",
    "        movie_ids = [self.model.trainset.to_raw_iid(i) for i in indices]\n",
    "\n",
    "        movies_recomms = self.movies_df.set_index('id').loc[movie_ids]\n",
    "        movies_recomms['score'] = scores\n",
    "        return movies_recomms\n",
    "\n",
    "    def compare(self, movie1, movie2):\n",
    "        movie1_id = self.movies_df[self.movies_df[\"title\"] == movie1].iloc[0][\"id\"]\n",
    "        movie2_id = self.movies_df[self.movies_df[\"title\"] == movie2].iloc[0][\"id\"]\n",
    "\n",
    "        movie1_item_id = self.model.trainset.to_inner_iid(movie1_id)\n",
    "        movie2_item_id = self.model.trainset.to_inner_iid(movie2_id)\n",
    "\n",
    "        score = cosine_similarity([self.model.qi[movie1_item_id]], [self.model.qi[movie2_item_id]])[0]\n",
    "\n",
    "        return score\n",
    "\n",
    "svd_recommender = SvdRecommender(movies, ratings)"
   ]
  },
  {
   "cell_type": "code",
   "execution_count": 73,
   "metadata": {},
   "outputs": [
    {
     "data": {
      "text/html": [
       "<div>\n",
       "<style scoped>\n",
       "    .dataframe tbody tr th:only-of-type {\n",
       "        vertical-align: middle;\n",
       "    }\n",
       "\n",
       "    .dataframe tbody tr th {\n",
       "        vertical-align: top;\n",
       "    }\n",
       "\n",
       "    .dataframe thead th {\n",
       "        text-align: right;\n",
       "    }\n",
       "</style>\n",
       "<table border=\"1\" class=\"dataframe\">\n",
       "  <thead>\n",
       "    <tr style=\"text-align: right;\">\n",
       "      <th></th>\n",
       "      <th>title</th>\n",
       "      <th>overview</th>\n",
       "      <th>score</th>\n",
       "    </tr>\n",
       "    <tr>\n",
       "      <th>id</th>\n",
       "      <th></th>\n",
       "      <th></th>\n",
       "      <th></th>\n",
       "    </tr>\n",
       "  </thead>\n",
       "  <tbody>\n",
       "    <tr>\n",
       "      <th>16869</th>\n",
       "      <td>Inglourious Basterds</td>\n",
       "      <td>In Nazi-occupied France during World War II, a group of Jewish-American soldiers known as \"The B...</td>\n",
       "      <td>0.929231</td>\n",
       "    </tr>\n",
       "    <tr>\n",
       "      <th>273248</th>\n",
       "      <td>The Hateful Eight</td>\n",
       "      <td>Bounty hunters seek shelter from a raging blizzard and get caught up in a plot of betrayal and d...</td>\n",
       "      <td>0.906308</td>\n",
       "    </tr>\n",
       "    <tr>\n",
       "      <th>22311</th>\n",
       "      <td>The Inglorious Bastards</td>\n",
       "      <td>Set in Europe during WWII, a group of American soldiers on their way to military prison are bese...</td>\n",
       "      <td>0.851407</td>\n",
       "    </tr>\n",
       "    <tr>\n",
       "      <th>106646</th>\n",
       "      <td>The Wolf of Wall Street</td>\n",
       "      <td>A New York stockbroker refuses to cooperate in a large securities fraud case involving corruptio...</td>\n",
       "      <td>0.839610</td>\n",
       "    </tr>\n",
       "    <tr>\n",
       "      <th>1422</th>\n",
       "      <td>The Departed</td>\n",
       "      <td>To take down South Boston's Irish Mafia, the police send in one of their own to infiltrate the u...</td>\n",
       "      <td>0.815120</td>\n",
       "    </tr>\n",
       "    <tr>\n",
       "      <th>1124</th>\n",
       "      <td>The Prestige</td>\n",
       "      <td>A mysterious story of two magicians whose intense rivalry leads them on a life-long battle for s...</td>\n",
       "      <td>0.811372</td>\n",
       "    </tr>\n",
       "    <tr>\n",
       "      <th>550</th>\n",
       "      <td>Fight Club</td>\n",
       "      <td>A ticking-time-bomb insomniac and a slippery soap salesman channel primal male aggression into a...</td>\n",
       "      <td>0.802091</td>\n",
       "    </tr>\n",
       "    <tr>\n",
       "      <th>807</th>\n",
       "      <td>Se7en</td>\n",
       "      <td>Two homicide detectives are on a desperate hunt for a serial killer whose crimes are based on th...</td>\n",
       "      <td>0.790385</td>\n",
       "    </tr>\n",
       "    <tr>\n",
       "      <th>281957</th>\n",
       "      <td>The Revenant</td>\n",
       "      <td>In the 1820s, a frontiersman, Hugh Glass, sets out on a path of vengeance against those who left...</td>\n",
       "      <td>0.769244</td>\n",
       "    </tr>\n",
       "    <tr>\n",
       "      <th>11324</th>\n",
       "      <td>Shutter Island</td>\n",
       "      <td>World War II soldier-turned-U.S. Marshal Teddy Daniels investigates the disappearance of a patie...</td>\n",
       "      <td>0.768647</td>\n",
       "    </tr>\n",
       "  </tbody>\n",
       "</table>\n",
       "</div>"
      ],
      "text/plain": [
       "                          title  \\\n",
       "id                                \n",
       "16869      Inglourious Basterds   \n",
       "273248        The Hateful Eight   \n",
       "22311   The Inglorious Bastards   \n",
       "106646  The Wolf of Wall Street   \n",
       "1422               The Departed   \n",
       "1124               The Prestige   \n",
       "550                  Fight Club   \n",
       "807                       Se7en   \n",
       "281957             The Revenant   \n",
       "11324            Shutter Island   \n",
       "\n",
       "                                                                                                   overview  \\\n",
       "id                                                                                                            \n",
       "16869   In Nazi-occupied France during World War II, a group of Jewish-American soldiers known as \"The B...   \n",
       "273248  Bounty hunters seek shelter from a raging blizzard and get caught up in a plot of betrayal and d...   \n",
       "22311   Set in Europe during WWII, a group of American soldiers on their way to military prison are bese...   \n",
       "106646  A New York stockbroker refuses to cooperate in a large securities fraud case involving corruptio...   \n",
       "1422    To take down South Boston's Irish Mafia, the police send in one of their own to infiltrate the u...   \n",
       "1124    A mysterious story of two magicians whose intense rivalry leads them on a life-long battle for s...   \n",
       "550     A ticking-time-bomb insomniac and a slippery soap salesman channel primal male aggression into a...   \n",
       "807     Two homicide detectives are on a desperate hunt for a serial killer whose crimes are based on th...   \n",
       "281957  In the 1820s, a frontiersman, Hugh Glass, sets out on a path of vengeance against those who left...   \n",
       "11324   World War II soldier-turned-U.S. Marshal Teddy Daniels investigates the disappearance of a patie...   \n",
       "\n",
       "           score  \n",
       "id                \n",
       "16869   0.929231  \n",
       "273248  0.906308  \n",
       "22311   0.851407  \n",
       "106646  0.839610  \n",
       "1422    0.815120  \n",
       "1124    0.811372  \n",
       "550     0.802091  \n",
       "807     0.790385  \n",
       "281957  0.769244  \n",
       "11324   0.768647  "
      ]
     },
     "metadata": {},
     "output_type": "display_data"
    },
    {
     "data": {
      "text/html": [
       "<div>\n",
       "<style scoped>\n",
       "    .dataframe tbody tr th:only-of-type {\n",
       "        vertical-align: middle;\n",
       "    }\n",
       "\n",
       "    .dataframe tbody tr th {\n",
       "        vertical-align: top;\n",
       "    }\n",
       "\n",
       "    .dataframe thead th {\n",
       "        text-align: right;\n",
       "    }\n",
       "</style>\n",
       "<table border=\"1\" class=\"dataframe\">\n",
       "  <thead>\n",
       "    <tr style=\"text-align: right;\">\n",
       "      <th></th>\n",
       "      <th>title</th>\n",
       "      <th>overview</th>\n",
       "      <th>score</th>\n",
       "    </tr>\n",
       "    <tr>\n",
       "      <th>id</th>\n",
       "      <th></th>\n",
       "      <th></th>\n",
       "      <th></th>\n",
       "    </tr>\n",
       "  </thead>\n",
       "  <tbody>\n",
       "    <tr>\n",
       "      <th>1124</th>\n",
       "      <td>The Prestige</td>\n",
       "      <td>A mysterious story of two magicians whose intense rivalry leads them on a life-long battle for s...</td>\n",
       "      <td>0.847816</td>\n",
       "    </tr>\n",
       "    <tr>\n",
       "      <th>68718</th>\n",
       "      <td>Django Unchained</td>\n",
       "      <td>With the help of a German bounty hunter, a freed slave sets out to rescue his wife from a brutal...</td>\n",
       "      <td>0.768647</td>\n",
       "    </tr>\n",
       "    <tr>\n",
       "      <th>1830</th>\n",
       "      <td>Lord of War</td>\n",
       "      <td>Yuri Orlov is a globetrotting arms dealer and, through some of the deadliest war zones, he strug...</td>\n",
       "      <td>0.766525</td>\n",
       "    </tr>\n",
       "    <tr>\n",
       "      <th>31011</th>\n",
       "      <td>Mr. Nobody</td>\n",
       "      <td>Nemo Nobody leads an ordinary existence with his wife and 3 children; one day, he wakes up as a ...</td>\n",
       "      <td>0.761079</td>\n",
       "    </tr>\n",
       "    <tr>\n",
       "      <th>9533</th>\n",
       "      <td>Red Dragon</td>\n",
       "      <td>Former FBI Agent Will Graham, who was once almost killed by the savage Hannibal 'The Cannibal' L...</td>\n",
       "      <td>0.752916</td>\n",
       "    </tr>\n",
       "    <tr>\n",
       "      <th>4553</th>\n",
       "      <td>The Machinist</td>\n",
       "      <td>The Machinist is the story of Trevor Reznik, a lathe-operator who is dying of insomnia. In a mac...</td>\n",
       "      <td>0.750031</td>\n",
       "    </tr>\n",
       "    <tr>\n",
       "      <th>4922</th>\n",
       "      <td>The Curious Case of Benjamin Button</td>\n",
       "      <td>Tells the story of Benjamin Button, a man who starts aging backwards with bizarre consequences.</td>\n",
       "      <td>0.744877</td>\n",
       "    </tr>\n",
       "    <tr>\n",
       "      <th>1427</th>\n",
       "      <td>Perfume: The Story of a Murderer</td>\n",
       "      <td>Jean-Baptiste Grenouille, born in the stench of 18th century Paris, develops a superior olfactor...</td>\n",
       "      <td>0.736266</td>\n",
       "    </tr>\n",
       "    <tr>\n",
       "      <th>37954</th>\n",
       "      <td>The Breaking Point</td>\n",
       "      <td>Based on the Hemingway novel To Have and Have Not. A fisherman with money problems hires out his...</td>\n",
       "      <td>0.731174</td>\n",
       "    </tr>\n",
       "    <tr>\n",
       "      <th>27205</th>\n",
       "      <td>Inception</td>\n",
       "      <td>Cobb, a skilled thief who commits corporate espionage by infiltrating the subconscious of his ta...</td>\n",
       "      <td>0.730121</td>\n",
       "    </tr>\n",
       "  </tbody>\n",
       "</table>\n",
       "</div>"
      ],
      "text/plain": [
       "                                     title  \\\n",
       "id                                           \n",
       "1124                          The Prestige   \n",
       "68718                     Django Unchained   \n",
       "1830                           Lord of War   \n",
       "31011                           Mr. Nobody   \n",
       "9533                            Red Dragon   \n",
       "4553                         The Machinist   \n",
       "4922   The Curious Case of Benjamin Button   \n",
       "1427      Perfume: The Story of a Murderer   \n",
       "37954                   The Breaking Point   \n",
       "27205                            Inception   \n",
       "\n",
       "                                                                                                  overview  \\\n",
       "id                                                                                                           \n",
       "1124   A mysterious story of two magicians whose intense rivalry leads them on a life-long battle for s...   \n",
       "68718  With the help of a German bounty hunter, a freed slave sets out to rescue his wife from a brutal...   \n",
       "1830   Yuri Orlov is a globetrotting arms dealer and, through some of the deadliest war zones, he strug...   \n",
       "31011  Nemo Nobody leads an ordinary existence with his wife and 3 children; one day, he wakes up as a ...   \n",
       "9533   Former FBI Agent Will Graham, who was once almost killed by the savage Hannibal 'The Cannibal' L...   \n",
       "4553   The Machinist is the story of Trevor Reznik, a lathe-operator who is dying of insomnia. In a mac...   \n",
       "4922       Tells the story of Benjamin Button, a man who starts aging backwards with bizarre consequences.   \n",
       "1427   Jean-Baptiste Grenouille, born in the stench of 18th century Paris, develops a superior olfactor...   \n",
       "37954  Based on the Hemingway novel To Have and Have Not. A fisherman with money problems hires out his...   \n",
       "27205  Cobb, a skilled thief who commits corporate espionage by infiltrating the subconscious of his ta...   \n",
       "\n",
       "          score  \n",
       "id               \n",
       "1124   0.847816  \n",
       "68718  0.768647  \n",
       "1830   0.766525  \n",
       "31011  0.761079  \n",
       "9533   0.752916  \n",
       "4553   0.750031  \n",
       "4922   0.744877  \n",
       "1427   0.736266  \n",
       "37954  0.731174  \n",
       "27205  0.730121  "
      ]
     },
     "metadata": {},
     "output_type": "display_data"
    }
   ],
   "source": [
    "with pd.option_context('display.max_colwidth', 100):\n",
    "    display(svd_recommender.recommend(\"Django Unchained\", 10)[[\"title\", \"overview\", \"score\"]])\n",
    "    display(svd_recommender.recommend(\"Shutter Island\", 10)[[\"title\", \"overview\", \"score\"]])"
   ]
  },
  {
   "cell_type": "markdown",
   "metadata": {},
   "source": [
    "From looking at the result we can appriciate how good the recommender is, with so little effort!\n",
    "\n",
    "**Analyzing the Results**\n",
    "\n",
    "We got an RMSE of ~0.80, for comparison we can calculate the RMSE of the most trivial predictor - always guessing the mean rating"
   ]
  },
  {
   "cell_type": "code",
   "execution_count": 76,
   "metadata": {},
   "outputs": [
    {
     "name": "stdout",
     "output_type": "stream",
     "text": [
      "The mean score of the 26010786 ratings is 3.5280\n",
      "RMSE of trivial mean score prediction is 1.0653\n"
     ]
    }
   ],
   "source": [
    "mean_score = ratings[\"rating\"].mean()\n",
    "print(f\"The mean score of the {ratings.shape[0]} ratings is {mean_score:.4f}\")\n",
    "\n",
    "rmse_of_trivial = np.sqrt(((ratings[\"rating\"].to_numpy() - mean_score) ** 2).mean())\n",
    "print(f\"RMSE of trivial mean score prediction is {rmse_of_trivial:.4f}\")"
   ]
  },
  {
   "cell_type": "markdown",
   "metadata": {},
   "source": [
    "Our SVD recommender is a 24.9% improvement over the trivial one, this is quite good for an off-the-shelf model.\n",
    "\n",
    "The really interesting part is the **how** these results were achived.  \n",
    "For a deeper dive, let's create an interactive plot of the top 500 rated movies and try to spot interesting trends."
   ]
  },
  {
   "cell_type": "code",
   "execution_count": 78,
   "metadata": {},
   "outputs": [],
   "source": [
    "movies_to_plot = movies.sort_values(by='vote_count', ascending=False).head(500)"
   ]
  },
  {
   "cell_type": "markdown",
   "metadata": {},
   "source": [
    "For each movie, we'll need its vector of features created by our SVD model"
   ]
  },
  {
   "cell_type": "code",
   "execution_count": 79,
   "metadata": {},
   "outputs": [],
   "source": [
    "def get_svd_model_vec(movie_id: int):\n",
    "    inner_item_id = svd_recommender.model.trainset.to_inner_iid(movie_id)\n",
    "    return svd_recommender.model.qi[inner_item_id]\n",
    "\n",
    "movies_to_plot[\"vec\"] = movies_to_plot['id'].apply(get_svd_model_vec)"
   ]
  },
  {
   "cell_type": "markdown",
   "metadata": {},
   "source": [
    "To be able to plot these vectors, we need to perform dimention reduction, we'll use PCA for that"
   ]
  },
  {
   "cell_type": "code",
   "execution_count": 80,
   "metadata": {},
   "outputs": [],
   "source": [
    "from sklearn.decomposition import PCA\n",
    "\n",
    "pca = PCA(2)\n",
    "    \n",
    "m_2d_vec = pca.fit_transform(movies_to_plot[\"vec\"].to_list())\n",
    "movies_to_plot[\"vec_x\"] = m_2d_vec[:,0]\n",
    "movies_to_plot[\"vec_y\"] = m_2d_vec[:,1]"
   ]
  },
  {
   "cell_type": "markdown",
   "metadata": {},
   "source": [
    "Finally, let's plot the vectors and try to find some clusters"
   ]
  },
  {
   "cell_type": "code",
   "execution_count": 82,
   "metadata": {},
   "outputs": [
    {
     "data": {
      "text/html": [
       "        <script type=\"text/javascript\">\n",
       "        window.PlotlyConfig = {MathJaxConfig: 'local'};\n",
       "        if (window.MathJax) {MathJax.Hub.Config({SVG: {font: \"STIX-Web\"}});}\n",
       "        if (typeof require !== 'undefined') {\n",
       "        require.undef(\"plotly\");\n",
       "        requirejs.config({\n",
       "            paths: {\n",
       "                'plotly': ['https://cdn.plot.ly/plotly-2.9.0.min']\n",
       "            }\n",
       "        });\n",
       "        require(['plotly'], function(Plotly) {\n",
       "            window._Plotly = Plotly;\n",
       "        });\n",
       "        }\n",
       "        </script>\n",
       "        "
      ]
     },
     "metadata": {},
     "output_type": "display_data"
    },
    {
     "data": {
      "text/html": [
       "<div>                            <div id=\"25cc8555-855f-4795-8bec-828470a7fa3f\" class=\"plotly-graph-div\" style=\"height:525px; width:1000px;\"></div>            <script type=\"text/javascript\">                require([\"plotly\"], function(Plotly) {                    window.PLOTLYENV=window.PLOTLYENV || {};                                    if (document.getElementById(\"25cc8555-855f-4795-8bec-828470a7fa3f\")) {                    Plotly.newPlot(                        \"25cc8555-855f-4795-8bec-828470a7fa3f\",                        [{\"customdata\":[[[\"Action\",\"Thriller\",\"Science Fiction\",\"Mystery\",\"Adventure\"]],[[\"Drama\",\"Action\",\"Crime\",\"Thriller\"]],[[\"Action\",\"Adventure\",\"Fantasy\",\"Science Fiction\"]],[[\"Science Fiction\",\"Action\",\"Adventure\"]],[[\"Action\",\"Adventure\",\"Comedy\"]],[[\"Adventure\",\"Drama\",\"Science Fiction\"]],[[\"Drama\",\"Western\"]],[[\"Action\",\"Science Fiction\",\"Adventure\"]],[[\"Drama\"]],[[\"Science Fiction\",\"Adventure\",\"Fantasy\"]],[[\"Action\",\"Adventure\",\"Science Fiction\",\"Thriller\"]],[[\"Action\",\"Crime\",\"Drama\",\"Thriller\"]],[[\"Action\",\"Science Fiction\"]],[[\"Action\",\"Adventure\",\"Science Fiction\"]],[[\"Action\",\"Science Fiction\",\"Adventure\"]],[[\"Adventure\",\"Fantasy\",\"Action\"]],[[\"Action\",\"Adventure\",\"Science Fiction\",\"Thriller\"]],[[\"Thriller\",\"Crime\"]],[[\"Adventure\",\"Fantasy\",\"Action\"]],[[\"Drama\",\"Crime\"]],[[\"Adventure\",\"Fantasy\",\"Action\"]],[[\"Comedy\",\"Drama\",\"Romance\"]],[[\"Action\",\"Adventure\",\"Science Fiction\",\"Fantasy\"]],[[\"Drama\",\"Romance\",\"Thriller\"]],[[\"Action\",\"Adventure\",\"Thriller\"]],[[\"Action\",\"Adventure\",\"Crime\",\"Fantasy\",\"Science Fiction\"]],[[\"Adventure\",\"Fantasy\",\"Action\"]],[[\"Action\",\"Crime\",\"Drama\"]],[[\"Adventure\",\"Action\",\"Science Fiction\"]],[[\"Drama\",\"Adventure\",\"Science Fiction\"]],[[\"Adventure\",\"Fantasy\",\"Action\"]],[[\"Action\",\"Adventure\",\"Fantasy\"]],[[\"Adventure\",\"Fantasy\",\"Family\"]],[[\"Action\",\"Adventure\",\"Science Fiction\"]],[[\"Animation\",\"Comedy\",\"Family\",\"Adventure\"]],[[\"Adventure\",\"Action\",\"Science Fiction\"]],[[\"Action\",\"Adventure\",\"Science Fiction\"]],[[\"Adventure\",\"Action\",\"Science Fiction\"]],[[\"Crime\",\"Drama\",\"Comedy\"]],[[\"Drama\",\"Comedy\",\"Animation\",\"Family\"]],[[\"Action\",\"Adventure\",\"Fantasy\"]],[[\"Adventure\",\"Fantasy\",\"Action\"]],[[\"Adventure\",\"Action\",\"Science Fiction\"]],[[\"Drama\",\"Action\",\"Thriller\",\"War\"]],[[\"Animation\",\"Family\"]],[[\"Drama\",\"Thriller\",\"Mystery\"]],[[\"Western\",\"Drama\",\"Adventure\",\"Thriller\"]],[[\"Action\",\"Adventure\",\"Fantasy\",\"Science Fiction\"]],[[\"Animation\",\"Family\"]],[[\"Comedy\"]],[[\"Action\",\"Drama\",\"Science Fiction\"]],[[\"Animation\",\"Family\"]],[[\"Adventure\",\"Family\",\"Animation\",\"Action\",\"Comedy\"]],[[\"Adventure\",\"Comedy\",\"Science Fiction\",\"Family\"]],[[\"Action\",\"Adventure\",\"Fantasy\",\"Science Fiction\"]],[[\"Animation\",\"Comedy\",\"Family\"]],[[\"Family\",\"Fantasy\",\"Adventure\"]],[[\"Crime\",\"Comedy\",\"Action\",\"Adventure\"]],[[\"Action\",\"Science Fiction\"]],[[\"Adventure\",\"Fantasy\",\"Family\"]],[[\"Science Fiction\",\"Action\",\"Adventure\"]],[[\"Drama\",\"Crime\"]],[[\"Mystery\",\"Thriller\",\"Drama\"]],[[\"Adventure\",\"Action\",\"Science Fiction\"]],[[\"Adventure\",\"Fantasy\",\"Family\"]],[[\"Crime\",\"Mystery\",\"Thriller\"]],[[\"Adventure\",\"Drama\",\"Action\"]],[[\"History\",\"Drama\",\"Thriller\",\"War\"]],[[\"Action\",\"Adventure\",\"Crime\",\"Mystery\"]],[[\"Action\",\"Adventure\",\"Science Fiction\"]],[[\"Action\",\"Adventure\",\"Fantasy\",\"Science Fiction\"]],[[\"Science Fiction\",\"Thriller\",\"Drama\"]],[[\"Science Fiction\",\"Adventure\",\"Thriller\"]],[[\"Adventure\",\"Fantasy\",\"Family\"]],[[\"Thriller\",\"Drama\",\"Science Fiction\",\"Mystery\"]],[[\"Adventure\",\"Fantasy\",\"Family\"]],[[\"Action\",\"Drama\",\"Horror\",\"Science Fiction\",\"Thriller\"]],[[\"Thriller\",\"Crime\"]],[[\"Adventure\",\"Fantasy\",\"Family\",\"Mystery\"]],[[\"Adventure\",\"Family\",\"Fantasy\"]],[[\"Action\",\"Drama\",\"Adventure\"]],[[\"Action\",\"Mystery\",\"Science Fiction\",\"Thriller\"]],[[\"Family\",\"Fantasy\",\"Romance\"]],[[\"Family\",\"Animation\",\"Drama\"]],[[\"Action\",\"Thriller\"]],[[\"Animation\",\"Adventure\",\"Family\"]],[[\"Adventure\",\"Fantasy\",\"Family\"]],[[\"Animation\",\"Comedy\",\"Family\"]],[[\"Drama\",\"Comedy\"]],[[\"Fantasy\",\"Action\"]],[[\"Adventure\",\"Fantasy\",\"Action\"]],[[\"Action\",\"Adventure\",\"Animation\",\"Family\"]],[[\"Action\",\"Thriller\",\"Crime\"]],[[\"Action\",\"Science Fiction\",\"Adventure\"]],[[\"Science Fiction\",\"Adventure\",\"Mystery\"]],[[\"Drama\",\"History\",\"War\"]],[[\"Action\",\"Adventure\",\"Science Fiction\"]],[[\"Action\",\"Adventure\",\"War\"]],[[\"Action\",\"Crime\"]],[[\"Adventure\",\"Action\",\"Fantasy\"]],[[\"Action\",\"Adventure\",\"Fantasy\"]],[[\"Action\",\"Adventure\",\"Science Fiction\"]],[[\"Action\",\"Science Fiction\"]],[[\"Drama\",\"Horror\",\"Action\",\"Thriller\",\"Science Fiction\"]],[[\"Animation\",\"Adventure\",\"Family\",\"Comedy\"]],[[\"Adventure\",\"Science Fiction\"]],[[\"Action\",\"Science Fiction\",\"Adventure\"]],[[\"Action\",\"Adventure\",\"Fantasy\"]],[[\"Action\",\"Adventure\",\"Fantasy\"]],[[\"Action\",\"Science Fiction\",\"Adventure\",\"Mystery\"]],[[\"Drama\",\"Science Fiction\"]],[[\"Action\",\"Adventure\",\"Comedy\",\"Science Fiction\"]],[[\"Drama\",\"Comedy\",\"Romance\"]],[[\"Science Fiction\"]],[[\"Comedy\",\"Fantasy\"]],[[\"Adventure\",\"Action\",\"Science Fiction\"]],[[\"Action\",\"Thriller\",\"Science Fiction\"]],[[\"Family\",\"Fantasy\",\"Adventure\"]],[[\"Adventure\",\"Action\",\"Science Fiction\"]],[[\"Animation\",\"Adventure\",\"Comedy\",\"Family\",\"Action\",\"Fantasy\"]],[[\"Action\",\"Crime\"]],[[\"Comedy\",\"Drama\",\"Music\",\"Romance\"]],[[\"Animation\",\"Comedy\",\"Family\"]],[[\"Family\",\"Animation\",\"Adventure\",\"Comedy\"]],[[\"Animation\",\"Family\",\"Comedy\"]],[[\"Comedy\",\"Drama\"]],[[\"Drama\",\"Comedy\"]],[[\"Family\",\"Animation\",\"Comedy\",\"Adventure\"]],[[\"Comedy\",\"Drama\"]],[[\"Adventure\",\"Fantasy\"]],[[\"Adventure\",\"Fantasy\",\"Action\"]],[[\"Fantasy\",\"Adventure\",\"Action\",\"Family\",\"Romance\"]],[[\"War\",\"Action\"]],[[\"Science Fiction\",\"Action\",\"Adventure\"]],[[\"Horror\",\"Action\",\"Thriller\",\"Science Fiction\"]],[[\"Drama\",\"Thriller\"]],[[\"Action\",\"Thriller\",\"Fantasy\"]],[[\"Action\",\"Adventure\",\"Crime\"]],[[\"Crime\",\"Drama\",\"Thriller\"]],[[\"Adventure\",\"Action\",\"Science Fiction\"]],[[\"Action\",\"Adventure\",\"Comedy\",\"Science Fiction\"]],[[\"Science Fiction\",\"Action\",\"Drama\",\"Thriller\"]],[[\"Animation\",\"Comedy\",\"Family\",\"Fantasy\"]],[[\"Drama\",\"Mystery\",\"Thriller\"]],[[\"Action\",\"Adventure\",\"Science Fiction\"]],[[\"Horror\",\"Thriller\"]],[[\"Drama\",\"Thriller\",\"Crime\"]],[[\"Thriller\",\"Action\",\"Drama\",\"Science Fiction\"]],[[\"Action\",\"Thriller\"]],[[\"Drama\",\"History\",\"War\"]],[[\"Action\",\"Adventure\",\"Fantasy\"]],[[\"Crime\",\"Drama\",\"Mystery\",\"Western\"]],[[\"Drama\"]],[[\"Adventure\",\"Animation\",\"Comedy\",\"Family\"]],[[\"Fantasy\",\"Adventure\",\"Animation\",\"Family\"]],[[\"Thriller\",\"Crime\",\"Drama\"]],[[\"Action\",\"Adventure\",\"Fantasy\"]],[[\"Action\",\"Thriller\",\"Science Fiction\"]],[[\"Action\"]],[[\"Action\",\"Comedy\",\"Science Fiction\"]],[[\"Romance\",\"Science Fiction\",\"Drama\"]],[[\"Action\",\"Thriller\",\"Science Fiction\"]],[[\"Science Fiction\",\"Adventure\",\"Action\"]],[[\"Adventure\",\"Animation\",\"Comedy\",\"Family\",\"Fantasy\"]],[[\"Adventure\",\"Action\",\"Science Fiction\"]],[[\"Mystery\",\"Thriller\"]],[[\"Fantasy\",\"Drama\",\"Crime\"]],[[\"Action\",\"Comedy\",\"Crime\"]],[[\"Adventure\",\"Drama\",\"Romance\",\"Science Fiction\"]],[[\"Action\",\"Adventure\",\"Science Fiction\"]],[[\"Adventure\",\"Science Fiction\",\"Action\"]],[[\"Action\",\"Science Fiction\",\"Adventure\",\"Fantasy\"]],[[\"Adventure\",\"Action\",\"Thriller\",\"Science Fiction\"]],[[\"Adventure\",\"Action\",\"Science Fiction\"]],[[\"Action\",\"Crime\",\"Thriller\"]],[[\"War\",\"Drama\",\"Action\"]],[[\"Action\",\"Thriller\",\"Adventure\"]],[[\"Action\",\"Thriller\"]],[[\"Animation\",\"Adventure\",\"Comedy\",\"Family\"]],[[\"Adventure\",\"Action\",\"Crime\",\"Mystery\"]],[[\"Fantasy\",\"Adventure\",\"Animation\",\"Family\"]],[[\"Adventure\",\"Fantasy\",\"Action\",\"Thriller\",\"Science Fiction\"]],[[\"Animation\",\"Comedy\",\"Family\",\"Adventure\"]],[[\"Adventure\",\"Action\"]],[[\"Adventure\",\"Action\",\"Thriller\"]],[[\"Adventure\",\"Comedy\",\"Family\",\"Science Fiction\"]],[[\"Adventure\",\"Science Fiction\",\"Thriller\"]],[[\"Drama\",\"Crime\"]],[[\"Animation\",\"Comedy\",\"Family\"]],[[\"Horror\",\"Thriller\"]],[[\"Action\",\"Science Fiction\"]],[[\"Thriller\",\"Mystery\",\"Science Fiction\"]],[[\"Drama\",\"Romance\"]],[[\"Romance\",\"Drama\"]],[[\"Thriller\",\"Crime\"]],[[\"Comedy\"]],[[\"Science Fiction\",\"Drama\",\"Thriller\"]],[[\"Drama\",\"Action\",\"Thriller\",\"Crime\"]],[[\"Crime\",\"Thriller\"]],[[\"Action\",\"Crime\",\"Thriller\"]],[[\"Drama\",\"History\"]],[[\"Adventure\",\"Comedy\",\"Family\",\"Fantasy\"]],[[\"Science Fiction\",\"Drama\",\"Romance\"]],[[\"Fantasy\",\"Drama\",\"Romance\"]],[[\"Adventure\",\"Fantasy\",\"Drama\",\"Romance\"]],[[\"Fantasy\",\"Action\",\"Adventure\"]],[[\"Science Fiction\",\"Action\",\"Thriller\",\"Adventure\"]],[[\"Comedy\",\"Horror\"]],[[\"Comedy\",\"Drama\"]],[[\"Action\",\"Drama\",\"Mystery\",\"Thriller\"]],[[\"Animation\",\"Family\"]],[[\"Adventure\",\"Action\",\"Science Fiction\",\"Thriller\"]],[[\"Fantasy\",\"Adventure\",\"Family\"]],[[\"Fantasy\",\"Drama\",\"Mystery\"]],[[\"Adventure\",\"Action\",\"Science Fiction\",\"Thriller\"]],[[\"Animation\",\"Family\"]],[[\"Action\",\"Thriller\"]],[[\"Action\",\"Thriller\",\"Science Fiction\"]],[[\"Science Fiction\",\"Action\",\"Drama\",\"Thriller\"]],[[\"Adventure\",\"Action\",\"Thriller\",\"Science Fiction\"]],[[\"Animation\",\"Family\",\"Comedy\",\"Adventure\",\"Fantasy\",\"Romance\"]],[[\"Drama\"]],[[\"Action\",\"Crime\",\"Thriller\"]],[[\"Crime\",\"Drama\",\"Thriller\"]],[[\"Drama\",\"Thriller\"]],[[\"Adventure\",\"Animation\",\"Family\"]],[[\"Science Fiction\"]],[[\"Drama\"]],[[\"Science Fiction\",\"Drama\"]],[[\"Animation\",\"Family\"]],[[\"Drama\",\"Crime\"]],[[\"Action\",\"Drama\",\"History\",\"War\"]],[[\"Comedy\",\"Romance\"]],[[\"Drama\",\"Romance\"]],[[\"Fantasy\",\"Drama\",\"Thriller\",\"Mystery\",\"Romance\"]],[[\"Crime\",\"Comedy\",\"Action\"]],[[\"Action\",\"Adventure\",\"Comedy\",\"Crime\",\"Mystery\",\"Thriller\"]],[[\"Science Fiction\",\"Adventure\",\"Family\",\"Fantasy\"]],[[\"Action\",\"Science Fiction\",\"Adventure\"]],[[\"Drama\",\"Romance\",\"Thriller\"]],[[\"Action\",\"Adventure\",\"Science Fiction\"]],[[\"Drama\",\"Crime\",\"Thriller\"]],[[\"Family\",\"Animation\"]],[[\"Adventure\",\"Drama\"]],[[\"Drama\",\"History\",\"War\"]],[[\"Fantasy\",\"Horror\",\"Action\"]],[[\"Horror\",\"Action\",\"Thriller\",\"Science Fiction\"]],[[\"Action\",\"Adventure\",\"Thriller\"]],[[\"Action\",\"Science Fiction\",\"Thriller\"]],[[\"Adventure\",\"Animation\",\"Family\",\"Comedy\"]],[[\"Mystery\",\"Thriller\",\"Drama\"]],[[\"Adventure\",\"Action\"]],[[\"Drama\",\"Fantasy\",\"Adventure\"]],[[\"Adventure\",\"Comedy\",\"Drama\",\"Fantasy\"]],[[\"Drama\",\"Crime\"]],[[\"Comedy\",\"Drama\",\"Romance\"]],[[\"Science Fiction\",\"Action\",\"Adventure\"]],[[\"Action\",\"Adventure\",\"Comedy\",\"Science Fiction\"]],[[\"Adventure\",\"Fantasy\",\"Drama\"]],[[\"Drama\",\"Thriller\",\"Crime\"]],[[\"Drama\"]],[[\"Horror\",\"Thriller\"]],[[\"Fantasy\",\"Action\",\"Adventure\",\"Animation\",\"Comedy\",\"Family\"]],[[\"Romance\",\"Drama\"]],[[\"Action\",\"Adventure\",\"Fantasy\"]],[[\"Adventure\",\"Action\",\"Thriller\",\"Science Fiction\"]],[[\"Action\"]],[[\"Adventure\",\"Drama\"]],[[\"Science Fiction\",\"Action\",\"Adventure\"]],[[\"Adventure\",\"Animation\",\"Comedy\",\"Family\",\"Fantasy\"]],[[\"Crime\",\"Action\",\"Science Fiction\"]],[[\"Fantasy\",\"Drama\",\"War\"]],[[\"Fantasy\",\"Comedy\"]],[[\"Drama\"]],[[\"Drama\",\"Romance\"]],[[\"Science Fiction\",\"Action\",\"Adventure\"]],[[\"Crime\",\"Drama\",\"Thriller\"]],[[\"Adventure\",\"Animation\",\"Comedy\",\"Family\",\"Fantasy\"]],[[\"Science Fiction\",\"Mystery\",\"Adventure\"]],[[\"Drama\",\"Romance\"]],[[\"Comedy\",\"Crime\"]],[[\"Fantasy\",\"Action\"]],[[\"Action\",\"Comedy\",\"Drama\",\"Thriller\"]],[[\"Crime\",\"Drama\",\"Thriller\"]],[[\"Adventure\",\"Action\",\"Science Fiction\",\"Thriller\"]],[[\"Action\",\"Adventure\",\"Fantasy\",\"Science Fiction\"]],[[\"Animation\",\"Family\",\"Comedy\",\"Adventure\"]],[[\"Drama\",\"Science Fiction\"]],[[\"Romance\",\"Family\",\"Animation\",\"Fantasy\",\"Music\"]],[[\"Action\",\"Crime\",\"Drama\",\"Thriller\"]],[[\"Action\",\"Drama\",\"Thriller\"]],[[\"Adventure\",\"Action\",\"Thriller\",\"Crime\"]],[[\"Action\",\"Thriller\"]],[[\"Drama\"]],[[\"Comedy\",\"Crime\"]],[[\"Thriller\",\"Action\",\"Crime\"]],[[\"Comedy\",\"Drama\",\"Romance\"]],[[\"Comedy\"]],[[\"Adventure\",\"Comedy\",\"Family\",\"Science Fiction\"]],[[\"Mystery\",\"Thriller\",\"Horror\"]],[[\"Family\",\"Adventure\",\"Drama\",\"Fantasy\"]],[[\"Thriller\",\"Adventure\",\"Action\"]],[[\"Drama\",\"History\"]],[[\"Thriller\",\"Crime\"]],[[\"Action\",\"Adventure\",\"Comedy\",\"Family\",\"Fantasy\"]],[[\"Action\",\"Adventure\",\"Thriller\"]],[[\"Action\",\"Drama\",\"Mystery\",\"Thriller\"]],[[\"Thriller\",\"Action\",\"Crime\"]],[[\"Drama\",\"Romance\"]],[[\"Action\",\"Science Fiction\",\"Drama\"]],[[\"Adventure\",\"Family\",\"Mystery\",\"Science Fiction\"]],[[\"Adventure\",\"Action\",\"Science Fiction\"]],[[\"Action\",\"Mystery\",\"Science Fiction\"]],[[\"Drama\"]],[[\"Action\",\"Drama\",\"Thriller\"]],[[\"Drama\",\"Crime\"]],[[\"Action\",\"Adventure\",\"Comedy\",\"Crime\",\"Thriller\"]],[[\"Adventure\",\"Drama\",\"War\"]],[[\"Adventure\",\"Action\"]],[[\"Drama\",\"Thriller\"]],[[\"Drama\",\"History\"]],[[\"Science Fiction\",\"Fantasy\",\"Action\",\"Adventure\"]],[[\"Adventure\",\"Action\",\"Fantasy\",\"Comedy\"]],[[\"Adventure\",\"Action\",\"Fantasy\"]],[[\"Drama\"]],[[\"Action\",\"Crime\",\"Thriller\"]],[[\"Action\",\"Adventure\",\"Science Fiction\"]],[[\"Thriller\",\"Mystery\"]],[[\"Comedy\"]],[[\"Action\",\"Thriller\",\"Crime\"]],[[\"Thriller\",\"Science Fiction\",\"Mystery\"]],[[\"Drama\",\"Thriller\",\"History\"]],[[\"Action\",\"Science Fiction\",\"Drama\"]],[[\"Drama\",\"Crime\"]],[[\"Animation\",\"Comedy\",\"Adventure\",\"Family\"]],[[\"Action\",\"Drama\",\"History\",\"Thriller\",\"War\"]],[[\"Adventure\",\"Family\",\"Fantasy\"]],[[\"Horror\",\"Comedy\",\"Romance\"]],[[\"Action\",\"Thriller\"]],[[\"Comedy\",\"Drama\"]],[[\"Adventure\",\"Action\",\"Thriller\"]],[[\"Horror\",\"Science Fiction\",\"Thriller\"]],[[\"Science Fiction\",\"Action\",\"Adventure\",\"Fantasy\",\"Comedy\"]],[[\"Drama\",\"Romance\"]],[[\"Adventure\",\"Drama\",\"Thriller\"]],[[\"Action\",\"Thriller\",\"Science Fiction\",\"Mystery\"]],[[\"Adventure\",\"Fantasy\",\"Action\",\"Thriller\"]],[[\"Adventure\",\"Fantasy\",\"Drama\",\"Romance\"]],[[\"Action\",\"Adventure\",\"Science Fiction\"]],[[\"Action\",\"Family\",\"Fantasy\"]],[[\"Thriller\",\"Drama\"]],[[\"Crime\",\"Drama\"]],[[\"Horror\",\"Thriller\",\"Adventure\"]],[[\"Adventure\",\"Fantasy\",\"Romance\"]],[[\"Animation\",\"Comedy\",\"Family\",\"Fantasy\"]],[[\"Drama\"]],[[\"Drama\",\"War\"]],[[\"Action\",\"Comedy\",\"Crime\"]],[[\"Romance\",\"Comedy\",\"Crime\",\"Drama\"]],[[\"Action\",\"Thriller\",\"Crime\"]],[[\"Science Fiction\",\"Action\",\"Adventure\"]],[[\"Action\",\"Comedy\",\"Science Fiction\"]],[[\"Adventure\",\"Action\"]],[[\"Fantasy\",\"Action\",\"Thriller\"]],[[\"Adventure\",\"Action\",\"Thriller\",\"Science Fiction\"]],[[\"Action\",\"Adventure\",\"Science Fiction\"]],[[\"Romance\",\"Comedy\",\"Crime\",\"Fantasy\"]],[[\"Action\",\"Science Fiction\",\"Thriller\"]],[[\"Action\",\"Thriller\",\"Science Fiction\",\"Adventure\"]],[[\"Action\",\"Science Fiction\",\"Adventure\",\"Thriller\"]],[[\"Thriller\",\"Science Fiction\",\"Drama\"]],[[\"Adventure\",\"Action\",\"Science Fiction\"]],[[\"Crime\",\"Drama\"]],[[\"Comedy\"]],[[\"Comedy\",\"Drama\",\"Romance\"]],[[\"Drama\"]],[[\"Adventure\",\"Fantasy\",\"Drama\",\"Romance\"]],[[\"Science Fiction\",\"Horror\",\"Thriller\"]],[[\"Thriller\",\"Science Fiction\",\"Mystery\"]],[[\"Action\",\"Science Fiction\",\"Thriller\"]],[[\"Action\",\"Drama\",\"Thriller\"]],[[\"Action\",\"Thriller\",\"Crime\"]],[[\"Action\",\"Adventure\"]],[[\"Comedy\",\"Family\"]],[[\"Thriller\",\"Crime\",\"Mystery\",\"Drama\"]],[[\"Horror\",\"Comedy\"]],[[\"Science Fiction\",\"Thriller\",\"Mystery\"]],[[\"Action\",\"Crime\",\"Drama\",\"Mystery\",\"Thriller\"]],[[\"Action\",\"Adventure\",\"Science Fiction\",\"Thriller\"]],[[\"Comedy\",\"Family\",\"Adventure\",\"Crime\"]],[[\"Drama\"]],[[\"Adventure\",\"Animation\",\"Comedy\",\"Family\",\"Fantasy\"]],[[\"Horror\",\"Action\",\"Drama\",\"Fantasy\",\"War\"]],[[\"Action\",\"War\"]],[[\"Comedy\",\"Fantasy\"]],[[\"Action\",\"Crime\",\"Drama\",\"Thriller\"]],[[\"Romance\",\"Fantasy\",\"Family\",\"Drama\"]],[[\"Adventure\",\"Fantasy\",\"Family\"]],[[\"Drama\",\"Adventure\"]],[[\"Drama\",\"Horror\",\"Thriller\"]],[[\"Adventure\",\"Drama\",\"Action\"]],[[\"Comedy\"]],[[\"Adventure\",\"Thriller\",\"Science Fiction\"]],[[\"Action\",\"Comedy\"]],[[\"Action\",\"Thriller\"]],[[\"Action\",\"Science Fiction\"]],[[\"Comedy\",\"Fantasy\"]],[[\"Adventure\",\"Fantasy\",\"Drama\",\"Romance\"]],[[\"Action\",\"Comedy\",\"Crime\",\"Thriller\"]],[[\"Adventure\",\"Animation\",\"Comedy\",\"Family\"]],[[\"Adventure\",\"Fantasy\",\"Action\",\"Romance\"]],[[\"Western\"]],[[\"Animation\",\"Comedy\",\"Drama\",\"Family\",\"Music\"]],[[\"Action\",\"Adventure\",\"Western\"]],[[\"Romance\",\"Fantasy\",\"Drama\",\"Comedy\"]],[[\"Adventure\",\"Action\",\"Western\"]],[[\"Comedy\",\"Romance\"]],[[\"Fantasy\",\"Adventure\",\"Animation\",\"Comedy\",\"Family\"]],[[\"Science Fiction\",\"Action\",\"Adventure\"]],[[\"Drama\",\"Thriller\",\"Action\"]],[[\"Drama\",\"Romance\"]],[[\"Comedy\",\"Crime\"]],[[\"Action\",\"Comedy\"]],[[\"Thriller\",\"Science Fiction\",\"Drama\",\"Mystery\"]],[[\"Animation\",\"Comedy\",\"Family\"]],[[\"Animation\",\"Comedy\",\"Family\"]],[[\"Animation\",\"Comedy\",\"Family\",\"Adventure\"]],[[\"Action\",\"Adventure\",\"Fantasy\"]],[[\"Action\",\"Adventure\",\"Science Fiction\"]],[[\"Thriller\"]],[[\"Horror\",\"Thriller\"]],[[\"Comedy\",\"Drama\",\"Romance\"]],[[\"Drama\",\"Action\"]],[[\"Comedy\",\"Music\",\"Romance\"]],[[\"Adventure\",\"Animation\",\"Comedy\",\"Fantasy\"]],[[\"Comedy\",\"Action\",\"Adventure\"]],[[\"Romance\",\"Comedy\"]],[[\"Action\",\"Thriller\",\"Mystery\"]],[[\"Action\",\"Thriller\",\"Science Fiction\"]],[[\"Comedy\"]],[[\"Adventure\",\"Fantasy\",\"Action\"]],[[\"Fantasy\",\"Action\",\"Science Fiction\"]],[[\"Action\",\"Adventure\",\"Crime\"]],[[\"Mystery\",\"Adventure\",\"Crime\"]],[[\"Adventure\",\"Action\",\"Fantasy\"]],[[\"Horror\",\"Mystery\",\"Crime\"]],[[\"Crime\",\"Action\",\"Comedy\"]],[[\"Adventure\",\"Fantasy\",\"Action\",\"Thriller\"]],[[\"Thriller\",\"Action\"]],[[\"Animation\",\"Adventure\",\"Comedy\",\"Family\"]],[[\"Action\",\"Thriller\",\"Science Fiction\"]],[[\"Action\",\"Fantasy\",\"Comedy\"]],[[\"Adventure\",\"Drama\",\"Family\"]],[[\"Comedy\",\"Drama\"]],[[\"Action\",\"Adventure\",\"Comedy\"]],[[\"Thriller\",\"Mystery\"]],[[\"Drama\"]],[[\"Action\",\"Thriller\",\"Science Fiction\"]],[[\"Action\",\"Adventure\",\"Science Fiction\"]],[[\"Thriller\",\"Crime\"]],[[\"Comedy\",\"Drama\",\"Fantasy\",\"Romance\"]],[[\"Comedy\",\"Romance\"]],[[\"Comedy\"]],[[\"Fantasy\",\"Action\"]],[[\"Thriller\",\"Action\",\"Adventure\",\"Science Fiction\"]],[[\"Comedy\",\"Drama\",\"Science Fiction\"]],[[\"Fantasy\",\"Animation\",\"Family\"]],[[\"Drama\"]],[[\"Science Fiction\",\"Action\",\"Adventure\",\"Thriller\"]],[[\"Thriller\",\"Drama\",\"Crime\"]],[[\"Action\",\"Mystery\",\"Thriller\"]],[[\"Action\",\"Thriller\"]],[[\"Thriller\",\"Action\",\"Adventure\"]],[[\"Crime\",\"Thriller\",\"Drama\"]],[[\"Drama\",\"Action\",\"Thriller\",\"Science Fiction\"]],[[\"Science Fiction\",\"Thriller\"]],[[\"Action\",\"Drama\"]],[[\"Drama\",\"War\"]],[[\"Adventure\",\"Action\",\"Thriller\",\"Science Fiction\"]],[[\"Drama\",\"History\"]],[[\"Horror\",\"Action\",\"Science Fiction\"]],[[\"Adventure\",\"Animation\",\"Mystery\"]],[[\"Animation\",\"Comedy\",\"Family\",\"Western\",\"Adventure\"]],[[\"Action\",\"Thriller\"]],[[\"Drama\"]],[[\"Animation\",\"Family\",\"Adventure\"]],[[\"Animation\",\"Family\",\"Adventure\",\"Comedy\"]],[[\"Action\",\"Crime\",\"Thriller\"]],[[\"Action\",\"Crime\"]],[[\"Crime\",\"Drama\",\"Mystery\",\"Thriller\"]],[[\"Crime\",\"Drama\",\"Thriller\"]],[[\"Adventure\",\"Fantasy\",\"Family\"]],[[\"Thriller\",\"Drama\"]],[[\"Science Fiction\",\"Action\",\"Thriller\"]],[[\"Adventure\",\"Fantasy\",\"Drama\"]],[[\"Adventure\",\"Science Fiction\"]],[[\"Adventure\",\"Action\",\"Thriller\"]],[[\"Action\",\"Science Fiction\",\"Thriller\",\"Western\"]],[[\"Fantasy\",\"Drama\",\"Romance\"]],[[\"Fantasy\",\"Comedy\",\"Romance\"]]],\"hovertemplate\":\"<b>%{hovertext}</b><br><br>vec_x=%{x}<br>vec_y=%{y}<br>genres=%{customdata[0]}<br>label=%{marker.color}<extra></extra>\",\"hovertext\":[\"Inception\",\"The Dark Knight\",\"Avatar\",\"The Avengers\",\"Deadpool\",\"Interstellar\",\"Django Unchained\",\"Guardians of the Galaxy\",\"Fight Club\",\"The Hunger Games\",\"Mad Max: Fury Road\",\"The Dark Knight Rises\",\"The Matrix\",\"Iron Man 3\",\"Iron Man\",\"The Lord of the Rings: The Fellowship of the Ring\",\"Jurassic World\",\"Pulp Fiction\",\"The Hobbit: An Unexpected Journey\",\"The Shawshank Redemption\",\"The Lord of the Rings: The Return of the King\",\"Forrest Gump\",\"Star Wars: The Force Awakens\",\"Titanic\",\"Skyfall\",\"Suicide Squad\",\"The Lord of the Rings: The Two Towers\",\"Batman Begins\",\"Captain America: Civil War\",\"The Martian\",\"Pirates of the Caribbean: The Curse of the Black Pearl\",\"Batman v Superman: Dawn of Justice\",\"Harry Potter and the Philosopher's Stone\",\"Captain America: The First Avenger\",\"Up\",\"Iron Man 2\",\"Avengers: Age of Ultron\",\"Star Wars\",\"The Wolf of Wall Street\",\"Inside Out\",\"The Amazing Spider-Man\",\"Thor\",\"The Hunger Games: Catching Fire\",\"Inglourious Basterds\",\"Despicable Me\",\"Shutter Island\",\"The Revenant\",\"Man of Steel\",\"WALL\\u00b7E\",\"The Hangover\",\"Logan\",\"Finding Nemo\",\"Big Hero 6\",\"Back to the Future\",\"X-Men: Days of Future Past\",\"Monsters, Inc.\",\"Harry Potter and the Deathly Hallows: Part 2\",\"Kingsman: The Secret Service\",\"Lucy\",\"Harry Potter and the Prisoner of Azkaban\",\"Ant-Man\",\"The Godfather\",\"Gone Girl\",\"The Empire Strikes Back\",\"Harry Potter and the Chamber of Secrets\",\"Se7en\",\"Life of Pi\",\"The Imitation Game\",\"Sherlock Holmes\",\"Captain America: The Winter Soldier\",\"Doctor Strange\",\"Gravity\",\"The Hunger Games: Mockingjay - Part 1\",\"Harry Potter and the Goblet of Fire\",\"Arrival\",\"Harry Potter and the Deathly Hallows: Part 1\",\"World War Z\",\"Now You See Me\",\"Harry Potter and the Order of the Phoenix\",\"Fantastic Beasts and Where to Find Them\",\"Gladiator\",\"The Maze Runner\",\"Beauty and the Beast\",\"The Lion King\",\"John Wick\",\"Frozen\",\"Harry Potter and the Half-Blood Prince\",\"Toy Story\",\"The Intouchables\",\"Spider-Man\",\"Pirates of the Caribbean: Dead Man's Chest\",\"The Incredibles\",\"Fast & Furious 6\",\"X-Men: First Class\",\"Prometheus\",\"Saving Private Ryan\",\"Rogue One: A Star Wars Story\",\"300\",\"Kill Bill: Vol. 1\",\"Pirates of the Caribbean: On Stranger Tides\",\"Wonder Woman\",\"2012\",\"Edge of Tomorrow\",\"I Am Legend\",\"Zootopia\",\"Jurassic Park\",\"Pacific Rim\",\"The Hobbit: The Battle of the Five Armies\",\"Thor: The Dark World\",\"Oblivion\",\"Ex Machina\",\"Guardians of the Galaxy Vol. 2\",\"Silver Linings Playbook\",\"X-Men: Apocalypse\",\"Ted\",\"Divergent\",\"Looper\",\"Alice in Wonderland\",\"Return of the Jedi\",\"Brave\",\"Kick-Ass\",\"La La Land\",\"Despicable Me 2\",\"Minions\",\"Toy Story 3\",\"The Truman Show\",\"Birdman\",\"Wreck-It Ralph\",\"The Grand Budapest Hotel\",\"The Hobbit: The Desolation of Smaug\",\"Pirates of the Caribbean: At World's End\",\"Maleficent\",\"American Sniper\",\"Star Trek\",\"Alien\",\"Black Swan\",\"V for Vendetta\",\"Spectre\",\"The Silence of the Lambs\",\"Star Wars: Episode I - The Phantom Menace\",\"Men in Black\",\"Dawn of the Planet of the Apes\",\"Ratatouille\",\"The Prestige\",\"Star Trek Into Darkness\",\"Split\",\"The Departed\",\"Rise of the Planet of the Apes\",\"Taken\",\"Schindler's List\",\"Spider-Man 2\",\"The Hateful Eight\",\"Whiplash\",\"Finding Dory\",\"How to Train Your Dragon\",\"Leon: The Professional\",\"The Amazing Spider-Man 2\",\"Terminator 2: Judgment Day\",\"Furious 7\",\"Men in Black 3\",\"Her\",\"The Terminator\",\"Star Wars: Episode III - Revenge of the Sith\",\"Shrek\",\"X-Men\",\"Memento\",\"The Green Mile\",\"21 Jump Street\",\"Passengers\",\"The Hunger Games: Mockingjay - Part 2\",\"Transformers\",\"The Wolverine\",\"X-Men Origins: Wolverine\",\"Star Wars: Episode II - Attack of the Clones\",\"Kill Bill: Vol. 2\",\"Fury\",\"Mission: Impossible - Ghost Protocol\",\"Die Hard\",\"Cars\",\"Sherlock Holmes: A Game of Shadows\",\"Spirited Away\",\"The Fifth Element\",\"Ice Age\",\"Raiders of the Lost Ark\",\"Casino Royale\",\"Back to the Future Part II\",\"Insurgent\",\"Catch Me If You Can\",\"Toy Story 2\",\"The Shining\",\"I, Robot\",\"Limitless\",\"The Great Gatsby\",\"The Fault in Our Stars\",\"Ocean's Eleven\",\"The Hangover Part II\",\"Blade Runner\",\"Drive\",\"Reservoir Dogs\",\"The Fate of the Furious\",\"12 Years a Slave\",\"Charlie and the Chocolate Factory\",\"Eternal Sunshine of the Spotless Mind\",\"Edward Scissorhands\",\"Twilight\",\"Spider-Man 3\",\"Terminator Genisys\",\"Zombieland\",\"Life Is Beautiful\",\"The Bourne Identity\",\"Monsters University\",\"X-Men: The Last Stand\",\"Oz: The Great and Powerful\",\"Donnie Darko\",\"X2\",\"The Secret Life of Pets\",\"A Good Day to Die Hard\",\"In Time\",\"Elysium\",\"The Matrix Reloaded\",\"Aladdin\",\"The Social Network\",\"The Fast and the Furious\",\"Nightcrawler\",\"Argo\",\"Moana\",\"District 9\",\"American Beauty\",\"A Clockwork Orange\",\"Tangled\",\"The Godfather: Part II\",\"Braveheart\",\"Am\\u00e9lie\",\"The Theory of Everything\",\"The Curious Case of Benjamin Button\",\"22 Jump Street\",\"Now You See Me 2\",\"E.T. the Extra-Terrestrial\",\"Transformers: Dark of the Moon\",\"Fifty Shades of Grey\",\"Independence Day\",\"The Usual Suspects\",\"Madagascar\",\"Cast Away\",\"Hacksaw Ridge\",\"Hansel & Gretel: Witch Hunters\",\"Aliens\",\"Mission: Impossible - Rogue Nation\",\"Godzilla\",\"Kung Fu Panda\",\"The Sixth Sense\",\"Indiana Jones and the Last Crusade\",\"Miss Peregrine's Home for Peculiar Children\",\"The Secret Life of Walter Mitty\",\"GoodFellas\",\"The Devil Wears Prada\",\"Transformers: Revenge of the Fallen\",\"Men in Black II\",\"Snow White and the Huntsman\",\"Prisoners\",\"Gran Torino\",\"The Conjuring\",\"How to Train Your Dragon 2\",\"The Notebook\",\"Kong: Skull Island\",\"The Matrix Revolutions\",\"Maze Runner: The Scorch Trials\",\"Into the Wild\",\"Transformers: Age of Extinction\",\"The Lego Movie\",\"Chappie\",\"Pan's Labyrinth\",\"Bruce Almighty\",\"American History X\",\"A Beautiful Mind\",\"The Incredible Hulk\",\"No Country for Old Men\",\"Shrek 2\",\"2001: A Space Odyssey\",\"The Perks of Being a Wallflower\",\"We're the Millers\",\"Hancock\",\"Mr. & Mrs. Smith\",\"Jack Reacher\",\"G.I. Joe: Retaliation\",\"Fantastic Four\",\"Ice Age: The Meltdown\",\"Cloud Atlas\",\"Beauty and the Beast\",\"Scarface\",\"San Andreas\",\"Quantum of Solace\",\"Olympus Has Fallen\",\"One Flew Over the Cuckoo's Nest\",\"The Big Lebowski\",\"The Equalizer\",\"(500) Days of Summer\",\"The Hangover Part III\",\"Back to the Future Part III\",\"Get Out\",\"The Jungle Book\",\"The Expendables\",\"Dallas Buyers Club\",\"Snatch\",\"Night at the Museum\",\"The Expendables 2\",\"The Bourne Ultimatum\",\"John Wick: Chapter 2\",\"Slumdog Millionaire\",\"Snowpiercer\",\"Tomorrowland\",\"TRON: Legacy\",\"Watchmen\",\"Good Will Hunting\",\"The Bourne Supremacy\",\"American Hustle\",\"RED\",\"Troy\",\"Indiana Jones and the Temple of Doom\",\"Room\",\"The King's Speech\",\"Jupiter Ascending\",\"Pirates of the Caribbean: Dead Men Tell No Tales\",\"The Mummy\",\"Dead Poets Society\",\"Taken 2\",\"Assassin's Creed\",\"The Da Vinci Code\",\"Neighbors\",\"Sin City\",\"Source Code\",\"Spotlight\",\"Real Steel\",\"Trainspotting\",\"Ice Age: Continental Drift\",\"Dunkirk\",\"The Chronicles of Narnia: The Lion, the Witch and the Wardrobe\",\"Warm Bodies\",\"The Bourne Legacy\",\"The Big Short\",\"Mission: Impossible\",\"Alien: Covenant\",\"Teenage Mutant Ninja Turtles\",\"Me Before You\",\"127 Hours\",\"Minority Report\",\"Fantastic 4: Rise of the Silver Surfer\",\"The Twilight Saga: Breaking Dawn - Part 2\",\"Star Trek Beyond\",\"Jack the Giant Slayer\",\"Bridge of Spies\",\"Taxi Driver\",\"Jaws\",\"The Twilight Saga: Breaking Dawn - Part 1\",\"Hotel Transylvania\",\"The Pursuit of Happyness\",\"Full Metal Jacket\",\"Spy\",\"Focus\",\"Wanted\",\"After Earth\",\"Pixels\",\"Indiana Jones and the Kingdom of the Crystal Skull\",\"Underworld\",\"Green Lantern\",\"Independence Day: Resurgence\",\"The Mask\",\"Ghost in the Shell\",\"Armageddon\",\"Total Recall\",\"10 Cloverfield Lane\",\"The Lost World: Jurassic Park\",\"Requiem for a Dream\",\"Ted 2\",\"Crazy, Stupid, Love.\",\"Million Dollar Baby\",\"The Twilight Saga: New Moon\",\"The Purge\",\"Super 8\",\"Terminator Salvation\",\"Captain Phillips\",\"Fast Five\",\"The Legend of Tarzan\",\"Home Alone\",\"The Girl with the Dragon Tattoo\",\"Shaun of the Dead\",\"Twelve Monkeys\",\"Sicario\",\"The Day After Tomorrow\",\"Home Alone 2: Lost in New York\",\"Flight\",\"The Croods\",\"Dracula Untold\",\"300: Rise of an Empire\",\"Ghostbusters\",\"Fast & Furious\",\"Cinderella\",\"Jumanji\",\"Noah\",\"Psycho\",\"King Kong\",\"Mean Girls\",\"War of the Worlds\",\"This Is the End\",\"Jason Bourne\",\"RoboCop\",\"Dark Shadows\",\"The Twilight Saga: Eclipse\",\"The Nice Guys\",\"A Bug's Life\",\"Prince of Persia: The Sands of Time\",\"The Good, the Bad and the Ugly\",\"Sing\",\"The Lone Ranger\",\"Groundhog Day\",\"The Magnificent Seven\",\"American Pie\",\"Shrek the Third\",\"Ender's Game\",\"Blood Diamond\",\"Fifty Shades Darker\",\"Horrible Bosses\",\"The Interview\",\"Transcendence\",\"The Boss Baby\",\"The Simpsons Movie\",\"Ice Age: Dawn of the Dinosaurs\",\"Warcraft\",\"Fantastic Four\",\"Inferno\",\"The Cabin in the Woods\",\"Juno\",\"Rush\",\"Pitch Perfect\",\"Sausage Party\",\"The Man from U.N.C.L.E.\",\"Friends with Benefits\",\"Non-Stop\",\"Cloverfield\",\"Easy A\",\"Clash of the Titans\",\"Hellboy\",\"Kick-Ass 2\",\"Nerve\",\"The Mummy Returns\",\"Saw\",\"Hot Fuzz\",\"Lara Croft: Tomb Raider\",\"Taken 3\",\"Rio\",\"The Book of Eli\",\"Ghostbusters\",\"Hugo\",\"The Breakfast Club\",\"Scott Pilgrim vs. the World\",\"Angels & Demons\",\"Hidden Figures\",\"Terminator 3: Rise of the Machines\",\"John Carter\",\"Ocean's Twelve\",\"Click\",\"50 First Dates\",\"Superbad\",\"Batman\",\"Battleship\",\"About Time\",\"The Nightmare Before Christmas\",\"12 Angry Men\",\"Predator\",\"American Psycho\",\"Salt\",\"Live Free or Die Hard\",\"The Mummy\",\"The Accountant\",\"Children of Men\",\"The Butterfly Effect\",\"Southpaw\",\"Apocalypse Now\",\"Jurassic Park III\",\"Sully\",\"Resident Evil\",\"The Adventures of Tintin\",\"Rango\",\"Die Hard: With a Vengeance\",\"Seven Pounds\",\"Mulan\",\"Cars 2\",\"2 Fast 2 Furious\",\"Baby Driver\",\"Zodiac\",\"Fargo\",\"Percy Jackson & the Olympians: The Lightning Thief\",\"The Impossible\",\"Riddick\",\"Big Fish\",\"Allegiant\",\"Mission: Impossible III\",\"Cowboys & Aliens\",\"The Age of Adaline\",\"Midnight in Paris\"],\"legendgroup\":\"\",\"marker\":{\"color\":[15,15,22,20,17,2,24,17,24,29,10,15,15,20,20,23,17,24,23,27,23,27,6,21,15,5,23,15,20,15,8,5,4,20,12,20,20,6,24,12,20,20,29,24,18,2,2,5,12,11,17,12,18,28,20,12,4,17,13,4,20,1,2,6,4,24,2,27,13,20,17,2,29,4,2,4,22,13,4,17,15,13,0,12,17,18,4,12,27,14,8,12,19,20,22,15,17,15,24,8,17,22,15,22,18,28,17,23,20,13,2,17,2,5,11,29,2,8,6,18,10,16,18,18,12,16,16,18,16,23,8,8,15,14,26,2,2,13,1,25,9,14,12,27,17,17,27,14,15,27,14,24,2,0,18,24,5,26,19,8,2,26,25,12,14,24,27,11,13,29,5,5,8,25,24,15,14,26,18,13,16,9,18,28,15,28,29,27,12,1,22,13,3,3,15,11,1,24,24,0,27,8,16,16,7,8,5,10,27,15,18,8,8,24,14,3,13,13,13,22,12,27,19,24,27,18,10,24,1,18,1,15,16,27,27,11,13,21,5,7,19,24,18,27,3,5,26,14,14,18,27,28,0,3,1,3,5,9,5,2,27,3,18,3,17,22,5,2,5,12,13,16,9,27,27,14,1,18,1,2,11,13,19,13,5,5,18,2,12,24,5,13,13,1,24,13,2,11,28,0,0,5,2,24,18,5,15,17,27,10,13,13,10,27,15,2,13,22,28,2,27,5,8,9,27,13,13,22,11,24,13,27,5,24,18,15,8,0,13,27,22,0,5,3,2,22,5,7,17,5,27,1,26,7,18,27,1,0,13,5,13,8,8,8,5,13,9,13,19,13,10,9,24,11,3,27,7,13,0,5,27,19,13,21,27,10,24,2,22,21,27,18,8,5,28,19,0,9,0,1,14,0,22,11,13,5,8,7,10,12,8,1,18,8,28,13,11,18,13,27,5,11,11,13,3,18,18,13,5,3,10,2,27,0,11,17,3,13,10,0,5,9,17,13,9,11,10,8,13,18,13,0,2,3,10,13,3,22,8,13,11,3,11,28,5,3,16,1,26,24,13,13,3,13,10,22,13,1,9,3,9,18,18,9,3,12,18,19,0,2,1,5,3,13,16,29,14,5,3,2],\"coloraxis\":\"coloraxis\",\"symbol\":\"circle\"},\"mode\":\"markers\",\"name\":\"\",\"orientation\":\"v\",\"showlegend\":false,\"x\":[0.37355288954959665,0.4810667625583015,-0.6670081044177562,-0.6339793191533812,0.10196168856137365,0.4856053050226115,0.8879405389557466,0.008070734183123696,1.1627986984059513,-0.7524132281412185,1.22484426022504,0.18417710187405528,0.6075354367907149,-0.8013572691121353,-0.3071765287954795,0.32881784378030915,-0.6276466662604261,2.107978473595076,-0.2555074403119174,0.5976720370011898,0.3462769032160803,0.36540823611835294,0.13866571260936467,-0.7674657898122876,0.11080578590286431,-1.034775271456613,0.3640212378334419,0.2474425049676223,-0.43738813269482435,0.12125949826916874,-0.33054376255317486,-0.6139523307772645,-0.6580295509197294,-0.6706234516399671,0.5047405876108715,-0.8077782176992788,-0.704769860201864,0.7083800627608932,0.7699457671697401,0.5360972983598149,-0.735528507704269,-0.7251260876181123,-0.7905267247758108,0.9426557829581358,-0.20809688179847963,0.6128812621876051,0.7919826877316343,-0.6350412443932101,0.6493912176289655,0.061331473832355564,0.3426913372336765,0.22566530783268587,-0.0174680727986164,0.5179445773649076,-0.3203384195871182,0.33764078124752533,-0.49020143581671516,0.05724183238374564,-0.4953478648479506,-0.4601616957328219,-0.30630483702224515,1.2416759141508666,0.551086445454825,0.7401048715812851,-0.6348695540158349,1.1061598508795067,0.4958224220554829,0.05424543383962024,-0.29566763541321417,-0.36227327196814096,-0.34657857272073694,0.5704957558152058,-0.7237106511641459,-0.5853609015801341,0.7520149046733308,-0.4318568719471119,-0.31684046719528697,-0.7109419399920032,-0.5406211386880827,-0.23493782149259293,0.17561740305021903,-0.7591992747888165,-0.29823998639160637,0.34737723086896927,0.18377197925283362,-0.13086068104538293,-0.43431822090978683,0.6150783434983588,0.44377044562951934,-0.2996429981364096,-0.5707997171709499,0.2538199266819758,-0.9251174064398533,-0.31629707115290767,0.16565474889338483,0.6860709507267966,0.17125094309142289,0.00906467276399508,1.3643889171915637,-0.7678723822918561,-0.21066710427204455,-0.9823724294165493,0.09628083910323237,-0.23181689875924075,0.2103705412923192,-0.010907351314052733,0.02968794176185213,-0.501535598239927,-0.7744966544660113,-0.08889628766382629,0.7900357212596082,-0.1032299581385284,0.34936445634154933,-0.6352774456100799,-0.0009718548406177723,-1.0657755813160108,0.3407961265791772,-0.44890003503229264,0.4511281429758351,-0.13192672270146297,0.5364217057258373,0.8983784700346729,-0.24685659750383424,-0.5426190248252503,0.6087567306425511,0.9496091874122875,1.5174472024315826,0.08728901749743806,1.1665795624090194,-0.41074443185863274,-0.781232609848007,-0.5553169942958426,-0.2978638267437374,-0.03338259053373865,1.1141768847159998,1.02245817390953,0.4114291384663022,-0.3166306593549587,1.1669304842366264,-0.901833229508034,-0.11117615880013271,0.09799812956440652,0.377981598950063,0.5367183433537552,-0.2335049172601747,0.06931231231099047,0.7866397036066665,0.04054557509924752,-0.213000328830208,0.9096800204116897,-0.26161997794350067,0.8658222809511131,1.0695459124686344,0.048877701774107746,0.04615610636963234,0.8877045096999713,-0.8105167722823733,0.5121198966170437,-0.8454184983265464,-0.46812703395218297,1.018306887588828,0.4937945946183962,-0.4769230275833875,0.056915942061375485,-0.3959347678451984,0.9347560355012251,0.3398213656715829,0.15203253841901548,-0.3318888563715321,-0.8319831616247206,-1.1136651100827017,-0.605492309872526,-1.079019106513607,-0.8029220676613729,1.2202936729367504,0.12670557748425998,-0.3159244090194587,0.3841210041309183,-0.3754490889432879,-0.43094765929973705,0.9428495098225265,0.35636025718355435,-0.039634734518259045,0.6250045570267223,0.191515221349345,0.3983277891430589,-0.9696805883145853,0.4027919804035728,0.4175687669342108,1.32112975586546,-0.3933564213893986,-0.12434033644934264,-0.06270476837147893,-0.3695575611581448,-0.008732546703435172,-0.44258391617145204,1.1037561898216757,1.1893714944266618,1.2809868109553253,-0.3797092045026649,0.611780328106432,-0.020900977157577216,1.2004169674000993,1.0298439826948695,-1.6025758704243291,-0.9294558420312162,-0.7207406363028309,0.4532030807702295,0.7839065845050144,0.04194037180535893,-0.038698710332081825,-0.9098946735097815,-0.3254323583686617,1.0382071783952063,-0.4375437128908906,-0.10758555692178029,-0.9239943521462041,-0.5812285578657637,-0.2855629289999082,-0.31988956429852755,0.36660645682721016,0.43567498226537904,-1.0649560391571737,1.1006352617017452,0.31794177395371426,0.04422533204197859,0.9074891672788075,1.482960181043696,1.7294200811387002,-0.18591467554927446,1.2948145092225818,0.21149808917882437,1.0544118736638346,0.15461836577219357,0.3123393664530503,0.04145738101822307,-0.9614054743936007,0.4225729949189095,-1.2694406814470423,-1.1144352077573212,-0.8836747242227517,1.007284605572462,-0.19918605118910218,0.4234299237699415,-0.02718319228189024,-0.7568301846393667,0.9727440493414659,-0.3154169265835162,-0.05639686535908547,-0.09871539728254061,0.3126661068884967,0.47521865521079193,-0.32685059707742675,0.2494880654959668,1.034951408201964,-0.18785179099829255,-1.4550121416419837,-0.48944282718557525,-0.6779465827737996,0.636231064621573,0.4115617968301637,0.23913881308335883,-0.10772585775618432,-0.4398233932596993,-0.05855073459494564,-0.5552370341431284,-0.7993061244770153,0.7458010266884406,-1.1897459948904552,0.6534935862410852,-0.10728022147926491,1.0457003807492116,-0.1428770244536331,0.8719780434729208,0.38977899247173453,-0.38495958989257045,1.3267492644739443,-0.1448160913939304,1.5111043352976758,0.3385457827297777,-0.2589529330546336,-0.5932659418387372,-0.6562362717924034,-0.3809697741234213,-0.8753523769997056,-1.0492173811414287,-0.4320964230698424,0.38886642979971475,0.37732436222758103,0.7681060526664134,-0.898221686593483,-0.38094553359461536,-0.783966000120427,1.2382926758157142,1.613947317453794,-0.18161864153727753,0.5610225869453478,-0.5108032776095537,0.2634429530443983,0.5708020065985413,0.07820331308269046,-0.5853600937017575,0.7716962090779925,0.8617891920275265,-0.5476834330773691,-0.6231386018573182,-0.014005950325910073,0.2606335745762569,0.3561986861676283,0.4756292533982086,-0.29576763747202095,-0.2423581502219593,0.7452110974113301,0.4618802009866133,-0.04960280183533633,0.5246739276938971,-0.29981511996047255,-0.4600514340090438,0.18063922578861594,0.7767325737760796,0.4058691082181829,-0.8988147176896141,-0.7519679869123839,-0.6317212349659378,0.4826488393599055,-0.6058681449069937,-0.5028848852394014,-0.637494680414493,-0.09618007712549498,0.9900226308743652,0.045103541951889044,0.567711863349848,-0.542772598353187,1.485133410591348,-0.5708965435695115,0.7026812899345537,-0.5887364759045702,-0.18909872520394444,-0.4568809519998279,0.5963579419316101,-0.2880596024001892,0.14247991919201444,-0.8635491059211453,-0.36440579985482047,0.575437447877025,0.21814617012764556,-1.1731307629389254,-1.585364090120323,-0.39533637121591547,-0.6053682256598449,0.20409126727166496,1.3661816314273343,0.8204519537524488,-1.5489367591108645,-0.3943553842931182,0.08362917860156896,1.1739069570100196,-0.12533271508391175,-0.3800581538236584,-0.5766566757505176,-0.8582880357440321,-0.8690539508101726,-0.7094880151821393,-0.604985427635686,-1.0188905894146516,-0.6009072363127657,0.40204820240753836,0.052369266323420226,-1.1837742324449347,-0.6959577813310358,0.7166700903112087,-0.29608382994516186,1.172450329161294,-0.22110178430053123,0.0339478999558266,0.6228479383455604,-1.5126792509225295,-0.38830246326727663,0.1316398444173526,-0.5644418304559529,0.19399020630600633,-0.7039883749120978,-0.5743619535637218,-0.08328881178938648,0.47922755949113016,0.7659074084745511,1.3119424129393749,0.8463865365511286,-0.6897317348828356,-0.23313765698291633,0.26495006557654366,-0.21913664949697656,-0.7948224321186225,-0.44433437113105606,0.6865551101504287,-0.9200356817827485,-0.36159312666888,-0.040964813980269216,-0.006639694351332761,0.9546948208462158,-0.1029568725963525,-0.04429794951721527,-0.18665879159282098,0.4961436480697467,-0.3901086713241261,-0.3786574392262259,-0.28216111313060016,-1.488961091541774,0.7330333633892386,0.2992187741333128,-0.8640564698367027,1.0595162713395527,-0.24213029143838874,-0.5186393488806309,0.8477800151455204,-0.21603429491200188,-0.2680350504402499,-0.6172060886024308,-0.4940628886163955,0.3949018919688454,-0.8955302515177032,-0.0792255225379657,0.1006209093890986,-0.5396825915186242,0.04032102641125558,0.28491182816595323,-0.501130488120784,-0.48860667678773245,-0.7764632035147552,-0.5134653956902786,0.7311048912161295,0.6268493126983374,0.42829921184240877,-0.3948672893502343,0.49684489895711426,-0.02188445790092325,-0.5944468750945762,-0.43382509242452133,0.42710902247501986,-0.010604271286640475,-0.9176558529192226,0.03127204068672803,-0.03785682821482485,-0.4330615958776672,-0.8007823966113728,0.19821621548703403,0.7477748518829167,-0.9854892786623466,-0.9192255051363276,-0.2920064494321941,-0.22650521218033384,-0.25803688331867497,0.308715209657844,0.31998659558424025,0.7144249919280972,-0.7167305900166502,-0.015291610067555344,-0.522600735953899,-0.5163006668071406,-0.4555667403742369,-0.5642032314691607,-0.49811291196055046,0.6712616993049637,0.4176395204573326,-1.190973604610899,0.20072239930996896,1.2253541013719702,0.9826402757646353,0.432469278634372,1.210733173631842,-0.6510305146362121,-0.48080097597869276,-0.18792563348952707,-0.2695177278558111,1.0368636548440198,0.05767079827412928,-0.04079088270610242,1.4843676446099823,-0.7488769721641407,-0.09698302356455793,-0.4472148186323706,0.2934147014327288,0.4959976049717527,-0.22650488975348407,-0.13020260162276334,0.007284064867387902,-0.6618487326721024,-1.3160136769604307,0.3727068703026973,0.6742650803812861,1.6284934593792264,-1.0611657707369453,-0.004794462579302093,-0.3519201835405449,0.6658786109694758,-0.9865960629526038,-0.4510692003700836,-0.5567140551960343,-0.5464143427294154,0.5300628480501738],\"xaxis\":\"x\",\"y\":[-0.11930528792881195,0.32114795252543493,-0.0077662188586343165,0.8951767841053163,0.4002529658911507,-0.29067904174596115,-0.38055971299202207,0.82491508951878,-0.5997036282820011,-0.1318989694646402,0.6706011463450372,0.14470201603958507,0.29148344954160965,0.288724091160922,0.6726198187067275,1.2904600856717847,0.3342589573310437,-0.7325518769620094,0.47723037379924066,-0.07680219268981452,1.2526978393833996,0.11107232813906753,1.1369722997142568,-0.02375895584522347,0.11255177891448037,-0.24277944585098932,1.2588786275187562,0.41128082271098604,0.7024403258701585,-0.04268094517654013,0.5635635483553745,-0.10665433098700916,0.7597075700609213,0.5449303456227526,0.7401717325645457,0.24363895236404398,0.5772239445019557,1.5930837285045476,-0.6773794524336006,0.702813164531066,0.2702648939617985,0.5150395676675832,-0.04266359173875372,-0.35490808199203244,0.4580336844389305,-0.4794105095551191,-0.3736678567782527,-0.11557360407766572,0.7488809310611192,-0.5689181473060712,0.20726580374692732,0.8900175494281567,0.5998212847311618,0.8287872513863153,0.5754261436593482,0.8811038871307689,0.6229232676523596,0.22457227135946536,-0.6854660453168302,0.6488474403299109,0.5974777852083487,-0.1922218490608141,-0.5139384383733115,1.6078705612996664,0.6871142558990673,-0.5972833414510748,-0.3231165066737167,-0.3665023523579958,0.08879358820764956,0.7915168247956609,0.30022781051643627,-0.059507810877037555,-0.18176567078265535,0.5481896273498318,-0.17371670606135992,0.5793863748814024,-0.27018884767072204,-0.42374407377066586,0.6400996881851293,0.24392539867387572,0.10634732809536453,-0.3983688169009556,0.30748622911649853,0.9613690643549039,0.02772149023460818,0.4809028121050768,0.558326240674521,1.215952323501908,-0.3052607453187253,0.6829753271384242,0.19864444691358235,0.9934106715681671,0.17589459965198379,0.5406777985421626,-0.41695282613651896,0.07963264130584041,0.5225991585956573,0.007939147195899058,-0.0982716057605053,-0.0924802922867137,0.2726100000290399,-0.2033967884656125,0.20238064034342668,-0.376960374005896,0.5690303596446937,0.883967148869757,0.4631875691289745,0.424882935735168,0.4567873680746031,-0.2897821621325236,-0.3836463060142109,0.4529043326163142,-0.31741981896829374,0.0839772911827586,-0.5813062954516511,-0.4799351267319748,-0.2729314014394324,-0.18964697815413248,1.5217628690899707,0.5528389795484724,0.05901710933975863,0.007322285870839227,0.2701210110667655,-0.08443157441956715,1.158944121875554,-0.11390628919412117,-0.38174413899410536,0.7525877131317772,-0.05617679357102929,0.5016083072724813,0.12640435473441078,0.0019073661591104286,-0.6344732399008878,0.6814174519536906,0.4474807323339188,-0.579922957020814,-0.16104864875467928,-0.08806512122078027,-0.13612846124509487,0.7535167637564539,0.7324093587333139,0.08011859826527207,0.7338146206658857,-0.23070322871232593,0.4450196251668177,-0.185750040903317,-0.39718741087947124,0.1405698763119166,-0.19677781576314898,0.03321414997551468,0.6774234181843006,-0.41270839665698517,-0.30892074466435904,0.3227930610978612,0.8704266436125564,-0.23162908767272875,-0.1050399727122111,0.6008825081089232,-0.03761072694473528,0.27583107547205016,-0.3770830851344762,0.5863104099663969,0.5099266504571698,0.7136119824981328,0.8109140312294574,-0.4117342602075231,-0.21305302744210083,-0.13509754123234574,-0.37549988183952787,-0.13953360217534377,0.1472723546696419,-0.013467681020058981,-0.12471922519074201,0.41045099528007223,-0.13679690457973773,-0.30708083869550096,0.26916343881744204,0.5591432668569893,0.58055752458244,0.04884049776357452,0.3647169591852701,0.24308756363552528,0.43967807155786537,1.1812135965514556,0.12926850027177822,0.5834536701739801,-0.45107344951445366,-0.30866024229444367,1.254074179329428,-0.3479891188904765,-0.048862118908100015,-0.4713498424015316,-0.5425802891916529,-0.49675271718782926,-0.09433543701033455,-0.7230427295295849,0.2391343208294858,-0.5282425677242238,-0.4845880273334337,0.12723448239990676,-0.22656784509503558,-0.10153203877248233,-0.46470592702510755,-0.06163816963849895,-1.077066450492872,0.08652501535209223,-0.12005928336378291,0.062021351318131565,-0.327682279114627,-0.019257802466214082,0.5251537541648548,0.167210022624408,0.03029535206318875,-0.557844763817197,0.656324107423124,-0.24063856210060366,-0.602254758720718,-0.49581448135903833,-0.32790507110059797,-0.09635446234090636,1.1338381166107825,-0.38266311934293296,0.009156485521530798,-0.4294355738639141,-0.20693978795525517,0.5406115387091062,-0.08585962135830687,-0.6205024495287338,-0.5421905805871485,0.8183586379883625,-0.18844920042267052,0.156214268226793,-0.2113146016674477,-0.2572195965968828,-0.6283642450576974,-0.17178527260729357,-0.40911690986932986,0.6200674598795708,-0.291405267259437,-0.9799413968707958,0.36738571178604473,-0.2923693225391211,0.11236440688003779,-0.1412751491704938,-0.25848757934291666,-0.45714302020068276,0.685946732935203,0.41403986283264393,0.2533995825384485,0.786155670691557,-0.07304457351986474,1.0021959855411295,-0.3056978533668997,-0.2334542465339166,-0.3910821833684385,-0.1319251145965389,-0.30612152735280074,0.2658170761540509,-0.34017339113505246,-0.37070388637669305,-0.28309459643462764,-0.34196857573898176,0.6964141896260849,-0.6457591866345657,0.08310390068208415,-0.16600732561554843,-0.5079604291205951,-0.6486520709577116,-0.40163714778903253,0.7011266412265671,-0.5670639327197199,0.013790800940131886,0.0011516630363441185,-0.4908679885243692,-0.4624134072234204,0.28196510523848883,-0.4281863639783802,0.5519920649805878,-0.09529764726543835,-0.49495742937929144,-0.4193688203092564,-0.21393558892103648,-0.037620628823321796,-0.13823987904962728,-0.02332845458924631,0.09234123205082877,0.09983278959206283,-0.4025137859795984,1.0962793526461962,-0.6488047472321046,-0.1458599276583138,-0.1371011555549048,-0.33716842632754224,-0.3120301904982126,-0.3738927241865055,-0.3321497761161677,-0.5416085524782951,-0.6958608508475936,0.622207823312915,-0.14051525775007978,0.12600673385586122,-0.05682792087306804,-0.3970744219957234,-0.31740656257174726,0.37979080364557544,0.07039108328637114,-0.10349037314702085,0.2286622261856874,-0.3443250262225332,-0.08171245174262178,-0.09947515101373336,0.015786526776540723,0.03485266908114048,-0.39116794333483984,-0.1053878060053527,-0.5830327465677109,-0.0010544653475535674,-0.30827964079140924,0.5250925329226586,-0.3419715775519467,-0.028489135113957117,-0.20381788785726104,-0.23503143127224557,1.0008787222724205,-0.39052479160551085,-0.452447400483086,-0.26276892540208147,-0.41455560055239055,-0.4894186683347261,-0.15522858102818457,-0.30675118609461555,-0.28571989933857495,0.06190741334537076,-0.5663806872880863,0.10396364378698449,-0.04035771211232917,0.48337862069683923,-0.02565493025727496,-0.32528606335657784,-0.4507737610141167,0.07331523315513391,-0.1424807501866417,0.03919549685336837,-0.633585675423387,-0.37968324042640317,0.03417191052756941,-0.02275473215871334,-0.878578365657861,0.2739095403658266,-0.1430395138178172,-0.3382232574114544,-0.4319935055515874,0.5808112397319803,-0.9220653211654263,0.2510292766039448,-0.47055301358151813,-0.42245203884592775,-0.21957377664797328,-0.5448887133123095,-0.3035623949563757,-0.5458193837050779,-0.21630326781160383,0.037670728453077555,-0.048494384610530204,-0.046428278823827926,0.006350808724538068,0.28834769267531657,-0.12554321459545234,-0.08880311790964747,-0.42086085858905947,-0.2566802751953003,0.4493803193816249,-0.7900231287673537,-0.6007820810730014,-0.3520438488003057,-0.26583107298451425,-1.1255034265489094,-0.5144658776330193,0.042563890592108765,-0.13670473424387078,-0.310456127197495,0.09740070734749937,-0.2959401802627138,0.2477133317393298,-0.4515238129044162,0.28359161735870975,-0.3349901168078418,-0.3621251957534377,-0.22464956218013132,0.16688094837208634,-0.5149294747158277,0.26906181292101783,-0.07219099689751311,-0.534172751391607,0.8535975832859604,-0.014272281679205604,-0.04997237287385838,0.4736377818464132,-0.4574254337063873,-0.03783701956393103,0.1659994341768865,-0.042824895123558984,-0.1348115645622581,-0.1866528976712522,-0.4008694903776767,-0.15691179180886494,-0.45011066950867074,-1.0892197289781016,-0.07512111041050415,0.9192312293008397,0.06615555270273012,0.18343988314760704,0.2473606282741009,-0.08018655699237946,0.27635927976991176,-0.08521576020633058,-0.23272310392922418,-0.021097336392576504,-0.19481065385667487,-0.41342387324609464,-0.4339209471744271,-0.4673340497724827,-0.6212768632329767,-0.7080254038005719,-0.3907888499861855,0.1044406120265722,-0.007660389979184129,-0.005023106314357945,-0.3301091955060828,-0.24463180970418963,0.3210948799948329,-0.46696572124285685,-0.1359322160975045,0.11326902877143034,-0.26495739141015856,0.03924055894498864,-0.48239295671520044,-0.34742203513172887,-0.22760847598972495,-0.07566628192226481,-0.15122027499281332,0.672256555669741,-0.13540315197625266,-0.5273453315768244,0.826422277518905,-0.8190087054289562,0.3564389086308611,0.2317556189507612,-0.6242778446220018,0.2558662351485786,-0.4584725917519851,0.19281709186218418,0.15946643442969535,-0.29616787933692995,0.23065306986320552,-0.3511720382332944,-0.12024911374183458,0.1688083510959083,-0.011379709440146045,-0.40723568322380416,-0.42612186392630513,-0.14162590151795773,-0.4718413502881474,0.48865395022638414,-0.1827817576758232,-0.1406210903426192,0.38180999145450817,0.011006465315226312,0.3671494191459812,-0.5581965122534842,-0.3942564996655382,0.04696906785426663,-0.34114286069693944,-0.2564258661593881,-0.16394301083311769,-0.7445792665127133,-0.27954723264208675,-0.2568837862616384,0.3764219299088694,-0.2796720194944443,-0.011327412906316683,0.29381927010249254,0.17688725370729208,0.11575055297248614,-0.7125813208711889,0.8442305206268315,0.013524130778416167,-0.19442000225251285,0.12740506746001723,-0.3249741673836282,-0.4567828572257401,-0.04983864436254091,-0.294507465644877,0.02033747200947895,-0.12854822791896406,-0.53840298402135,0.18164093806614773,-0.004460693451555791,-0.36975492136939403,-0.19600931878182937],\"yaxis\":\"y\",\"type\":\"scatter\"}],                        {\"template\":{\"data\":{\"bar\":[{\"error_x\":{\"color\":\"#2a3f5f\"},\"error_y\":{\"color\":\"#2a3f5f\"},\"marker\":{\"line\":{\"color\":\"#E5ECF6\",\"width\":0.5},\"pattern\":{\"fillmode\":\"overlay\",\"size\":10,\"solidity\":0.2}},\"type\":\"bar\"}],\"barpolar\":[{\"marker\":{\"line\":{\"color\":\"#E5ECF6\",\"width\":0.5},\"pattern\":{\"fillmode\":\"overlay\",\"size\":10,\"solidity\":0.2}},\"type\":\"barpolar\"}],\"carpet\":[{\"aaxis\":{\"endlinecolor\":\"#2a3f5f\",\"gridcolor\":\"white\",\"linecolor\":\"white\",\"minorgridcolor\":\"white\",\"startlinecolor\":\"#2a3f5f\"},\"baxis\":{\"endlinecolor\":\"#2a3f5f\",\"gridcolor\":\"white\",\"linecolor\":\"white\",\"minorgridcolor\":\"white\",\"startlinecolor\":\"#2a3f5f\"},\"type\":\"carpet\"}],\"choropleth\":[{\"colorbar\":{\"outlinewidth\":0,\"ticks\":\"\"},\"type\":\"choropleth\"}],\"contour\":[{\"colorbar\":{\"outlinewidth\":0,\"ticks\":\"\"},\"colorscale\":[[0.0,\"#0d0887\"],[0.1111111111111111,\"#46039f\"],[0.2222222222222222,\"#7201a8\"],[0.3333333333333333,\"#9c179e\"],[0.4444444444444444,\"#bd3786\"],[0.5555555555555556,\"#d8576b\"],[0.6666666666666666,\"#ed7953\"],[0.7777777777777778,\"#fb9f3a\"],[0.8888888888888888,\"#fdca26\"],[1.0,\"#f0f921\"]],\"type\":\"contour\"}],\"contourcarpet\":[{\"colorbar\":{\"outlinewidth\":0,\"ticks\":\"\"},\"type\":\"contourcarpet\"}],\"heatmap\":[{\"colorbar\":{\"outlinewidth\":0,\"ticks\":\"\"},\"colorscale\":[[0.0,\"#0d0887\"],[0.1111111111111111,\"#46039f\"],[0.2222222222222222,\"#7201a8\"],[0.3333333333333333,\"#9c179e\"],[0.4444444444444444,\"#bd3786\"],[0.5555555555555556,\"#d8576b\"],[0.6666666666666666,\"#ed7953\"],[0.7777777777777778,\"#fb9f3a\"],[0.8888888888888888,\"#fdca26\"],[1.0,\"#f0f921\"]],\"type\":\"heatmap\"}],\"heatmapgl\":[{\"colorbar\":{\"outlinewidth\":0,\"ticks\":\"\"},\"colorscale\":[[0.0,\"#0d0887\"],[0.1111111111111111,\"#46039f\"],[0.2222222222222222,\"#7201a8\"],[0.3333333333333333,\"#9c179e\"],[0.4444444444444444,\"#bd3786\"],[0.5555555555555556,\"#d8576b\"],[0.6666666666666666,\"#ed7953\"],[0.7777777777777778,\"#fb9f3a\"],[0.8888888888888888,\"#fdca26\"],[1.0,\"#f0f921\"]],\"type\":\"heatmapgl\"}],\"histogram\":[{\"marker\":{\"pattern\":{\"fillmode\":\"overlay\",\"size\":10,\"solidity\":0.2}},\"type\":\"histogram\"}],\"histogram2d\":[{\"colorbar\":{\"outlinewidth\":0,\"ticks\":\"\"},\"colorscale\":[[0.0,\"#0d0887\"],[0.1111111111111111,\"#46039f\"],[0.2222222222222222,\"#7201a8\"],[0.3333333333333333,\"#9c179e\"],[0.4444444444444444,\"#bd3786\"],[0.5555555555555556,\"#d8576b\"],[0.6666666666666666,\"#ed7953\"],[0.7777777777777778,\"#fb9f3a\"],[0.8888888888888888,\"#fdca26\"],[1.0,\"#f0f921\"]],\"type\":\"histogram2d\"}],\"histogram2dcontour\":[{\"colorbar\":{\"outlinewidth\":0,\"ticks\":\"\"},\"colorscale\":[[0.0,\"#0d0887\"],[0.1111111111111111,\"#46039f\"],[0.2222222222222222,\"#7201a8\"],[0.3333333333333333,\"#9c179e\"],[0.4444444444444444,\"#bd3786\"],[0.5555555555555556,\"#d8576b\"],[0.6666666666666666,\"#ed7953\"],[0.7777777777777778,\"#fb9f3a\"],[0.8888888888888888,\"#fdca26\"],[1.0,\"#f0f921\"]],\"type\":\"histogram2dcontour\"}],\"mesh3d\":[{\"colorbar\":{\"outlinewidth\":0,\"ticks\":\"\"},\"type\":\"mesh3d\"}],\"parcoords\":[{\"line\":{\"colorbar\":{\"outlinewidth\":0,\"ticks\":\"\"}},\"type\":\"parcoords\"}],\"pie\":[{\"automargin\":true,\"type\":\"pie\"}],\"scatter\":[{\"marker\":{\"colorbar\":{\"outlinewidth\":0,\"ticks\":\"\"}},\"type\":\"scatter\"}],\"scatter3d\":[{\"line\":{\"colorbar\":{\"outlinewidth\":0,\"ticks\":\"\"}},\"marker\":{\"colorbar\":{\"outlinewidth\":0,\"ticks\":\"\"}},\"type\":\"scatter3d\"}],\"scattercarpet\":[{\"marker\":{\"colorbar\":{\"outlinewidth\":0,\"ticks\":\"\"}},\"type\":\"scattercarpet\"}],\"scattergeo\":[{\"marker\":{\"colorbar\":{\"outlinewidth\":0,\"ticks\":\"\"}},\"type\":\"scattergeo\"}],\"scattergl\":[{\"marker\":{\"colorbar\":{\"outlinewidth\":0,\"ticks\":\"\"}},\"type\":\"scattergl\"}],\"scattermapbox\":[{\"marker\":{\"colorbar\":{\"outlinewidth\":0,\"ticks\":\"\"}},\"type\":\"scattermapbox\"}],\"scatterpolar\":[{\"marker\":{\"colorbar\":{\"outlinewidth\":0,\"ticks\":\"\"}},\"type\":\"scatterpolar\"}],\"scatterpolargl\":[{\"marker\":{\"colorbar\":{\"outlinewidth\":0,\"ticks\":\"\"}},\"type\":\"scatterpolargl\"}],\"scatterternary\":[{\"marker\":{\"colorbar\":{\"outlinewidth\":0,\"ticks\":\"\"}},\"type\":\"scatterternary\"}],\"surface\":[{\"colorbar\":{\"outlinewidth\":0,\"ticks\":\"\"},\"colorscale\":[[0.0,\"#0d0887\"],[0.1111111111111111,\"#46039f\"],[0.2222222222222222,\"#7201a8\"],[0.3333333333333333,\"#9c179e\"],[0.4444444444444444,\"#bd3786\"],[0.5555555555555556,\"#d8576b\"],[0.6666666666666666,\"#ed7953\"],[0.7777777777777778,\"#fb9f3a\"],[0.8888888888888888,\"#fdca26\"],[1.0,\"#f0f921\"]],\"type\":\"surface\"}],\"table\":[{\"cells\":{\"fill\":{\"color\":\"#EBF0F8\"},\"line\":{\"color\":\"white\"}},\"header\":{\"fill\":{\"color\":\"#C8D4E3\"},\"line\":{\"color\":\"white\"}},\"type\":\"table\"}]},\"layout\":{\"annotationdefaults\":{\"arrowcolor\":\"#2a3f5f\",\"arrowhead\":0,\"arrowwidth\":1},\"autotypenumbers\":\"strict\",\"coloraxis\":{\"colorbar\":{\"outlinewidth\":0,\"ticks\":\"\"}},\"colorscale\":{\"diverging\":[[0,\"#8e0152\"],[0.1,\"#c51b7d\"],[0.2,\"#de77ae\"],[0.3,\"#f1b6da\"],[0.4,\"#fde0ef\"],[0.5,\"#f7f7f7\"],[0.6,\"#e6f5d0\"],[0.7,\"#b8e186\"],[0.8,\"#7fbc41\"],[0.9,\"#4d9221\"],[1,\"#276419\"]],\"sequential\":[[0.0,\"#0d0887\"],[0.1111111111111111,\"#46039f\"],[0.2222222222222222,\"#7201a8\"],[0.3333333333333333,\"#9c179e\"],[0.4444444444444444,\"#bd3786\"],[0.5555555555555556,\"#d8576b\"],[0.6666666666666666,\"#ed7953\"],[0.7777777777777778,\"#fb9f3a\"],[0.8888888888888888,\"#fdca26\"],[1.0,\"#f0f921\"]],\"sequentialminus\":[[0.0,\"#0d0887\"],[0.1111111111111111,\"#46039f\"],[0.2222222222222222,\"#7201a8\"],[0.3333333333333333,\"#9c179e\"],[0.4444444444444444,\"#bd3786\"],[0.5555555555555556,\"#d8576b\"],[0.6666666666666666,\"#ed7953\"],[0.7777777777777778,\"#fb9f3a\"],[0.8888888888888888,\"#fdca26\"],[1.0,\"#f0f921\"]]},\"colorway\":[\"#636efa\",\"#EF553B\",\"#00cc96\",\"#ab63fa\",\"#FFA15A\",\"#19d3f3\",\"#FF6692\",\"#B6E880\",\"#FF97FF\",\"#FECB52\"],\"font\":{\"color\":\"#2a3f5f\"},\"geo\":{\"bgcolor\":\"white\",\"lakecolor\":\"white\",\"landcolor\":\"#E5ECF6\",\"showlakes\":true,\"showland\":true,\"subunitcolor\":\"white\"},\"hoverlabel\":{\"align\":\"left\"},\"hovermode\":\"closest\",\"mapbox\":{\"style\":\"light\"},\"paper_bgcolor\":\"white\",\"plot_bgcolor\":\"#E5ECF6\",\"polar\":{\"angularaxis\":{\"gridcolor\":\"white\",\"linecolor\":\"white\",\"ticks\":\"\"},\"bgcolor\":\"#E5ECF6\",\"radialaxis\":{\"gridcolor\":\"white\",\"linecolor\":\"white\",\"ticks\":\"\"}},\"scene\":{\"xaxis\":{\"backgroundcolor\":\"#E5ECF6\",\"gridcolor\":\"white\",\"gridwidth\":2,\"linecolor\":\"white\",\"showbackground\":true,\"ticks\":\"\",\"zerolinecolor\":\"white\"},\"yaxis\":{\"backgroundcolor\":\"#E5ECF6\",\"gridcolor\":\"white\",\"gridwidth\":2,\"linecolor\":\"white\",\"showbackground\":true,\"ticks\":\"\",\"zerolinecolor\":\"white\"},\"zaxis\":{\"backgroundcolor\":\"#E5ECF6\",\"gridcolor\":\"white\",\"gridwidth\":2,\"linecolor\":\"white\",\"showbackground\":true,\"ticks\":\"\",\"zerolinecolor\":\"white\"}},\"shapedefaults\":{\"line\":{\"color\":\"#2a3f5f\"}},\"ternary\":{\"aaxis\":{\"gridcolor\":\"white\",\"linecolor\":\"white\",\"ticks\":\"\"},\"baxis\":{\"gridcolor\":\"white\",\"linecolor\":\"white\",\"ticks\":\"\"},\"bgcolor\":\"#E5ECF6\",\"caxis\":{\"gridcolor\":\"white\",\"linecolor\":\"white\",\"ticks\":\"\"}},\"title\":{\"x\":0.05},\"xaxis\":{\"automargin\":true,\"gridcolor\":\"white\",\"linecolor\":\"white\",\"ticks\":\"\",\"title\":{\"standoff\":15},\"zerolinecolor\":\"white\",\"zerolinewidth\":2},\"yaxis\":{\"automargin\":true,\"gridcolor\":\"white\",\"linecolor\":\"white\",\"ticks\":\"\",\"title\":{\"standoff\":15},\"zerolinecolor\":\"white\",\"zerolinewidth\":2}}},\"xaxis\":{\"anchor\":\"y\",\"domain\":[0.0,1.0],\"title\":{\"text\":\"vec_x\"}},\"yaxis\":{\"anchor\":\"x\",\"domain\":[0.0,1.0],\"title\":{\"text\":\"vec_y\"}},\"coloraxis\":{\"colorbar\":{\"title\":{\"text\":\"label\"}},\"colorscale\":[[0.0,\"#0d0887\"],[0.1111111111111111,\"#46039f\"],[0.2222222222222222,\"#7201a8\"],[0.3333333333333333,\"#9c179e\"],[0.4444444444444444,\"#bd3786\"],[0.5555555555555556,\"#d8576b\"],[0.6666666666666666,\"#ed7953\"],[0.7777777777777778,\"#fb9f3a\"],[0.8888888888888888,\"#fdca26\"],[1.0,\"#f0f921\"]]},\"legend\":{\"tracegroupgap\":0},\"margin\":{\"t\":60},\"width\":1000},                        {\"responsive\": true}                    ).then(function(){\n",
       "                            \n",
       "var gd = document.getElementById('25cc8555-855f-4795-8bec-828470a7fa3f');\n",
       "var x = new MutationObserver(function (mutations, observer) {{\n",
       "        var display = window.getComputedStyle(gd).display;\n",
       "        if (!display || display === 'none') {{\n",
       "            console.log([gd, 'removed!']);\n",
       "            Plotly.purge(gd);\n",
       "            observer.disconnect();\n",
       "        }}\n",
       "}});\n",
       "\n",
       "// Listen for the removal of the full notebook cells\n",
       "var notebookContainer = gd.closest('#notebook-container');\n",
       "if (notebookContainer) {{\n",
       "    x.observe(notebookContainer, {childList: true});\n",
       "}}\n",
       "\n",
       "// Listen for the clearing of the current output cell\n",
       "var outputEl = gd.closest('.output');\n",
       "if (outputEl) {{\n",
       "    x.observe(outputEl, {childList: true});\n",
       "}}\n",
       "\n",
       "                        })                };                });            </script>        </div>"
      ]
     },
     "metadata": {},
     "output_type": "display_data"
    }
   ],
   "source": [
    "from sklearn.cluster import KMeans\n",
    "import plotly.express as px\n",
    "\n",
    "kmeans = KMeans(n_clusters=30)\n",
    "labels = kmeans.fit_predict(movies_to_plot[\"vec\"].to_list())\n",
    "movies_to_plot[\"label\"] = labels\n",
    "\n",
    "fig = px.scatter(movies_to_plot, x=\"vec_x\", y=\"vec_y\", color=\"label\", hover_name=\"title\", hover_data=[\"genres\"], width=1000)\n",
    "fig.show()"
   ]
  },
  {
   "cell_type": "markdown",
   "metadata": {},
   "source": [
    "The clusters are very interesting since we can clearly see they group movies by topics, for example _action_, _horror_, _animation_, and more"
   ]
  },
  {
   "cell_type": "code",
   "execution_count": 83,
   "metadata": {},
   "outputs": [
    {
     "name": "stdout",
     "output_type": "stream",
     "text": [
      "['Beauty and the Beast', 'Finding Dory', 'The Fate of the Furious', \"Miss Peregrine's Home for Peculiar Children\", 'Get Out']\n",
      "['The Godfather', 'The Silence of the Lambs', 'The Shining', 'Blade Runner', 'A Clockwork Orange']\n",
      "['Interstellar', 'Shutter Island', 'The Revenant', 'Gone Girl', 'Life of Pi']\n",
      "['The Great Gatsby', 'The Fault in Our Stars', 'The Secret Life of Pets', 'Hacksaw Ridge', 'The Secret Life of Walter Mitty']\n",
      "[\"Harry Potter and the Philosopher's Stone\", 'Harry Potter and the Deathly Hallows: Part 2', 'Harry Potter and the Prisoner of Azkaban', 'Harry Potter and the Chamber of Secrets', 'Harry Potter and the Goblet of Fire']\n",
      "['Suicide Squad', 'Batman v Superman: Dawn of Justice', 'Man of Steel', 'X-Men: Apocalypse', 'The Amazing Spider-Man 2']\n",
      "['Star Wars: The Force Awakens', 'Star Wars', 'The Empire Strikes Back', 'Return of the Jedi']\n",
      "['Twilight', 'Fifty Shades of Grey', 'The Twilight Saga: Breaking Dawn - Part 2', 'The Twilight Saga: Breaking Dawn - Part 1', 'The Twilight Saga: New Moon']\n",
      "['Pirates of the Caribbean: The Curse of the Black Pearl', \"Pirates of the Caribbean: Dead Man's Chest\", 'Pirates of the Caribbean: On Stranger Tides', 'Alice in Wonderland', \"Pirates of the Caribbean: At World's End\"]\n",
      "['Men in Black', 'The Fifth Element', 'Men in Black II', 'Bruce Almighty', 'The Mummy']\n"
     ]
    }
   ],
   "source": [
    "for label in range(10):\n",
    "    print(movies_to_plot[movies_to_plot[\"label\"] == label].head(5)[\"title\"].to_list())"
   ]
  },
  {
   "cell_type": "markdown",
   "metadata": {},
   "source": []
  },
  {
   "cell_type": "markdown",
   "metadata": {
    "pycharm": {
     "name": "#%% md\n"
    }
   },
   "source": [
    "# Further Plans For The Final Project\n",
    "\n",
    "I think that with more tweaking to the content based model I can get better results, I think that the \"keywords\" column doesn't give indication for the similarities between movies, and because of the duplication with \"crew\" and \"cast\" there's not enough emphasis on the plot.\n",
    "\n",
    "It would be very interesting to compare the different results of the models and try to analyse the reasons each model behaved the way it did.\n",
    "\n",
    "Using only my judgment as a way to determine how well a recommender performs is really not good enouhg, I want to dive deeper into different ways to determine how successful a recommendations system is."
   ]
  },
  {
   "cell_type": "markdown",
   "metadata": {},
   "source": [
    "# Closing Thoughts\n",
    "\n",
    "Points:\n",
    "* Need more data for content based - maybe longer descriptions of the plot or review\n",
    "* collaborative fixed the issue of discoverability\n",
    "* Content based takes a lot of time and tuning, needs to discover different features\n",
    "* Learned a lot, didn't have prior knowledge or experience"
   ]
  }
 ],
 "metadata": {
  "kernelspec": {
   "display_name": "Python 3.9.12 ('base')",
   "language": "python",
   "name": "python3"
  },
  "language_info": {
   "codemirror_mode": {
    "name": "ipython",
    "version": 3
   },
   "file_extension": ".py",
   "mimetype": "text/x-python",
   "name": "python",
   "nbconvert_exporter": "python",
   "pygments_lexer": "ipython3",
   "version": "3.9.12"
  },
  "vscode": {
   "interpreter": {
    "hash": "14d135845b4420f182ac77ee6b5c0deec044b592a80e9353f0df39bb07f4e36b"
   }
  }
 },
 "nbformat": 4,
 "nbformat_minor": 2
}
