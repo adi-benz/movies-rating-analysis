{
 "cells": [
  {
   "cell_type": "markdown",
   "metadata": {},
   "source": [
    "# Movies Recommender 🍿 - Building a Recommendation System\n",
    "A project proposal by **Adi Benziony (ID 313364549)**\n",
    "\n",
    "## Introduction and Motivation\n",
    "The film industry is a giant business, and every year thousands of new movies are made. In 2019 alone 4,693 new movies were released ([source](https://www.the-numbers.com/movies/production-countries#tab=year)).  \n",
    "With all those new movies released each year it can be confusing to choose which movies to see, and that's where a personalized recommendation system can come in handy.\n",
    "\n",
    "The growth in digital data volume that's at the disposal of big companies allowed a new era of personalized recommendation systems to arise.  \n",
    "Every company serving consumers content wants to find a way to keep the consumer engaged and entertained, one of the ways this can be achived is by making it easier for the user to find content he will like.  \n",
    "Companies like Spotify, Netflix, Twitter, Facebook and even dating apps such as Tinder all have recommendation systems to keep users on the platform.\n",
    "\n",
    "![Netflix recommendations](resources/recommendations-banner.png)\n",
    "\n",
    "In this notebook we will use [The Movies Dataset](https://www.kaggle.com/datasets/rounakbanik/the-movies-dataset) posted on Kaggle to build **a recommendation system for movies based on a user's ratings**."
   ]
  },
  {
   "cell_type": "markdown",
   "metadata": {},
   "source": [
    "## Dataset\n",
    "This project is inspired by the dataset [The Movies Dataset](https://www.kaggle.com/datasets/rounakbanik/the-movies-dataset) posted on Kaggle, featuring movies information like title, genres, release date and more along with users' movies ratings.  \n",
    "The dataset is a combination of [_MovieLens_](https://movielens.org/) and [_TMDB_](https://www.themoviedb.org/).  \n",
    "MovieLens is a research site run by _GroupLens Research_ at the University of Minnesota and contains users' movies ratings, and _TMDB_ is a website containing data on millions of movies.\n",
    "\n",
    "Our dataset cotains:\n",
    "* **45,000 movies** in various languages (but mostly English) with properties like budget, revenue, genres, language, release date, duration, and ratings.\n",
    "* **26 million ratings by 260,000 users**"
   ]
  },
  {
   "cell_type": "markdown",
   "metadata": {},
   "source": [
    "## Dataset Loading & Cleanup\n",
    "We will start by loading `movies-dataset/movies_metadata.csv`.  \n",
    "Note, the original CSV uploaded to Kaggle had some lines with unescaped newlines in their movie description fields, the CSV in the project's Git repository is a fixed version of the CSV from Kaggle.\n",
    "\n",
    "Let's load the dataset and start inspecting it:"
   ]
  },
  {
   "cell_type": "code",
   "execution_count": 1,
   "metadata": {},
   "outputs": [],
   "source": [
    "import numpy as np\n",
    "import pandas as pd\n",
    "import matplotlib.pyplot as plt\n",
    "import seaborn as sns"
   ]
  },
  {
   "cell_type": "code",
   "execution_count": 2,
   "metadata": {},
   "outputs": [
    {
     "name": "stdout",
     "output_type": "stream",
     "text": [
      "<class 'pandas.core.frame.DataFrame'>\n",
      "RangeIndex: 45463 entries, 0 to 45462\n",
      "Data columns (total 24 columns):\n",
      " #   Column                 Non-Null Count  Dtype  \n",
      "---  ------                 --------------  -----  \n",
      " 0   adult                  45463 non-null  bool   \n",
      " 1   belongs_to_collection  4491 non-null   object \n",
      " 2   budget                 45463 non-null  int64  \n",
      " 3   genres                 45463 non-null  object \n",
      " 4   homepage               7779 non-null   object \n",
      " 5   id                     45463 non-null  int64  \n",
      " 6   imdb_id                45446 non-null  object \n",
      " 7   original_language      45452 non-null  object \n",
      " 8   original_title         45463 non-null  object \n",
      " 9   overview               44509 non-null  object \n",
      " 10  popularity             45463 non-null  float64\n",
      " 11  poster_path            45080 non-null  object \n",
      " 12  production_companies   45463 non-null  object \n",
      " 13  production_countries   45463 non-null  object \n",
      " 14  release_date           45379 non-null  object \n",
      " 15  revenue                45463 non-null  int64  \n",
      " 16  runtime                45206 non-null  float64\n",
      " 17  spoken_languages       45463 non-null  object \n",
      " 18  status                 45382 non-null  object \n",
      " 19  tagline                20413 non-null  object \n",
      " 20  title                  45463 non-null  object \n",
      " 21  video                  45463 non-null  bool   \n",
      " 22  vote_average           45463 non-null  float64\n",
      " 23  vote_count             45463 non-null  int64  \n",
      "dtypes: bool(2), float64(3), int64(4), object(15)\n",
      "memory usage: 7.7+ MB\n"
     ]
    }
   ],
   "source": [
    "movies_metadata = pd.read_csv('movies-dataset/movies_metadata.csv')\n",
    "movies_metadata.info()"
   ]
  },
  {
   "cell_type": "markdown",
   "metadata": {},
   "source": [
    "We can see that the `release_date` field is not of type `datetime`, so let's change that:"
   ]
  },
  {
   "cell_type": "code",
   "execution_count": 3,
   "metadata": {},
   "outputs": [],
   "source": [
    "movies_metadata = pd.read_csv('movies-dataset/movies_metadata.csv', parse_dates=['release_date'])"
   ]
  },
  {
   "cell_type": "markdown",
   "metadata": {},
   "source": [
    "Let's also load the `credits.csv` and `keywords.csv` files"
   ]
  },
  {
   "cell_type": "code",
   "execution_count": 4,
   "metadata": {},
   "outputs": [],
   "source": [
    "credits = pd.read_csv('movies-dataset/credits.csv')"
   ]
  },
  {
   "cell_type": "code",
   "execution_count": 5,
   "metadata": {},
   "outputs": [],
   "source": [
    "keywords = pd.read_csv('movies-dataset/keywords.csv')"
   ]
  },
  {
   "cell_type": "markdown",
   "metadata": {},
   "source": [
    "# Data Exploration"
   ]
  },
  {
   "cell_type": "markdown",
   "metadata": {},
   "source": [
    "Now for some exploration, let's look at some rows of our datasets:"
   ]
  },
  {
   "cell_type": "code",
   "execution_count": 6,
   "metadata": {},
   "outputs": [
    {
     "data": {
      "text/html": [
       "<div>\n",
       "<style scoped>\n",
       "    .dataframe tbody tr th:only-of-type {\n",
       "        vertical-align: middle;\n",
       "    }\n",
       "\n",
       "    .dataframe tbody tr th {\n",
       "        vertical-align: top;\n",
       "    }\n",
       "\n",
       "    .dataframe thead th {\n",
       "        text-align: right;\n",
       "    }\n",
       "</style>\n",
       "<table border=\"1\" class=\"dataframe\">\n",
       "  <thead>\n",
       "    <tr style=\"text-align: right;\">\n",
       "      <th></th>\n",
       "      <th>adult</th>\n",
       "      <th>belongs_to_collection</th>\n",
       "      <th>budget</th>\n",
       "      <th>genres</th>\n",
       "      <th>homepage</th>\n",
       "      <th>id</th>\n",
       "      <th>imdb_id</th>\n",
       "      <th>original_language</th>\n",
       "      <th>original_title</th>\n",
       "      <th>overview</th>\n",
       "      <th>...</th>\n",
       "      <th>release_date</th>\n",
       "      <th>revenue</th>\n",
       "      <th>runtime</th>\n",
       "      <th>spoken_languages</th>\n",
       "      <th>status</th>\n",
       "      <th>tagline</th>\n",
       "      <th>title</th>\n",
       "      <th>video</th>\n",
       "      <th>vote_average</th>\n",
       "      <th>vote_count</th>\n",
       "    </tr>\n",
       "  </thead>\n",
       "  <tbody>\n",
       "    <tr>\n",
       "      <th>0</th>\n",
       "      <td>False</td>\n",
       "      <td>{'id': 10194, 'name': 'Toy Story Collection', ...</td>\n",
       "      <td>30000000</td>\n",
       "      <td>[{'id': 16, 'name': 'Animation'}, {'id': 35, '...</td>\n",
       "      <td>http://toystory.disney.com/toy-story</td>\n",
       "      <td>862</td>\n",
       "      <td>tt0114709</td>\n",
       "      <td>en</td>\n",
       "      <td>Toy Story</td>\n",
       "      <td>Led by Woody, Andy's toys live happily in his ...</td>\n",
       "      <td>...</td>\n",
       "      <td>1995-10-30</td>\n",
       "      <td>373554033</td>\n",
       "      <td>81.0</td>\n",
       "      <td>[{'iso_639_1': 'en', 'name': 'English'}]</td>\n",
       "      <td>Released</td>\n",
       "      <td>NaN</td>\n",
       "      <td>Toy Story</td>\n",
       "      <td>False</td>\n",
       "      <td>7.7</td>\n",
       "      <td>5415</td>\n",
       "    </tr>\n",
       "    <tr>\n",
       "      <th>1</th>\n",
       "      <td>False</td>\n",
       "      <td>NaN</td>\n",
       "      <td>65000000</td>\n",
       "      <td>[{'id': 12, 'name': 'Adventure'}, {'id': 14, '...</td>\n",
       "      <td>NaN</td>\n",
       "      <td>8844</td>\n",
       "      <td>tt0113497</td>\n",
       "      <td>en</td>\n",
       "      <td>Jumanji</td>\n",
       "      <td>When siblings Judy and Peter discover an encha...</td>\n",
       "      <td>...</td>\n",
       "      <td>1995-12-15</td>\n",
       "      <td>262797249</td>\n",
       "      <td>104.0</td>\n",
       "      <td>[{'iso_639_1': 'en', 'name': 'English'}, {'iso...</td>\n",
       "      <td>Released</td>\n",
       "      <td>Roll the dice and unleash the excitement!</td>\n",
       "      <td>Jumanji</td>\n",
       "      <td>False</td>\n",
       "      <td>6.9</td>\n",
       "      <td>2413</td>\n",
       "    </tr>\n",
       "    <tr>\n",
       "      <th>2</th>\n",
       "      <td>False</td>\n",
       "      <td>{'id': 119050, 'name': 'Grumpy Old Men Collect...</td>\n",
       "      <td>0</td>\n",
       "      <td>[{'id': 10749, 'name': 'Romance'}, {'id': 35, ...</td>\n",
       "      <td>NaN</td>\n",
       "      <td>15602</td>\n",
       "      <td>tt0113228</td>\n",
       "      <td>en</td>\n",
       "      <td>Grumpier Old Men</td>\n",
       "      <td>A family wedding reignites the ancient feud be...</td>\n",
       "      <td>...</td>\n",
       "      <td>1995-12-22</td>\n",
       "      <td>0</td>\n",
       "      <td>101.0</td>\n",
       "      <td>[{'iso_639_1': 'en', 'name': 'English'}]</td>\n",
       "      <td>Released</td>\n",
       "      <td>Still Yelling. Still Fighting. Still Ready for...</td>\n",
       "      <td>Grumpier Old Men</td>\n",
       "      <td>False</td>\n",
       "      <td>6.5</td>\n",
       "      <td>92</td>\n",
       "    </tr>\n",
       "    <tr>\n",
       "      <th>3</th>\n",
       "      <td>False</td>\n",
       "      <td>NaN</td>\n",
       "      <td>16000000</td>\n",
       "      <td>[{'id': 35, 'name': 'Comedy'}, {'id': 18, 'nam...</td>\n",
       "      <td>NaN</td>\n",
       "      <td>31357</td>\n",
       "      <td>tt0114885</td>\n",
       "      <td>en</td>\n",
       "      <td>Waiting to Exhale</td>\n",
       "      <td>Cheated on, mistreated and stepped on, the wom...</td>\n",
       "      <td>...</td>\n",
       "      <td>1995-12-22</td>\n",
       "      <td>81452156</td>\n",
       "      <td>127.0</td>\n",
       "      <td>[{'iso_639_1': 'en', 'name': 'English'}]</td>\n",
       "      <td>Released</td>\n",
       "      <td>Friends are the people who let you be yourself...</td>\n",
       "      <td>Waiting to Exhale</td>\n",
       "      <td>False</td>\n",
       "      <td>6.1</td>\n",
       "      <td>34</td>\n",
       "    </tr>\n",
       "    <tr>\n",
       "      <th>4</th>\n",
       "      <td>False</td>\n",
       "      <td>{'id': 96871, 'name': 'Father of the Bride Col...</td>\n",
       "      <td>0</td>\n",
       "      <td>[{'id': 35, 'name': 'Comedy'}]</td>\n",
       "      <td>NaN</td>\n",
       "      <td>11862</td>\n",
       "      <td>tt0113041</td>\n",
       "      <td>en</td>\n",
       "      <td>Father of the Bride Part II</td>\n",
       "      <td>Just when George Banks has recovered from his ...</td>\n",
       "      <td>...</td>\n",
       "      <td>1995-02-10</td>\n",
       "      <td>76578911</td>\n",
       "      <td>106.0</td>\n",
       "      <td>[{'iso_639_1': 'en', 'name': 'English'}]</td>\n",
       "      <td>Released</td>\n",
       "      <td>Just When His World Is Back To Normal... He's ...</td>\n",
       "      <td>Father of the Bride Part II</td>\n",
       "      <td>False</td>\n",
       "      <td>5.7</td>\n",
       "      <td>173</td>\n",
       "    </tr>\n",
       "  </tbody>\n",
       "</table>\n",
       "<p>5 rows × 24 columns</p>\n",
       "</div>"
      ],
      "text/plain": [
       "   adult                              belongs_to_collection    budget  \\\n",
       "0  False  {'id': 10194, 'name': 'Toy Story Collection', ...  30000000   \n",
       "1  False                                                NaN  65000000   \n",
       "2  False  {'id': 119050, 'name': 'Grumpy Old Men Collect...         0   \n",
       "3  False                                                NaN  16000000   \n",
       "4  False  {'id': 96871, 'name': 'Father of the Bride Col...         0   \n",
       "\n",
       "                                              genres  \\\n",
       "0  [{'id': 16, 'name': 'Animation'}, {'id': 35, '...   \n",
       "1  [{'id': 12, 'name': 'Adventure'}, {'id': 14, '...   \n",
       "2  [{'id': 10749, 'name': 'Romance'}, {'id': 35, ...   \n",
       "3  [{'id': 35, 'name': 'Comedy'}, {'id': 18, 'nam...   \n",
       "4                     [{'id': 35, 'name': 'Comedy'}]   \n",
       "\n",
       "                               homepage     id    imdb_id original_language  \\\n",
       "0  http://toystory.disney.com/toy-story    862  tt0114709                en   \n",
       "1                                   NaN   8844  tt0113497                en   \n",
       "2                                   NaN  15602  tt0113228                en   \n",
       "3                                   NaN  31357  tt0114885                en   \n",
       "4                                   NaN  11862  tt0113041                en   \n",
       "\n",
       "                original_title  \\\n",
       "0                    Toy Story   \n",
       "1                      Jumanji   \n",
       "2             Grumpier Old Men   \n",
       "3            Waiting to Exhale   \n",
       "4  Father of the Bride Part II   \n",
       "\n",
       "                                            overview  ...  release_date  \\\n",
       "0  Led by Woody, Andy's toys live happily in his ...  ...    1995-10-30   \n",
       "1  When siblings Judy and Peter discover an encha...  ...    1995-12-15   \n",
       "2  A family wedding reignites the ancient feud be...  ...    1995-12-22   \n",
       "3  Cheated on, mistreated and stepped on, the wom...  ...    1995-12-22   \n",
       "4  Just when George Banks has recovered from his ...  ...    1995-02-10   \n",
       "\n",
       "     revenue runtime                                   spoken_languages  \\\n",
       "0  373554033    81.0           [{'iso_639_1': 'en', 'name': 'English'}]   \n",
       "1  262797249   104.0  [{'iso_639_1': 'en', 'name': 'English'}, {'iso...   \n",
       "2          0   101.0           [{'iso_639_1': 'en', 'name': 'English'}]   \n",
       "3   81452156   127.0           [{'iso_639_1': 'en', 'name': 'English'}]   \n",
       "4   76578911   106.0           [{'iso_639_1': 'en', 'name': 'English'}]   \n",
       "\n",
       "     status                                            tagline  \\\n",
       "0  Released                                                NaN   \n",
       "1  Released          Roll the dice and unleash the excitement!   \n",
       "2  Released  Still Yelling. Still Fighting. Still Ready for...   \n",
       "3  Released  Friends are the people who let you be yourself...   \n",
       "4  Released  Just When His World Is Back To Normal... He's ...   \n",
       "\n",
       "                         title  video vote_average vote_count  \n",
       "0                    Toy Story  False          7.7       5415  \n",
       "1                      Jumanji  False          6.9       2413  \n",
       "2             Grumpier Old Men  False          6.5         92  \n",
       "3            Waiting to Exhale  False          6.1         34  \n",
       "4  Father of the Bride Part II  False          5.7        173  \n",
       "\n",
       "[5 rows x 24 columns]"
      ]
     },
     "execution_count": 6,
     "metadata": {},
     "output_type": "execute_result"
    }
   ],
   "source": [
    "movies_metadata.head()"
   ]
  },
  {
   "cell_type": "code",
   "execution_count": 7,
   "metadata": {},
   "outputs": [
    {
     "data": {
      "text/html": [
       "<div>\n",
       "<style scoped>\n",
       "    .dataframe tbody tr th:only-of-type {\n",
       "        vertical-align: middle;\n",
       "    }\n",
       "\n",
       "    .dataframe tbody tr th {\n",
       "        vertical-align: top;\n",
       "    }\n",
       "\n",
       "    .dataframe thead th {\n",
       "        text-align: right;\n",
       "    }\n",
       "</style>\n",
       "<table border=\"1\" class=\"dataframe\">\n",
       "  <thead>\n",
       "    <tr style=\"text-align: right;\">\n",
       "      <th></th>\n",
       "      <th>cast</th>\n",
       "      <th>crew</th>\n",
       "      <th>id</th>\n",
       "    </tr>\n",
       "  </thead>\n",
       "  <tbody>\n",
       "    <tr>\n",
       "      <th>0</th>\n",
       "      <td>[{'cast_id': 14, 'character': 'Woody (voice)',...</td>\n",
       "      <td>[{'credit_id': '52fe4284c3a36847f8024f49', 'de...</td>\n",
       "      <td>862</td>\n",
       "    </tr>\n",
       "    <tr>\n",
       "      <th>1</th>\n",
       "      <td>[{'cast_id': 1, 'character': 'Alan Parrish', '...</td>\n",
       "      <td>[{'credit_id': '52fe44bfc3a36847f80a7cd1', 'de...</td>\n",
       "      <td>8844</td>\n",
       "    </tr>\n",
       "    <tr>\n",
       "      <th>2</th>\n",
       "      <td>[{'cast_id': 2, 'character': 'Max Goldman', 'c...</td>\n",
       "      <td>[{'credit_id': '52fe466a9251416c75077a89', 'de...</td>\n",
       "      <td>15602</td>\n",
       "    </tr>\n",
       "    <tr>\n",
       "      <th>3</th>\n",
       "      <td>[{'cast_id': 1, 'character': \"Savannah 'Vannah...</td>\n",
       "      <td>[{'credit_id': '52fe44779251416c91011acb', 'de...</td>\n",
       "      <td>31357</td>\n",
       "    </tr>\n",
       "    <tr>\n",
       "      <th>4</th>\n",
       "      <td>[{'cast_id': 1, 'character': 'George Banks', '...</td>\n",
       "      <td>[{'credit_id': '52fe44959251416c75039ed7', 'de...</td>\n",
       "      <td>11862</td>\n",
       "    </tr>\n",
       "  </tbody>\n",
       "</table>\n",
       "</div>"
      ],
      "text/plain": [
       "                                                cast  \\\n",
       "0  [{'cast_id': 14, 'character': 'Woody (voice)',...   \n",
       "1  [{'cast_id': 1, 'character': 'Alan Parrish', '...   \n",
       "2  [{'cast_id': 2, 'character': 'Max Goldman', 'c...   \n",
       "3  [{'cast_id': 1, 'character': \"Savannah 'Vannah...   \n",
       "4  [{'cast_id': 1, 'character': 'George Banks', '...   \n",
       "\n",
       "                                                crew     id  \n",
       "0  [{'credit_id': '52fe4284c3a36847f8024f49', 'de...    862  \n",
       "1  [{'credit_id': '52fe44bfc3a36847f80a7cd1', 'de...   8844  \n",
       "2  [{'credit_id': '52fe466a9251416c75077a89', 'de...  15602  \n",
       "3  [{'credit_id': '52fe44779251416c91011acb', 'de...  31357  \n",
       "4  [{'credit_id': '52fe44959251416c75039ed7', 'de...  11862  "
      ]
     },
     "execution_count": 7,
     "metadata": {},
     "output_type": "execute_result"
    }
   ],
   "source": [
    "credits.head()"
   ]
  },
  {
   "cell_type": "code",
   "execution_count": 8,
   "metadata": {},
   "outputs": [
    {
     "data": {
      "text/html": [
       "<div>\n",
       "<style scoped>\n",
       "    .dataframe tbody tr th:only-of-type {\n",
       "        vertical-align: middle;\n",
       "    }\n",
       "\n",
       "    .dataframe tbody tr th {\n",
       "        vertical-align: top;\n",
       "    }\n",
       "\n",
       "    .dataframe thead th {\n",
       "        text-align: right;\n",
       "    }\n",
       "</style>\n",
       "<table border=\"1\" class=\"dataframe\">\n",
       "  <thead>\n",
       "    <tr style=\"text-align: right;\">\n",
       "      <th></th>\n",
       "      <th>id</th>\n",
       "      <th>keywords</th>\n",
       "    </tr>\n",
       "  </thead>\n",
       "  <tbody>\n",
       "    <tr>\n",
       "      <th>0</th>\n",
       "      <td>862</td>\n",
       "      <td>[{'id': 931, 'name': 'jealousy'}, {'id': 4290,...</td>\n",
       "    </tr>\n",
       "    <tr>\n",
       "      <th>1</th>\n",
       "      <td>8844</td>\n",
       "      <td>[{'id': 10090, 'name': 'board game'}, {'id': 1...</td>\n",
       "    </tr>\n",
       "    <tr>\n",
       "      <th>2</th>\n",
       "      <td>15602</td>\n",
       "      <td>[{'id': 1495, 'name': 'fishing'}, {'id': 12392...</td>\n",
       "    </tr>\n",
       "    <tr>\n",
       "      <th>3</th>\n",
       "      <td>31357</td>\n",
       "      <td>[{'id': 818, 'name': 'based on novel'}, {'id':...</td>\n",
       "    </tr>\n",
       "    <tr>\n",
       "      <th>4</th>\n",
       "      <td>11862</td>\n",
       "      <td>[{'id': 1009, 'name': 'baby'}, {'id': 1599, 'n...</td>\n",
       "    </tr>\n",
       "  </tbody>\n",
       "</table>\n",
       "</div>"
      ],
      "text/plain": [
       "      id                                           keywords\n",
       "0    862  [{'id': 931, 'name': 'jealousy'}, {'id': 4290,...\n",
       "1   8844  [{'id': 10090, 'name': 'board game'}, {'id': 1...\n",
       "2  15602  [{'id': 1495, 'name': 'fishing'}, {'id': 12392...\n",
       "3  31357  [{'id': 818, 'name': 'based on novel'}, {'id':...\n",
       "4  11862  [{'id': 1009, 'name': 'baby'}, {'id': 1599, 'n..."
      ]
     },
     "execution_count": 8,
     "metadata": {},
     "output_type": "execute_result"
    }
   ],
   "source": [
    "keywords.head()"
   ]
  },
  {
   "cell_type": "markdown",
   "metadata": {},
   "source": [
    "We can merge the 3 datasets into one, this will make it easier as we progress"
   ]
  },
  {
   "cell_type": "code",
   "execution_count": 9,
   "metadata": {},
   "outputs": [],
   "source": [
    "movies = movies_metadata.merge(credits, on='id').merge(keywords, on='id')"
   ]
  },
  {
   "cell_type": "markdown",
   "metadata": {},
   "source": [
    "We need to know who our recommendation system will cater to, this will depend on how much our dataset is skwed.  \n",
    "So let's look at some basic statistics of language, budget, revenu, release dates, duration, votes count and genres."
   ]
  },
  {
   "cell_type": "code",
   "execution_count": 10,
   "metadata": {},
   "outputs": [
    {
     "data": {
      "image/png": "[encoded data removed]",
      "text/plain": [
       "<Figure size 576x576 with 1 Axes>"
      ]
     },
     "metadata": {},
     "output_type": "display_data"
    }
   ],
   "source": [
    "lng_counts = movies['original_language'].value_counts()\n",
    "\n",
    "top_lng = lng_counts.index.tolist()[:10]\n",
    "labels = top_lng + [\"\"]*(lng_counts.index.size - 10)\n",
    "plt.figure(figsize=(8, 8))\n",
    "plt.pie(lng_counts, labels=labels)\n",
    "\n",
    "plt.show()"
   ]
  },
  {
   "cell_type": "markdown",
   "metadata": {},
   "source": [
    "English is the most dominent language in our dataset, while there's also French, Italian, Japanease, German, Spanish, Russian and more.\n",
    "\n",
    "Let's look at statistics about the release dates and the duration:  "
   ]
  },
  {
   "cell_type": "code",
   "execution_count": 11,
   "metadata": {},
   "outputs": [
    {
     "data": {
      "image/png": "[encoded data removed]",
      "text/plain": [
       "<Figure size 432x288 with 1 Axes>"
      ]
     },
     "metadata": {
      "needs_background": "light"
     },
     "output_type": "display_data"
    }
   ],
   "source": [
    "movies['release_date'].hist()\n",
    "plt.show()"
   ]
  },
  {
   "cell_type": "markdown",
   "metadata": {},
   "source": [
    "We can see that our dataset is comprised mainly from movies made in recent years, this doesn't necessarily mean that our data is skwed, maybe there really were more movies made in recent years than before."
   ]
  },
  {
   "cell_type": "code",
   "execution_count": 12,
   "metadata": {},
   "outputs": [
    {
     "data": {
      "text/plain": [
       "(52, 7)"
      ]
     },
     "execution_count": 12,
     "metadata": {},
     "output_type": "execute_result"
    }
   ],
   "source": [
    "movies[movies[\"runtime\"] > 400][[\"title\", \"runtime\", \"overview\", \"keywords\", \"genres\", \"original_language\", \"imdb_id\"]].shape"
   ]
  },
  {
   "cell_type": "code",
   "execution_count": 13,
   "metadata": {},
   "outputs": [
    {
     "data": {
      "image/png": "[encoded data removed]",
      "text/plain": [
       "<Figure size 1296x360 with 1 Axes>"
      ]
     },
     "metadata": {
      "needs_background": "light"
     },
     "output_type": "display_data"
    }
   ],
   "source": [
    "plt.figure(figsize=(18,5))\n",
    "plt.xlabel(\"Runtime duration (minutes)\")\n",
    "plt.ylabel(\"Movies distribution\")\n",
    "\n",
    "# To make the plot more readable we'll remove movies with runtime of over 400 minutes (there's only 25 of them)\n",
    "sns.kdeplot(data=movies[movies[\"runtime\"] > 400], x=\"runtime\")\n",
    "\n",
    "plt.show()"
   ]
  },
  {
   "cell_type": "markdown",
   "metadata": {},
   "source": [
    "The average duration is a little more than an hour and a half, and most movies are between an hour and 2 hours.\n",
    "\n",
    "Next, let's take a look at the different genres.  \n",
    "In order to do that we will need to make the genres data usable. Currently the genres of each movie is stored as follows:"
   ]
  },
  {
   "cell_type": "code",
   "execution_count": 14,
   "metadata": {},
   "outputs": [
    {
     "data": {
      "text/html": [
       "<div>\n",
       "<style scoped>\n",
       "    .dataframe tbody tr th:only-of-type {\n",
       "        vertical-align: middle;\n",
       "    }\n",
       "\n",
       "    .dataframe tbody tr th {\n",
       "        vertical-align: top;\n",
       "    }\n",
       "\n",
       "    .dataframe thead th {\n",
       "        text-align: right;\n",
       "    }\n",
       "</style>\n",
       "<table border=\"1\" class=\"dataframe\">\n",
       "  <thead>\n",
       "    <tr style=\"text-align: right;\">\n",
       "      <th></th>\n",
       "      <th>title</th>\n",
       "      <th>genres</th>\n",
       "    </tr>\n",
       "  </thead>\n",
       "  <tbody>\n",
       "    <tr>\n",
       "      <th>0</th>\n",
       "      <td>Toy Story</td>\n",
       "      <td>[{'id': 16, 'name': 'Animation'}, {'id': 35, '...</td>\n",
       "    </tr>\n",
       "  </tbody>\n",
       "</table>\n",
       "</div>"
      ],
      "text/plain": [
       "       title                                             genres\n",
       "0  Toy Story  [{'id': 16, 'name': 'Animation'}, {'id': 35, '..."
      ]
     },
     "execution_count": 14,
     "metadata": {},
     "output_type": "execute_result"
    }
   ],
   "source": [
    "movies[movies['title'] == 'Toy Story'][['title', 'genres']]"
   ]
  },
  {
   "cell_type": "markdown",
   "metadata": {},
   "source": [
    "We'll convert the `genres` field to a simple list of values, and we'll do the same for `cast`, `crew`, and `keywords`"
   ]
  },
  {
   "cell_type": "code",
   "execution_count": 15,
   "metadata": {},
   "outputs": [],
   "source": [
    "movies[\"genres\"] = movies[\"genres\"].apply(lambda value: [x[\"name\"] for x in eval(value)])\n",
    "movies[\"cast\"] = movies[\"cast\"].apply(lambda value: [x[\"name\"] for x in eval(value)])\n",
    "movies[\"crew\"] = movies[\"crew\"].apply(lambda value: [x[\"name\"] for x in eval(value)])\n",
    "movies[\"keywords\"] = movies[\"keywords\"].apply(lambda value: [x[\"name\"] for x in eval(value)])"
   ]
  },
  {
   "cell_type": "markdown",
   "metadata": {},
   "source": [
    "To make it simpler to plot different aspects of movies' geners, we'll create a new `DataFrame` that will have a duplicate of each movie per its genre:"
   ]
  },
  {
   "cell_type": "code",
   "execution_count": 16,
   "metadata": {},
   "outputs": [],
   "source": [
    "movies_genres = movies.explode('genres').rename(columns={'genres': 'genre'})"
   ]
  },
  {
   "cell_type": "markdown",
   "metadata": {},
   "source": [
    "For example, for the movie \"Toy Story\" the `movies_genres` `DataFrame` will store the genres as follows:"
   ]
  },
  {
   "cell_type": "code",
   "execution_count": 17,
   "metadata": {},
   "outputs": [
    {
     "data": {
      "text/html": [
       "<div>\n",
       "<style scoped>\n",
       "    .dataframe tbody tr th:only-of-type {\n",
       "        vertical-align: middle;\n",
       "    }\n",
       "\n",
       "    .dataframe tbody tr th {\n",
       "        vertical-align: top;\n",
       "    }\n",
       "\n",
       "    .dataframe thead th {\n",
       "        text-align: right;\n",
       "    }\n",
       "</style>\n",
       "<table border=\"1\" class=\"dataframe\">\n",
       "  <thead>\n",
       "    <tr style=\"text-align: right;\">\n",
       "      <th></th>\n",
       "      <th>title</th>\n",
       "      <th>genre</th>\n",
       "    </tr>\n",
       "  </thead>\n",
       "  <tbody>\n",
       "    <tr>\n",
       "      <th>0</th>\n",
       "      <td>Toy Story</td>\n",
       "      <td>Animation</td>\n",
       "    </tr>\n",
       "    <tr>\n",
       "      <th>0</th>\n",
       "      <td>Toy Story</td>\n",
       "      <td>Comedy</td>\n",
       "    </tr>\n",
       "    <tr>\n",
       "      <th>0</th>\n",
       "      <td>Toy Story</td>\n",
       "      <td>Family</td>\n",
       "    </tr>\n",
       "  </tbody>\n",
       "</table>\n",
       "</div>"
      ],
      "text/plain": [
       "       title      genre\n",
       "0  Toy Story  Animation\n",
       "0  Toy Story     Comedy\n",
       "0  Toy Story     Family"
      ]
     },
     "execution_count": 17,
     "metadata": {},
     "output_type": "execute_result"
    }
   ],
   "source": [
    "movies_genres[movies_genres['title'] == 'Toy Story'][['title', 'genre']]"
   ]
  },
  {
   "cell_type": "markdown",
   "metadata": {},
   "source": [
    "We have the following genres:"
   ]
  },
  {
   "cell_type": "code",
   "execution_count": 18,
   "metadata": {},
   "outputs": [
    {
     "data": {
      "text/html": [
       "<div>\n",
       "<style scoped>\n",
       "    .dataframe tbody tr th:only-of-type {\n",
       "        vertical-align: middle;\n",
       "    }\n",
       "\n",
       "    .dataframe tbody tr th {\n",
       "        vertical-align: top;\n",
       "    }\n",
       "\n",
       "    .dataframe thead th {\n",
       "        text-align: right;\n",
       "    }\n",
       "</style>\n",
       "<table border=\"1\" class=\"dataframe\">\n",
       "  <thead>\n",
       "    <tr style=\"text-align: right;\">\n",
       "      <th></th>\n",
       "      <th>genre</th>\n",
       "      <th>count</th>\n",
       "    </tr>\n",
       "  </thead>\n",
       "  <tbody>\n",
       "    <tr>\n",
       "      <th>0</th>\n",
       "      <td>Drama</td>\n",
       "      <td>20809</td>\n",
       "    </tr>\n",
       "    <tr>\n",
       "      <th>1</th>\n",
       "      <td>Comedy</td>\n",
       "      <td>13467</td>\n",
       "    </tr>\n",
       "    <tr>\n",
       "      <th>2</th>\n",
       "      <td>Thriller</td>\n",
       "      <td>7794</td>\n",
       "    </tr>\n",
       "    <tr>\n",
       "      <th>3</th>\n",
       "      <td>Romance</td>\n",
       "      <td>6923</td>\n",
       "    </tr>\n",
       "    <tr>\n",
       "      <th>4</th>\n",
       "      <td>Action</td>\n",
       "      <td>6730</td>\n",
       "    </tr>\n",
       "    <tr>\n",
       "      <th>5</th>\n",
       "      <td>Horror</td>\n",
       "      <td>4762</td>\n",
       "    </tr>\n",
       "    <tr>\n",
       "      <th>6</th>\n",
       "      <td>Crime</td>\n",
       "      <td>4387</td>\n",
       "    </tr>\n",
       "    <tr>\n",
       "      <th>7</th>\n",
       "      <td>Documentary</td>\n",
       "      <td>4050</td>\n",
       "    </tr>\n",
       "    <tr>\n",
       "      <th>8</th>\n",
       "      <td>Adventure</td>\n",
       "      <td>3587</td>\n",
       "    </tr>\n",
       "    <tr>\n",
       "      <th>9</th>\n",
       "      <td>Science Fiction</td>\n",
       "      <td>3140</td>\n",
       "    </tr>\n",
       "    <tr>\n",
       "      <th>10</th>\n",
       "      <td>Family</td>\n",
       "      <td>2831</td>\n",
       "    </tr>\n",
       "    <tr>\n",
       "      <th>11</th>\n",
       "      <td>Mystery</td>\n",
       "      <td>2541</td>\n",
       "    </tr>\n",
       "    <tr>\n",
       "      <th>12</th>\n",
       "      <td>Fantasy</td>\n",
       "      <td>2385</td>\n",
       "    </tr>\n",
       "    <tr>\n",
       "      <th>13</th>\n",
       "      <td>Animation</td>\n",
       "      <td>1998</td>\n",
       "    </tr>\n",
       "    <tr>\n",
       "      <th>14</th>\n",
       "      <td>Foreign</td>\n",
       "      <td>1681</td>\n",
       "    </tr>\n",
       "    <tr>\n",
       "      <th>15</th>\n",
       "      <td>Music</td>\n",
       "      <td>1630</td>\n",
       "    </tr>\n",
       "    <tr>\n",
       "      <th>16</th>\n",
       "      <td>History</td>\n",
       "      <td>1427</td>\n",
       "    </tr>\n",
       "    <tr>\n",
       "      <th>17</th>\n",
       "      <td>War</td>\n",
       "      <td>1348</td>\n",
       "    </tr>\n",
       "    <tr>\n",
       "      <th>18</th>\n",
       "      <td>Western</td>\n",
       "      <td>1059</td>\n",
       "    </tr>\n",
       "    <tr>\n",
       "      <th>19</th>\n",
       "      <td>TV Movie</td>\n",
       "      <td>793</td>\n",
       "    </tr>\n",
       "  </tbody>\n",
       "</table>\n",
       "</div>"
      ],
      "text/plain": [
       "              genre  count\n",
       "0             Drama  20809\n",
       "1            Comedy  13467\n",
       "2          Thriller   7794\n",
       "3           Romance   6923\n",
       "4            Action   6730\n",
       "5            Horror   4762\n",
       "6             Crime   4387\n",
       "7       Documentary   4050\n",
       "8         Adventure   3587\n",
       "9   Science Fiction   3140\n",
       "10           Family   2831\n",
       "11          Mystery   2541\n",
       "12          Fantasy   2385\n",
       "13        Animation   1998\n",
       "14          Foreign   1681\n",
       "15            Music   1630\n",
       "16          History   1427\n",
       "17              War   1348\n",
       "18          Western   1059\n",
       "19         TV Movie    793"
      ]
     },
     "execution_count": 18,
     "metadata": {},
     "output_type": "execute_result"
    }
   ],
   "source": [
    "genres = movies_genres.groupby(\"genre\").size()\\\n",
    "                    .reset_index().rename(columns={0: 'count'})\\\n",
    "                    .sort_values('count', ascending=False).reset_index(drop=True)\n",
    "\n",
    "genres"
   ]
  },
  {
   "cell_type": "code",
   "execution_count": 19,
   "metadata": {},
   "outputs": [
    {
     "data": {
      "image/png": "[encoded data removed]",
      "text/plain": [
       "<Figure size 504x504 with 1 Axes>"
      ]
     },
     "metadata": {},
     "output_type": "display_data"
    }
   ],
   "source": [
    "top_genres = genres[\"genre\"].tolist()[:15]\n",
    "\n",
    "genres_count = movies_genres['genre'].value_counts()\n",
    "labels = top_genres + [\"\"]*(genres_count.index.size - 15)\n",
    "plt.figure(figsize=(7, 7))\n",
    "a = plt.pie(genres_count, labels=labels)"
   ]
  },
  {
   "cell_type": "markdown",
   "metadata": {},
   "source": [
    "It's clear that most movies produced are categorized as \"Drama\", \"Comedy\", \"Thriller\", \"Romance\", or \"Action\".\n",
    "\n",
    "It will be interesting to see how different movie properties change based on genre. We'll keep it in mind going forward in this notebook.\n",
    "\n",
    "Next, let's take a look at movies' votes"
   ]
  },
  {
   "cell_type": "code",
   "execution_count": 20,
   "metadata": {},
   "outputs": [
    {
     "data": {
      "image/png": "[encoded data removed]",
      "text/plain": [
       "<Figure size 1080x432 with 1 Axes>"
      ]
     },
     "metadata": {
      "needs_background": "light"
     },
     "output_type": "display_data"
    }
   ],
   "source": [
    "plt.figure(figsize=(15, 6))\n",
    "movies['vote_count'].hist(bins=50)\n",
    "plt.xlabel(\"Vote count\")\n",
    "plt.ylabel(\"Number of movies\")\n",
    "plt.show()"
   ]
  },
  {
   "cell_type": "code",
   "execution_count": 21,
   "metadata": {},
   "outputs": [
    {
     "data": {
      "image/png": "[encoded data removed]",
      "text/plain": [
       "<Figure size 1080x432 with 1 Axes>"
      ]
     },
     "metadata": {
      "needs_background": "light"
     },
     "output_type": "display_data"
    },
    {
     "name": "stdout",
     "output_type": "stream",
     "text": [
      "The average movie score is 5.6\n"
     ]
    }
   ],
   "source": [
    "plt.figure(figsize=(15, 6))\n",
    "movies['vote_average'].hist()\n",
    "plt.xlabel(\"Vote count\")\n",
    "plt.ylabel(\"Number of movies\")\n",
    "plt.show()\n",
    "\n",
    "print(f'The average movie score is {movies[\"vote_average\"].mean():.1f}')"
   ]
  },
  {
   "cell_type": "markdown",
   "metadata": {},
   "source": [
    "We can deduce most movies have less than 500 ratings, and the average rating of a movie is 5.8"
   ]
  },
  {
   "cell_type": "markdown",
   "metadata": {},
   "source": [
    "Next we will focus on the users ratings dataset from `movies-dataset/ratings.csv`"
   ]
  },
  {
   "cell_type": "code",
   "execution_count": 22,
   "metadata": {},
   "outputs": [
    {
     "data": {
      "text/html": [
       "<div>\n",
       "<style scoped>\n",
       "    .dataframe tbody tr th:only-of-type {\n",
       "        vertical-align: middle;\n",
       "    }\n",
       "\n",
       "    .dataframe tbody tr th {\n",
       "        vertical-align: top;\n",
       "    }\n",
       "\n",
       "    .dataframe thead th {\n",
       "        text-align: right;\n",
       "    }\n",
       "</style>\n",
       "<table border=\"1\" class=\"dataframe\">\n",
       "  <thead>\n",
       "    <tr style=\"text-align: right;\">\n",
       "      <th></th>\n",
       "      <th>userId</th>\n",
       "      <th>movieId</th>\n",
       "      <th>rating</th>\n",
       "    </tr>\n",
       "  </thead>\n",
       "  <tbody>\n",
       "    <tr>\n",
       "      <th>0</th>\n",
       "      <td>1</td>\n",
       "      <td>110</td>\n",
       "      <td>1.0</td>\n",
       "    </tr>\n",
       "    <tr>\n",
       "      <th>1</th>\n",
       "      <td>1</td>\n",
       "      <td>147</td>\n",
       "      <td>4.5</td>\n",
       "    </tr>\n",
       "    <tr>\n",
       "      <th>2</th>\n",
       "      <td>1</td>\n",
       "      <td>858</td>\n",
       "      <td>5.0</td>\n",
       "    </tr>\n",
       "    <tr>\n",
       "      <th>3</th>\n",
       "      <td>1</td>\n",
       "      <td>1221</td>\n",
       "      <td>5.0</td>\n",
       "    </tr>\n",
       "    <tr>\n",
       "      <th>4</th>\n",
       "      <td>1</td>\n",
       "      <td>1246</td>\n",
       "      <td>5.0</td>\n",
       "    </tr>\n",
       "  </tbody>\n",
       "</table>\n",
       "</div>"
      ],
      "text/plain": [
       "   userId  movieId  rating\n",
       "0       1      110     1.0\n",
       "1       1      147     4.5\n",
       "2       1      858     5.0\n",
       "3       1     1221     5.0\n",
       "4       1     1246     5.0"
      ]
     },
     "execution_count": 22,
     "metadata": {},
     "output_type": "execute_result"
    }
   ],
   "source": [
    "ratings = pd.read_csv('movies-dataset/ratings.csv').drop(columns=['timestamp'])\n",
    "ratings.head()"
   ]
  },
  {
   "cell_type": "code",
   "execution_count": 23,
   "metadata": {},
   "outputs": [
    {
     "data": {
      "text/plain": [
       "(26024289, 3)"
      ]
     },
     "execution_count": 23,
     "metadata": {},
     "output_type": "execute_result"
    }
   ],
   "source": [
    "ratings.shape"
   ]
  },
  {
   "cell_type": "code",
   "execution_count": 24,
   "metadata": {},
   "outputs": [
    {
     "data": {
      "text/plain": [
       "count    270896.000000\n",
       "mean         96.067454\n",
       "std         205.719606\n",
       "min           1.000000\n",
       "25%          15.000000\n",
       "50%          30.000000\n",
       "75%          93.000000\n",
       "max       18276.000000\n",
       "dtype: float64"
      ]
     },
     "execution_count": 24,
     "metadata": {},
     "output_type": "execute_result"
    }
   ],
   "source": [
    "ratings.value_counts('userId').describe()"
   ]
  },
  {
   "cell_type": "markdown",
   "metadata": {},
   "source": [
    "We have 26,024,289 ratings from 270,896 users with an average number of movies rated by a user to be 96."
   ]
  },
  {
   "cell_type": "code",
   "execution_count": 25,
   "metadata": {},
   "outputs": [
    {
     "data": {
      "image/png": "[encoded data removed]",
      "text/plain": [
       "<Figure size 576x288 with 1 Axes>"
      ]
     },
     "metadata": {},
     "output_type": "display_data"
    }
   ],
   "source": [
    "sns.set_style(\"darkgrid\")\n",
    "sns.displot(ratings, x=\"rating\", bins=10, height=4, aspect=2)\n",
    "plt.show()"
   ]
  },
  {
   "cell_type": "markdown",
   "metadata": {},
   "source": [
    "Let's look at the most rated movies (by count) and the top rated movies (by score)"
   ]
  },
  {
   "cell_type": "code",
   "execution_count": 26,
   "metadata": {},
   "outputs": [],
   "source": [
    "most_rated_movies = ratings.groupby('movieId').size()\\\n",
    "    .reset_index().rename(columns={0: 'count'})\\\n",
    "    .sort_values('count', ascending=False).reset_index(drop=True)\n",
    "top_rated_movies = ratings.groupby('movieId').mean()\\\n",
    "    .drop(columns='userId').reset_index()\\\n",
    "    .sort_values('rating', ascending=False)\\\n",
    "    .reset_index(drop=True)\n",
    "# m=movies.merge(links, left_on='id', right_on='tmdbId')\n",
    "\n",
    "# movies = movies_metadata.merge(credits, on='id').merge(keywords, on='id')\n"
   ]
  },
  {
   "cell_type": "markdown",
   "metadata": {},
   "source": [
    "Trying to merge the `movies` DataFrame with the `most_rated_movies` DataFrame shows a problem:"
   ]
  },
  {
   "cell_type": "code",
   "execution_count": 27,
   "metadata": {},
   "outputs": [
    {
     "data": {
      "text/html": [
       "<div>\n",
       "<style scoped>\n",
       "    .dataframe tbody tr th:only-of-type {\n",
       "        vertical-align: middle;\n",
       "    }\n",
       "\n",
       "    .dataframe tbody tr th {\n",
       "        vertical-align: top;\n",
       "    }\n",
       "\n",
       "    .dataframe thead th {\n",
       "        text-align: right;\n",
       "    }\n",
       "</style>\n",
       "<table border=\"1\" class=\"dataframe\">\n",
       "  <thead>\n",
       "    <tr style=\"text-align: right;\">\n",
       "      <th></th>\n",
       "      <th>movieId</th>\n",
       "      <th>title</th>\n",
       "    </tr>\n",
       "  </thead>\n",
       "  <tbody>\n",
       "    <tr>\n",
       "      <th>0</th>\n",
       "      <td>318</td>\n",
       "      <td>The Million Dollar Hotel</td>\n",
       "    </tr>\n",
       "    <tr>\n",
       "      <th>1</th>\n",
       "      <td>296</td>\n",
       "      <td>Terminator 3: Rise of the Machines</td>\n",
       "    </tr>\n",
       "    <tr>\n",
       "      <th>2</th>\n",
       "      <td>593</td>\n",
       "      <td>Solaris</td>\n",
       "    </tr>\n",
       "    <tr>\n",
       "      <th>3</th>\n",
       "      <td>260</td>\n",
       "      <td>The 39 Steps</td>\n",
       "    </tr>\n",
       "    <tr>\n",
       "      <th>4</th>\n",
       "      <td>480</td>\n",
       "      <td>Monsoon Wedding</td>\n",
       "    </tr>\n",
       "    <tr>\n",
       "      <th>5</th>\n",
       "      <td>527</td>\n",
       "      <td>Once Were Warriors</td>\n",
       "    </tr>\n",
       "    <tr>\n",
       "      <th>6</th>\n",
       "      <td>110</td>\n",
       "      <td>Three Colors: Red</td>\n",
       "    </tr>\n",
       "  </tbody>\n",
       "</table>\n",
       "</div>"
      ],
      "text/plain": [
       "   movieId                               title\n",
       "0      318            The Million Dollar Hotel\n",
       "1      296  Terminator 3: Rise of the Machines\n",
       "2      593                             Solaris\n",
       "3      260                        The 39 Steps\n",
       "4      480                     Monsoon Wedding\n",
       "5      527                  Once Were Warriors\n",
       "6      110                   Three Colors: Red"
      ]
     },
     "execution_count": 27,
     "metadata": {},
     "output_type": "execute_result"
    }
   ],
   "source": [
    "most_rated_movies.head(10).merge(movies, left_on='movieId', right_on='id')[[\"movieId\", \"title\"]]"
   ]
  },
  {
   "cell_type": "markdown",
   "metadata": {},
   "source": [
    "I don't recognize those movies, and seeing as those should be the movies with the most ratings this is unlikely.\n",
    "\n",
    "Reading from the Kaggle project's description, I understand that the `id` column in `movies` DataFrame is probably the TMDB ID (the ID from the _The Movies Data Base_) where most info was scraped from and the `movieId` column in `ratings` is an ID from _MovieLens_ database, so let's fix that and make the `ratings` DataFrame have an `id` column like `movies`.\n",
    "\n",
    "To do that we'll need another CSV that contains all the connections between the different IDs, the `links.csv` file"
   ]
  },
  {
   "cell_type": "code",
   "execution_count": 28,
   "metadata": {},
   "outputs": [],
   "source": [
    "links = pd.read_csv('movies-dataset/links.csv')"
   ]
  },
  {
   "cell_type": "code",
   "execution_count": 29,
   "metadata": {},
   "outputs": [
    {
     "data": {
      "text/html": [
       "<div>\n",
       "<style scoped>\n",
       "    .dataframe tbody tr th:only-of-type {\n",
       "        vertical-align: middle;\n",
       "    }\n",
       "\n",
       "    .dataframe tbody tr th {\n",
       "        vertical-align: top;\n",
       "    }\n",
       "\n",
       "    .dataframe thead th {\n",
       "        text-align: right;\n",
       "    }\n",
       "</style>\n",
       "<table border=\"1\" class=\"dataframe\">\n",
       "  <thead>\n",
       "    <tr style=\"text-align: right;\">\n",
       "      <th></th>\n",
       "      <th>movieId</th>\n",
       "      <th>imdbId</th>\n",
       "      <th>tmdbId</th>\n",
       "    </tr>\n",
       "  </thead>\n",
       "  <tbody>\n",
       "    <tr>\n",
       "      <th>0</th>\n",
       "      <td>1</td>\n",
       "      <td>114709</td>\n",
       "      <td>862.0</td>\n",
       "    </tr>\n",
       "    <tr>\n",
       "      <th>1</th>\n",
       "      <td>2</td>\n",
       "      <td>113497</td>\n",
       "      <td>8844.0</td>\n",
       "    </tr>\n",
       "    <tr>\n",
       "      <th>2</th>\n",
       "      <td>3</td>\n",
       "      <td>113228</td>\n",
       "      <td>15602.0</td>\n",
       "    </tr>\n",
       "    <tr>\n",
       "      <th>3</th>\n",
       "      <td>4</td>\n",
       "      <td>114885</td>\n",
       "      <td>31357.0</td>\n",
       "    </tr>\n",
       "    <tr>\n",
       "      <th>4</th>\n",
       "      <td>5</td>\n",
       "      <td>113041</td>\n",
       "      <td>11862.0</td>\n",
       "    </tr>\n",
       "  </tbody>\n",
       "</table>\n",
       "</div>"
      ],
      "text/plain": [
       "   movieId  imdbId   tmdbId\n",
       "0        1  114709    862.0\n",
       "1        2  113497   8844.0\n",
       "2        3  113228  15602.0\n",
       "3        4  114885  31357.0\n",
       "4        5  113041  11862.0"
      ]
     },
     "execution_count": 29,
     "metadata": {},
     "output_type": "execute_result"
    }
   ],
   "source": [
    "links.head()"
   ]
  },
  {
   "cell_type": "code",
   "execution_count": 30,
   "metadata": {},
   "outputs": [],
   "source": [
    "ratings = ratings.merge(links, on='movieId')[[\"userId\", \"tmdbId\", \"rating\"]]"
   ]
  },
  {
   "cell_type": "markdown",
   "metadata": {},
   "source": [
    "Now, let's try to see the most rated movies' title"
   ]
  },
  {
   "cell_type": "code",
   "execution_count": 31,
   "metadata": {},
   "outputs": [],
   "source": [
    "most_rated_movies = ratings.groupby('tmdbId').size()\\\n",
    "    .reset_index().rename(columns={0: 'count'})\\\n",
    "    .sort_values('count', ascending=False).reset_index(drop=True)\n",
    "top_rated_movies = ratings.groupby('tmdbId').mean()\\\n",
    "    .drop(columns='userId').reset_index()\\\n",
    "    .sort_values('rating', ascending=False)\\\n",
    "    .reset_index(drop=True)"
   ]
  },
  {
   "cell_type": "code",
   "execution_count": 32,
   "metadata": {},
   "outputs": [
    {
     "data": {
      "text/html": [
       "<div>\n",
       "<style scoped>\n",
       "    .dataframe tbody tr th:only-of-type {\n",
       "        vertical-align: middle;\n",
       "    }\n",
       "\n",
       "    .dataframe tbody tr th {\n",
       "        vertical-align: top;\n",
       "    }\n",
       "\n",
       "    .dataframe thead th {\n",
       "        text-align: right;\n",
       "    }\n",
       "</style>\n",
       "<table border=\"1\" class=\"dataframe\">\n",
       "  <thead>\n",
       "    <tr style=\"text-align: right;\">\n",
       "      <th></th>\n",
       "      <th>id</th>\n",
       "      <th>title</th>\n",
       "      <th>count</th>\n",
       "    </tr>\n",
       "  </thead>\n",
       "  <tbody>\n",
       "    <tr>\n",
       "      <th>0</th>\n",
       "      <td>13</td>\n",
       "      <td>Forrest Gump</td>\n",
       "      <td>91921</td>\n",
       "    </tr>\n",
       "    <tr>\n",
       "      <th>1</th>\n",
       "      <td>278</td>\n",
       "      <td>The Shawshank Redemption</td>\n",
       "      <td>91082</td>\n",
       "    </tr>\n",
       "    <tr>\n",
       "      <th>2</th>\n",
       "      <td>680</td>\n",
       "      <td>Pulp Fiction</td>\n",
       "      <td>87901</td>\n",
       "    </tr>\n",
       "    <tr>\n",
       "      <th>3</th>\n",
       "      <td>274</td>\n",
       "      <td>The Silence of the Lambs</td>\n",
       "      <td>84078</td>\n",
       "    </tr>\n",
       "    <tr>\n",
       "      <th>4</th>\n",
       "      <td>603</td>\n",
       "      <td>The Matrix</td>\n",
       "      <td>77960</td>\n",
       "    </tr>\n",
       "    <tr>\n",
       "      <th>5</th>\n",
       "      <td>11</td>\n",
       "      <td>Star Wars</td>\n",
       "      <td>77045</td>\n",
       "    </tr>\n",
       "    <tr>\n",
       "      <th>6</th>\n",
       "      <td>329</td>\n",
       "      <td>Jurassic Park</td>\n",
       "      <td>74355</td>\n",
       "    </tr>\n",
       "    <tr>\n",
       "      <th>7</th>\n",
       "      <td>424</td>\n",
       "      <td>Schindler's List</td>\n",
       "      <td>67662</td>\n",
       "    </tr>\n",
       "    <tr>\n",
       "      <th>8</th>\n",
       "      <td>197</td>\n",
       "      <td>Braveheart</td>\n",
       "      <td>66512</td>\n",
       "    </tr>\n",
       "    <tr>\n",
       "      <th>9</th>\n",
       "      <td>862</td>\n",
       "      <td>Toy Story</td>\n",
       "      <td>66008</td>\n",
       "    </tr>\n",
       "  </tbody>\n",
       "</table>\n",
       "</div>"
      ],
      "text/plain": [
       "    id                     title  count\n",
       "0   13              Forrest Gump  91921\n",
       "1  278  The Shawshank Redemption  91082\n",
       "2  680              Pulp Fiction  87901\n",
       "3  274  The Silence of the Lambs  84078\n",
       "4  603                The Matrix  77960\n",
       "5   11                 Star Wars  77045\n",
       "6  329             Jurassic Park  74355\n",
       "7  424          Schindler's List  67662\n",
       "8  197                Braveheart  66512\n",
       "9  862                 Toy Story  66008"
      ]
     },
     "execution_count": 32,
     "metadata": {},
     "output_type": "execute_result"
    }
   ],
   "source": [
    "most_rated_movies.head(10).merge(movies, left_on='tmdbId', right_on='id')[[\"id\", \"title\", \"count\"]]"
   ]
  },
  {
   "cell_type": "code",
   "execution_count": 33,
   "metadata": {},
   "outputs": [
    {
     "data": {
      "text/html": [
       "<div>\n",
       "<style scoped>\n",
       "    .dataframe tbody tr th:only-of-type {\n",
       "        vertical-align: middle;\n",
       "    }\n",
       "\n",
       "    .dataframe tbody tr th {\n",
       "        vertical-align: top;\n",
       "    }\n",
       "\n",
       "    .dataframe thead th {\n",
       "        text-align: right;\n",
       "    }\n",
       "</style>\n",
       "<table border=\"1\" class=\"dataframe\">\n",
       "  <thead>\n",
       "    <tr style=\"text-align: right;\">\n",
       "      <th></th>\n",
       "      <th>id</th>\n",
       "      <th>title</th>\n",
       "      <th>rating</th>\n",
       "    </tr>\n",
       "  </thead>\n",
       "  <tbody>\n",
       "    <tr>\n",
       "      <th>0</th>\n",
       "      <td>258113</td>\n",
       "      <td>Assepoester: Een Modern Sprookje</td>\n",
       "      <td>5.0</td>\n",
       "    </tr>\n",
       "    <tr>\n",
       "      <th>1</th>\n",
       "      <td>54583</td>\n",
       "      <td>Hollywood North</td>\n",
       "      <td>5.0</td>\n",
       "    </tr>\n",
       "    <tr>\n",
       "      <th>2</th>\n",
       "      <td>262831</td>\n",
       "      <td>Banana Paradise</td>\n",
       "      <td>5.0</td>\n",
       "    </tr>\n",
       "    <tr>\n",
       "      <th>3</th>\n",
       "      <td>262522</td>\n",
       "      <td>Poison</td>\n",
       "      <td>5.0</td>\n",
       "    </tr>\n",
       "    <tr>\n",
       "      <th>4</th>\n",
       "      <td>159550</td>\n",
       "      <td>The Last Brickmaker in America</td>\n",
       "      <td>5.0</td>\n",
       "    </tr>\n",
       "    <tr>\n",
       "      <th>5</th>\n",
       "      <td>69161</td>\n",
       "      <td>Heroes Shed No Tears</td>\n",
       "      <td>5.0</td>\n",
       "    </tr>\n",
       "    <tr>\n",
       "      <th>6</th>\n",
       "      <td>46121</td>\n",
       "      <td>The Capture of the Green River Killer</td>\n",
       "      <td>5.0</td>\n",
       "    </tr>\n",
       "    <tr>\n",
       "      <th>7</th>\n",
       "      <td>159763</td>\n",
       "      <td>A Nanny's Revenge</td>\n",
       "      <td>5.0</td>\n",
       "    </tr>\n",
       "    <tr>\n",
       "      <th>8</th>\n",
       "      <td>159898</td>\n",
       "      <td>The Boxing Cats (Prof. Welton's)</td>\n",
       "      <td>5.0</td>\n",
       "    </tr>\n",
       "    <tr>\n",
       "      <th>9</th>\n",
       "      <td>159910</td>\n",
       "      <td>Hadj Cheriff</td>\n",
       "      <td>5.0</td>\n",
       "    </tr>\n",
       "  </tbody>\n",
       "</table>\n",
       "</div>"
      ],
      "text/plain": [
       "       id                                  title  rating\n",
       "0  258113       Assepoester: Een Modern Sprookje     5.0\n",
       "1   54583                        Hollywood North     5.0\n",
       "2  262831                        Banana Paradise     5.0\n",
       "3  262522                                 Poison     5.0\n",
       "4  159550         The Last Brickmaker in America     5.0\n",
       "5   69161                   Heroes Shed No Tears     5.0\n",
       "6   46121  The Capture of the Green River Killer     5.0\n",
       "7  159763                      A Nanny's Revenge     5.0\n",
       "8  159898       The Boxing Cats (Prof. Welton's)     5.0\n",
       "9  159910                           Hadj Cheriff     5.0"
      ]
     },
     "execution_count": 33,
     "metadata": {},
     "output_type": "execute_result"
    }
   ],
   "source": [
    "top_rated_movies.head(10).merge(movies, left_on='tmdbId', right_on='id')[[\"id\", \"title\", \"rating\"]]"
   ]
  },
  {
   "cell_type": "markdown",
   "metadata": {},
   "source": [
    "This list of movies makes more sense!"
   ]
  },
  {
   "cell_type": "markdown",
   "metadata": {},
   "source": [
    "## Description Words\n",
    "\n",
    "For each movie we the `keywords` and the `overview` columns that contain actual text that can help us understand the movie better than just very general labels like `genres`."
   ]
  },
  {
   "cell_type": "code",
   "execution_count": 111,
   "metadata": {},
   "outputs": [],
   "source": [
    "keywords_count_by_movie = movies[\"keywords\"].apply(lambda keywords: len(keywords)).sort_values().to_frame()"
   ]
  },
  {
   "cell_type": "code",
   "execution_count": 109,
   "metadata": {},
   "outputs": [
    {
     "data": {
      "image/png": "[encoded data removed]",
      "text/plain": [
       "<Figure size 864x288 with 1 Axes>"
      ]
     },
     "metadata": {},
     "output_type": "display_data"
    }
   ],
   "source": [
    "sns.displot(data=keywords_count_by_movie, x=\"keywords\", binwidth=2, height=4, aspect=3)\n",
    "plt.title(\"Keywords Count\")\n",
    "\n",
    "plt.show()"
   ]
  },
  {
   "cell_type": "code",
   "execution_count": 110,
   "metadata": {},
   "outputs": [
    {
     "data": {
      "image/png": "[encoded data removed]",
      "text/plain": [
       "<Figure size 432x288 with 1 Axes>"
      ]
     },
     "metadata": {},
     "output_type": "display_data"
    }
   ],
   "source": [
    "keywords_bins_cut = pd.cut(keywords_count_by_movie[\"keywords\"], bins=[-1, 0, 5, 10, 20, 200], labels=[\"0\", \"1-5\", \"6-10\", \"11-20\", \"10+\"])\n",
    "keywords_bins = keywords_bins_cut.to_frame().groupby('keywords').size()\n",
    "keywords_bins.plot.pie(autopct=\"%1.1f%%\")\n",
    "plt.title(\"Keywords Count\")\n",
    "plt.ylabel('# of movies')\n",
    "plt.show()"
   ]
  },
  {
   "cell_type": "markdown",
   "metadata": {},
   "source": [
    "So for most movies we don't have any keywords at all, and for those that do have almost all have less than 10 keywords describing them.\n",
    "\n",
    "Most common keywords:"
   ]
  },
  {
   "cell_type": "code",
   "execution_count": 154,
   "metadata": {},
   "outputs": [
    {
     "data": {
      "image/png": "[encoded data removed]",
      "text/plain": [
       "<Figure size 864x432 with 1 Axes>"
      ]
     },
     "metadata": {},
     "output_type": "display_data"
    }
   ],
   "source": [
    "from wordcloud import WordCloud\n",
    "\n",
    "keywords_freq = movies[\"keywords\"].explode().dropna().value_counts()\n",
    "\n",
    "wc = WordCloud(background_color=\"white\", max_words=100, width=800, height=400)\n",
    "wc.generate_from_frequencies(keywords_freq.to_dict())\n",
    "\n",
    "plt.figure(figsize=(12, 6))\n",
    "plt.imshow(wc, interpolation=\"bilinear\")\n",
    "plt.axis(\"off\")\n",
    "\n",
    "plt.show()"
   ]
  },
  {
   "cell_type": "code",
   "execution_count": 178,
   "metadata": {},
   "outputs": [
    {
     "data": {
      "image/png": "[encoded data removed]",
      "text/plain": [
       "<Figure size 864x432 with 1 Axes>"
      ]
     },
     "metadata": {},
     "output_type": "display_data"
    }
   ],
   "source": [
    "most_freq_keywords = keywords_freq.to_frame(\"freq\").sort_values(by=\"freq\", ascending=False).head(16)\n",
    "\n",
    "plt.figure(figsize=(12, 6))\n",
    "sns.barplot(data=most_freq_keywords, x=\"freq\", y=a.index, orient=\"h\")\n",
    "plt.show()"
   ]
  },
  {
   "cell_type": "markdown",
   "metadata": {},
   "source": [
    "## Finding Correlations"
   ]
  },
  {
   "cell_type": "markdown",
   "metadata": {},
   "source": [
    "It can be interesting to try and find correlation between some parameters to the movie's vote average.  \n",
    "\n",
    "Let's start by investigating the genre"
   ]
  },
  {
   "cell_type": "code",
   "execution_count": 34,
   "metadata": {},
   "outputs": [
    {
     "data": {
      "image/png": "[encoded data removed]",
      "text/plain": [
       "<Figure size 1080x576 with 1 Axes>"
      ]
     },
     "metadata": {},
     "output_type": "display_data"
    }
   ],
   "source": [
    "movies_in_top_genres = movies_genres[movies_genres['genre'].isin(top_genres[:10])]\n",
    "plt.figure(figsize=(15,8))\n",
    "sns.violinplot(x=\"genre\", y=\"vote_average\", data=movies_in_top_genres, order=top_genres[:10])\n",
    "plt.show()"
   ]
  },
  {
   "cell_type": "markdown",
   "metadata": {},
   "source": [
    "We can see that the average rating and its variance is consistent within the top 10 genres, with \"Documentary\" and \"Science Fiction\" being the only exception, they are more contreversial in comparsing to the rest of the genres."
   ]
  },
  {
   "cell_type": "markdown",
   "metadata": {},
   "source": [
    "# Building a Recommendation System\n",
    "\n",
    "## Recommendation Systems Types\n",
    "\n",
    "A recommendation system is a type of information filtering system that seeks to predict the \"rating\" or \"preference\" a user would give to an item.  \n",
    "There are 2 common types of recommendations systems _content based_ and _collaborative based_.\n",
    "\n",
    "A __content based__ recommendations system uses the description of items and the user's past to recommend items the user might like. Those kind of systems rely on a well tagged dataset of items and the user's preferences\n",
    "\n",
    "A __collaborative based__ recommendations system doesn't use data on the items at all, rather relying on finding similar interests between different users.  \n",
    "This is based on the assumption that people who agreed in the past will agree in the future, and that they will like simimlar kinds of items as they liked in the past.The importance of analyzing users' preferences is key, with data collection being collected explicitly (likes, dislikes, ratings) and implicitly (viewing times).\n",
    "\n",
    "Most recommendations systems feature a hybrid approch of those two methods.\n",
    "\n",
    "I want to look at the problem from a number of different point of views, so I'll try to create multiple recommendation systems that each function in a different way, and in the end combine all of them."
   ]
  },
  {
   "cell_type": "markdown",
   "metadata": {},
   "source": [
    "## First Try - A Content Based Recommendation System\n",
    "\n",
    "For a content based recommendation system, we need to find similarities between movies.\n",
    "This is our plan:\n",
    "1. Build the corpus - perform feature extraction\n",
    "2. Find similarities - Create a function that accepts a movie title and grades all movies based on a similarity score\n",
    "3. Create a function that accepts a user ID, and grades all movies based on a similarity score to all the movies that user watched\n",
    "4. Modify 2 to take into account the rating the user gave for each movie in his movie history, this way we won't recommend movies similar to the movies the user didn't like"
   ]
  },
  {
   "cell_type": "markdown",
   "metadata": {},
   "source": [
    "### Stage 1 - Building The Corpus\n",
    "Looking at our dataset, there are a couple of columns that can be very useful in finding similarities between movies:"
   ]
  },
  {
   "cell_type": "code",
   "execution_count": 35,
   "metadata": {},
   "outputs": [
    {
     "data": {
      "text/html": [
       "<div>\n",
       "<style scoped>\n",
       "    .dataframe tbody tr th:only-of-type {\n",
       "        vertical-align: middle;\n",
       "    }\n",
       "\n",
       "    .dataframe tbody tr th {\n",
       "        vertical-align: top;\n",
       "    }\n",
       "\n",
       "    .dataframe thead th {\n",
       "        text-align: right;\n",
       "    }\n",
       "</style>\n",
       "<table border=\"1\" class=\"dataframe\">\n",
       "  <thead>\n",
       "    <tr style=\"text-align: right;\">\n",
       "      <th></th>\n",
       "      <th>title</th>\n",
       "      <th>original_language</th>\n",
       "      <th>genres</th>\n",
       "      <th>cast</th>\n",
       "      <th>crew</th>\n",
       "      <th>keywords</th>\n",
       "    </tr>\n",
       "  </thead>\n",
       "  <tbody>\n",
       "    <tr>\n",
       "      <th>0</th>\n",
       "      <td>Toy Story</td>\n",
       "      <td>en</td>\n",
       "      <td>[Animation, Comedy, Family]</td>\n",
       "      <td>[Tom Hanks, Tim Allen, Don Rickles, Jim Varney...</td>\n",
       "      <td>[John Lasseter, Joss Whedon, Andrew Stanton, J...</td>\n",
       "      <td>[jealousy, toy, boy, friendship, friends, riva...</td>\n",
       "    </tr>\n",
       "    <tr>\n",
       "      <th>1</th>\n",
       "      <td>Jumanji</td>\n",
       "      <td>en</td>\n",
       "      <td>[Adventure, Fantasy, Family]</td>\n",
       "      <td>[Robin Williams, Jonathan Hyde, Kirsten Dunst,...</td>\n",
       "      <td>[Larry J. Franco, Jonathan Hensleigh, James Ho...</td>\n",
       "      <td>[board game, disappearance, based on children'...</td>\n",
       "    </tr>\n",
       "    <tr>\n",
       "      <th>2</th>\n",
       "      <td>Grumpier Old Men</td>\n",
       "      <td>en</td>\n",
       "      <td>[Romance, Comedy]</td>\n",
       "      <td>[Walter Matthau, Jack Lemmon, Ann-Margret, Sop...</td>\n",
       "      <td>[Howard Deutch, Mark Steven Johnson, Mark Stev...</td>\n",
       "      <td>[fishing, best friend, duringcreditsstinger, o...</td>\n",
       "    </tr>\n",
       "    <tr>\n",
       "      <th>3</th>\n",
       "      <td>Waiting to Exhale</td>\n",
       "      <td>en</td>\n",
       "      <td>[Comedy, Drama, Romance]</td>\n",
       "      <td>[Whitney Houston, Angela Bassett, Loretta Devi...</td>\n",
       "      <td>[Forest Whitaker, Ronald Bass, Ronald Bass, Ez...</td>\n",
       "      <td>[based on novel, interracial relationship, sin...</td>\n",
       "    </tr>\n",
       "    <tr>\n",
       "      <th>4</th>\n",
       "      <td>Father of the Bride Part II</td>\n",
       "      <td>en</td>\n",
       "      <td>[Comedy]</td>\n",
       "      <td>[Steve Martin, Diane Keaton, Martin Short, Kim...</td>\n",
       "      <td>[Alan Silvestri, Elliot Davis, Nancy Meyers, N...</td>\n",
       "      <td>[baby, midlife crisis, confidence, aging, daug...</td>\n",
       "    </tr>\n",
       "  </tbody>\n",
       "</table>\n",
       "</div>"
      ],
      "text/plain": [
       "                         title original_language  \\\n",
       "0                    Toy Story                en   \n",
       "1                      Jumanji                en   \n",
       "2             Grumpier Old Men                en   \n",
       "3            Waiting to Exhale                en   \n",
       "4  Father of the Bride Part II                en   \n",
       "\n",
       "                         genres  \\\n",
       "0   [Animation, Comedy, Family]   \n",
       "1  [Adventure, Fantasy, Family]   \n",
       "2             [Romance, Comedy]   \n",
       "3      [Comedy, Drama, Romance]   \n",
       "4                      [Comedy]   \n",
       "\n",
       "                                                cast  \\\n",
       "0  [Tom Hanks, Tim Allen, Don Rickles, Jim Varney...   \n",
       "1  [Robin Williams, Jonathan Hyde, Kirsten Dunst,...   \n",
       "2  [Walter Matthau, Jack Lemmon, Ann-Margret, Sop...   \n",
       "3  [Whitney Houston, Angela Bassett, Loretta Devi...   \n",
       "4  [Steve Martin, Diane Keaton, Martin Short, Kim...   \n",
       "\n",
       "                                                crew  \\\n",
       "0  [John Lasseter, Joss Whedon, Andrew Stanton, J...   \n",
       "1  [Larry J. Franco, Jonathan Hensleigh, James Ho...   \n",
       "2  [Howard Deutch, Mark Steven Johnson, Mark Stev...   \n",
       "3  [Forest Whitaker, Ronald Bass, Ronald Bass, Ez...   \n",
       "4  [Alan Silvestri, Elliot Davis, Nancy Meyers, N...   \n",
       "\n",
       "                                            keywords  \n",
       "0  [jealousy, toy, boy, friendship, friends, riva...  \n",
       "1  [board game, disappearance, based on children'...  \n",
       "2  [fishing, best friend, duringcreditsstinger, o...  \n",
       "3  [based on novel, interracial relationship, sin...  \n",
       "4  [baby, midlife crisis, confidence, aging, daug...  "
      ]
     },
     "execution_count": 35,
     "metadata": {},
     "output_type": "execute_result"
    }
   ],
   "source": [
    "properties_columns = [\"original_language\", \"genres\", \"cast\", \"crew\", \"keywords\"]\n",
    "movies[[\"title\", *properties_columns]].head()"
   ]
  },
  {
   "cell_type": "code",
   "execution_count": 36,
   "metadata": {},
   "outputs": [
    {
     "name": "stderr",
     "output_type": "stream",
     "text": [
      "/tmp/ipykernel_800469/2642802102.py:1: UserWarning: Boolean Series key will be reindexed to match DataFrame index.\n",
      "  movies = movies[movies[\"keywords\"].apply(lambda x: len(x) >= 1)][movies[\"cast\"].apply(lambda x: len(x) >= 1)]\n"
     ]
    }
   ],
   "source": [
    "movies = movies[movies[\"keywords\"].apply(lambda x: len(x) >= 1)][movies[\"cast\"].apply(lambda x: len(x) >= 1)]"
   ]
  },
  {
   "cell_type": "markdown",
   "metadata": {},
   "source": [
    "There's two types of columns, strings and lists of strings.  \n",
    "We can combine all the columns to create one big string that contains all words from all columns and then vectorize the final string.\n",
    "\n",
    "For example, for the movie \"Forrest Gump\":"
   ]
  },
  {
   "cell_type": "code",
   "execution_count": 37,
   "metadata": {},
   "outputs": [
    {
     "data": {
      "text/html": [
       "<div>\n",
       "<style scoped>\n",
       "    .dataframe tbody tr th:only-of-type {\n",
       "        vertical-align: middle;\n",
       "    }\n",
       "\n",
       "    .dataframe tbody tr th {\n",
       "        vertical-align: top;\n",
       "    }\n",
       "\n",
       "    .dataframe thead th {\n",
       "        text-align: right;\n",
       "    }\n",
       "</style>\n",
       "<table border=\"1\" class=\"dataframe\">\n",
       "  <thead>\n",
       "    <tr style=\"text-align: right;\">\n",
       "      <th></th>\n",
       "      <th>adult</th>\n",
       "      <th>belongs_to_collection</th>\n",
       "      <th>budget</th>\n",
       "      <th>genres</th>\n",
       "      <th>homepage</th>\n",
       "      <th>id</th>\n",
       "      <th>imdb_id</th>\n",
       "      <th>original_language</th>\n",
       "      <th>original_title</th>\n",
       "      <th>overview</th>\n",
       "      <th>...</th>\n",
       "      <th>spoken_languages</th>\n",
       "      <th>status</th>\n",
       "      <th>tagline</th>\n",
       "      <th>title</th>\n",
       "      <th>video</th>\n",
       "      <th>vote_average</th>\n",
       "      <th>vote_count</th>\n",
       "      <th>cast</th>\n",
       "      <th>crew</th>\n",
       "      <th>keywords</th>\n",
       "    </tr>\n",
       "  </thead>\n",
       "  <tbody>\n",
       "    <tr>\n",
       "      <th>351</th>\n",
       "      <td>False</td>\n",
       "      <td>NaN</td>\n",
       "      <td>55000000</td>\n",
       "      <td>[Comedy, Drama, Romance]</td>\n",
       "      <td>NaN</td>\n",
       "      <td>13</td>\n",
       "      <td>tt0109830</td>\n",
       "      <td>en</td>\n",
       "      <td>Forrest Gump</td>\n",
       "      <td>A man with a low IQ has accomplished great thi...</td>\n",
       "      <td>...</td>\n",
       "      <td>[{'iso_639_1': 'en', 'name': 'English'}]</td>\n",
       "      <td>Released</td>\n",
       "      <td>The world will never be the same, once you've ...</td>\n",
       "      <td>Forrest Gump</td>\n",
       "      <td>False</td>\n",
       "      <td>8.2</td>\n",
       "      <td>8147</td>\n",
       "      <td>[Tom Hanks, Robin Wright, Gary Sinise, Mykelti...</td>\n",
       "      <td>[Robert Zemeckis, Wendy Finerman, Steve Tisch,...</td>\n",
       "      <td>[vietnam veteran, hippie, mentally disabled, r...</td>\n",
       "    </tr>\n",
       "  </tbody>\n",
       "</table>\n",
       "<p>1 rows × 27 columns</p>\n",
       "</div>"
      ],
      "text/plain": [
       "     adult belongs_to_collection    budget                    genres homepage  \\\n",
       "351  False                   NaN  55000000  [Comedy, Drama, Romance]      NaN   \n",
       "\n",
       "     id    imdb_id original_language original_title  \\\n",
       "351  13  tt0109830                en   Forrest Gump   \n",
       "\n",
       "                                              overview  ...  \\\n",
       "351  A man with a low IQ has accomplished great thi...  ...   \n",
       "\n",
       "                             spoken_languages    status  \\\n",
       "351  [{'iso_639_1': 'en', 'name': 'English'}]  Released   \n",
       "\n",
       "                                               tagline         title  video  \\\n",
       "351  The world will never be the same, once you've ...  Forrest Gump  False   \n",
       "\n",
       "     vote_average  vote_count  \\\n",
       "351           8.2        8147   \n",
       "\n",
       "                                                  cast  \\\n",
       "351  [Tom Hanks, Robin Wright, Gary Sinise, Mykelti...   \n",
       "\n",
       "                                                  crew  \\\n",
       "351  [Robert Zemeckis, Wendy Finerman, Steve Tisch,...   \n",
       "\n",
       "                                              keywords  \n",
       "351  [vietnam veteran, hippie, mentally disabled, r...  \n",
       "\n",
       "[1 rows x 27 columns]"
      ]
     },
     "execution_count": 37,
     "metadata": {},
     "output_type": "execute_result"
    }
   ],
   "source": [
    "movies[movies['title'] == 'Forrest Gump']"
   ]
  },
  {
   "cell_type": "markdown",
   "metadata": {},
   "source": [
    "We'll create the following string that represents it:\n",
    "\n",
    "```\n",
    "en Comedy Drama Romance TomHanks RobinWright GarySinise MykeltiWilliamson SallyField MichaelConnerHumphreys HannaHall HaleyJoelOsment SiobhanFallon AfemoOmilami PeterDobson SonnyShroyer GeorgeKelly SamAnderson MargoMoorer ChristopherJones KevinMangan BrettRice DanielC.Striepeke DavidBrisbin KirkWard MarlenaSmalls KittyK.Green MarkMatheisen AlHarrington JedGillin DonFischer MattWallace MikeJolly MichaelKemmerling JohnVoldstad DanielJ.Gillooly MichaelBurgess StevenGriffith MichaelMcFall MichaelMcFall ByronMinns StephenBridgewater JohnWilliamGalt IsabelRose RichardD'Alessandro MichaelJace GeoffreyBlake VanessaRoth DickCavett TiffanySalerno TiffanySalerno JoeAlaskey LazarusJackson LazarusJackson NoraDunfee HallieD'Amore MichaelMattison CharlesBoswell TimothyMcNeil BobPenny GregBrown TroyChristian BryanHanna ZachHanner AaronMichaelLacey JacquelineLovell BrendanShanahan WilliamShipman RobbSkyler MaryEllenTrainor RobertZemeckis WendyFinerman SteveTisch SteveStarkey DonBurgess AlanSilvestri ArthurSchmidt EricRoth WinstonGroom EllenLewis JoannaJohnston RickCarter LeslieMcDonald WilliamJamesTeegarden NancyHaigh HazelCatmull WilliamA.Kohout SusanSchuler-Page JayCannistraci RickSharp KacyMagedman WendyRichardson SteveArnold LindaBerger TonyFanning JeffPassanante RobinL.Miller StephenI.Erdberg DanielJ.Gillooly HugoHerrera KevinMangan DanOndrejko PaigeAugustine ClaireGaul RobertGreenfield ChrisL.Spellman JamesC.Feng ErinKemp ElizabethLapp LaurenE.Polizzi SueFox TomBarwick DennieThorpe ClaireSanfilippo DiannaStirpe EwaSztompke E.LarryOatfield RobertShoup DennisS.Sands RandyThom GloriaS.Borders GeorgeMurphy StephenRosenbaum DougChiang DebbieDenise DebbieDenise MichaelMcGovern KenRalston BudDavis DavidM.Dunlap ChrisSquires PhillipV.Caruso DanBronson PamelaWise PatriciaBercsi RudolphGarcia StephenP.Shubin Carin-AnneStrohmaier KennethKarman JoelMarrow LeslieCook PeggyPridemore AmyNess MaryMorgan JessicaDrake JaneE.Russell CharlesNewirth LeighFrench JoeMontenegro BobbyMancuso WilliamB.Kaplan GregMaloney JudithA.Cory AllenHall JeremiahO'Driscoll StevenJ.Boyd RickPorras BruceMoriarty LindseyBuckingham RobertJ.Groden SusanMalerstein CraigLyman CynthiaQuan BarrySpencer BrettHaas SamuelRayJablonski StefanDechant ChrisJohnson JohnGazdik IsmaelAraujoJr. JessicaFasman HallieD'Amore AlleeneC.Keith WilliamAlford ScottMobley AmyPanzer JimDePue JoelSill TylerC.Daum TimothyGreenwood KeithCampbell RandyCantor WayneRoberts CharlesNewirth JoeyBox BobKaiser SamTaybi DanCornwall AndyRyan DavidR.Christensen E.ScottMayhugh DavidBrymer MichaelTadross DebraJames EarlSampson DavidFranklinBergad WilliamRoss JonathanGaynor AnneCalanchini ErikTIemens ChristianeSteffen vietnamveteran hippie mentallydisabled running basedonnovel vietnam vietnamwar friendship love familyrelationships bully mothersonrelationship military hugging shrimping woundedsoldier flashback parkbench amputee \n",
    "```"
   ]
  },
  {
   "cell_type": "markdown",
   "metadata": {},
   "source": [
    "Columns cotaining lists of strings might have strings with multiple words, for example, the `actors` column might contain `[\"Tom Hanks\", \"George Kelly\", \"Tom Holloway\"]`, so the final string representing the movie will be `\".. Tom Hanks George Kelly Tom Holloway ..\"`, and so we won't be able to differentiate between Tom Hanks and Tom Holloway, to fix this we'll remove spaces between words in the same string"
   ]
  },
  {
   "cell_type": "code",
   "execution_count": 38,
   "metadata": {},
   "outputs": [],
   "source": [
    "corpus = []\n",
    "\n",
    "for _, m in movies.fillna({\"original_language\": \"\"}).iterrows():\n",
    "    movie_prop = \"\"\n",
    "    for property_column in properties_columns:\n",
    "        value = m[property_column]\n",
    "        if isinstance(value, list):\n",
    "            # We'll remove all inner spaces to differentiate between i.e. \"Tom Holloway\" and \"Tom Hanks\"\n",
    "            no_spaces_value = [item.replace(' ', '') for item in value]\n",
    "            movie_prop += \" \".join(no_spaces_value)\n",
    "        else:\n",
    "            movie_prop += value\n",
    "        movie_prop += \" \"\n",
    "    corpus.append(movie_prop)"
   ]
  },
  {
   "cell_type": "markdown",
   "metadata": {},
   "source": [
    "At first, I opted to use TF-IDF for feature extraction, but on a second thought - the strings we're dealing with don't have the characteristics of actual documents, specifically, we don't want to reduce the importance of words that occur frequently in documents.  \n",
    "So word counting will be used for feature extraction (without taking into account document frequency), specifically `HashingVectorizer` for its more efficient memory consumption."
   ]
  },
  {
   "cell_type": "code",
   "execution_count": 39,
   "metadata": {},
   "outputs": [],
   "source": [
    "from sklearn.feature_extraction.text import HashingVectorizer\n",
    "\n",
    "transformer = HashingVectorizer(stop_words=\"english\")\n",
    "hashing_matrix = transformer.fit_transform(corpus)"
   ]
  },
  {
   "cell_type": "markdown",
   "metadata": {},
   "source": [
    "### Stage 2 - Finding Similarities\n",
    "\n",
    "Now we will build a function that takes a movie and returns the top most similar movies"
   ]
  },
  {
   "cell_type": "code",
   "execution_count": 40,
   "metadata": {},
   "outputs": [],
   "source": [
    "from sklearn.metrics.pairwise import linear_kernel\n",
    "\n",
    "\n",
    "def find_similar_movies(df, title, top_n=5):\n",
    "    # We have to reindex the movies DataFrame because later we use indexing into the matrix\n",
    "    reindexed_movies = df.reset_index(drop=True)\n",
    "\n",
    "    ind = reindexed_movies[reindexed_movies[\"title\"] == title].index.item()\n",
    "\n",
    "    # Instead of building a matrix of similarities between all movies, we just compare\n",
    "    # the movie we're interested in with all the movies - this way we don't need too much memory\n",
    "    sim = linear_kernel(hashing_matrix[ind:ind + 1, :].todense(), hashing_matrix)\n",
    "\n",
    "    m_sim = sim[0]\n",
    "\n",
    "    top_sims = m_sim.argsort()[-1 - top_n:-1]\n",
    "    top_sims = np.flip(top_sims)\n",
    "\n",
    "    similar_movies = reindexed_movies.iloc[top_sims]\n",
    "\n",
    "    return similar_movies"
   ]
  },
  {
   "cell_type": "markdown",
   "metadata": {},
   "source": [
    "Now let's see some results!"
   ]
  },
  {
   "cell_type": "code",
   "execution_count": 41,
   "metadata": {},
   "outputs": [
    {
     "data": {
      "text/html": [
       "<div>\n",
       "<style scoped>\n",
       "    .dataframe tbody tr th:only-of-type {\n",
       "        vertical-align: middle;\n",
       "    }\n",
       "\n",
       "    .dataframe tbody tr th {\n",
       "        vertical-align: top;\n",
       "    }\n",
       "\n",
       "    .dataframe thead th {\n",
       "        text-align: right;\n",
       "    }\n",
       "</style>\n",
       "<table border=\"1\" class=\"dataframe\">\n",
       "  <thead>\n",
       "    <tr style=\"text-align: right;\">\n",
       "      <th></th>\n",
       "      <th>id</th>\n",
       "      <th>title</th>\n",
       "      <th>genres</th>\n",
       "      <th>keywords</th>\n",
       "      <th>cast</th>\n",
       "      <th>crew</th>\n",
       "    </tr>\n",
       "  </thead>\n",
       "  <tbody>\n",
       "    <tr>\n",
       "      <th>926</th>\n",
       "      <td>500</td>\n",
       "      <td>Reservoir Dogs</td>\n",
       "      <td>[Crime, Thriller]</td>\n",
       "      <td>[traitor, jewelry, psychopath, thief, heist, b...</td>\n",
       "      <td>[Harvey Keitel, Tim Roth, Michael Madsen, Chri...</td>\n",
       "      <td>[Quentin Tarantino, Quentin Tarantino, Lawrenc...</td>\n",
       "    </tr>\n",
       "    <tr>\n",
       "      <th>16</th>\n",
       "      <td>5</td>\n",
       "      <td>Four Rooms</td>\n",
       "      <td>[Crime, Comedy]</td>\n",
       "      <td>[hotel, new year's eve, witch, bet, hotel room...</td>\n",
       "      <td>[Tim Roth, Antonio Banderas, Jennifer Beals, M...</td>\n",
       "      <td>[Combustible Edison, Gary Frutkoff, Lance Brow...</td>\n",
       "    </tr>\n",
       "    <tr>\n",
       "      <th>1449</th>\n",
       "      <td>184</td>\n",
       "      <td>Jackie Brown</td>\n",
       "      <td>[Comedy, Crime, Romance]</td>\n",
       "      <td>[airport, underworld, arms deal, weapon, polic...</td>\n",
       "      <td>[Pam Grier, Samuel L. Jackson, Robert Forster,...</td>\n",
       "      <td>[Quentin Tarantino, Quentin Tarantino, Lawrenc...</td>\n",
       "    </tr>\n",
       "    <tr>\n",
       "      <th>6312</th>\n",
       "      <td>393</td>\n",
       "      <td>Kill Bill: Vol. 2</td>\n",
       "      <td>[Action, Crime, Thriller]</td>\n",
       "      <td>[brother brother relationship, swordplay, kata...</td>\n",
       "      <td>[Uma Thurman, David Carradine, Daryl Hannah, M...</td>\n",
       "      <td>[Robert Rodriguez, Quentin Tarantino, Quentin ...</td>\n",
       "    </tr>\n",
       "    <tr>\n",
       "      <th>21136</th>\n",
       "      <td>273248</td>\n",
       "      <td>The Hateful Eight</td>\n",
       "      <td>[Crime, Drama, Mystery, Western]</td>\n",
       "      <td>[bounty hunter, wyoming, mountain, narration, ...</td>\n",
       "      <td>[Samuel L. Jackson, Kurt Russell, Jennifer Jas...</td>\n",
       "      <td>[Quentin Tarantino, Quentin Tarantino, Robert ...</td>\n",
       "    </tr>\n",
       "  </tbody>\n",
       "</table>\n",
       "</div>"
      ],
      "text/plain": [
       "           id              title                            genres  \\\n",
       "926       500     Reservoir Dogs                 [Crime, Thriller]   \n",
       "16          5         Four Rooms                   [Crime, Comedy]   \n",
       "1449      184       Jackie Brown          [Comedy, Crime, Romance]   \n",
       "6312      393  Kill Bill: Vol. 2         [Action, Crime, Thriller]   \n",
       "21136  273248  The Hateful Eight  [Crime, Drama, Mystery, Western]   \n",
       "\n",
       "                                                keywords  \\\n",
       "926    [traitor, jewelry, psychopath, thief, heist, b...   \n",
       "16     [hotel, new year's eve, witch, bet, hotel room...   \n",
       "1449   [airport, underworld, arms deal, weapon, polic...   \n",
       "6312   [brother brother relationship, swordplay, kata...   \n",
       "21136  [bounty hunter, wyoming, mountain, narration, ...   \n",
       "\n",
       "                                                    cast  \\\n",
       "926    [Harvey Keitel, Tim Roth, Michael Madsen, Chri...   \n",
       "16     [Tim Roth, Antonio Banderas, Jennifer Beals, M...   \n",
       "1449   [Pam Grier, Samuel L. Jackson, Robert Forster,...   \n",
       "6312   [Uma Thurman, David Carradine, Daryl Hannah, M...   \n",
       "21136  [Samuel L. Jackson, Kurt Russell, Jennifer Jas...   \n",
       "\n",
       "                                                    crew  \n",
       "926    [Quentin Tarantino, Quentin Tarantino, Lawrenc...  \n",
       "16     [Combustible Edison, Gary Frutkoff, Lance Brow...  \n",
       "1449   [Quentin Tarantino, Quentin Tarantino, Lawrenc...  \n",
       "6312   [Robert Rodriguez, Quentin Tarantino, Quentin ...  \n",
       "21136  [Quentin Tarantino, Quentin Tarantino, Robert ...  "
      ]
     },
     "execution_count": 41,
     "metadata": {},
     "output_type": "execute_result"
    }
   ],
   "source": [
    "find_similar_movies(movies, 'Pulp Fiction')[[\"id\", \"title\", \"genres\", \"keywords\", \"cast\", \"crew\"]]"
   ]
  },
  {
   "cell_type": "code",
   "execution_count": 42,
   "metadata": {},
   "outputs": [
    {
     "data": {
      "text/html": [
       "<div>\n",
       "<style scoped>\n",
       "    .dataframe tbody tr th:only-of-type {\n",
       "        vertical-align: middle;\n",
       "    }\n",
       "\n",
       "    .dataframe tbody tr th {\n",
       "        vertical-align: top;\n",
       "    }\n",
       "\n",
       "    .dataframe thead th {\n",
       "        text-align: right;\n",
       "    }\n",
       "</style>\n",
       "<table border=\"1\" class=\"dataframe\">\n",
       "  <thead>\n",
       "    <tr style=\"text-align: right;\">\n",
       "      <th></th>\n",
       "      <th>id</th>\n",
       "      <th>title</th>\n",
       "      <th>genres</th>\n",
       "      <th>keywords</th>\n",
       "      <th>cast</th>\n",
       "      <th>crew</th>\n",
       "    </tr>\n",
       "  </thead>\n",
       "  <tbody>\n",
       "    <tr>\n",
       "      <th>17228</th>\n",
       "      <td>76338</td>\n",
       "      <td>Thor: The Dark World</td>\n",
       "      <td>[Action, Adventure, Fantasy]</td>\n",
       "      <td>[marvel comic, superhero, based on comic, host...</td>\n",
       "      <td>[Chris Hemsworth, Natalie Portman, Tom Hiddles...</td>\n",
       "      <td>[Priscilla John, Wendy Partridge, Sarah Finn, ...</td>\n",
       "    </tr>\n",
       "    <tr>\n",
       "      <th>14582</th>\n",
       "      <td>24428</td>\n",
       "      <td>The Avengers</td>\n",
       "      <td>[Science Fiction, Action, Adventure]</td>\n",
       "      <td>[new york, shield, marvel comic, superhero, ba...</td>\n",
       "      <td>[Robert Downey Jr., Chris Evans, Mark Ruffalo,...</td>\n",
       "      <td>[Alan Silvestri, Christopher Boyes, Christophe...</td>\n",
       "    </tr>\n",
       "    <tr>\n",
       "      <th>17894</th>\n",
       "      <td>100402</td>\n",
       "      <td>Captain America: The Winter Soldier</td>\n",
       "      <td>[Action, Adventure, Science Fiction]</td>\n",
       "      <td>[washington d.c., future, shield, marvel comic...</td>\n",
       "      <td>[Chris Evans, Samuel L. Jackson, Scarlett Joha...</td>\n",
       "      <td>[Sarah Finn, Beat Frutiger, Christopher Markus...</td>\n",
       "    </tr>\n",
       "    <tr>\n",
       "      <th>18359</th>\n",
       "      <td>118340</td>\n",
       "      <td>Guardians of the Galaxy</td>\n",
       "      <td>[Action, Science Fiction, Adventure]</td>\n",
       "      <td>[marvel comic, spaceship, space, outer space, ...</td>\n",
       "      <td>[Chris Pratt, Zoe Saldana, Dave Bautista, Vin ...</td>\n",
       "      <td>[Craig Wood, Christopher Boyes, Christopher Bo...</td>\n",
       "    </tr>\n",
       "    <tr>\n",
       "      <th>13991</th>\n",
       "      <td>10195</td>\n",
       "      <td>Thor</td>\n",
       "      <td>[Adventure, Fantasy, Action]</td>\n",
       "      <td>[new mexico, banishment, shield, marvel comic,...</td>\n",
       "      <td>[Chris Hemsworth, Natalie Portman, Tom Hiddles...</td>\n",
       "      <td>[Paul Rubell, Sarah Finn, Bo Welch, Stan Lee, ...</td>\n",
       "    </tr>\n",
       "  </tbody>\n",
       "</table>\n",
       "</div>"
      ],
      "text/plain": [
       "           id                                title  \\\n",
       "17228   76338                 Thor: The Dark World   \n",
       "14582   24428                         The Avengers   \n",
       "17894  100402  Captain America: The Winter Soldier   \n",
       "18359  118340              Guardians of the Galaxy   \n",
       "13991   10195                                 Thor   \n",
       "\n",
       "                                     genres  \\\n",
       "17228          [Action, Adventure, Fantasy]   \n",
       "14582  [Science Fiction, Action, Adventure]   \n",
       "17894  [Action, Adventure, Science Fiction]   \n",
       "18359  [Action, Science Fiction, Adventure]   \n",
       "13991          [Adventure, Fantasy, Action]   \n",
       "\n",
       "                                                keywords  \\\n",
       "17228  [marvel comic, superhero, based on comic, host...   \n",
       "14582  [new york, shield, marvel comic, superhero, ba...   \n",
       "17894  [washington d.c., future, shield, marvel comic...   \n",
       "18359  [marvel comic, spaceship, space, outer space, ...   \n",
       "13991  [new mexico, banishment, shield, marvel comic,...   \n",
       "\n",
       "                                                    cast  \\\n",
       "17228  [Chris Hemsworth, Natalie Portman, Tom Hiddles...   \n",
       "14582  [Robert Downey Jr., Chris Evans, Mark Ruffalo,...   \n",
       "17894  [Chris Evans, Samuel L. Jackson, Scarlett Joha...   \n",
       "18359  [Chris Pratt, Zoe Saldana, Dave Bautista, Vin ...   \n",
       "13991  [Chris Hemsworth, Natalie Portman, Tom Hiddles...   \n",
       "\n",
       "                                                    crew  \n",
       "17228  [Priscilla John, Wendy Partridge, Sarah Finn, ...  \n",
       "14582  [Alan Silvestri, Christopher Boyes, Christophe...  \n",
       "17894  [Sarah Finn, Beat Frutiger, Christopher Markus...  \n",
       "18359  [Craig Wood, Christopher Boyes, Christopher Bo...  \n",
       "13991  [Paul Rubell, Sarah Finn, Bo Welch, Stan Lee, ...  "
      ]
     },
     "execution_count": 42,
     "metadata": {},
     "output_type": "execute_result"
    }
   ],
   "source": [
    "find_similar_movies(movies, 'Avengers: Age of Ultron')[[\"id\", \"title\", \"genres\", \"keywords\", \"cast\", \"crew\"]]"
   ]
  },
  {
   "cell_type": "code",
   "execution_count": 43,
   "metadata": {},
   "outputs": [
    {
     "data": {
      "text/html": [
       "<div>\n",
       "<style scoped>\n",
       "    .dataframe tbody tr th:only-of-type {\n",
       "        vertical-align: middle;\n",
       "    }\n",
       "\n",
       "    .dataframe tbody tr th {\n",
       "        vertical-align: top;\n",
       "    }\n",
       "\n",
       "    .dataframe thead th {\n",
       "        text-align: right;\n",
       "    }\n",
       "</style>\n",
       "<table border=\"1\" class=\"dataframe\">\n",
       "  <thead>\n",
       "    <tr style=\"text-align: right;\">\n",
       "      <th></th>\n",
       "      <th>id</th>\n",
       "      <th>title</th>\n",
       "      <th>genres</th>\n",
       "      <th>keywords</th>\n",
       "      <th>cast</th>\n",
       "      <th>crew</th>\n",
       "    </tr>\n",
       "  </thead>\n",
       "  <tbody>\n",
       "    <tr>\n",
       "      <th>14762</th>\n",
       "      <td>44826</td>\n",
       "      <td>Hugo</td>\n",
       "      <td>[Adventure, Drama, Family]</td>\n",
       "      <td>[library, clock, film director, key, toy, boy,...</td>\n",
       "      <td>[Ben Kingsley, Sacha Baron Cohen, Asa Butterfi...</td>\n",
       "      <td>[Johnny Depp, Robert Richardson, Howard Shore,...</td>\n",
       "    </tr>\n",
       "    <tr>\n",
       "      <th>1450</th>\n",
       "      <td>9746</td>\n",
       "      <td>Kundun</td>\n",
       "      <td>[Drama]</td>\n",
       "      <td>[buddhism, china, mountain, buddhist monk, tib...</td>\n",
       "      <td>[Tenzin Thuthob Tsarong, Tencho Gyalpo, Tsewan...</td>\n",
       "      <td>[Martin Scorsese, Melissa Mathison, Barbara De...</td>\n",
       "    </tr>\n",
       "    <tr>\n",
       "      <th>23735</th>\n",
       "      <td>5804</td>\n",
       "      <td>The Key to Reserva (La clave Reserva)</td>\n",
       "      <td>[Crime, Thriller]</td>\n",
       "      <td>[bird, key, orchestra, murder, alfred hitchcoc...</td>\n",
       "      <td>[Kelli O'Hara, Simon Baker, Martin Scorsese, M...</td>\n",
       "      <td>[Bernard Herrmann, Ellen Kuras, Martin Scorses...</td>\n",
       "    </tr>\n",
       "    <tr>\n",
       "      <th>8218</th>\n",
       "      <td>2567</td>\n",
       "      <td>The Aviator</td>\n",
       "      <td>[Drama]</td>\n",
       "      <td>[ladykiller, pilot, biography, womanizer, avia...</td>\n",
       "      <td>[Leonardo DiCaprio, Cate Blanchett, Kate Becki...</td>\n",
       "      <td>[Crys Forsyth-Smith, Robert Richardson, Howard...</td>\n",
       "    </tr>\n",
       "    <tr>\n",
       "      <th>5095</th>\n",
       "      <td>3131</td>\n",
       "      <td>Gangs of New York</td>\n",
       "      <td>[Drama, History, Crime]</td>\n",
       "      <td>[fire, irish-american, immigrant, gang war, pi...</td>\n",
       "      <td>[Leonardo DiCaprio, Daniel Day-Lewis, Cameron ...</td>\n",
       "      <td>[Gerry Robert Byrne, Howard Shore, Martin Scor...</td>\n",
       "    </tr>\n",
       "  </tbody>\n",
       "</table>\n",
       "</div>"
      ],
      "text/plain": [
       "          id                                  title  \\\n",
       "14762  44826                                   Hugo   \n",
       "1450    9746                                 Kundun   \n",
       "23735   5804  The Key to Reserva (La clave Reserva)   \n",
       "8218    2567                            The Aviator   \n",
       "5095    3131                      Gangs of New York   \n",
       "\n",
       "                           genres  \\\n",
       "14762  [Adventure, Drama, Family]   \n",
       "1450                      [Drama]   \n",
       "23735           [Crime, Thriller]   \n",
       "8218                      [Drama]   \n",
       "5095      [Drama, History, Crime]   \n",
       "\n",
       "                                                keywords  \\\n",
       "14762  [library, clock, film director, key, toy, boy,...   \n",
       "1450   [buddhism, china, mountain, buddhist monk, tib...   \n",
       "23735  [bird, key, orchestra, murder, alfred hitchcoc...   \n",
       "8218   [ladykiller, pilot, biography, womanizer, avia...   \n",
       "5095   [fire, irish-american, immigrant, gang war, pi...   \n",
       "\n",
       "                                                    cast  \\\n",
       "14762  [Ben Kingsley, Sacha Baron Cohen, Asa Butterfi...   \n",
       "1450   [Tenzin Thuthob Tsarong, Tencho Gyalpo, Tsewan...   \n",
       "23735  [Kelli O'Hara, Simon Baker, Martin Scorsese, M...   \n",
       "8218   [Leonardo DiCaprio, Cate Blanchett, Kate Becki...   \n",
       "5095   [Leonardo DiCaprio, Daniel Day-Lewis, Cameron ...   \n",
       "\n",
       "                                                    crew  \n",
       "14762  [Johnny Depp, Robert Richardson, Howard Shore,...  \n",
       "1450   [Martin Scorsese, Melissa Mathison, Barbara De...  \n",
       "23735  [Bernard Herrmann, Ellen Kuras, Martin Scorses...  \n",
       "8218   [Crys Forsyth-Smith, Robert Richardson, Howard...  \n",
       "5095   [Gerry Robert Byrne, Howard Shore, Martin Scor...  "
      ]
     },
     "execution_count": 43,
     "metadata": {},
     "output_type": "execute_result"
    }
   ],
   "source": [
    "find_similar_movies(movies, 'Shutter Island')[[\"id\", \"title\", \"genres\", \"keywords\", \"cast\", \"crew\"]]"
   ]
  },
  {
   "cell_type": "code",
   "execution_count": 44,
   "metadata": {},
   "outputs": [
    {
     "name": "stdout",
     "output_type": "stream",
     "text": [
      "{'toy comes to life', 'friends', 'toy', 'boy', 'friendship', 'boy next door', 'jealousy', 'new toy', 'rivalry'}\n",
      "{'prosecution', 'rescue team', 'toy comes to life', 'garage sale', 'airplane', 'teamwork', 'collector', 'friendship', 'personification', 'flea market', 'identity crisis', 'duringcreditsstinger', 'inanimate objects coming to life', 'museum'}\n",
      "{'toy comes to life', 'friendship'}\n",
      "\n",
      "Led by Woody, Andy's toys live happily in his room until Andy's birthday brings Buzz Lightyear onto the scene. Afraid of losing his place in Andy's heart, Woody plots against Buzz. But when circumstances separate Buzz and Woody from their owner, the duo eventually learns to put aside their differences.\n",
      "\n",
      "Andy heads off to Cowboy Camp, leaving his toys to their own devices. Things shift into high gear when an obsessive toy collector named Al McWhiggen, owner of Al's Toy Barn kidnaps Woody. Andy's toys mount a daring rescue mission, Buzz Lightyear meets his match and Woody has to decide where he and his heart truly belong.\n",
      "(30780, 27)\n",
      "(30576, 27)\n"
     ]
    }
   ],
   "source": [
    "movies.head(50)[[\"title\", \"genres\", \"overview\", \"keywords\"]]\n",
    "\n",
    "toys = movies[movies['title'].isin(['Toy Story', 'Toy Story 2'])]\n",
    "toys[[\"title\", \"genres\", \"overview\", \"keywords\"]]\n",
    "\n",
    "first = set(toys.iloc[0]['keywords'])\n",
    "second = set(toys.iloc[1]['keywords'])\n",
    "print(first)\n",
    "print(second)\n",
    "print(first.intersection(second))\n",
    "\n",
    "print()\n",
    "print(toys.iloc[0]['overview'])\n",
    "print()\n",
    "print(toys.iloc[1]['overview'])\n",
    "\n",
    "print(movies.shape)\n",
    "print(movies[~movies['overview'].isna()].shape)\n",
    "# movies.head(1)\n",
    "#movies[movies['overview'].apply(lambda x: len(str(x)) > 10)]"
   ]
  },
  {
   "cell_type": "code",
   "execution_count": 45,
   "metadata": {},
   "outputs": [],
   "source": [
    "import spacy\n",
    "spacy.require_gpu()\n",
    "nlp = spacy.load(\"en_core_web_lg\")"
   ]
  },
  {
   "cell_type": "code",
   "execution_count": 55,
   "metadata": {},
   "outputs": [
    {
     "name": "stderr",
     "output_type": "stream",
     "text": [
      "/tmp/ipykernel_748371/1320559478.py:5: UserWarning: [W007] The model you're using has no word vectors loaded, so the result of the Doc.similarity method will be based on the tagger, parser and NER, which may not give useful similarity judgements. This may happen if you're using one of the small models, e.g. `en_core_web_sm`, which don't ship with word vectors and only use context-sensitive tensors. You can always add your own word vectors, or use one of the larger models instead if available.\n",
      "  m[\"similarity\"] = m.apply(lambda row: target_overview.similarity(nlp(str(row['overview']))), axis=1)\n"
     ]
    }
   ],
   "source": [
    "target_movie = movies[movies['title'] == 'Toy Story'].iloc[0]\n",
    "target_overview = nlp(target_movie['overview'])\n",
    "\n",
    "m=movies.copy()\n",
    "m[\"similarity\"] = m.apply(lambda row: target_overview.similarity(nlp(str(row['overview']))), axis=1)\n",
    "# for _, row in movies.iterrows():\n",
    "#     row_overview = nlp(row['overview'])\n",
    "#     target_overview.similarity(target_overview)"
   ]
  },
  {
   "cell_type": "code",
   "execution_count": 66,
   "metadata": {},
   "outputs": [
    {
     "data": {
      "text/html": [
       "<div>\n",
       "<style scoped>\n",
       "    .dataframe tbody tr th:only-of-type {\n",
       "        vertical-align: middle;\n",
       "    }\n",
       "\n",
       "    .dataframe tbody tr th {\n",
       "        vertical-align: top;\n",
       "    }\n",
       "\n",
       "    .dataframe thead th {\n",
       "        text-align: right;\n",
       "    }\n",
       "</style>\n",
       "<table border=\"1\" class=\"dataframe\">\n",
       "  <thead>\n",
       "    <tr style=\"text-align: right;\">\n",
       "      <th></th>\n",
       "      <th>id</th>\n",
       "      <th>title</th>\n",
       "      <th>genres</th>\n",
       "      <th>similarity</th>\n",
       "      <th>overview</th>\n",
       "    </tr>\n",
       "  </thead>\n",
       "  <tbody>\n",
       "    <tr>\n",
       "      <th>0</th>\n",
       "      <td>862</td>\n",
       "      <td>Toy Story</td>\n",
       "      <td>[Animation, Comedy, Family]</td>\n",
       "      <td>1.000000</td>\n",
       "      <td>Led by Woody, Andy's toys live happily in his ...</td>\n",
       "    </tr>\n",
       "    <tr>\n",
       "      <th>7842</th>\n",
       "      <td>80708</td>\n",
       "      <td>The Divorcee</td>\n",
       "      <td>[Drama]</td>\n",
       "      <td>0.915443</td>\n",
       "      <td>Jerry and Ted are young, in love, and part of ...</td>\n",
       "    </tr>\n",
       "    <tr>\n",
       "      <th>29989</th>\n",
       "      <td>60170</td>\n",
       "      <td>Christopher and His Kind</td>\n",
       "      <td>[Drama, Romance]</td>\n",
       "      <td>0.913142</td>\n",
       "      <td>In 1931 budding author Christopher Isherwood g...</td>\n",
       "    </tr>\n",
       "    <tr>\n",
       "      <th>1419</th>\n",
       "      <td>58911</td>\n",
       "      <td>Hotel de Love</td>\n",
       "      <td>[Comedy, Foreign, Romance]</td>\n",
       "      <td>0.912883</td>\n",
       "      <td>10 years ago at a party, Steven thinks he sees...</td>\n",
       "    </tr>\n",
       "    <tr>\n",
       "      <th>23878</th>\n",
       "      <td>159090</td>\n",
       "      <td>Duplicate</td>\n",
       "      <td>[Action, Comedy]</td>\n",
       "      <td>0.909302</td>\n",
       "      <td>Bablu (Shah Rukh Khan), an aspiring chef, work...</td>\n",
       "    </tr>\n",
       "    <tr>\n",
       "      <th>33146</th>\n",
       "      <td>51836</td>\n",
       "      <td>Snow 2: Brain Freeze</td>\n",
       "      <td>[Family, TV Movie, Comedy]</td>\n",
       "      <td>0.908602</td>\n",
       "      <td>It's three days before Christmas, and Nick Sno...</td>\n",
       "    </tr>\n",
       "    <tr>\n",
       "      <th>32076</th>\n",
       "      <td>40165</td>\n",
       "      <td>Salome</td>\n",
       "      <td>[Drama]</td>\n",
       "      <td>0.907915</td>\n",
       "      <td>In the reign of emperor Tiberius, Gallilean pr...</td>\n",
       "    </tr>\n",
       "    <tr>\n",
       "      <th>2145</th>\n",
       "      <td>22796</td>\n",
       "      <td>Simon Birch</td>\n",
       "      <td>[Comedy, Drama, Family]</td>\n",
       "      <td>0.907672</td>\n",
       "      <td>Simon Birch tells the story of Joe and Simon's...</td>\n",
       "    </tr>\n",
       "    <tr>\n",
       "      <th>37774</th>\n",
       "      <td>97341</td>\n",
       "      <td>Deewane Huye Paagal</td>\n",
       "      <td>[Drama, Comedy, Romance, Foreign]</td>\n",
       "      <td>0.906234</td>\n",
       "      <td>This is the story of Karan and Tanya. Karan is...</td>\n",
       "    </tr>\n",
       "    <tr>\n",
       "      <th>42</th>\n",
       "      <td>35196</td>\n",
       "      <td>Restoration</td>\n",
       "      <td>[Drama, Romance]</td>\n",
       "      <td>0.906171</td>\n",
       "      <td>An aspiring young physician, Robert Merivel fo...</td>\n",
       "    </tr>\n",
       "    <tr>\n",
       "      <th>13813</th>\n",
       "      <td>17532</td>\n",
       "      <td>S. Darko</td>\n",
       "      <td>[Thriller, Crime, Science Fiction, Mystery]</td>\n",
       "      <td>0.906028</td>\n",
       "      <td>S. Darko follows Samantha Darko, the younger s...</td>\n",
       "    </tr>\n",
       "    <tr>\n",
       "      <th>18398</th>\n",
       "      <td>29932</td>\n",
       "      <td>Hanussen</td>\n",
       "      <td>[Science Fiction, History, Drama, Fantasy]</td>\n",
       "      <td>0.905821</td>\n",
       "      <td>A man's story parallels Hitler's rise. Austria...</td>\n",
       "    </tr>\n",
       "    <tr>\n",
       "      <th>34209</th>\n",
       "      <td>46526</td>\n",
       "      <td>The Christmas Card</td>\n",
       "      <td>[Drama, Romance, TV Movie]</td>\n",
       "      <td>0.905716</td>\n",
       "      <td>US Army sergeant Cody Cullen's horror tour in ...</td>\n",
       "    </tr>\n",
       "    <tr>\n",
       "      <th>21020</th>\n",
       "      <td>44865</td>\n",
       "      <td>The Grandmaster</td>\n",
       "      <td>[Action, Drama, History]</td>\n",
       "      <td>0.905466</td>\n",
       "      <td>Ip Man's peaceful life in Foshan changes after...</td>\n",
       "    </tr>\n",
       "    <tr>\n",
       "      <th>19770</th>\n",
       "      <td>33391</td>\n",
       "      <td>Charlie Chan in London</td>\n",
       "      <td>[Crime, Drama, Mystery, Thriller, Comedy]</td>\n",
       "      <td>0.904960</td>\n",
       "      <td>After receiving congratulations from the Home ...</td>\n",
       "    </tr>\n",
       "    <tr>\n",
       "      <th>20179</th>\n",
       "      <td>35038</td>\n",
       "      <td>Dragon Fight</td>\n",
       "      <td>[Action, Foreign]</td>\n",
       "      <td>0.904876</td>\n",
       "      <td>Jimmy and Tiger are members of the Chinese nat...</td>\n",
       "    </tr>\n",
       "    <tr>\n",
       "      <th>44161</th>\n",
       "      <td>33310</td>\n",
       "      <td>Smash Palace</td>\n",
       "      <td>[Drama, Foreign]</td>\n",
       "      <td>0.904112</td>\n",
       "      <td>Al Shaw's life revolves around motor racing an...</td>\n",
       "    </tr>\n",
       "    <tr>\n",
       "      <th>12787</th>\n",
       "      <td>9789</td>\n",
       "      <td>My Brother Is an Only Child</td>\n",
       "      <td>[Comedy]</td>\n",
       "      <td>0.903979</td>\n",
       "      <td>Accio (Elio Germano) and Manrico (Riccardo Sca...</td>\n",
       "    </tr>\n",
       "    <tr>\n",
       "      <th>23610</th>\n",
       "      <td>260202</td>\n",
       "      <td>Turks &amp; Caicos</td>\n",
       "      <td>[Thriller, Drama, Action, Mystery]</td>\n",
       "      <td>0.903475</td>\n",
       "      <td>The second movie in David Hare's Johnny Worric...</td>\n",
       "    </tr>\n",
       "    <tr>\n",
       "      <th>25145</th>\n",
       "      <td>55308</td>\n",
       "      <td>Gunfighters</td>\n",
       "      <td>[Western]</td>\n",
       "      <td>0.903152</td>\n",
       "      <td>Gunfighter \"Brazos\" Kane lays aside his guns \"...</td>\n",
       "    </tr>\n",
       "  </tbody>\n",
       "</table>\n",
       "</div>"
      ],
      "text/plain": [
       "           id                        title  \\\n",
       "0         862                    Toy Story   \n",
       "7842    80708                 The Divorcee   \n",
       "29989   60170     Christopher and His Kind   \n",
       "1419    58911                Hotel de Love   \n",
       "23878  159090                    Duplicate   \n",
       "33146   51836         Snow 2: Brain Freeze   \n",
       "32076   40165                       Salome   \n",
       "2145    22796                  Simon Birch   \n",
       "37774   97341          Deewane Huye Paagal   \n",
       "42      35196                  Restoration   \n",
       "13813   17532                     S. Darko   \n",
       "18398   29932                     Hanussen   \n",
       "34209   46526           The Christmas Card   \n",
       "21020   44865              The Grandmaster   \n",
       "19770   33391       Charlie Chan in London   \n",
       "20179   35038                 Dragon Fight   \n",
       "44161   33310                 Smash Palace   \n",
       "12787    9789  My Brother Is an Only Child   \n",
       "23610  260202               Turks & Caicos   \n",
       "25145   55308                  Gunfighters   \n",
       "\n",
       "                                            genres  similarity  \\\n",
       "0                      [Animation, Comedy, Family]    1.000000   \n",
       "7842                                       [Drama]    0.915443   \n",
       "29989                             [Drama, Romance]    0.913142   \n",
       "1419                    [Comedy, Foreign, Romance]    0.912883   \n",
       "23878                             [Action, Comedy]    0.909302   \n",
       "33146                   [Family, TV Movie, Comedy]    0.908602   \n",
       "32076                                      [Drama]    0.907915   \n",
       "2145                       [Comedy, Drama, Family]    0.907672   \n",
       "37774            [Drama, Comedy, Romance, Foreign]    0.906234   \n",
       "42                                [Drama, Romance]    0.906171   \n",
       "13813  [Thriller, Crime, Science Fiction, Mystery]    0.906028   \n",
       "18398   [Science Fiction, History, Drama, Fantasy]    0.905821   \n",
       "34209                   [Drama, Romance, TV Movie]    0.905716   \n",
       "21020                     [Action, Drama, History]    0.905466   \n",
       "19770    [Crime, Drama, Mystery, Thriller, Comedy]    0.904960   \n",
       "20179                            [Action, Foreign]    0.904876   \n",
       "44161                             [Drama, Foreign]    0.904112   \n",
       "12787                                     [Comedy]    0.903979   \n",
       "23610           [Thriller, Drama, Action, Mystery]    0.903475   \n",
       "25145                                    [Western]    0.903152   \n",
       "\n",
       "                                                overview  \n",
       "0      Led by Woody, Andy's toys live happily in his ...  \n",
       "7842   Jerry and Ted are young, in love, and part of ...  \n",
       "29989  In 1931 budding author Christopher Isherwood g...  \n",
       "1419   10 years ago at a party, Steven thinks he sees...  \n",
       "23878  Bablu (Shah Rukh Khan), an aspiring chef, work...  \n",
       "33146  It's three days before Christmas, and Nick Sno...  \n",
       "32076  In the reign of emperor Tiberius, Gallilean pr...  \n",
       "2145   Simon Birch tells the story of Joe and Simon's...  \n",
       "37774  This is the story of Karan and Tanya. Karan is...  \n",
       "42     An aspiring young physician, Robert Merivel fo...  \n",
       "13813  S. Darko follows Samantha Darko, the younger s...  \n",
       "18398  A man's story parallels Hitler's rise. Austria...  \n",
       "34209  US Army sergeant Cody Cullen's horror tour in ...  \n",
       "21020  Ip Man's peaceful life in Foshan changes after...  \n",
       "19770  After receiving congratulations from the Home ...  \n",
       "20179  Jimmy and Tiger are members of the Chinese nat...  \n",
       "44161  Al Shaw's life revolves around motor racing an...  \n",
       "12787  Accio (Elio Germano) and Manrico (Riccardo Sca...  \n",
       "23610  The second movie in David Hare's Johnny Worric...  \n",
       "25145  Gunfighter \"Brazos\" Kane lays aside his guns \"...  "
      ]
     },
     "execution_count": 66,
     "metadata": {},
     "output_type": "execute_result"
    }
   ],
   "source": [
    "simi = m.sort_values(by=['similarity'], ascending=False).head(20)[[\"id\", \"title\", \"genres\", \"similarity\", \"overview\"]]\n",
    "\n",
    "# for _, row in simi.iterrows():\n",
    "    # print(f\"{row['title']}\\n{row['overview']}\\n\")\n",
    "simi"
   ]
  },
  {
   "cell_type": "code",
   "execution_count": 80,
   "metadata": {},
   "outputs": [
    {
     "data": {
      "text/html": [
       "<div>\n",
       "<style scoped>\n",
       "    .dataframe tbody tr th:only-of-type {\n",
       "        vertical-align: middle;\n",
       "    }\n",
       "\n",
       "    .dataframe tbody tr th {\n",
       "        vertical-align: top;\n",
       "    }\n",
       "\n",
       "    .dataframe thead th {\n",
       "        text-align: right;\n",
       "    }\n",
       "</style>\n",
       "<table border=\"1\" class=\"dataframe\">\n",
       "  <thead>\n",
       "    <tr style=\"text-align: right;\">\n",
       "      <th></th>\n",
       "      <th>title</th>\n",
       "      <th>overview</th>\n",
       "      <th>similarity</th>\n",
       "      <th>tf_similarity</th>\n",
       "      <th>sim_average</th>\n",
       "    </tr>\n",
       "  </thead>\n",
       "  <tbody>\n",
       "    <tr>\n",
       "      <th>0</th>\n",
       "      <td>Toy Story</td>\n",
       "      <td>Led by Woody, Andy's toys live happily in his ...</td>\n",
       "      <td>1.000000</td>\n",
       "      <td>1.000000</td>\n",
       "      <td>1.000000</td>\n",
       "    </tr>\n",
       "    <tr>\n",
       "      <th>3024</th>\n",
       "      <td>Toy Story 2</td>\n",
       "      <td>Andy heads off to Cowboy Camp, leaving his toy...</td>\n",
       "      <td>0.899022</td>\n",
       "      <td>0.415067</td>\n",
       "      <td>0.657044</td>\n",
       "    </tr>\n",
       "    <tr>\n",
       "      <th>22126</th>\n",
       "      <td>Toy Story of Terror!</td>\n",
       "      <td>What starts out as a fun road trip for the Toy...</td>\n",
       "      <td>0.798627</td>\n",
       "      <td>0.277202</td>\n",
       "      <td>0.537915</td>\n",
       "    </tr>\n",
       "    <tr>\n",
       "      <th>15519</th>\n",
       "      <td>Toy Story 3</td>\n",
       "      <td>Woody, Buzz, and the rest of Andy's toys haven...</td>\n",
       "      <td>0.799602</td>\n",
       "      <td>0.268752</td>\n",
       "      <td>0.534177</td>\n",
       "    </tr>\n",
       "    <tr>\n",
       "      <th>11074</th>\n",
       "      <td>Cars</td>\n",
       "      <td>Lightning McQueen, a hotshot rookie race car d...</td>\n",
       "      <td>0.823283</td>\n",
       "      <td>0.220874</td>\n",
       "      <td>0.522078</td>\n",
       "    </tr>\n",
       "    <tr>\n",
       "      <th>30525</th>\n",
       "      <td>Inside Out</td>\n",
       "      <td>Growing up can be a bumpy road, and it's no ex...</td>\n",
       "      <td>0.877882</td>\n",
       "      <td>0.140254</td>\n",
       "      <td>0.509068</td>\n",
       "    </tr>\n",
       "    <tr>\n",
       "      <th>19359</th>\n",
       "      <td>Geri's Game</td>\n",
       "      <td>An aging codger named Geri plays a daylong gam...</td>\n",
       "      <td>0.836363</td>\n",
       "      <td>0.161494</td>\n",
       "      <td>0.498928</td>\n",
       "    </tr>\n",
       "    <tr>\n",
       "      <th>6301</th>\n",
       "      <td>Finding Nemo</td>\n",
       "      <td>Nemo, an adventurous young clownfish, is unexp...</td>\n",
       "      <td>0.785860</td>\n",
       "      <td>0.198271</td>\n",
       "      <td>0.492065</td>\n",
       "    </tr>\n",
       "    <tr>\n",
       "      <th>26001</th>\n",
       "      <td>Toy Story That Time Forgot</td>\n",
       "      <td>During a post-Christmas play date, the gang fi...</td>\n",
       "      <td>0.809885</td>\n",
       "      <td>0.158114</td>\n",
       "      <td>0.483999</td>\n",
       "    </tr>\n",
       "    <tr>\n",
       "      <th>33146</th>\n",
       "      <td>Snow 2: Brain Freeze</td>\n",
       "      <td>It's three days before Christmas, and Nick Sno...</td>\n",
       "      <td>0.908602</td>\n",
       "      <td>0.057166</td>\n",
       "      <td>0.482884</td>\n",
       "    </tr>\n",
       "  </tbody>\n",
       "</table>\n",
       "</div>"
      ],
      "text/plain": [
       "                            title  \\\n",
       "0                       Toy Story   \n",
       "3024                  Toy Story 2   \n",
       "22126        Toy Story of Terror!   \n",
       "15519                 Toy Story 3   \n",
       "11074                        Cars   \n",
       "30525                  Inside Out   \n",
       "19359                 Geri's Game   \n",
       "6301                 Finding Nemo   \n",
       "26001  Toy Story That Time Forgot   \n",
       "33146        Snow 2: Brain Freeze   \n",
       "\n",
       "                                                overview  similarity  \\\n",
       "0      Led by Woody, Andy's toys live happily in his ...    1.000000   \n",
       "3024   Andy heads off to Cowboy Camp, leaving his toy...    0.899022   \n",
       "22126  What starts out as a fun road trip for the Toy...    0.798627   \n",
       "15519  Woody, Buzz, and the rest of Andy's toys haven...    0.799602   \n",
       "11074  Lightning McQueen, a hotshot rookie race car d...    0.823283   \n",
       "30525  Growing up can be a bumpy road, and it's no ex...    0.877882   \n",
       "19359  An aging codger named Geri plays a daylong gam...    0.836363   \n",
       "6301   Nemo, an adventurous young clownfish, is unexp...    0.785860   \n",
       "26001  During a post-Christmas play date, the gang fi...    0.809885   \n",
       "33146  It's three days before Christmas, and Nick Sno...    0.908602   \n",
       "\n",
       "       tf_similarity  sim_average  \n",
       "0           1.000000     1.000000  \n",
       "3024        0.415067     0.657044  \n",
       "22126       0.277202     0.537915  \n",
       "15519       0.268752     0.534177  \n",
       "11074       0.220874     0.522078  \n",
       "30525       0.140254     0.509068  \n",
       "19359       0.161494     0.498928  \n",
       "6301        0.198271     0.492065  \n",
       "26001       0.158114     0.483999  \n",
       "33146       0.057166     0.482884  "
      ]
     },
     "execution_count": 80,
     "metadata": {},
     "output_type": "execute_result"
    }
   ],
   "source": [
    "simi_a = m.copy()\n",
    "\n",
    "ind = simi_a[simi_a[\"title\"] == \"Toy Story\"].index.item()\n",
    "\n",
    "# Instead of building a matrix of similarities between all movies, we just compare\n",
    "# the movie we're interested in with all the movies - this way we don't need too much memory\n",
    "sim = linear_kernel(hashing_matrix[ind:ind + 1, :].todense(), hashing_matrix)\n",
    "\n",
    "m_sim = sim[0]\n",
    "\n",
    "simi_a[\"tf_similarity\"] = m_sim\n",
    "simi_a[\"sim_average\"] = simi_a.apply(lambda row: (row[\"similarity\"] + row[\"tf_similarity\"]) / 2 ,axis=1)\n",
    "# top_sims = m_sim.argsort()[-1 - top_n:-1]\n",
    "# top_sims = np.flip(top_sims)\n",
    "\n",
    "# similar_movies = reindexed_movies.iloc[top_sims]\n",
    "simi_a.sort_values(by=['sim_average'], ascending=False).head(10)[[\"title\", \"overview\", \"similarity\", \"tf_similarity\", \"sim_average\"]]"
   ]
  },
  {
   "cell_type": "code",
   "execution_count": 81,
   "metadata": {},
   "outputs": [
    {
     "data": {
      "text/html": [
       "<div>\n",
       "<style scoped>\n",
       "    .dataframe tbody tr th:only-of-type {\n",
       "        vertical-align: middle;\n",
       "    }\n",
       "\n",
       "    .dataframe tbody tr th {\n",
       "        vertical-align: top;\n",
       "    }\n",
       "\n",
       "    .dataframe thead th {\n",
       "        text-align: right;\n",
       "    }\n",
       "</style>\n",
       "<table border=\"1\" class=\"dataframe\">\n",
       "  <thead>\n",
       "    <tr style=\"text-align: right;\">\n",
       "      <th></th>\n",
       "      <th>title</th>\n",
       "      <th>overview</th>\n",
       "      <th>similarity</th>\n",
       "      <th>tf_similarity</th>\n",
       "      <th>sim_average</th>\n",
       "    </tr>\n",
       "  </thead>\n",
       "  <tbody>\n",
       "    <tr>\n",
       "      <th>0</th>\n",
       "      <td>Toy Story</td>\n",
       "      <td>Led by Woody, Andy's toys live happily in his ...</td>\n",
       "      <td>1.000000</td>\n",
       "      <td>1.000000</td>\n",
       "      <td>1.000000</td>\n",
       "    </tr>\n",
       "    <tr>\n",
       "      <th>3024</th>\n",
       "      <td>Toy Story 2</td>\n",
       "      <td>Andy heads off to Cowboy Camp, leaving his toy...</td>\n",
       "      <td>0.899022</td>\n",
       "      <td>0.415067</td>\n",
       "      <td>0.657044</td>\n",
       "    </tr>\n",
       "    <tr>\n",
       "      <th>22126</th>\n",
       "      <td>Toy Story of Terror!</td>\n",
       "      <td>What starts out as a fun road trip for the Toy...</td>\n",
       "      <td>0.798627</td>\n",
       "      <td>0.277202</td>\n",
       "      <td>0.537915</td>\n",
       "    </tr>\n",
       "    <tr>\n",
       "      <th>15519</th>\n",
       "      <td>Toy Story 3</td>\n",
       "      <td>Woody, Buzz, and the rest of Andy's toys haven...</td>\n",
       "      <td>0.799602</td>\n",
       "      <td>0.268752</td>\n",
       "      <td>0.534177</td>\n",
       "    </tr>\n",
       "    <tr>\n",
       "      <th>2262</th>\n",
       "      <td>A Bug's Life</td>\n",
       "      <td>On behalf of \"oppressed bugs everywhere,\" an i...</td>\n",
       "      <td>0.697725</td>\n",
       "      <td>0.245523</td>\n",
       "      <td>0.471624</td>\n",
       "    </tr>\n",
       "    <tr>\n",
       "      <th>4797</th>\n",
       "      <td>Monsters, Inc.</td>\n",
       "      <td>James Sullivan and Mike Wazowski are monsters,...</td>\n",
       "      <td>0.658542</td>\n",
       "      <td>0.233450</td>\n",
       "      <td>0.445996</td>\n",
       "    </tr>\n",
       "    <tr>\n",
       "      <th>11074</th>\n",
       "      <td>Cars</td>\n",
       "      <td>Lightning McQueen, a hotshot rookie race car d...</td>\n",
       "      <td>0.823283</td>\n",
       "      <td>0.220874</td>\n",
       "      <td>0.522078</td>\n",
       "    </tr>\n",
       "    <tr>\n",
       "      <th>12812</th>\n",
       "      <td>WALL·E</td>\n",
       "      <td>WALL·E is the last robot left on an Earth that...</td>\n",
       "      <td>0.741418</td>\n",
       "      <td>0.218236</td>\n",
       "      <td>0.479827</td>\n",
       "    </tr>\n",
       "    <tr>\n",
       "      <th>6301</th>\n",
       "      <td>Finding Nemo</td>\n",
       "      <td>Nemo, an adventurous young clownfish, is unexp...</td>\n",
       "      <td>0.785860</td>\n",
       "      <td>0.198271</td>\n",
       "      <td>0.492065</td>\n",
       "    </tr>\n",
       "    <tr>\n",
       "      <th>24723</th>\n",
       "      <td>Hawaiian Vacation</td>\n",
       "      <td>The toys throw Ken and Barbie a Hawaiian vacat...</td>\n",
       "      <td>0.744943</td>\n",
       "      <td>0.171782</td>\n",
       "      <td>0.458362</td>\n",
       "    </tr>\n",
       "  </tbody>\n",
       "</table>\n",
       "</div>"
      ],
      "text/plain": [
       "                      title  \\\n",
       "0                 Toy Story   \n",
       "3024            Toy Story 2   \n",
       "22126  Toy Story of Terror!   \n",
       "15519           Toy Story 3   \n",
       "2262           A Bug's Life   \n",
       "4797         Monsters, Inc.   \n",
       "11074                  Cars   \n",
       "12812                WALL·E   \n",
       "6301           Finding Nemo   \n",
       "24723     Hawaiian Vacation   \n",
       "\n",
       "                                                overview  similarity  \\\n",
       "0      Led by Woody, Andy's toys live happily in his ...    1.000000   \n",
       "3024   Andy heads off to Cowboy Camp, leaving his toy...    0.899022   \n",
       "22126  What starts out as a fun road trip for the Toy...    0.798627   \n",
       "15519  Woody, Buzz, and the rest of Andy's toys haven...    0.799602   \n",
       "2262   On behalf of \"oppressed bugs everywhere,\" an i...    0.697725   \n",
       "4797   James Sullivan and Mike Wazowski are monsters,...    0.658542   \n",
       "11074  Lightning McQueen, a hotshot rookie race car d...    0.823283   \n",
       "12812  WALL·E is the last robot left on an Earth that...    0.741418   \n",
       "6301   Nemo, an adventurous young clownfish, is unexp...    0.785860   \n",
       "24723  The toys throw Ken and Barbie a Hawaiian vacat...    0.744943   \n",
       "\n",
       "       tf_similarity  sim_average  \n",
       "0           1.000000     1.000000  \n",
       "3024        0.415067     0.657044  \n",
       "22126       0.277202     0.537915  \n",
       "15519       0.268752     0.534177  \n",
       "2262        0.245523     0.471624  \n",
       "4797        0.233450     0.445996  \n",
       "11074       0.220874     0.522078  \n",
       "12812       0.218236     0.479827  \n",
       "6301        0.198271     0.492065  \n",
       "24723       0.171782     0.458362  "
      ]
     },
     "execution_count": 81,
     "metadata": {},
     "output_type": "execute_result"
    }
   ],
   "source": [
    "simi_a.sort_values(by=['tf_similarity'], ascending=False).head(10)[[\"title\", \"overview\", \"similarity\", \"tf_similarity\", \"sim_average\"]]"
   ]
  },
  {
   "cell_type": "code",
   "execution_count": 68,
   "metadata": {},
   "outputs": [],
   "source": [
    "overview_vectorized = []\n",
    "m2=movies.copy().head(1000)\n",
    "m2=m2[~m2['overview'].isna()]\n",
    "for _, m in m2.iterrows():\n",
    "    overview_vectorized.append(nlp(m['overview']).vector)"
   ]
  },
  {
   "cell_type": "code",
   "execution_count": 66,
   "metadata": {},
   "outputs": [
    {
     "name": "stderr",
     "output_type": "stream",
     "text": [
      "Pandas Apply: 100%|██████████| 997/997 [00:23<00:00, 42.47it/s]\n"
     ]
    }
   ],
   "source": [
    "import swifter\n",
    "\n",
    "target_movie = movies[movies['title'] == 'Shutter Island'].iloc[0]\n",
    "target_overview = nlp(target_movie['overview'])\n",
    "\n",
    "m2=movies.copy().head(1000)\n",
    "m2=m2[~m2['overview'].isna()]\n",
    "\n",
    "def calc_sim(row):\n",
    "    overview = str(row['overview'])\n",
    "    n = nlp(overview)\n",
    "    return target_overview.similarity(n).item()\n",
    "a = m2.swifter.apply(calc_sim, axis=1)\n",
    "m2[\"similarity\"] = a"
   ]
  },
  {
   "cell_type": "code",
   "execution_count": 50,
   "metadata": {},
   "outputs": [],
   "source": [
    "import logging\n",
    "logging.basicConfig(format='%(asctime)s : %(levelname)s : %(message)s', level=logging.INFO)"
   ]
  },
  {
   "cell_type": "code",
   "execution_count": 52,
   "metadata": {},
   "outputs": [],
   "source": [
    "import gensim\n",
    "\n",
    "def read_corpus():\n",
    "    for i, row in movies[~movies[\"overview\"].isna()].iterrows():\n",
    "        tokens = gensim.utils.simple_preprocess(row['overview'])\n",
    "        yield gensim.models.doc2vec.TaggedDocument(tokens, [i])"
   ]
  },
  {
   "cell_type": "code",
   "execution_count": 53,
   "metadata": {},
   "outputs": [],
   "source": [
    "train_corpus = list(read_corpus())"
   ]
  },
  {
   "cell_type": "code",
   "execution_count": 65,
   "metadata": {},
   "outputs": [
    {
     "name": "stderr",
     "output_type": "stream",
     "text": [
      "2022-07-11 21:53:50,391 : INFO : Doc2Vec lifecycle event {'params': 'Doc2Vec(dm/m,d50,n5,w5,mc2,s0.001,t3)', 'datetime': '2022-07-11T21:53:50.391695', 'gensim': '4.0.1', 'python': '3.9.7 (default, Sep 16 2021, 13:09:58) \\n[GCC 7.5.0]', 'platform': 'Linux-5.15.0-39-generic-x86_64-with-glibc2.35', 'event': 'created'}\n"
     ]
    }
   ],
   "source": [
    "model = gensim.models.doc2vec.Doc2Vec(vector_size=50, min_count=2, epochs=40)"
   ]
  },
  {
   "cell_type": "code",
   "execution_count": 66,
   "metadata": {},
   "outputs": [
    {
     "name": "stderr",
     "output_type": "stream",
     "text": [
      "2022-07-11 21:53:52,083 : INFO : collecting all words and their counts\n",
      "2022-07-11 21:53:52,086 : INFO : PROGRESS: at example #0, processed 0 words (0/s), 0 word types, 0 tags\n",
      "2022-07-11 21:53:52,220 : INFO : PROGRESS: at example #10000, processed 514445 words (3931715/s), 31459 word types, 0 tags\n",
      "2022-07-11 21:53:52,329 : INFO : PROGRESS: at example #20000, processed 1029181 words (4724780/s), 45430 word types, 0 tags\n",
      "2022-07-11 21:53:52,484 : INFO : PROGRESS: at example #30000, processed 1556546 words (3418526/s), 56637 word types, 0 tags\n",
      "--- Logging error ---\n",
      "Traceback (most recent call last):\n",
      "  File \"/home/adi/anaconda3/lib/python3.9/logging/__init__.py\", line 1083, in emit\n",
      "    msg = self.format(record)\n",
      "  File \"/home/adi/anaconda3/lib/python3.9/logging/__init__.py\", line 927, in format\n",
      "    return fmt.format(record)\n",
      "  File \"/home/adi/anaconda3/lib/python3.9/logging/__init__.py\", line 663, in format\n",
      "    record.message = record.getMessage()\n",
      "  File \"/home/adi/anaconda3/lib/python3.9/logging/__init__.py\", line 367, in getMessage\n",
      "    msg = msg % self.args\n",
      "TypeError: not enough arguments for format string\n",
      "Call stack:\n",
      "  File \"/home/adi/anaconda3/lib/python3.9/runpy.py\", line 197, in _run_module_as_main\n",
      "    return _run_code(code, main_globals, None,\n",
      "  File \"/home/adi/anaconda3/lib/python3.9/runpy.py\", line 87, in _run_code\n",
      "    exec(code, run_globals)\n",
      "  File \"/home/adi/.local/lib/python3.9/site-packages/ipykernel_launcher.py\", line 17, in <module>\n",
      "    app.launch_new_instance()\n",
      "  File \"/home/adi/.local/lib/python3.9/site-packages/traitlets/config/application.py\", line 846, in launch_instance\n",
      "    app.start()\n",
      "  File \"/home/adi/.local/lib/python3.9/site-packages/ipykernel/kernelapp.py\", line 712, in start\n",
      "    self.io_loop.start()\n",
      "  File \"/home/adi/.local/lib/python3.9/site-packages/tornado/platform/asyncio.py\", line 199, in start\n",
      "    self.asyncio_loop.run_forever()\n",
      "  File \"/home/adi/anaconda3/lib/python3.9/asyncio/base_events.py\", line 596, in run_forever\n",
      "    self._run_once()\n",
      "  File \"/home/adi/anaconda3/lib/python3.9/asyncio/base_events.py\", line 1890, in _run_once\n",
      "    handle._run()\n",
      "  File \"/home/adi/anaconda3/lib/python3.9/asyncio/events.py\", line 80, in _run\n",
      "    self._context.run(self._callback, *self._args)\n",
      "  File \"/home/adi/.local/lib/python3.9/site-packages/ipykernel/kernelbase.py\", line 504, in dispatch_queue\n",
      "    await self.process_one()\n",
      "  File \"/home/adi/.local/lib/python3.9/site-packages/ipykernel/kernelbase.py\", line 493, in process_one\n",
      "    await dispatch(*args)\n",
      "  File \"/home/adi/.local/lib/python3.9/site-packages/ipykernel/kernelbase.py\", line 400, in dispatch_shell\n",
      "    await result\n",
      "  File \"/home/adi/.local/lib/python3.9/site-packages/ipykernel/kernelbase.py\", line 724, in execute_request\n",
      "    reply_content = await reply_content\n",
      "  File \"/home/adi/.local/lib/python3.9/site-packages/ipykernel/ipkernel.py\", line 390, in do_execute\n",
      "    res = shell.run_cell(code, store_history=store_history, silent=silent)\n",
      "  File \"/home/adi/.local/lib/python3.9/site-packages/ipykernel/zmqshell.py\", line 528, in run_cell\n",
      "    return super().run_cell(*args, **kwargs)\n",
      "  File \"/home/adi/.local/lib/python3.9/site-packages/IPython/core/interactiveshell.py\", line 2898, in run_cell\n",
      "    result = self._run_cell(\n",
      "  File \"/home/adi/.local/lib/python3.9/site-packages/IPython/core/interactiveshell.py\", line 2944, in _run_cell\n",
      "    return runner(coro)\n",
      "  File \"/home/adi/.local/lib/python3.9/site-packages/IPython/core/async_helpers.py\", line 68, in _pseudo_sync_runner\n",
      "    coro.send(None)\n",
      "  File \"/home/adi/.local/lib/python3.9/site-packages/IPython/core/interactiveshell.py\", line 3169, in run_cell_async\n",
      "    has_raised = await self.run_ast_nodes(code_ast.body, cell_name,\n",
      "  File \"/home/adi/.local/lib/python3.9/site-packages/IPython/core/interactiveshell.py\", line 3361, in run_ast_nodes\n",
      "    if (await self.run_code(code, result,  async_=asy)):\n",
      "  File \"/home/adi/.local/lib/python3.9/site-packages/IPython/core/interactiveshell.py\", line 3441, in run_code\n",
      "    exec(code_obj, self.user_global_ns, self.user_ns)\n",
      "  File \"/tmp/ipykernel_800469/3792164478.py\", line 1, in <module>\n",
      "    model.build_vocab(train_corpus)\n",
      "  File \"/home/adi/anaconda3/lib/python3.9/site-packages/gensim/models/doc2vec.py\", line 866, in build_vocab\n",
      "    total_words, corpus_count = self.scan_vocab(\n",
      "  File \"/home/adi/anaconda3/lib/python3.9/site-packages/gensim/models/doc2vec.py\", line 1036, in scan_vocab\n",
      "    total_words, corpus_count = self._scan_vocab(corpus_iterable, progress_per, trim_rule)\n",
      "  File \"/home/adi/anaconda3/lib/python3.9/site-packages/gensim/models/doc2vec.py\", line 981, in _scan_vocab\n",
      "    logger.warning(\n",
      "Message: 'Highest int doctag (%i) larger than count of documents (%i). This means at least %i excess, unused slots (%i bytes) will be allocated for vectors.'\n",
      "Arguments: (46624, 30576, 3209600)\n",
      "2022-07-11 21:53:52,517 : INFO : collected 57203 word types and 46625 unique tags from a corpus of 30576 examples and 1584609 words\n",
      "2022-07-11 21:53:52,517 : INFO : Creating a fresh vocabulary\n",
      "2022-07-11 21:53:52,642 : INFO : Doc2Vec lifecycle event {'msg': 'effective_min_count=2 retains 33827 unique words (59.135010401552364%% of original 57203, drops 23376)', 'datetime': '2022-07-11T21:53:52.642109', 'gensim': '4.0.1', 'python': '3.9.7 (default, Sep 16 2021, 13:09:58) \\n[GCC 7.5.0]', 'platform': 'Linux-5.15.0-39-generic-x86_64-with-glibc2.35', 'event': 'prepare_vocab'}\n",
      "2022-07-11 21:53:52,644 : INFO : Doc2Vec lifecycle event {'msg': 'effective_min_count=2 leaves 1561233 word corpus (98.52480959025223%% of original 1584609, drops 23376)', 'datetime': '2022-07-11T21:53:52.644788', 'gensim': '4.0.1', 'python': '3.9.7 (default, Sep 16 2021, 13:09:58) \\n[GCC 7.5.0]', 'platform': 'Linux-5.15.0-39-generic-x86_64-with-glibc2.35', 'event': 'prepare_vocab'}\n",
      "2022-07-11 21:53:52,864 : INFO : deleting the raw counts dictionary of 57203 items\n",
      "2022-07-11 21:53:52,865 : INFO : sample=0.001 downsamples 36 most-common words\n",
      "2022-07-11 21:53:52,866 : INFO : Doc2Vec lifecycle event {'msg': 'downsampling leaves estimated 1218063.1588095187 word corpus (78.0%% of prior 1561233)', 'datetime': '2022-07-11T21:53:52.866340', 'gensim': '4.0.1', 'python': '3.9.7 (default, Sep 16 2021, 13:09:58) \\n[GCC 7.5.0]', 'platform': 'Linux-5.15.0-39-generic-x86_64-with-glibc2.35', 'event': 'prepare_vocab'}\n",
      "2022-07-11 21:53:53,150 : INFO : estimated required memory for 33827 words and 50 dimensions: 49094300 bytes\n",
      "2022-07-11 21:53:53,151 : INFO : resetting layer weights\n"
     ]
    }
   ],
   "source": [
    "model.build_vocab(train_corpus)"
   ]
  },
  {
   "cell_type": "code",
   "execution_count": 67,
   "metadata": {},
   "outputs": [
    {
     "name": "stderr",
     "output_type": "stream",
     "text": [
      "2022-07-11 21:53:55,592 : INFO : Doc2Vec lifecycle event {'msg': 'training model with 3 workers on 33827 vocabulary and 50 features, using sg=0 hs=0 sample=0.001 negative=5 window=5', 'datetime': '2022-07-11T21:53:55.592301', 'gensim': '4.0.1', 'python': '3.9.7 (default, Sep 16 2021, 13:09:58) \\n[GCC 7.5.0]', 'platform': 'Linux-5.15.0-39-generic-x86_64-with-glibc2.35', 'event': 'train'}\n",
      "2022-07-11 21:53:56,611 : INFO : EPOCH 1 - PROGRESS: at 44.46% examples, 540752 words/s, in_qsize 5, out_qsize 0\n",
      "2022-07-11 21:53:57,628 : INFO : EPOCH 1 - PROGRESS: at 91.54% examples, 563749 words/s, in_qsize 5, out_qsize 0\n",
      "2022-07-11 21:53:57,857 : INFO : worker thread finished; awaiting finish of 2 more threads\n",
      "2022-07-11 21:53:57,869 : INFO : worker thread finished; awaiting finish of 1 more threads\n",
      "2022-07-11 21:53:57,882 : INFO : worker thread finished; awaiting finish of 0 more threads\n",
      "2022-07-11 21:53:57,882 : INFO : EPOCH - 1 : training on 1584609 raw words (1248809 effective words) took 2.3s, 545836 effective words/s\n",
      "2022-07-11 21:53:58,904 : INFO : EPOCH 2 - PROGRESS: at 48.18% examples, 585690 words/s, in_qsize 6, out_qsize 0\n",
      "2022-07-11 21:53:59,918 : INFO : EPOCH 2 - PROGRESS: at 97.33% examples, 598445 words/s, in_qsize 5, out_qsize 0\n",
      "2022-07-11 21:53:59,936 : INFO : worker thread finished; awaiting finish of 2 more threads\n",
      "2022-07-11 21:53:59,958 : INFO : worker thread finished; awaiting finish of 1 more threads\n",
      "2022-07-11 21:53:59,963 : INFO : worker thread finished; awaiting finish of 0 more threads\n",
      "2022-07-11 21:53:59,965 : INFO : EPOCH - 2 : training on 1584609 raw words (1248330 effective words) took 2.1s, 600090 effective words/s\n",
      "2022-07-11 21:54:00,980 : INFO : EPOCH 3 - PROGRESS: at 48.18% examples, 590928 words/s, in_qsize 5, out_qsize 0\n",
      "2022-07-11 21:54:01,986 : INFO : EPOCH 3 - PROGRESS: at 96.68% examples, 599746 words/s, in_qsize 5, out_qsize 0\n",
      "2022-07-11 21:54:02,037 : INFO : worker thread finished; awaiting finish of 2 more threads\n",
      "2022-07-11 21:54:02,049 : INFO : worker thread finished; awaiting finish of 1 more threads\n",
      "2022-07-11 21:54:02,051 : INFO : worker thread finished; awaiting finish of 0 more threads\n",
      "2022-07-11 21:54:02,051 : INFO : EPOCH - 3 : training on 1584609 raw words (1248533 effective words) took 2.1s, 599821 effective words/s\n",
      "2022-07-11 21:54:03,059 : INFO : EPOCH 4 - PROGRESS: at 46.33% examples, 570917 words/s, in_qsize 5, out_qsize 0\n",
      "2022-07-11 21:54:04,059 : INFO : EPOCH 4 - PROGRESS: at 91.54% examples, 571860 words/s, in_qsize 5, out_qsize 0\n",
      "2022-07-11 21:54:04,243 : INFO : worker thread finished; awaiting finish of 2 more threads\n",
      "2022-07-11 21:54:04,253 : INFO : worker thread finished; awaiting finish of 1 more threads\n",
      "2022-07-11 21:54:04,264 : INFO : worker thread finished; awaiting finish of 0 more threads\n",
      "2022-07-11 21:54:04,265 : INFO : EPOCH - 4 : training on 1584609 raw words (1248593 effective words) took 2.2s, 564937 effective words/s\n",
      "2022-07-11 21:54:05,278 : INFO : EPOCH 5 - PROGRESS: at 41.97% examples, 513313 words/s, in_qsize 5, out_qsize 0\n",
      "2022-07-11 21:54:06,284 : INFO : EPOCH 5 - PROGRESS: at 89.09% examples, 553224 words/s, in_qsize 5, out_qsize 0\n",
      "2022-07-11 21:54:06,499 : INFO : worker thread finished; awaiting finish of 2 more threads\n",
      "2022-07-11 21:54:06,511 : INFO : worker thread finished; awaiting finish of 1 more threads\n",
      "2022-07-11 21:54:06,513 : INFO : worker thread finished; awaiting finish of 0 more threads\n",
      "2022-07-11 21:54:06,513 : INFO : EPOCH - 5 : training on 1584609 raw words (1248571 effective words) took 2.2s, 556125 effective words/s\n",
      "2022-07-11 21:54:07,522 : INFO : EPOCH 6 - PROGRESS: at 44.46% examples, 547062 words/s, in_qsize 5, out_qsize 0\n",
      "2022-07-11 21:54:08,523 : INFO : EPOCH 6 - PROGRESS: at 92.15% examples, 575139 words/s, in_qsize 5, out_qsize 0\n",
      "2022-07-11 21:54:08,660 : INFO : worker thread finished; awaiting finish of 2 more threads\n",
      "2022-07-11 21:54:08,666 : INFO : worker thread finished; awaiting finish of 1 more threads\n",
      "2022-07-11 21:54:08,679 : INFO : worker thread finished; awaiting finish of 0 more threads\n",
      "2022-07-11 21:54:08,680 : INFO : EPOCH - 6 : training on 1584609 raw words (1249100 effective words) took 2.2s, 577103 effective words/s\n",
      "2022-07-11 21:54:09,720 : INFO : EPOCH 7 - PROGRESS: at 46.27% examples, 552804 words/s, in_qsize 5, out_qsize 0\n",
      "2022-07-11 21:54:10,721 : INFO : EPOCH 7 - PROGRESS: at 89.72% examples, 550918 words/s, in_qsize 5, out_qsize 0\n",
      "2022-07-11 21:54:10,921 : INFO : worker thread finished; awaiting finish of 2 more threads\n",
      "2022-07-11 21:54:10,943 : INFO : worker thread finished; awaiting finish of 1 more threads\n",
      "2022-07-11 21:54:10,947 : INFO : worker thread finished; awaiting finish of 0 more threads\n",
      "2022-07-11 21:54:10,948 : INFO : EPOCH - 7 : training on 1584609 raw words (1249107 effective words) took 2.3s, 551319 effective words/s\n",
      "2022-07-11 21:54:11,951 : INFO : EPOCH 8 - PROGRESS: at 46.93% examples, 580807 words/s, in_qsize 6, out_qsize 0\n",
      "2022-07-11 21:54:12,958 : INFO : EPOCH 8 - PROGRESS: at 93.45% examples, 582477 words/s, in_qsize 6, out_qsize 0\n",
      "2022-07-11 21:54:13,066 : INFO : worker thread finished; awaiting finish of 2 more threads\n",
      "2022-07-11 21:54:13,081 : INFO : worker thread finished; awaiting finish of 1 more threads\n",
      "2022-07-11 21:54:13,088 : INFO : worker thread finished; awaiting finish of 0 more threads\n",
      "2022-07-11 21:54:13,088 : INFO : EPOCH - 8 : training on 1584609 raw words (1248375 effective words) took 2.1s, 583743 effective words/s\n",
      "2022-07-11 21:54:14,103 : INFO : EPOCH 9 - PROGRESS: at 44.46% examples, 544549 words/s, in_qsize 5, out_qsize 0\n",
      "2022-07-11 21:54:15,116 : INFO : EPOCH 9 - PROGRESS: at 80.72% examples, 496663 words/s, in_qsize 6, out_qsize 0\n",
      "2022-07-11 21:54:15,593 : INFO : worker thread finished; awaiting finish of 2 more threads\n",
      "2022-07-11 21:54:15,596 : INFO : worker thread finished; awaiting finish of 1 more threads\n",
      "2022-07-11 21:54:15,599 : INFO : worker thread finished; awaiting finish of 0 more threads\n",
      "2022-07-11 21:54:15,600 : INFO : EPOCH - 9 : training on 1584609 raw words (1248658 effective words) took 2.5s, 498033 effective words/s\n",
      "2022-07-11 21:54:16,626 : INFO : EPOCH 10 - PROGRESS: at 35.62% examples, 430474 words/s, in_qsize 5, out_qsize 0\n",
      "2022-07-11 21:54:17,632 : INFO : EPOCH 10 - PROGRESS: at 73.53% examples, 449142 words/s, in_qsize 6, out_qsize 0\n",
      "2022-07-11 21:54:18,213 : INFO : worker thread finished; awaiting finish of 2 more threads\n",
      "2022-07-11 21:54:18,225 : INFO : worker thread finished; awaiting finish of 1 more threads\n",
      "2022-07-11 21:54:18,231 : INFO : worker thread finished; awaiting finish of 0 more threads\n",
      "2022-07-11 21:54:18,231 : INFO : EPOCH - 10 : training on 1584609 raw words (1249123 effective words) took 2.6s, 475233 effective words/s\n",
      "2022-07-11 21:54:19,235 : INFO : EPOCH 11 - PROGRESS: at 37.57% examples, 463341 words/s, in_qsize 5, out_qsize 0\n",
      "2022-07-11 21:54:20,249 : INFO : EPOCH 11 - PROGRESS: at 67.27% examples, 413258 words/s, in_qsize 5, out_qsize 0\n",
      "2022-07-11 21:54:21,269 : INFO : EPOCH 11 - PROGRESS: at 94.09% examples, 388085 words/s, in_qsize 6, out_qsize 0\n",
      "2022-07-11 21:54:21,443 : INFO : worker thread finished; awaiting finish of 2 more threads\n",
      "2022-07-11 21:54:21,470 : INFO : worker thread finished; awaiting finish of 1 more threads\n",
      "2022-07-11 21:54:21,485 : INFO : worker thread finished; awaiting finish of 0 more threads\n",
      "2022-07-11 21:54:21,487 : INFO : EPOCH - 11 : training on 1584609 raw words (1248888 effective words) took 3.3s, 383768 effective words/s\n",
      "2022-07-11 21:54:22,494 : INFO : EPOCH 12 - PROGRESS: at 26.49% examples, 329487 words/s, in_qsize 5, out_qsize 0\n",
      "2022-07-11 21:54:23,502 : INFO : EPOCH 12 - PROGRESS: at 60.70% examples, 375163 words/s, in_qsize 5, out_qsize 0\n",
      "2022-07-11 21:54:24,506 : INFO : EPOCH 12 - PROGRESS: at 97.33% examples, 403659 words/s, in_qsize 5, out_qsize 0\n",
      "2022-07-11 21:54:24,565 : INFO : worker thread finished; awaiting finish of 2 more threads\n",
      "2022-07-11 21:54:24,574 : INFO : worker thread finished; awaiting finish of 1 more threads\n",
      "2022-07-11 21:54:24,599 : INFO : worker thread finished; awaiting finish of 0 more threads\n",
      "2022-07-11 21:54:24,600 : INFO : EPOCH - 12 : training on 1584609 raw words (1248241 effective words) took 3.1s, 401582 effective words/s\n",
      "2022-07-11 21:54:25,617 : INFO : EPOCH 13 - PROGRESS: at 35.61% examples, 434627 words/s, in_qsize 6, out_qsize 0\n",
      "2022-07-11 21:54:26,618 : INFO : EPOCH 13 - PROGRESS: at 75.94% examples, 467790 words/s, in_qsize 6, out_qsize 0\n",
      "2022-07-11 21:54:27,224 : INFO : worker thread finished; awaiting finish of 2 more threads\n",
      "2022-07-11 21:54:27,236 : INFO : worker thread finished; awaiting finish of 1 more threads\n",
      "2022-07-11 21:54:27,239 : INFO : worker thread finished; awaiting finish of 0 more threads\n",
      "2022-07-11 21:54:27,240 : INFO : EPOCH - 13 : training on 1584609 raw words (1247932 effective words) took 2.6s, 473644 effective words/s\n",
      "2022-07-11 21:54:28,250 : INFO : EPOCH 14 - PROGRESS: at 43.84% examples, 537748 words/s, in_qsize 6, out_qsize 0\n",
      "2022-07-11 21:54:29,252 : INFO : EPOCH 14 - PROGRESS: at 89.09% examples, 554559 words/s, in_qsize 5, out_qsize 0\n",
      "2022-07-11 21:54:29,496 : INFO : worker thread finished; awaiting finish of 2 more threads\n",
      "2022-07-11 21:54:29,516 : INFO : worker thread finished; awaiting finish of 1 more threads\n",
      "2022-07-11 21:54:29,525 : INFO : worker thread finished; awaiting finish of 0 more threads\n",
      "2022-07-11 21:54:29,526 : INFO : EPOCH - 14 : training on 1584609 raw words (1248038 effective words) took 2.3s, 546410 effective words/s\n",
      "2022-07-11 21:54:30,558 : INFO : EPOCH 15 - PROGRESS: at 46.33% examples, 557488 words/s, in_qsize 6, out_qsize 0\n",
      "2022-07-11 21:54:31,563 : INFO : EPOCH 15 - PROGRESS: at 89.72% examples, 552162 words/s, in_qsize 5, out_qsize 0\n",
      "2022-07-11 21:54:31,879 : INFO : worker thread finished; awaiting finish of 2 more threads\n",
      "2022-07-11 21:54:31,896 : INFO : worker thread finished; awaiting finish of 1 more threads\n",
      "2022-07-11 21:54:31,921 : INFO : worker thread finished; awaiting finish of 0 more threads\n",
      "2022-07-11 21:54:31,922 : INFO : EPOCH - 15 : training on 1584609 raw words (1248298 effective words) took 2.4s, 521857 effective words/s\n",
      "2022-07-11 21:54:32,936 : INFO : EPOCH 16 - PROGRESS: at 41.93% examples, 512912 words/s, in_qsize 5, out_qsize 0\n",
      "2022-07-11 21:54:33,942 : INFO : EPOCH 16 - PROGRESS: at 83.76% examples, 517824 words/s, in_qsize 5, out_qsize 0\n",
      "2022-07-11 21:54:34,280 : INFO : worker thread finished; awaiting finish of 2 more threads\n",
      "2022-07-11 21:54:34,287 : INFO : worker thread finished; awaiting finish of 1 more threads\n",
      "2022-07-11 21:54:34,289 : INFO : worker thread finished; awaiting finish of 0 more threads\n",
      "2022-07-11 21:54:34,289 : INFO : EPOCH - 16 : training on 1584609 raw words (1248729 effective words) took 2.4s, 528065 effective words/s\n",
      "2022-07-11 21:54:35,308 : INFO : EPOCH 17 - PROGRESS: at 44.46% examples, 544457 words/s, in_qsize 5, out_qsize 0\n",
      "2022-07-11 21:54:36,314 : INFO : EPOCH 17 - PROGRESS: at 90.95% examples, 564833 words/s, in_qsize 6, out_qsize 0\n",
      "2022-07-11 21:54:36,485 : INFO : worker thread finished; awaiting finish of 2 more threads\n",
      "2022-07-11 21:54:36,504 : INFO : worker thread finished; awaiting finish of 1 more threads\n",
      "2022-07-11 21:54:36,508 : INFO : worker thread finished; awaiting finish of 0 more threads\n",
      "2022-07-11 21:54:36,509 : INFO : EPOCH - 17 : training on 1584609 raw words (1249159 effective words) took 2.2s, 564738 effective words/s\n",
      "2022-07-11 21:54:37,524 : INFO : EPOCH 18 - PROGRESS: at 46.27% examples, 568917 words/s, in_qsize 6, out_qsize 0\n",
      "2022-07-11 21:54:38,546 : INFO : EPOCH 18 - PROGRESS: at 91.54% examples, 564800 words/s, in_qsize 6, out_qsize 0\n",
      "2022-07-11 21:54:38,701 : INFO : worker thread finished; awaiting finish of 2 more threads\n",
      "2022-07-11 21:54:38,719 : INFO : worker thread finished; awaiting finish of 1 more threads\n",
      "2022-07-11 21:54:38,723 : INFO : worker thread finished; awaiting finish of 0 more threads\n",
      "2022-07-11 21:54:38,723 : INFO : EPOCH - 18 : training on 1584609 raw words (1248891 effective words) took 2.2s, 565828 effective words/s\n",
      "2022-07-11 21:54:39,727 : INFO : EPOCH 19 - PROGRESS: at 45.08% examples, 557628 words/s, in_qsize 5, out_qsize 0\n",
      "2022-07-11 21:54:40,733 : INFO : EPOCH 19 - PROGRESS: at 91.54% examples, 571440 words/s, in_qsize 5, out_qsize 0\n",
      "2022-07-11 21:54:40,885 : INFO : worker thread finished; awaiting finish of 2 more threads\n",
      "2022-07-11 21:54:40,913 : INFO : worker thread finished; awaiting finish of 1 more threads\n",
      "2022-07-11 21:54:40,917 : INFO : worker thread finished; awaiting finish of 0 more threads\n",
      "2022-07-11 21:54:40,917 : INFO : EPOCH - 19 : training on 1584609 raw words (1249227 effective words) took 2.2s, 569968 effective words/s\n",
      "2022-07-11 21:54:41,948 : INFO : EPOCH 20 - PROGRESS: at 46.27% examples, 557671 words/s, in_qsize 6, out_qsize 0\n",
      "2022-07-11 21:54:42,986 : INFO : EPOCH 20 - PROGRESS: at 94.72% examples, 573810 words/s, in_qsize 5, out_qsize 0\n",
      "2022-07-11 21:54:43,073 : INFO : worker thread finished; awaiting finish of 2 more threads\n",
      "2022-07-11 21:54:43,074 : INFO : worker thread finished; awaiting finish of 1 more threads\n",
      "2022-07-11 21:54:43,081 : INFO : worker thread finished; awaiting finish of 0 more threads\n",
      "2022-07-11 21:54:43,081 : INFO : EPOCH - 20 : training on 1584609 raw words (1248996 effective words) took 2.2s, 577748 effective words/s\n",
      "2022-07-11 21:54:44,103 : INFO : EPOCH 21 - PROGRESS: at 44.46% examples, 539675 words/s, in_qsize 5, out_qsize 0\n",
      "2022-07-11 21:54:45,116 : INFO : EPOCH 21 - PROGRESS: at 92.82% examples, 572020 words/s, in_qsize 6, out_qsize 0\n",
      "2022-07-11 21:54:45,253 : INFO : worker thread finished; awaiting finish of 2 more threads\n",
      "2022-07-11 21:54:45,265 : INFO : worker thread finished; awaiting finish of 1 more threads\n",
      "2022-07-11 21:54:45,268 : INFO : worker thread finished; awaiting finish of 0 more threads\n",
      "2022-07-11 21:54:45,268 : INFO : EPOCH - 21 : training on 1584609 raw words (1249076 effective words) took 2.2s, 571684 effective words/s\n",
      "2022-07-11 21:54:46,285 : INFO : EPOCH 22 - PROGRESS: at 46.33% examples, 565733 words/s, in_qsize 5, out_qsize 0\n",
      "2022-07-11 21:54:47,287 : INFO : EPOCH 22 - PROGRESS: at 93.45% examples, 580648 words/s, in_qsize 5, out_qsize 0\n",
      "2022-07-11 21:54:47,403 : INFO : worker thread finished; awaiting finish of 2 more threads\n",
      "2022-07-11 21:54:47,418 : INFO : worker thread finished; awaiting finish of 1 more threads\n",
      "2022-07-11 21:54:47,422 : INFO : worker thread finished; awaiting finish of 0 more threads\n",
      "2022-07-11 21:54:47,422 : INFO : EPOCH - 22 : training on 1584609 raw words (1248469 effective words) took 2.2s, 580595 effective words/s\n",
      "2022-07-11 21:54:48,431 : INFO : EPOCH 23 - PROGRESS: at 46.33% examples, 570182 words/s, in_qsize 6, out_qsize 0\n",
      "2022-07-11 21:54:49,444 : INFO : EPOCH 23 - PROGRESS: at 93.45% examples, 579790 words/s, in_qsize 5, out_qsize 0\n",
      "2022-07-11 21:54:49,557 : INFO : worker thread finished; awaiting finish of 2 more threads\n",
      "2022-07-11 21:54:49,573 : INFO : worker thread finished; awaiting finish of 1 more threads\n",
      "2022-07-11 21:54:49,574 : INFO : worker thread finished; awaiting finish of 0 more threads\n",
      "2022-07-11 21:54:49,575 : INFO : EPOCH - 23 : training on 1584609 raw words (1248367 effective words) took 2.1s, 580956 effective words/s\n",
      "2022-07-11 21:54:50,601 : INFO : EPOCH 24 - PROGRESS: at 44.46% examples, 537474 words/s, in_qsize 6, out_qsize 0\n",
      "2022-07-11 21:54:51,617 : INFO : EPOCH 24 - PROGRESS: at 92.82% examples, 569871 words/s, in_qsize 5, out_qsize 0\n",
      "2022-07-11 21:54:51,741 : INFO : worker thread finished; awaiting finish of 2 more threads\n",
      "2022-07-11 21:54:51,749 : INFO : worker thread finished; awaiting finish of 1 more threads\n",
      "2022-07-11 21:54:51,753 : INFO : worker thread finished; awaiting finish of 0 more threads\n",
      "2022-07-11 21:54:51,754 : INFO : EPOCH - 24 : training on 1584609 raw words (1248652 effective words) took 2.2s, 573684 effective words/s\n",
      "2022-07-11 21:54:52,793 : INFO : EPOCH 25 - PROGRESS: at 43.84% examples, 542043 words/s, in_qsize 5, out_qsize 0\n",
      "2022-07-11 21:54:53,795 : INFO : EPOCH 25 - PROGRESS: at 91.54% examples, 572514 words/s, in_qsize 5, out_qsize 0\n",
      "2022-07-11 21:54:53,956 : INFO : worker thread finished; awaiting finish of 2 more threads\n",
      "2022-07-11 21:54:53,970 : INFO : worker thread finished; awaiting finish of 1 more threads\n",
      "2022-07-11 21:54:53,976 : INFO : worker thread finished; awaiting finish of 0 more threads\n",
      "2022-07-11 21:54:53,977 : INFO : EPOCH - 25 : training on 1584609 raw words (1248192 effective words) took 2.2s, 571527 effective words/s\n",
      "2022-07-11 21:54:54,983 : INFO : EPOCH 26 - PROGRESS: at 46.33% examples, 572680 words/s, in_qsize 5, out_qsize 0\n",
      "2022-07-11 21:54:55,987 : INFO : EPOCH 26 - PROGRESS: at 93.45% examples, 583379 words/s, in_qsize 6, out_qsize 0\n",
      "2022-07-11 21:54:56,100 : INFO : worker thread finished; awaiting finish of 2 more threads\n",
      "2022-07-11 21:54:56,111 : INFO : worker thread finished; awaiting finish of 1 more threads\n",
      "2022-07-11 21:54:56,117 : INFO : worker thread finished; awaiting finish of 0 more threads\n",
      "2022-07-11 21:54:56,118 : INFO : EPOCH - 26 : training on 1584609 raw words (1248606 effective words) took 2.1s, 584380 effective words/s\n",
      "2022-07-11 21:54:57,128 : INFO : EPOCH 27 - PROGRESS: at 46.33% examples, 571243 words/s, in_qsize 5, out_qsize 0\n",
      "2022-07-11 21:54:58,141 : INFO : EPOCH 27 - PROGRESS: at 94.07% examples, 583857 words/s, in_qsize 5, out_qsize 0\n",
      "2022-07-11 21:54:58,250 : INFO : worker thread finished; awaiting finish of 2 more threads\n",
      "2022-07-11 21:54:58,260 : INFO : worker thread finished; awaiting finish of 1 more threads\n",
      "2022-07-11 21:54:58,270 : INFO : worker thread finished; awaiting finish of 0 more threads\n",
      "2022-07-11 21:54:58,271 : INFO : EPOCH - 27 : training on 1584609 raw words (1248214 effective words) took 2.1s, 581389 effective words/s\n",
      "2022-07-11 21:54:59,279 : INFO : EPOCH 28 - PROGRESS: at 47.54% examples, 586844 words/s, in_qsize 6, out_qsize 0\n",
      "2022-07-11 21:55:00,284 : INFO : EPOCH 28 - PROGRESS: at 94.07% examples, 586270 words/s, in_qsize 5, out_qsize 0\n",
      "2022-07-11 21:55:00,396 : INFO : worker thread finished; awaiting finish of 2 more threads\n",
      "2022-07-11 21:55:00,397 : INFO : worker thread finished; awaiting finish of 1 more threads\n",
      "2022-07-11 21:55:00,407 : INFO : worker thread finished; awaiting finish of 0 more threads\n",
      "2022-07-11 21:55:00,407 : INFO : EPOCH - 28 : training on 1584609 raw words (1248308 effective words) took 2.1s, 585563 effective words/s\n",
      "2022-07-11 21:55:01,430 : INFO : EPOCH 29 - PROGRESS: at 46.33% examples, 564836 words/s, in_qsize 6, out_qsize 0\n",
      "2022-07-11 21:55:02,437 : INFO : EPOCH 29 - PROGRESS: at 92.82% examples, 574445 words/s, in_qsize 6, out_qsize 0\n",
      "2022-07-11 21:55:02,564 : INFO : worker thread finished; awaiting finish of 2 more threads\n",
      "2022-07-11 21:55:02,576 : INFO : worker thread finished; awaiting finish of 1 more threads\n",
      "2022-07-11 21:55:02,585 : INFO : worker thread finished; awaiting finish of 0 more threads\n",
      "2022-07-11 21:55:02,586 : INFO : EPOCH - 29 : training on 1584609 raw words (1248490 effective words) took 2.2s, 574878 effective words/s\n",
      "2022-07-11 21:55:03,602 : INFO : EPOCH 30 - PROGRESS: at 46.33% examples, 565895 words/s, in_qsize 5, out_qsize 0\n",
      "2022-07-11 21:55:04,606 : INFO : EPOCH 30 - PROGRESS: at 94.07% examples, 584155 words/s, in_qsize 6, out_qsize 0\n",
      "2022-07-11 21:55:04,717 : INFO : worker thread finished; awaiting finish of 2 more threads\n",
      "2022-07-11 21:55:04,730 : INFO : worker thread finished; awaiting finish of 1 more threads\n",
      "2022-07-11 21:55:04,731 : INFO : worker thread finished; awaiting finish of 0 more threads\n",
      "2022-07-11 21:55:04,731 : INFO : EPOCH - 30 : training on 1584609 raw words (1248798 effective words) took 2.1s, 582959 effective words/s\n",
      "2022-07-11 21:55:05,764 : INFO : EPOCH 31 - PROGRESS: at 46.33% examples, 556678 words/s, in_qsize 5, out_qsize 0\n",
      "2022-07-11 21:55:06,764 : INFO : EPOCH 31 - PROGRESS: at 93.45% examples, 576126 words/s, in_qsize 6, out_qsize 0\n",
      "2022-07-11 21:55:06,887 : INFO : worker thread finished; awaiting finish of 2 more threads\n",
      "2022-07-11 21:55:06,900 : INFO : worker thread finished; awaiting finish of 1 more threads\n",
      "2022-07-11 21:55:06,902 : INFO : worker thread finished; awaiting finish of 0 more threads\n",
      "2022-07-11 21:55:06,902 : INFO : EPOCH - 31 : training on 1584609 raw words (1248622 effective words) took 2.2s, 575766 effective words/s\n",
      "2022-07-11 21:55:07,906 : INFO : EPOCH 32 - PROGRESS: at 46.33% examples, 573105 words/s, in_qsize 5, out_qsize 0\n",
      "2022-07-11 21:55:08,907 : INFO : EPOCH 32 - PROGRESS: at 92.15% examples, 576868 words/s, in_qsize 6, out_qsize 0\n",
      "2022-07-11 21:55:09,051 : INFO : worker thread finished; awaiting finish of 2 more threads\n",
      "2022-07-11 21:55:09,068 : INFO : worker thread finished; awaiting finish of 1 more threads\n",
      "2022-07-11 21:55:09,072 : INFO : worker thread finished; awaiting finish of 0 more threads\n",
      "2022-07-11 21:55:09,073 : INFO : EPOCH - 32 : training on 1584609 raw words (1248667 effective words) took 2.2s, 576147 effective words/s\n",
      "2022-07-11 21:55:10,101 : INFO : EPOCH 33 - PROGRESS: at 46.33% examples, 559492 words/s, in_qsize 6, out_qsize 0\n",
      "2022-07-11 21:55:11,129 : INFO : EPOCH 33 - PROGRESS: at 93.45% examples, 570083 words/s, in_qsize 5, out_qsize 0\n",
      "2022-07-11 21:55:11,293 : INFO : worker thread finished; awaiting finish of 2 more threads\n",
      "2022-07-11 21:55:11,313 : INFO : worker thread finished; awaiting finish of 1 more threads\n",
      "2022-07-11 21:55:11,316 : INFO : worker thread finished; awaiting finish of 0 more threads\n",
      "2022-07-11 21:55:11,317 : INFO : EPOCH - 33 : training on 1584609 raw words (1248668 effective words) took 2.2s, 557156 effective words/s\n",
      "2022-07-11 21:55:12,349 : INFO : EPOCH 34 - PROGRESS: at 48.18% examples, 580132 words/s, in_qsize 6, out_qsize 0\n",
      "2022-07-11 21:55:13,356 : INFO : EPOCH 34 - PROGRESS: at 96.68% examples, 593875 words/s, in_qsize 5, out_qsize 0\n",
      "2022-07-11 21:55:13,407 : INFO : worker thread finished; awaiting finish of 2 more threads\n",
      "2022-07-11 21:55:13,419 : INFO : worker thread finished; awaiting finish of 1 more threads\n",
      "2022-07-11 21:55:13,422 : INFO : worker thread finished; awaiting finish of 0 more threads\n",
      "2022-07-11 21:55:13,422 : INFO : EPOCH - 34 : training on 1584609 raw words (1249142 effective words) took 2.1s, 593922 effective words/s\n",
      "2022-07-11 21:55:14,435 : INFO : EPOCH 35 - PROGRESS: at 46.27% examples, 567399 words/s, in_qsize 5, out_qsize 0\n",
      "2022-07-11 21:55:15,441 : INFO : EPOCH 35 - PROGRESS: at 92.82% examples, 576307 words/s, in_qsize 6, out_qsize 0\n",
      "2022-07-11 21:55:15,564 : INFO : worker thread finished; awaiting finish of 2 more threads\n",
      "2022-07-11 21:55:15,577 : INFO : worker thread finished; awaiting finish of 1 more threads\n",
      "2022-07-11 21:55:15,584 : INFO : worker thread finished; awaiting finish of 0 more threads\n",
      "2022-07-11 21:55:15,584 : INFO : EPOCH - 35 : training on 1584609 raw words (1248822 effective words) took 2.2s, 578159 effective words/s\n",
      "2022-07-11 21:55:16,601 : INFO : EPOCH 36 - PROGRESS: at 45.66% examples, 559419 words/s, in_qsize 5, out_qsize 0\n",
      "2022-07-11 21:55:17,605 : INFO : EPOCH 36 - PROGRESS: at 92.15% examples, 573129 words/s, in_qsize 6, out_qsize 0\n",
      "2022-07-11 21:55:17,767 : INFO : worker thread finished; awaiting finish of 2 more threads\n",
      "2022-07-11 21:55:17,771 : INFO : worker thread finished; awaiting finish of 1 more threads\n",
      "2022-07-11 21:55:17,781 : INFO : worker thread finished; awaiting finish of 0 more threads\n",
      "2022-07-11 21:55:17,782 : INFO : EPOCH - 36 : training on 1584609 raw words (1249339 effective words) took 2.2s, 569694 effective words/s\n",
      "2022-07-11 21:55:18,788 : INFO : EPOCH 37 - PROGRESS: at 42.57% examples, 524601 words/s, in_qsize 5, out_qsize 0\n",
      "2022-07-11 21:55:19,799 : INFO : EPOCH 37 - PROGRESS: at 89.09% examples, 553499 words/s, in_qsize 6, out_qsize 0\n",
      "2022-07-11 21:55:20,023 : INFO : worker thread finished; awaiting finish of 2 more threads\n",
      "2022-07-11 21:55:20,029 : INFO : worker thread finished; awaiting finish of 1 more threads\n",
      "2022-07-11 21:55:20,043 : INFO : worker thread finished; awaiting finish of 0 more threads\n",
      "2022-07-11 21:55:20,044 : INFO : EPOCH - 37 : training on 1584609 raw words (1248920 effective words) took 2.3s, 552642 effective words/s\n",
      "2022-07-11 21:55:21,111 : INFO : EPOCH 38 - PROGRESS: at 46.33% examples, 570277 words/s, in_qsize 6, out_qsize 0\n",
      "2022-07-11 21:55:22,115 : INFO : EPOCH 38 - PROGRESS: at 94.72% examples, 590091 words/s, in_qsize 5, out_qsize 0\n",
      "2022-07-11 21:55:22,214 : INFO : worker thread finished; awaiting finish of 2 more threads\n",
      "2022-07-11 21:55:22,230 : INFO : worker thread finished; awaiting finish of 1 more threads\n",
      "2022-07-11 21:55:22,235 : INFO : worker thread finished; awaiting finish of 0 more threads\n",
      "2022-07-11 21:55:22,238 : INFO : EPOCH - 38 : training on 1584609 raw words (1248654 effective words) took 2.1s, 585441 effective words/s\n",
      "2022-07-11 21:55:23,271 : INFO : EPOCH 39 - PROGRESS: at 46.27% examples, 557939 words/s, in_qsize 5, out_qsize 0\n",
      "2022-07-11 21:55:24,278 : INFO : EPOCH 39 - PROGRESS: at 90.95% examples, 559541 words/s, in_qsize 5, out_qsize 0\n",
      "2022-07-11 21:55:24,449 : INFO : worker thread finished; awaiting finish of 2 more threads\n",
      "2022-07-11 21:55:24,473 : INFO : worker thread finished; awaiting finish of 1 more threads\n",
      "2022-07-11 21:55:24,479 : INFO : worker thread finished; awaiting finish of 0 more threads\n",
      "2022-07-11 21:55:24,480 : INFO : EPOCH - 39 : training on 1584609 raw words (1248617 effective words) took 2.2s, 558013 effective words/s\n",
      "2022-07-11 21:55:25,497 : INFO : EPOCH 40 - PROGRESS: at 46.33% examples, 565894 words/s, in_qsize 6, out_qsize 0\n",
      "2022-07-11 21:55:26,497 : INFO : EPOCH 40 - PROGRESS: at 94.07% examples, 585013 words/s, in_qsize 5, out_qsize 0\n",
      "2022-07-11 21:55:26,604 : INFO : worker thread finished; awaiting finish of 2 more threads\n",
      "2022-07-11 21:55:26,614 : INFO : worker thread finished; awaiting finish of 1 more threads\n",
      "2022-07-11 21:55:26,619 : INFO : worker thread finished; awaiting finish of 0 more threads\n",
      "2022-07-11 21:55:26,620 : INFO : EPOCH - 40 : training on 1584609 raw words (1249152 effective words) took 2.1s, 584240 effective words/s\n",
      "2022-07-11 21:55:26,621 : INFO : Doc2Vec lifecycle event {'msg': 'training on 63384360 raw words (49947373 effective words) took 91.0s, 548705 effective words/s', 'datetime': '2022-07-11T21:55:26.621228', 'gensim': '4.0.1', 'python': '3.9.7 (default, Sep 16 2021, 13:09:58) \\n[GCC 7.5.0]', 'platform': 'Linux-5.15.0-39-generic-x86_64-with-glibc2.35', 'event': 'train'}\n"
     ]
    }
   ],
   "source": [
    "model.train(train_corpus, total_examples=model.corpus_count, epochs=model.epochs)"
   ]
  },
  {
   "cell_type": "code",
   "execution_count": 68,
   "metadata": {},
   "outputs": [
    {
     "data": {
      "text/plain": [
       "array([-0.55471313, -0.03517294, -0.02618518, -0.10263013, -0.36266905,\n",
       "       -0.41098845,  0.07978734,  0.59977347,  0.27817166,  0.22306931,\n",
       "        0.29512957, -0.52532506,  0.22374062,  0.46889043, -0.10839134,\n",
       "        0.50242573,  0.23242055,  0.42741752, -0.03637075, -0.7550991 ,\n",
       "       -0.02895209,  0.26497403, -0.07160785, -0.20446742, -0.32769328,\n",
       "        0.1391575 , -0.04564918, -0.38096416, -0.30309623,  0.77172995,\n",
       "       -0.34715012, -0.35185346,  0.41026217,  0.3644874 , -0.23853195,\n",
       "       -0.02007455,  0.09280783,  0.35856012, -0.15373737,  0.0690815 ,\n",
       "       -0.23975562, -0.11063557, -0.17929737, -0.26624486,  0.7685619 ,\n",
       "        0.21712087, -0.07157134, -0.22908415,  0.47326732,  0.45486718],\n",
       "      dtype=float32)"
      ]
     },
     "execution_count": 68,
     "metadata": {},
     "output_type": "execute_result"
    }
   ],
   "source": [
    "vector = model.infer_vector(['only', 'you', 'can', 'prevent', 'forest', 'fires'])\n",
    "vector"
   ]
  },
  {
   "cell_type": "code",
   "execution_count": 89,
   "metadata": {},
   "outputs": [
    {
     "name": "stdout",
     "output_type": "stream",
     "text": [
      "Toy Story <> Toy Story 2 - 0.6142\n",
      "Toy Story <> Toy Story 2 - 0.5813\n",
      "Toy Story <> Finding Nemo - 0.2415\n",
      "Shutter Island <> Finding Nemo - 0.3815\n",
      "Toy Story <> Shutter Island - 0.0486\n",
      "Fight Club <> Shutter Island - 0.2162\n"
     ]
    }
   ],
   "source": [
    "def compare(movie1, movie2):\n",
    "    overview = movies[movies['title'] == movie1].iloc[0]['overview']\n",
    "    overview2 = movies[movies['title'] == movie2].iloc[0]['overview']\n",
    "\n",
    "    overview_toks = gensim.utils.simple_preprocess(overview)\n",
    "    overview2_toks = gensim.utils.simple_preprocess(overview2)\n",
    "\n",
    "    overview_vec = model.infer_vector(overview_toks)\n",
    "    overview2_vec = model.infer_vector(overview2_toks)\n",
    "\n",
    "    # model.dv.cosine_similarities(overview_toks, overview2_toks)\n",
    "    similarity_score = model.dv.cosine_similarities(overview_vec, [overview2_vec]).item()\n",
    "\n",
    "    print(f'{movie1} <> {movie2} - {similarity_score:.4f}')\n",
    "\n",
    "compare('Toy Story', 'Toy Story 2')\n",
    "compare('Toy Story', 'Toy Story 2')\n",
    "compare('Toy Story', 'Finding Nemo')\n",
    "compare('Shutter Island', 'Finding Nemo')\n",
    "compare('Toy Story', 'Shutter Island')\n",
    "compare('Fight Club', 'Shutter Island')"
   ]
  },
  {
   "cell_type": "markdown",
   "metadata": {},
   "source": [
    "From a very subjective point of view it seems that the model was actually quite successful with \"Pulp Fiction\" and \"Avengers: Age of Ultron\", but it's hard for me to judge how good or bad it did with Shutter Island, I don't recognize any of the movies even though I'm an avid fan of the Thriller genre.\n",
    "\n",
    "TBD Further inspection of the results for \"Shutter Island\""
   ]
  },
  {
   "cell_type": "markdown",
   "metadata": {},
   "source": [
    "Next, we will build the recommendation system for a specific user, based on his ratings\n",
    "\n",
    "TBD."
   ]
  },
  {
   "cell_type": "markdown",
   "metadata": {},
   "source": [
    "### First Try Model Conclusions\n",
    "We were able to achive, in my opinion, quite good results with minimal effort and a simple model, and I believe more can be done by tweaking the different parameters.\n",
    "\n",
    "The most appearent problem with the first model the scope of the recommendations is very limited, this is due to the fact that its recommendations are based on movies' similarities. It will be very interesting to compare the results to the collaborative based system and see how different they are."
   ]
  },
  {
   "cell_type": "markdown",
   "metadata": {},
   "source": [
    "## Second Try - A Collaborative Based System\n",
    "This time we will completely ignore the movies' properties and focus solely on finding similarities between different users.\n",
    "\n",
    "TBD."
   ]
  },
  {
   "cell_type": "markdown",
   "metadata": {},
   "source": [
    "## Third Try - A Hybrid Approach\n",
    "\n",
    "According to the winners of Netflix Prize competition in 2007 for the best recommender:\n",
    "> Predictive accuracy is substantially improved when blending multiple predictors. Our experience is that most efforts should be concentrated in deriving substantially different approaches, rather than refining a single technique. Consequently, our solution is an ensemble of many methods.\n",
    "\n",
    "In the hybrid approach we'll combine the first and second model.\n",
    "\n",
    "TBD."
   ]
  },
  {
   "cell_type": "markdown",
   "metadata": {},
   "source": [
    "# Further Plans For The Final Project\n",
    "\n",
    "I think that with more tweaking to the content based model I can get better results, I think that the \"keywords\" column doesn't give indication for the similarities between movies, and because of the duplication with \"crew\" and \"cast\" there's not enough emphasis on the plot.\n",
    "\n",
    "It would be very interesting to compare the different results of the models and try to analyse the reasons each model behaved the way it did.\n",
    "\n",
    "Using only my judgment as a way to determine how well a recommender performs is really not good enouhg, I want to dive deeper into different ways to determine how successful a recommendations system is."
   ]
  }
 ],
 "metadata": {
  "interpreter": {
   "hash": "0d3c8ece6846b0ad1fa14cd01ee24c63d982f4edcafb45f0cba89a6c49799d5f"
  },
  "kernelspec": {
   "display_name": "Python 3 (ipykernel)",
   "language": "python",
   "name": "python3"
  },
  "language_info": {
   "codemirror_mode": {
    "name": "ipython",
    "version": 3
   },
   "file_extension": ".py",
   "mimetype": "text/x-python",
   "name": "python",
   "nbconvert_exporter": "python",
   "pygments_lexer": "ipython3",
   "version": "3.9.7"
  }
 },
 "nbformat": 4,
 "nbformat_minor": 2
}
